{
 "cells": [
  {
   "cell_type": "markdown",
   "metadata": {},
   "source": [
    "\n",
    "# Menampilkan Posisi Bulan pada Saat Ini\n",
    "---"
   ]
  },
  {
   "cell_type": "markdown",
   "metadata": {},
   "source": [
    "*_jengkolrebus*  \n",
    "*Mei, 2020*  \n",
    "*Curup, Bengkulu*\n",
    "___"
   ]
  },
  {
   "cell_type": "code",
   "execution_count": 1,
   "metadata": {},
   "outputs": [],
   "source": [
    "from skyfield.api import load, Topos\n",
    "from datetime import datetime as dt\n",
    "from datetime import timedelta\n",
    "from pytz import timezone\n",
    "from ipywidgets import widgets, interact"
   ]
  },
  {
   "cell_type": "code",
   "execution_count": 2,
   "metadata": {},
   "outputs": [],
   "source": [
    "jkt = timezone('Asia/Jakarta')\n",
    "ts = load.timescale()\n",
    "e = load('de421.bsp')"
   ]
  },
  {
   "cell_type": "code",
   "execution_count": 3,
   "metadata": {},
   "outputs": [],
   "source": [
    "class var:\n",
    "    bulan = e['moon']\n",
    "    bumi = e['earth']\n",
    "    lat = ''\n",
    "    long = ''\n",
    "    loc = None"
   ]
  },
  {
   "cell_type": "code",
   "execution_count": 4,
   "metadata": {},
   "outputs": [],
   "source": [
    "def getTopos(Latitude, Longitude):\n",
    "    var.lat = Latitude\n",
    "    var.long = Longitude\n",
    "    loc = var.bumi + Topos(var.lat, var.long)\n",
    "    var.loc = loc\n",
    "    print(var.loc)"
   ]
  },
  {
   "cell_type": "code",
   "execution_count": 5,
   "metadata": {},
   "outputs": [
    {
     "data": {
      "application/vnd.jupyter.widget-view+json": {
       "model_id": "6775a43a4b1b4d949d81c659311ea204",
       "version_major": 2,
       "version_minor": 0
      },
      "text/plain": [
       "interactive(children=(Text(value='7.83305556 S', description='Latitude'), Text(value='110.38305556 E', descrip…"
      ]
     },
     "metadata": {},
     "output_type": "display_data"
    },
    {
     "data": {
      "text/plain": [
       "<function __main__.getTopos(Latitude, Longitude)>"
      ]
     },
     "execution_count": 5,
     "metadata": {},
     "output_type": "execute_result"
    }
   ],
   "source": [
    "interact(getTopos, Latitude='7.83305556 S', Longitude='110.38305556 E')"
   ]
  }
 ],
 "metadata": {
  "kernelspec": {
   "display_name": "Python 3",
   "language": "python",
   "name": "python3"
  },
  "language_info": {
   "codemirror_mode": {
    "name": "ipython",
    "version": 3
   },
   "file_extension": ".py",
   "mimetype": "text/x-python",
   "name": "python",
   "nbconvert_exporter": "python",
   "pygments_lexer": "ipython3",
   "version": "3.7.6"
  },
  "widgets": {
   "application/vnd.jupyter.widget-state+json": {
    "state": {
     "1cce8697c1dc42b19c6fdee7625f2fbc": {
      "model_module": "@jupyter-widgets/base",
      "model_module_version": "1.2.0",
      "model_name": "LayoutModel",
      "state": {}
     },
     "6775a43a4b1b4d949d81c659311ea204": {
      "model_module": "@jupyter-widgets/controls",
      "model_module_version": "1.5.0",
      "model_name": "VBoxModel",
      "state": {
       "_dom_classes": [
        "widget-interact"
       ],
       "children": [
        "IPY_MODEL_c7de4d9d5afe4dc8b40791859d11de1c",
        "IPY_MODEL_767dda02f4ed419eafe08fbec1043b3b",
        "IPY_MODEL_85852eee65264199b33024854343445d"
       ],
       "layout": "IPY_MODEL_69d523c82bba4063ac46b918de2dc3fe"
      }
     },
     "69d523c82bba4063ac46b918de2dc3fe": {
      "model_module": "@jupyter-widgets/base",
      "model_module_version": "1.2.0",
      "model_name": "LayoutModel",
      "state": {}
     },
     "70257e25004e4840b5dc729d62868981": {
      "model_module": "@jupyter-widgets/base",
      "model_module_version": "1.2.0",
      "model_name": "LayoutModel",
      "state": {}
     },
     "767dda02f4ed419eafe08fbec1043b3b": {
      "model_module": "@jupyter-widgets/controls",
      "model_module_version": "1.5.0",
      "model_name": "TextModel",
      "state": {
       "description": "Longitude",
       "layout": "IPY_MODEL_70257e25004e4840b5dc729d62868981",
       "style": "IPY_MODEL_84d4534c8164464cbde2e1bac0a7061c",
       "value": "110.38305556 E"
      }
     },
     "84d4534c8164464cbde2e1bac0a7061c": {
      "model_module": "@jupyter-widgets/controls",
      "model_module_version": "1.5.0",
      "model_name": "DescriptionStyleModel",
      "state": {
       "description_width": ""
      }
     },
     "85852eee65264199b33024854343445d": {
      "model_module": "@jupyter-widgets/output",
      "model_module_version": "1.0.0",
      "model_name": "OutputModel",
      "state": {
       "layout": "IPY_MODEL_1cce8697c1dc42b19c6fdee7625f2fbc",
       "outputs": [
        {
         "name": "stdout",
         "output_type": "stream",
         "text": "Sum of 3 vectors:\n + Segment 'de421.bsp' 0 SOLAR SYSTEM BARYCENTER -> 3 EARTH BARYCENTER\n + Segment 'de421.bsp' 3 EARTH BARYCENTER -> 399 EARTH\n + Topos -07deg 49' 59.0\" N 110deg 22' 59.0\" E\n"
        }
       ]
      }
     },
     "c7de4d9d5afe4dc8b40791859d11de1c": {
      "model_module": "@jupyter-widgets/controls",
      "model_module_version": "1.5.0",
      "model_name": "TextModel",
      "state": {
       "description": "Latitude",
       "layout": "IPY_MODEL_ee2bd455e5cf4244a9bb163f77786102",
       "style": "IPY_MODEL_ffc513c401b64cfb8a47df3f9f8cba9a",
       "value": "7.83305556 S"
      }
     },
     "ee2bd455e5cf4244a9bb163f77786102": {
      "model_module": "@jupyter-widgets/base",
      "model_module_version": "1.2.0",
      "model_name": "LayoutModel",
      "state": {}
     },
     "ffc513c401b64cfb8a47df3f9f8cba9a": {
      "model_module": "@jupyter-widgets/controls",
      "model_module_version": "1.5.0",
      "model_name": "DescriptionStyleModel",
      "state": {
       "description_width": ""
      }
     }
    },
    "version_major": 2,
    "version_minor": 0
   }
  }
 },
 "nbformat": 4,
 "nbformat_minor": 4
}
