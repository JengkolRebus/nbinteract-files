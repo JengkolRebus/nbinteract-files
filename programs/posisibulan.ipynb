{
 "cells": [
  {
   "cell_type": "markdown",
   "metadata": {},
   "source": [
    "\n",
    "# Menampilkan Posisi Bulan pada Saat Ini\n",
    "---"
   ]
  },
  {
   "cell_type": "markdown",
   "metadata": {},
   "source": [
    "*_jengkolrebus*  \n",
    "*Mei, 2020*  \n",
    "*Curup, Bengkulu*\n",
    "___"
   ]
  },
  {
   "cell_type": "code",
   "execution_count": 1,
   "metadata": {},
   "outputs": [],
   "source": [
    "from skyfield.api import load, Topos\n",
    "from skyfield.units import Angle\n",
    "from datetime import datetime as dt\n",
    "from datetime import timedelta\n",
    "from pytz import timezone\n",
    "from ipywidgets import widgets, interact\n",
    "import pandas as pd\n",
    "from IPython.display import display, HTML\n",
    "import numpy as np"
   ]
  },
  {
   "cell_type": "code",
   "execution_count": 2,
   "metadata": {},
   "outputs": [],
   "source": [
    "jkt = timezone('Asia/Jakarta')\n",
    "ts = load.timescale()\n",
    "e = load('de421.bsp')"
   ]
  },
  {
   "cell_type": "code",
   "execution_count": 3,
   "metadata": {},
   "outputs": [],
   "source": [
    "class var:\n",
    "    bulan = e['moon']\n",
    "    bumi = e['earth']\n",
    "    lat = ''\n",
    "    long = ''\n",
    "    loc = None"
   ]
  },
  {
   "cell_type": "code",
   "execution_count": 10,
   "metadata": {},
   "outputs": [],
   "source": [
    "def getLunarPosition():\n",
    "    loc = var.loc\n",
    "    t = ts.now()\n",
    "    astrometric = loc.at(t).observe(e['moon'])\n",
    "    alt, az, d = astrometric.apparent().altaz()\n",
    "    return alt, az, d.km\n",
    "\n",
    "def getTopos(Latitude, Longitude):\n",
    "    var.lat = Latitude\n",
    "    var.long = Longitude\n",
    "    loc = var.bumi + Topos(var.lat, var.long)\n",
    "    var.loc = loc\n",
    "    pos = getLunarPosition()\n",
    "    MOON_RADIUS = 1737.1 # km\n",
    "    appdiam = 360 / np.pi * np.arcsin(MOON_RADIUS / pos[2])\n",
    "    appdiam = Angle(degrees=appdiam)\n",
    "    pos = list(pos)\n",
    "    pos.append(appdiam)\n",
    "    val = ['Moon Alt', 'Moon Az', 'Moon Distance', 'Apparent Diameter']\n",
    "    table = list(zip(val, pos))\n",
    "    df = pd.DataFrame(table, columns=['1', '2'])\n",
    "    display(df)\n",
    "    \n"
   ]
  },
  {
   "cell_type": "code",
   "execution_count": 11,
   "metadata": {},
   "outputs": [
    {
     "data": {
      "application/vnd.jupyter.widget-view+json": {
       "model_id": "2358d40bb1b5406a84734da56f5dc07b",
       "version_major": 2,
       "version_minor": 0
      },
      "text/plain": [
       "interactive(children=(Text(value='7.83305556 S', description='Latitude'), Text(value='110.38305556 E', descrip…"
      ]
     },
     "metadata": {},
     "output_type": "display_data"
    },
    {
     "data": {
      "text/plain": [
       "<function __main__.getTopos(Latitude, Longitude)>"
      ]
     },
     "execution_count": 11,
     "metadata": {},
     "output_type": "execute_result"
    }
   ],
   "source": [
    "interact(getTopos, Latitude='7.83305556 S', Longitude='110.38305556 E')"
   ]
  },
  {
   "cell_type": "code",
   "execution_count": null,
   "metadata": {},
   "outputs": [],
   "source": []
  }
 ],
 "metadata": {
  "kernelspec": {
   "display_name": "Python 3",
   "language": "python",
   "name": "python3"
  },
  "language_info": {
   "codemirror_mode": {
    "name": "ipython",
    "version": 3
   },
   "file_extension": ".py",
   "mimetype": "text/x-python",
   "name": "python",
   "nbconvert_exporter": "python",
   "pygments_lexer": "ipython3",
   "version": "3.7.6"
  },
  "widgets": {
   "application/vnd.jupyter.widget-state+json": {
    "state": {
     "048d5ec7b3a74d4b9b7d798ea3d7a317": {
      "model_module": "@jupyter-widgets/controls",
      "model_module_version": "1.5.0",
      "model_name": "TextModel",
      "state": {
       "description": "Longitude",
       "layout": "IPY_MODEL_23429661d5aa4fc5be029ef703263e37",
       "style": "IPY_MODEL_5000667f1c274a0da80be772afe85c76",
       "value": "110.38305556 E"
      }
     },
     "0cbe0bb4d23648d8a856d5e3365b526b": {
      "model_module": "@jupyter-widgets/controls",
      "model_module_version": "1.5.0",
      "model_name": "VBoxModel",
      "state": {
       "_dom_classes": [
        "widget-interact"
       ],
       "children": [
        "IPY_MODEL_dea11945f31d482ea3464d842549a3ca",
        "IPY_MODEL_048d5ec7b3a74d4b9b7d798ea3d7a317",
        "IPY_MODEL_c0f9d22e0af446b28a60fb5deabf9793"
       ],
       "layout": "IPY_MODEL_c14ca039e6bb47a4b6c6722128484616"
      }
     },
     "0de49354cbe3455892533bdb73a46b86": {
      "model_module": "@jupyter-widgets/base",
      "model_module_version": "1.2.0",
      "model_name": "LayoutModel",
      "state": {}
     },
     "11c776012fb5490ba45c5e9a19e17716": {
      "model_module": "@jupyter-widgets/controls",
      "model_module_version": "1.5.0",
      "model_name": "DescriptionStyleModel",
      "state": {
       "description_width": ""
      }
     },
     "12fb686dd93d4203be0bf0770afbcfb8": {
      "model_module": "@jupyter-widgets/base",
      "model_module_version": "1.2.0",
      "model_name": "LayoutModel",
      "state": {}
     },
     "150fa09f510f4ea2a282fd54b8a60fb9": {
      "model_module": "@jupyter-widgets/base",
      "model_module_version": "1.2.0",
      "model_name": "LayoutModel",
      "state": {}
     },
     "23429661d5aa4fc5be029ef703263e37": {
      "model_module": "@jupyter-widgets/base",
      "model_module_version": "1.2.0",
      "model_name": "LayoutModel",
      "state": {}
     },
     "2358d40bb1b5406a84734da56f5dc07b": {
      "model_module": "@jupyter-widgets/controls",
      "model_module_version": "1.5.0",
      "model_name": "VBoxModel",
      "state": {
       "_dom_classes": [
        "widget-interact"
       ],
       "children": [
        "IPY_MODEL_677cb80105c24b76865738c785ce51c1",
        "IPY_MODEL_321eb844999c49109edbe350b7cd48ab",
        "IPY_MODEL_9369ab72d67a4d46b4880f3886fc0eb5"
       ],
       "layout": "IPY_MODEL_defe870ac0974a1c8ff29e65cf5c95f9"
      }
     },
     "27ba3b2f8fbc423eac156d0e64e65038": {
      "model_module": "@jupyter-widgets/base",
      "model_module_version": "1.2.0",
      "model_name": "LayoutModel",
      "state": {}
     },
     "2f46d9656b504379b6e731f7a0fc49b4": {
      "model_module": "@jupyter-widgets/controls",
      "model_module_version": "1.5.0",
      "model_name": "TextModel",
      "state": {
       "description": "Latitude",
       "layout": "IPY_MODEL_150fa09f510f4ea2a282fd54b8a60fb9",
       "style": "IPY_MODEL_9e78ee2543bf4dd3aa628e35ede65774",
       "value": "7.83305556 S"
      }
     },
     "321eb844999c49109edbe350b7cd48ab": {
      "model_module": "@jupyter-widgets/controls",
      "model_module_version": "1.5.0",
      "model_name": "TextModel",
      "state": {
       "description": "Longitude",
       "layout": "IPY_MODEL_c7c12485a32c44f088ff9a09c09907b0",
       "style": "IPY_MODEL_a6488f36c4b94202b4248546e84a5095",
       "value": "110.38305556 E"
      }
     },
     "5000667f1c274a0da80be772afe85c76": {
      "model_module": "@jupyter-widgets/controls",
      "model_module_version": "1.5.0",
      "model_name": "DescriptionStyleModel",
      "state": {
       "description_width": ""
      }
     },
     "51302bc9e36341b38e7816ed0e6a5119": {
      "model_module": "@jupyter-widgets/output",
      "model_module_version": "1.0.0",
      "model_name": "OutputModel",
      "state": {
       "layout": "IPY_MODEL_0de49354cbe3455892533bdb73a46b86",
       "outputs": [
        {
         "name": "stdout",
         "output_type": "stream",
         "text": "[('Moon Alt', <Angle 35deg 22' 00.8\">), ('Moon Az', <Angle 75deg 45' 54.0\">), ('Moon Distance', 400538.86566223874), ('Apparent Diameter', <Angle 00deg 29' 49.1\">)]\n"
        },
        {
         "data": {
          "text/html": "<div>\n<style scoped>\n    .dataframe tbody tr th:only-of-type {\n        vertical-align: middle;\n    }\n\n    .dataframe tbody tr th {\n        vertical-align: top;\n    }\n\n    .dataframe thead th {\n        text-align: right;\n    }\n</style>\n<table border=\"1\" class=\"dataframe\">\n  <thead>\n    <tr style=\"text-align: right;\">\n      <th></th>\n      <th>1</th>\n      <th>2</th>\n    </tr>\n  </thead>\n  <tbody>\n    <tr>\n      <th>0</th>\n      <td>Moon Alt</td>\n      <td>35deg 22' 00.8\"</td>\n    </tr>\n    <tr>\n      <th>1</th>\n      <td>Moon Az</td>\n      <td>75deg 45' 54.0\"</td>\n    </tr>\n    <tr>\n      <th>2</th>\n      <td>Moon Distance</td>\n      <td>400539</td>\n    </tr>\n    <tr>\n      <th>3</th>\n      <td>Apparent Diameter</td>\n      <td>00deg 29' 49.1\"</td>\n    </tr>\n  </tbody>\n</table>\n</div>",
          "text/plain": "                   1                2\n0           Moon Alt  35deg 22' 00.8\"\n1            Moon Az  75deg 45' 54.0\"\n2      Moon Distance           400539\n3  Apparent Diameter  00deg 29' 49.1\""
         },
         "metadata": {},
         "output_type": "display_data"
        }
       ]
      }
     },
     "5620f4914f4c45aa82a6926f24254a32": {
      "model_module": "@jupyter-widgets/controls",
      "model_module_version": "1.5.0",
      "model_name": "DescriptionStyleModel",
      "state": {
       "description_width": ""
      }
     },
     "5c7a4ac3b97d4107806bf62a86d36f4d": {
      "model_module": "@jupyter-widgets/controls",
      "model_module_version": "1.5.0",
      "model_name": "DescriptionStyleModel",
      "state": {
       "description_width": ""
      }
     },
     "5fdf67d0146a497db5787b972d3ac1bb": {
      "model_module": "@jupyter-widgets/base",
      "model_module_version": "1.2.0",
      "model_name": "LayoutModel",
      "state": {}
     },
     "63fe8057e78f4eada6d588f681e0b46a": {
      "model_module": "@jupyter-widgets/base",
      "model_module_version": "1.2.0",
      "model_name": "LayoutModel",
      "state": {}
     },
     "677cb80105c24b76865738c785ce51c1": {
      "model_module": "@jupyter-widgets/controls",
      "model_module_version": "1.5.0",
      "model_name": "TextModel",
      "state": {
       "description": "Latitude",
       "layout": "IPY_MODEL_8623b53cec0d41648fd73a6a2f66a215",
       "style": "IPY_MODEL_d47d616580cc41bd962851c132a0b7af",
       "value": "7.83305556 S"
      }
     },
     "80a9f50a61034122acfe77fc5e021f76": {
      "model_module": "@jupyter-widgets/base",
      "model_module_version": "1.2.0",
      "model_name": "LayoutModel",
      "state": {}
     },
     "8623b53cec0d41648fd73a6a2f66a215": {
      "model_module": "@jupyter-widgets/base",
      "model_module_version": "1.2.0",
      "model_name": "LayoutModel",
      "state": {}
     },
     "88410d798ae64b05ac19c803eef0a7b3": {
      "model_module": "@jupyter-widgets/base",
      "model_module_version": "1.2.0",
      "model_name": "LayoutModel",
      "state": {}
     },
     "9369ab72d67a4d46b4880f3886fc0eb5": {
      "model_module": "@jupyter-widgets/output",
      "model_module_version": "1.0.0",
      "model_name": "OutputModel",
      "state": {
       "layout": "IPY_MODEL_80a9f50a61034122acfe77fc5e021f76",
       "outputs": [
        {
         "data": {
          "text/html": "<div>\n<style scoped>\n    .dataframe tbody tr th:only-of-type {\n        vertical-align: middle;\n    }\n\n    .dataframe tbody tr th {\n        vertical-align: top;\n    }\n\n    .dataframe thead th {\n        text-align: right;\n    }\n</style>\n<table border=\"1\" class=\"dataframe\">\n  <thead>\n    <tr style=\"text-align: right;\">\n      <th></th>\n      <th>1</th>\n      <th>2</th>\n    </tr>\n  </thead>\n  <tbody>\n    <tr>\n      <th>0</th>\n      <td>Moon Alt</td>\n      <td>35deg 24' 26.9\"</td>\n    </tr>\n    <tr>\n      <th>1</th>\n      <td>Moon Az</td>\n      <td>75deg 45' 04.0\"</td>\n    </tr>\n    <tr>\n      <th>2</th>\n      <td>Moon Distance</td>\n      <td>400535</td>\n    </tr>\n    <tr>\n      <th>3</th>\n      <td>Apparent Diameter</td>\n      <td>00deg 29' 49.1\"</td>\n    </tr>\n  </tbody>\n</table>\n</div>",
          "text/plain": "                   1                2\n0           Moon Alt  35deg 24' 26.9\"\n1            Moon Az  75deg 45' 04.0\"\n2      Moon Distance           400535\n3  Apparent Diameter  00deg 29' 49.1\""
         },
         "metadata": {},
         "output_type": "display_data"
        }
       ]
      }
     },
     "978fa8a28c8b4ba29f9fcab4828c5d2a": {
      "model_module": "@jupyter-widgets/base",
      "model_module_version": "1.2.0",
      "model_name": "LayoutModel",
      "state": {}
     },
     "9a6fc14d65534f8b941c5bc9a3bf8216": {
      "model_module": "@jupyter-widgets/base",
      "model_module_version": "1.2.0",
      "model_name": "LayoutModel",
      "state": {}
     },
     "9e78ee2543bf4dd3aa628e35ede65774": {
      "model_module": "@jupyter-widgets/controls",
      "model_module_version": "1.5.0",
      "model_name": "DescriptionStyleModel",
      "state": {
       "description_width": ""
      }
     },
     "a6488f36c4b94202b4248546e84a5095": {
      "model_module": "@jupyter-widgets/controls",
      "model_module_version": "1.5.0",
      "model_name": "DescriptionStyleModel",
      "state": {
       "description_width": ""
      }
     },
     "ac4a57d9f74e435891527fa4b8323986": {
      "model_module": "@jupyter-widgets/controls",
      "model_module_version": "1.5.0",
      "model_name": "TextModel",
      "state": {
       "description": "Latitude",
       "layout": "IPY_MODEL_ce649bf7fd83446da27c4517fb42f78f",
       "style": "IPY_MODEL_11c776012fb5490ba45c5e9a19e17716",
       "value": "7.83305556 S"
      }
     },
     "b0afc9d95ee64a33baada6dcbcef43e7": {
      "model_module": "@jupyter-widgets/controls",
      "model_module_version": "1.5.0",
      "model_name": "TextModel",
      "state": {
       "description": "Longitude",
       "layout": "IPY_MODEL_63fe8057e78f4eada6d588f681e0b46a",
       "style": "IPY_MODEL_5620f4914f4c45aa82a6926f24254a32",
       "value": "110.38305556 E"
      }
     },
     "b421d8ea00984344a5f95f4c36230e63": {
      "model_module": "@jupyter-widgets/controls",
      "model_module_version": "1.5.0",
      "model_name": "VBoxModel",
      "state": {
       "_dom_classes": [
        "widget-interact"
       ],
       "children": [
        "IPY_MODEL_ac4a57d9f74e435891527fa4b8323986",
        "IPY_MODEL_f91a3010985c433f964787ab02e46c97",
        "IPY_MODEL_c6a146ce29504ed8947231d05aeb01c4"
       ],
       "layout": "IPY_MODEL_88410d798ae64b05ac19c803eef0a7b3"
      }
     },
     "c0f9d22e0af446b28a60fb5deabf9793": {
      "model_module": "@jupyter-widgets/output",
      "model_module_version": "1.0.0",
      "model_name": "OutputModel",
      "state": {
       "layout": "IPY_MODEL_12fb686dd93d4203be0bf0770afbcfb8",
       "outputs": [
        {
         "ename": "AttributeError",
         "evalue": "'tuple' object has no attribute 'append'",
         "output_type": "error",
         "traceback": [
          "\u001b[1;31m---------------------------------------------------------------------------\u001b[0m",
          "\u001b[1;31mAttributeError\u001b[0m                            Traceback (most recent call last)",
          "\u001b[1;32mc:\\users\\khair\\appdata\\local\\programs\\python\\python37\\lib\\site-packages\\ipywidgets\\widgets\\interaction.py\u001b[0m in \u001b[0;36mupdate\u001b[1;34m(self, *args)\u001b[0m\n\u001b[0;32m    254\u001b[0m                     \u001b[0mvalue\u001b[0m \u001b[1;33m=\u001b[0m \u001b[0mwidget\u001b[0m\u001b[1;33m.\u001b[0m\u001b[0mget_interact_value\u001b[0m\u001b[1;33m(\u001b[0m\u001b[1;33m)\u001b[0m\u001b[1;33m\u001b[0m\u001b[1;33m\u001b[0m\u001b[0m\n\u001b[0;32m    255\u001b[0m                     \u001b[0mself\u001b[0m\u001b[1;33m.\u001b[0m\u001b[0mkwargs\u001b[0m\u001b[1;33m[\u001b[0m\u001b[0mwidget\u001b[0m\u001b[1;33m.\u001b[0m\u001b[0m_kwarg\u001b[0m\u001b[1;33m]\u001b[0m \u001b[1;33m=\u001b[0m \u001b[0mvalue\u001b[0m\u001b[1;33m\u001b[0m\u001b[1;33m\u001b[0m\u001b[0m\n\u001b[1;32m--> 256\u001b[1;33m                 \u001b[0mself\u001b[0m\u001b[1;33m.\u001b[0m\u001b[0mresult\u001b[0m \u001b[1;33m=\u001b[0m \u001b[0mself\u001b[0m\u001b[1;33m.\u001b[0m\u001b[0mf\u001b[0m\u001b[1;33m(\u001b[0m\u001b[1;33m**\u001b[0m\u001b[0mself\u001b[0m\u001b[1;33m.\u001b[0m\u001b[0mkwargs\u001b[0m\u001b[1;33m)\u001b[0m\u001b[1;33m\u001b[0m\u001b[1;33m\u001b[0m\u001b[0m\n\u001b[0m\u001b[0;32m    257\u001b[0m                 \u001b[0mshow_inline_matplotlib_plots\u001b[0m\u001b[1;33m(\u001b[0m\u001b[1;33m)\u001b[0m\u001b[1;33m\u001b[0m\u001b[1;33m\u001b[0m\u001b[0m\n\u001b[0;32m    258\u001b[0m                 \u001b[1;32mif\u001b[0m \u001b[0mself\u001b[0m\u001b[1;33m.\u001b[0m\u001b[0mauto_display\u001b[0m \u001b[1;32mand\u001b[0m \u001b[0mself\u001b[0m\u001b[1;33m.\u001b[0m\u001b[0mresult\u001b[0m \u001b[1;32mis\u001b[0m \u001b[1;32mnot\u001b[0m \u001b[1;32mNone\u001b[0m\u001b[1;33m:\u001b[0m\u001b[1;33m\u001b[0m\u001b[1;33m\u001b[0m\u001b[0m\n",
          "\u001b[1;32m<ipython-input-6-f14c15f97eb2>\u001b[0m in \u001b[0;36mgetTopos\u001b[1;34m(Latitude, Longitude)\u001b[0m\n\u001b[0;32m     15\u001b[0m     \u001b[0mappdiam\u001b[0m \u001b[1;33m=\u001b[0m \u001b[1;36m360\u001b[0m \u001b[1;33m/\u001b[0m \u001b[0mnp\u001b[0m\u001b[1;33m.\u001b[0m\u001b[0mpi\u001b[0m \u001b[1;33m*\u001b[0m \u001b[0mnp\u001b[0m\u001b[1;33m.\u001b[0m\u001b[0marcsin\u001b[0m\u001b[1;33m(\u001b[0m\u001b[0mMOON_RADIUS\u001b[0m \u001b[1;33m/\u001b[0m \u001b[0mpos\u001b[0m\u001b[1;33m[\u001b[0m\u001b[1;36m2\u001b[0m\u001b[1;33m]\u001b[0m\u001b[1;33m)\u001b[0m\u001b[1;33m\u001b[0m\u001b[1;33m\u001b[0m\u001b[0m\n\u001b[0;32m     16\u001b[0m     \u001b[0mappdiam\u001b[0m \u001b[1;33m=\u001b[0m \u001b[0mAngle\u001b[0m\u001b[1;33m(\u001b[0m\u001b[0mdegrees\u001b[0m\u001b[1;33m=\u001b[0m\u001b[0mappdiam\u001b[0m\u001b[1;33m)\u001b[0m\u001b[1;33m\u001b[0m\u001b[1;33m\u001b[0m\u001b[0m\n\u001b[1;32m---> 17\u001b[1;33m     \u001b[0mpos\u001b[0m\u001b[1;33m.\u001b[0m\u001b[0mappend\u001b[0m\u001b[1;33m(\u001b[0m\u001b[0mappdiam\u001b[0m\u001b[1;33m)\u001b[0m\u001b[1;33m\u001b[0m\u001b[1;33m\u001b[0m\u001b[0m\n\u001b[0m\u001b[0;32m     18\u001b[0m     \u001b[0mval\u001b[0m \u001b[1;33m=\u001b[0m \u001b[1;33m[\u001b[0m\u001b[1;34m'Moon Alt'\u001b[0m\u001b[1;33m,\u001b[0m \u001b[1;34m'Moon Az'\u001b[0m\u001b[1;33m,\u001b[0m \u001b[1;34m'Moon Distance'\u001b[0m\u001b[1;33m,\u001b[0m \u001b[1;34m'Apparent Diameter'\u001b[0m\u001b[1;33m]\u001b[0m\u001b[1;33m\u001b[0m\u001b[1;33m\u001b[0m\u001b[0m\n\u001b[0;32m     19\u001b[0m     \u001b[0mtable\u001b[0m \u001b[1;33m=\u001b[0m \u001b[0mlist\u001b[0m\u001b[1;33m(\u001b[0m\u001b[0mzip\u001b[0m\u001b[1;33m(\u001b[0m\u001b[0mval\u001b[0m\u001b[1;33m,\u001b[0m \u001b[0mpos\u001b[0m\u001b[1;33m)\u001b[0m\u001b[1;33m)\u001b[0m\u001b[1;33m\u001b[0m\u001b[1;33m\u001b[0m\u001b[0m\n",
          "\u001b[1;31mAttributeError\u001b[0m: 'tuple' object has no attribute 'append'"
         ]
        }
       ]
      }
     },
     "c14ca039e6bb47a4b6c6722128484616": {
      "model_module": "@jupyter-widgets/base",
      "model_module_version": "1.2.0",
      "model_name": "LayoutModel",
      "state": {}
     },
     "c6a146ce29504ed8947231d05aeb01c4": {
      "model_module": "@jupyter-widgets/output",
      "model_module_version": "1.0.0",
      "model_name": "OutputModel",
      "state": {
       "layout": "IPY_MODEL_978fa8a28c8b4ba29f9fcab4828c5d2a",
       "outputs": [
        {
         "name": "stdout",
         "output_type": "stream",
         "text": "00deg 29' 49.055\"\n[('Moon Alt', <Angle 35deg 14' 23.1\">), ('Moon Az', <Angle 75deg 48' 30.1\">), ('Moon Distance', 400550.87589392083), ('Apparent Diameter', <Angle 00deg 29' 49.1\">)]\n"
        },
        {
         "data": {
          "text/html": "<div>\n<style scoped>\n    .dataframe tbody tr th:only-of-type {\n        vertical-align: middle;\n    }\n\n    .dataframe tbody tr th {\n        vertical-align: top;\n    }\n\n    .dataframe thead th {\n        text-align: right;\n    }\n</style>\n<table border=\"1\" class=\"dataframe\">\n  <thead>\n    <tr style=\"text-align: right;\">\n      <th></th>\n      <th>1</th>\n      <th>2</th>\n    </tr>\n  </thead>\n  <tbody>\n    <tr>\n      <th>0</th>\n      <td>Moon Alt</td>\n      <td>35deg 14' 23.1\"</td>\n    </tr>\n    <tr>\n      <th>1</th>\n      <td>Moon Az</td>\n      <td>75deg 48' 30.1\"</td>\n    </tr>\n    <tr>\n      <th>2</th>\n      <td>Moon Distance</td>\n      <td>400551</td>\n    </tr>\n    <tr>\n      <th>3</th>\n      <td>Apparent Diameter</td>\n      <td>00deg 29' 49.1\"</td>\n    </tr>\n  </tbody>\n</table>\n</div>",
          "text/plain": "                   1                2\n0           Moon Alt  35deg 14' 23.1\"\n1            Moon Az  75deg 48' 30.1\"\n2      Moon Distance           400551\n3  Apparent Diameter  00deg 29' 49.1\""
         },
         "metadata": {},
         "output_type": "display_data"
        }
       ]
      }
     },
     "c7c12485a32c44f088ff9a09c09907b0": {
      "model_module": "@jupyter-widgets/base",
      "model_module_version": "1.2.0",
      "model_name": "LayoutModel",
      "state": {}
     },
     "ce649bf7fd83446da27c4517fb42f78f": {
      "model_module": "@jupyter-widgets/base",
      "model_module_version": "1.2.0",
      "model_name": "LayoutModel",
      "state": {}
     },
     "d47d616580cc41bd962851c132a0b7af": {
      "model_module": "@jupyter-widgets/controls",
      "model_module_version": "1.5.0",
      "model_name": "DescriptionStyleModel",
      "state": {
       "description_width": ""
      }
     },
     "dea11945f31d482ea3464d842549a3ca": {
      "model_module": "@jupyter-widgets/controls",
      "model_module_version": "1.5.0",
      "model_name": "TextModel",
      "state": {
       "description": "Latitude",
       "layout": "IPY_MODEL_9a6fc14d65534f8b941c5bc9a3bf8216",
       "style": "IPY_MODEL_5c7a4ac3b97d4107806bf62a86d36f4d",
       "value": "7.83305556 S"
      }
     },
     "defe870ac0974a1c8ff29e65cf5c95f9": {
      "model_module": "@jupyter-widgets/base",
      "model_module_version": "1.2.0",
      "model_name": "LayoutModel",
      "state": {}
     },
     "ec15843ded6745e0bcb4418f19a2ea04": {
      "model_module": "@jupyter-widgets/controls",
      "model_module_version": "1.5.0",
      "model_name": "DescriptionStyleModel",
      "state": {
       "description_width": ""
      }
     },
     "f91a3010985c433f964787ab02e46c97": {
      "model_module": "@jupyter-widgets/controls",
      "model_module_version": "1.5.0",
      "model_name": "TextModel",
      "state": {
       "description": "Longitude",
       "layout": "IPY_MODEL_5fdf67d0146a497db5787b972d3ac1bb",
       "style": "IPY_MODEL_ec15843ded6745e0bcb4418f19a2ea04",
       "value": "110.38305556 E"
      }
     },
     "fdf53adb920c44eaa66222d9cf57a148": {
      "model_module": "@jupyter-widgets/controls",
      "model_module_version": "1.5.0",
      "model_name": "VBoxModel",
      "state": {
       "_dom_classes": [
        "widget-interact"
       ],
       "children": [
        "IPY_MODEL_2f46d9656b504379b6e731f7a0fc49b4",
        "IPY_MODEL_b0afc9d95ee64a33baada6dcbcef43e7",
        "IPY_MODEL_51302bc9e36341b38e7816ed0e6a5119"
       ],
       "layout": "IPY_MODEL_27ba3b2f8fbc423eac156d0e64e65038"
      }
     }
    },
    "version_major": 2,
    "version_minor": 0
   }
  }
 },
 "nbformat": 4,
 "nbformat_minor": 4
}
