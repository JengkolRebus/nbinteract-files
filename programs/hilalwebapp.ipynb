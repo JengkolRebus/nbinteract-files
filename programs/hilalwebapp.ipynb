{
 "cells": [
  {
   "cell_type": "code",
   "execution_count": 1,
   "metadata": {},
   "outputs": [],
   "source": [
    "from skyfield.api import load, Topos\n",
    "from skyfield.units import Angle\n",
    "from skyfield import almanac\n",
    "from datetime import datetime, timedelta\n",
    "from pytz import timezone\n",
    "from ipywidgets import widgets, interactive\n",
    "from IPython.display import display, HTML\n",
    "import pandas as pd\n",
    "import calendar"
   ]
  },
  {
   "cell_type": "code",
   "execution_count": 2,
   "metadata": {},
   "outputs": [],
   "source": [
    "jkt = timezone('Asia/Jakarta')\n",
    "ts = load.timescale()\n",
    "e = load('de421.bsp')\n",
    "bumi = e['earth']\n",
    "bulan = e['moon']\n",
    "matahari = e['sun']"
   ]
  },
  {
   "cell_type": "code",
   "execution_count": 3,
   "metadata": {},
   "outputs": [],
   "source": [
    "def find(lat, long, t0, t1):\n",
    "    topo = Topos(lat, long)\n",
    "    print(topo)"
   ]
  },
  {
   "cell_type": "code",
   "execution_count": 4,
   "metadata": {},
   "outputs": [],
   "source": [
    "hari_ini = datetime.now().date()\n",
    "days_in_month = calendar.monthrange(hari_ini.year, hari_ini.month)[1]\n",
    "besok = hari_ini + timedelta(days_in_month)\n",
    "\n",
    "dari = widgets.DatePicker(value=hari_ini,\n",
    "    description='Dari:',\n",
    "    disabled=False\n",
    ")\n",
    "sampai = widgets.DatePicker(value=besok,\n",
    "    description='Sampai:',\n",
    "    disabled=False\n",
    ")\n",
    "\n",
    "lat = widgets.Text(value='7.83305556 S', description='Latitude')\n",
    "long = widgets.Text(value='110.38305556 E', description='Longitude')\n",
    "\n"
   ]
  },
  {
   "cell_type": "code",
   "execution_count": 5,
   "metadata": {},
   "outputs": [
    {
     "data": {
      "application/vnd.jupyter.widget-view+json": {
       "model_id": "f3d4643cbd7c4c30af725832c62ef34a",
       "version_major": 2,
       "version_minor": 0
      },
      "text/plain": [
       "interactive(children=(Text(value='7.83305556 S', description='Latitude'), Text(value='110.38305556 E', descrip…"
      ]
     },
     "metadata": {},
     "output_type": "display_data"
    }
   ],
   "source": [
    "interactive(find, lat=lat, long=long, t0=dari, t1=sampai)"
   ]
  },
  {
   "cell_type": "code",
   "execution_count": null,
   "metadata": {},
   "outputs": [],
   "source": []
  }
 ],
 "metadata": {
  "kernelspec": {
   "display_name": "Python 3",
   "language": "python",
   "name": "python3"
  },
  "language_info": {
   "codemirror_mode": {
    "name": "ipython",
    "version": 3
   },
   "file_extension": ".py",
   "mimetype": "text/x-python",
   "name": "python",
   "nbconvert_exporter": "python",
   "pygments_lexer": "ipython3",
   "version": "3.7.6"
  },
  "widgets": {
   "application/vnd.jupyter.widget-state+json": {
    "state": {
     "0717e5b60c5a40548d3a9943327857eb": {
      "model_module": "@jupyter-widgets/controls",
      "model_module_version": "1.5.0",
      "model_name": "DescriptionStyleModel",
      "state": {
       "description_width": ""
      }
     },
     "1c8efff80bc543b4853914d8ebcd4ce1": {
      "model_module": "@jupyter-widgets/base",
      "model_module_version": "1.2.0",
      "model_name": "LayoutModel",
      "state": {}
     },
     "384ed6c0dc3248e484c448aa80498d41": {
      "model_module": "@jupyter-widgets/controls",
      "model_module_version": "1.5.0",
      "model_name": "TextModel",
      "state": {
       "description": "Latitude",
       "layout": "IPY_MODEL_95b5cd1187df4ec9a404941328285f37",
       "style": "IPY_MODEL_bfe1c7f7137e4153b5510d0cab03e875",
       "value": "7.83305556 S"
      }
     },
     "431385653341443d8f38dbee849b3527": {
      "model_module": "@jupyter-widgets/controls",
      "model_module_version": "1.5.0",
      "model_name": "DescriptionStyleModel",
      "state": {
       "description_width": ""
      }
     },
     "5af3820573ee4775924a379ea91fffbf": {
      "model_module": "@jupyter-widgets/base",
      "model_module_version": "1.2.0",
      "model_name": "LayoutModel",
      "state": {}
     },
     "638be38ebb2747b4b3d49af0b0331003": {
      "model_module": "@jupyter-widgets/controls",
      "model_module_version": "1.5.0",
      "model_name": "DatePickerModel",
      "state": {
       "description": "Dari:",
       "disabled": false,
       "layout": "IPY_MODEL_c5ebc5185320444a87b8a4ba0a644b98",
       "style": "IPY_MODEL_0717e5b60c5a40548d3a9943327857eb",
       "value": {
        "date": 3,
        "month": 5,
        "year": 2020
       }
      }
     },
     "74c772480b3446f69679a19dfa2eb807": {
      "model_module": "@jupyter-widgets/controls",
      "model_module_version": "1.5.0",
      "model_name": "TextModel",
      "state": {
       "description": "Longitude",
       "layout": "IPY_MODEL_763054ba180c46599c4a2c62dec87188",
       "style": "IPY_MODEL_a8c0b3090d8a40fcaf968a77be03f6c4",
       "value": "110.38305556 E"
      }
     },
     "763054ba180c46599c4a2c62dec87188": {
      "model_module": "@jupyter-widgets/base",
      "model_module_version": "1.2.0",
      "model_name": "LayoutModel",
      "state": {}
     },
     "95b5cd1187df4ec9a404941328285f37": {
      "model_module": "@jupyter-widgets/base",
      "model_module_version": "1.2.0",
      "model_name": "LayoutModel",
      "state": {}
     },
     "986350416c724370bd13dabb50a14860": {
      "model_module": "@jupyter-widgets/output",
      "model_module_version": "1.0.0",
      "model_name": "OutputModel",
      "state": {
       "layout": "IPY_MODEL_5af3820573ee4775924a379ea91fffbf",
       "outputs": [
        {
         "name": "stdout",
         "output_type": "stream",
         "text": "Topos -07deg 49' 59.0\" N 110deg 22' 59.0\" E\n"
        }
       ]
      }
     },
     "a8c0b3090d8a40fcaf968a77be03f6c4": {
      "model_module": "@jupyter-widgets/controls",
      "model_module_version": "1.5.0",
      "model_name": "DescriptionStyleModel",
      "state": {
       "description_width": ""
      }
     },
     "bfe1c7f7137e4153b5510d0cab03e875": {
      "model_module": "@jupyter-widgets/controls",
      "model_module_version": "1.5.0",
      "model_name": "DescriptionStyleModel",
      "state": {
       "description_width": ""
      }
     },
     "c5ebc5185320444a87b8a4ba0a644b98": {
      "model_module": "@jupyter-widgets/base",
      "model_module_version": "1.2.0",
      "model_name": "LayoutModel",
      "state": {}
     },
     "cca78f855ff545c4aa3a730dcacaf13e": {
      "model_module": "@jupyter-widgets/base",
      "model_module_version": "1.2.0",
      "model_name": "LayoutModel",
      "state": {}
     },
     "dff17275574a4a498e52dfa2bf0d5361": {
      "model_module": "@jupyter-widgets/controls",
      "model_module_version": "1.5.0",
      "model_name": "DatePickerModel",
      "state": {
       "description": "Sampai:",
       "disabled": false,
       "layout": "IPY_MODEL_cca78f855ff545c4aa3a730dcacaf13e",
       "style": "IPY_MODEL_431385653341443d8f38dbee849b3527",
       "value": {
        "date": 3,
        "month": 6,
        "year": 2020
       }
      }
     },
     "f3d4643cbd7c4c30af725832c62ef34a": {
      "model_module": "@jupyter-widgets/controls",
      "model_module_version": "1.5.0",
      "model_name": "VBoxModel",
      "state": {
       "_dom_classes": [
        "widget-interact"
       ],
       "children": [
        "IPY_MODEL_384ed6c0dc3248e484c448aa80498d41",
        "IPY_MODEL_74c772480b3446f69679a19dfa2eb807",
        "IPY_MODEL_638be38ebb2747b4b3d49af0b0331003",
        "IPY_MODEL_dff17275574a4a498e52dfa2bf0d5361",
        "IPY_MODEL_986350416c724370bd13dabb50a14860"
       ],
       "layout": "IPY_MODEL_1c8efff80bc543b4853914d8ebcd4ce1"
      }
     }
    },
    "version_major": 2,
    "version_minor": 0
   }
  }
 },
 "nbformat": 4,
 "nbformat_minor": 4
}
