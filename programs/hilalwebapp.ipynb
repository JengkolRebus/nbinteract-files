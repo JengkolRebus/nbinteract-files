{
 "cells": [
  {
   "cell_type": "code",
   "execution_count": 1,
   "metadata": {},
   "outputs": [],
   "source": [
    "from skyfield.api import load, Topos\n",
    "from skyfield.units import Angle\n",
    "from skyfield import almanac\n",
    "from datetime import datetime as dt\n",
    "from datetime import timedelta\n",
    "from pytz import timezone\n",
    "from ipywidgets import widgets, interact\n",
    "import pandas as pd\n",
    "from IPython.display import display, HTML\n",
    "import numpy as np\n",
    "import matplotlib.pyplot as plt\n",
    "import matplotlib.patches as mpatches\n",
    "from datetime import datetime, timedelta\n",
    "import calendar"
   ]
  },
  {
   "cell_type": "code",
   "execution_count": 2,
   "metadata": {},
   "outputs": [],
   "source": [
    "jkt = timezone('Asia/Jakarta')\n",
    "ts = load.timescale()\n",
    "e = load('de421.bsp')"
   ]
  },
  {
   "cell_type": "code",
   "execution_count": 6,
   "metadata": {},
   "outputs": [],
   "source": [
    "def find(t0, t1):\n",
    "    t0 = ts.utc(t0)\n",
    "    t1 = ts.utc(t1)\n",
    "    \n",
    "    print(t0, t1)\n",
    "    \n",
    "    f = almanac.oppositions_conjunctions(e, e['moon'])\n",
    "    t, y = almanac.find_discrete(t0, t1, f)\n",
    "    \n",
    "    for ti, yi in zip(t, y):\n",
    "        if(yi == 1):\n",
    "            t_konj = ti.utc\n",
    "            \n",
    "            t0 = ts.utc(t_konj[0], t_konj[1], t_konj[2], t_konj[3], t_konj[4], t_konj[5])\n",
    "            t1 = ts.utc(t_konj[0], t_konj[1], t_konj[2]+1, t_konj[3], t_konj[4], t_konj[5])\n",
    "            \n",
    "            t, y = almana\n",
    "\n",
    "def loc(Latitude, Longitude):\n",
    "    topo = Topos(Latitude, Longitude)\n",
    "    interact(find, t0=dari, t1=sampai)"
   ]
  },
  {
   "cell_type": "code",
   "execution_count": 7,
   "metadata": {},
   "outputs": [
    {
     "data": {
      "application/vnd.jupyter.widget-view+json": {
       "model_id": "8b65fc7b0cd34b4e87397daf6e409a37",
       "version_major": 2,
       "version_minor": 0
      },
      "text/plain": [
       "interactive(children=(Text(value='7.83305556 S', description='Latitude'), Text(value='110.38305556 E', descrip…"
      ]
     },
     "metadata": {},
     "output_type": "display_data"
    },
    {
     "data": {
      "text/plain": [
       "<function __main__.loc(Latitude, Longitude)>"
      ]
     },
     "execution_count": 7,
     "metadata": {},
     "output_type": "execute_result"
    }
   ],
   "source": [
    "hari_ini = datetime.now().date()\n",
    "days_in_month = calendar.monthrange(hari_ini.year, hari_ini.month)[1]\n",
    "besok = hari_ini + timedelta(days_in_month)\n",
    "\n",
    "dari = widgets.DatePicker(value=hari_ini,\n",
    "    description='Dari:',\n",
    "    disabled=False\n",
    ")\n",
    "sampai = widgets.DatePicker(value=besok,\n",
    "    description='Sampai:',\n",
    "    disabled=False\n",
    ")\n",
    "\n",
    "interact(loc, Latitude='7.83305556 S', Longitude='110.38305556 E')"
   ]
  },
  {
   "cell_type": "code",
   "execution_count": null,
   "metadata": {},
   "outputs": [],
   "source": []
  }
 ],
 "metadata": {
  "kernelspec": {
   "display_name": "Python 3",
   "language": "python",
   "name": "python3"
  },
  "language_info": {
   "codemirror_mode": {
    "name": "ipython",
    "version": 3
   },
   "file_extension": ".py",
   "mimetype": "text/x-python",
   "name": "python",
   "nbconvert_exporter": "python",
   "pygments_lexer": "ipython3",
   "version": "3.7.6"
  },
  "widgets": {
   "application/vnd.jupyter.widget-state+json": {
    "state": {
     "03e6611a057c4bb09dbfe545eb87362d": {
      "model_module": "@jupyter-widgets/controls",
      "model_module_version": "1.5.0",
      "model_name": "DatePickerModel",
      "state": {
       "description": "Sampai:",
       "disabled": false,
       "layout": "IPY_MODEL_d1ffdd99fd2646219921a2d2f691b0e6",
       "style": "IPY_MODEL_2a81958c1b0d4e78b4b19673b9687aad",
       "value": {
        "date": 26,
        "month": 5,
        "year": 2020
       }
      }
     },
     "11877d7577504ccfa2eec3d34f17a0da": {
      "model_module": "@jupyter-widgets/controls",
      "model_module_version": "1.5.0",
      "model_name": "VBoxModel",
      "state": {
       "_dom_classes": [
        "widget-interact"
       ],
       "children": [
        "IPY_MODEL_ec1912f5b8534798ad6a21acae53c92e",
        "IPY_MODEL_9539b19990a64f43b7c98b1505eaa6cf",
        "IPY_MODEL_aafa89b303644f388f60c40fb4e810ae"
       ],
       "layout": "IPY_MODEL_408d2ed5cac446af903d68b20a3cd620"
      }
     },
     "1e35a941d355492fa2c54a5b88601ab2": {
      "model_module": "@jupyter-widgets/controls",
      "model_module_version": "1.5.0",
      "model_name": "DatePickerModel",
      "state": {
       "description": "Sampai:",
       "disabled": false,
       "layout": "IPY_MODEL_9c405942d9084e57bc87904c0a66506b",
       "style": "IPY_MODEL_9dd816f9ebf74c49a33b6579e83bb1bd",
       "value": {
        "date": 26,
        "month": 5,
        "year": 2020
       }
      }
     },
     "1e510f0eff864ae8ae570d2f4ec6b96b": {
      "model_module": "@jupyter-widgets/output",
      "model_module_version": "1.0.0",
      "model_name": "OutputModel",
      "state": {
       "layout": "IPY_MODEL_ffb08e3772fd4d35ad50e508115ec067",
       "outputs": [
        {
         "data": {
          "application/vnd.jupyter.widget-view+json": {
           "model_id": "97bf2ffe022a42cdacae256bfab38df7",
           "version_major": 2,
           "version_minor": 0
          },
          "text/plain": "interactive(children=(DatePicker(value=datetime.date(2020, 5, 26), description='Dari:'), DatePicker(value=date…"
         },
         "metadata": {},
         "output_type": "display_data"
        }
       ]
      }
     },
     "2a81958c1b0d4e78b4b19673b9687aad": {
      "model_module": "@jupyter-widgets/controls",
      "model_module_version": "1.5.0",
      "model_name": "DescriptionStyleModel",
      "state": {
       "description_width": ""
      }
     },
     "408d2ed5cac446af903d68b20a3cd620": {
      "model_module": "@jupyter-widgets/base",
      "model_module_version": "1.2.0",
      "model_name": "LayoutModel",
      "state": {}
     },
     "4588664e5e964e988470afb50f0b5771": {
      "model_module": "@jupyter-widgets/base",
      "model_module_version": "1.2.0",
      "model_name": "LayoutModel",
      "state": {}
     },
     "4a146e5fbcbd409290bcf9411c9995b6": {
      "model_module": "@jupyter-widgets/base",
      "model_module_version": "1.2.0",
      "model_name": "LayoutModel",
      "state": {}
     },
     "6b5f19b94d0a4ffa91a3a635a44eb176": {
      "model_module": "@jupyter-widgets/controls",
      "model_module_version": "1.5.0",
      "model_name": "DescriptionStyleModel",
      "state": {
       "description_width": ""
      }
     },
     "6e641b08d06b40a7b50c4d3cdf6feb49": {
      "model_module": "@jupyter-widgets/base",
      "model_module_version": "1.2.0",
      "model_name": "LayoutModel",
      "state": {}
     },
     "7d778f22f89c4be6856a9a5698c572f6": {
      "model_module": "@jupyter-widgets/controls",
      "model_module_version": "1.5.0",
      "model_name": "TextModel",
      "state": {
       "description": "Longitude",
       "layout": "IPY_MODEL_ce2b75f3e25d4b7cb70093d975ad2b7c",
       "style": "IPY_MODEL_e7889f1f334e406192cfad52f06fcdd6",
       "value": "110.38305556 E"
      }
     },
     "803590fa68db4c608b51ad53808f082e": {
      "model_module": "@jupyter-widgets/base",
      "model_module_version": "1.2.0",
      "model_name": "LayoutModel",
      "state": {}
     },
     "83c186d9f5434f9c983d66f89b22bae4": {
      "model_module": "@jupyter-widgets/controls",
      "model_module_version": "1.5.0",
      "model_name": "VBoxModel",
      "state": {
       "_dom_classes": [
        "widget-interact"
       ],
       "children": [
        "IPY_MODEL_cd6b517c79864e5a9a51c2ea4b9c383c",
        "IPY_MODEL_03e6611a057c4bb09dbfe545eb87362d",
        "IPY_MODEL_f6e829e6ae8b442dac81421342d174c9"
       ],
       "layout": "IPY_MODEL_d13c89d247b9481082d4a2cd3d85abb0"
      }
     },
     "84bc19fc60ee4b37bfd2e29667126f0f": {
      "model_module": "@jupyter-widgets/base",
      "model_module_version": "1.2.0",
      "model_name": "LayoutModel",
      "state": {}
     },
     "854f6d7125db4e93acca7e6feb08a452": {
      "model_module": "@jupyter-widgets/base",
      "model_module_version": "1.2.0",
      "model_name": "LayoutModel",
      "state": {}
     },
     "8abf7ddc60364cad946f215cd3a1ea08": {
      "model_module": "@jupyter-widgets/controls",
      "model_module_version": "1.5.0",
      "model_name": "DescriptionStyleModel",
      "state": {
       "description_width": ""
      }
     },
     "8b65fc7b0cd34b4e87397daf6e409a37": {
      "model_module": "@jupyter-widgets/controls",
      "model_module_version": "1.5.0",
      "model_name": "VBoxModel",
      "state": {
       "_dom_classes": [
        "widget-interact"
       ],
       "children": [
        "IPY_MODEL_e7381e3c8c624f209ad0047e86d5d14a",
        "IPY_MODEL_7d778f22f89c4be6856a9a5698c572f6",
        "IPY_MODEL_1e510f0eff864ae8ae570d2f4ec6b96b"
       ],
       "layout": "IPY_MODEL_e51e595df3284b018281c8aa9cdeb8d7"
      }
     },
     "9539b19990a64f43b7c98b1505eaa6cf": {
      "model_module": "@jupyter-widgets/controls",
      "model_module_version": "1.5.0",
      "model_name": "TextModel",
      "state": {
       "description": "Longitude",
       "layout": "IPY_MODEL_a9da08a41b6b4d5c9770d0f60d7c3a92",
       "style": "IPY_MODEL_f15ee09170aa4c1dba27406d657ddd2c",
       "value": "110.38305556 E"
      }
     },
     "96c40910dc5447b786214c0feca43904": {
      "model_module": "@jupyter-widgets/controls",
      "model_module_version": "1.5.0",
      "model_name": "DescriptionStyleModel",
      "state": {
       "description_width": ""
      }
     },
     "97a8ac79880c424ba1cb12449843e0a8": {
      "model_module": "@jupyter-widgets/controls",
      "model_module_version": "1.5.0",
      "model_name": "DescriptionStyleModel",
      "state": {
       "description_width": ""
      }
     },
     "97bf2ffe022a42cdacae256bfab38df7": {
      "model_module": "@jupyter-widgets/controls",
      "model_module_version": "1.5.0",
      "model_name": "VBoxModel",
      "state": {
       "_dom_classes": [
        "widget-interact"
       ],
       "children": [
        "IPY_MODEL_f0b98b229eae447293a3b7ee1814369c",
        "IPY_MODEL_1e35a941d355492fa2c54a5b88601ab2",
        "IPY_MODEL_a8a77ea1056f43509a9704f10f181dd4"
       ],
       "layout": "IPY_MODEL_6e641b08d06b40a7b50c4d3cdf6feb49"
      }
     },
     "9c405942d9084e57bc87904c0a66506b": {
      "model_module": "@jupyter-widgets/base",
      "model_module_version": "1.2.0",
      "model_name": "LayoutModel",
      "state": {}
     },
     "9dd816f9ebf74c49a33b6579e83bb1bd": {
      "model_module": "@jupyter-widgets/controls",
      "model_module_version": "1.5.0",
      "model_name": "DescriptionStyleModel",
      "state": {
       "description_width": ""
      }
     },
     "a8a77ea1056f43509a9704f10f181dd4": {
      "model_module": "@jupyter-widgets/output",
      "model_module_version": "1.0.0",
      "model_name": "OutputModel",
      "state": {
       "layout": "IPY_MODEL_803590fa68db4c608b51ad53808f082e",
       "outputs": [
        {
         "name": "stdout",
         "output_type": "stream",
         "text": "<Time tt=2458995.500800741> <Time tt=2459026.500800741>\n"
        }
       ]
      }
     },
     "a9da08a41b6b4d5c9770d0f60d7c3a92": {
      "model_module": "@jupyter-widgets/base",
      "model_module_version": "1.2.0",
      "model_name": "LayoutModel",
      "state": {}
     },
     "aafa89b303644f388f60c40fb4e810ae": {
      "model_module": "@jupyter-widgets/output",
      "model_module_version": "1.0.0",
      "model_name": "OutputModel",
      "state": {
       "layout": "IPY_MODEL_854f6d7125db4e93acca7e6feb08a452",
       "outputs": [
        {
         "data": {
          "application/vnd.jupyter.widget-view+json": {
           "model_id": "",
           "version_major": 2,
           "version_minor": 0
          },
          "text/plain": "interactive(children=(DatePicker(value=datetime.date(2020, 5, 26), description='Dari:'), DatePicker(value=date…"
         },
         "metadata": {},
         "output_type": "display_data"
        }
       ]
      }
     },
     "cbb0921befd0412a82b8f4def14ee5b6": {
      "model_module": "@jupyter-widgets/base",
      "model_module_version": "1.2.0",
      "model_name": "LayoutModel",
      "state": {}
     },
     "cd6b517c79864e5a9a51c2ea4b9c383c": {
      "model_module": "@jupyter-widgets/controls",
      "model_module_version": "1.5.0",
      "model_name": "DatePickerModel",
      "state": {
       "description": "Dari:",
       "disabled": false,
       "layout": "IPY_MODEL_4588664e5e964e988470afb50f0b5771",
       "style": "IPY_MODEL_6b5f19b94d0a4ffa91a3a635a44eb176",
       "value": {
        "date": 26,
        "month": 4,
        "year": 2020
       }
      }
     },
     "ce2b75f3e25d4b7cb70093d975ad2b7c": {
      "model_module": "@jupyter-widgets/base",
      "model_module_version": "1.2.0",
      "model_name": "LayoutModel",
      "state": {}
     },
     "d13c89d247b9481082d4a2cd3d85abb0": {
      "model_module": "@jupyter-widgets/base",
      "model_module_version": "1.2.0",
      "model_name": "LayoutModel",
      "state": {}
     },
     "d1ffdd99fd2646219921a2d2f691b0e6": {
      "model_module": "@jupyter-widgets/base",
      "model_module_version": "1.2.0",
      "model_name": "LayoutModel",
      "state": {}
     },
     "d4b6ca81cc6b4b69bda59014344a6b88": {
      "model_module": "@jupyter-widgets/base",
      "model_module_version": "1.2.0",
      "model_name": "LayoutModel",
      "state": {}
     },
     "e51e595df3284b018281c8aa9cdeb8d7": {
      "model_module": "@jupyter-widgets/base",
      "model_module_version": "1.2.0",
      "model_name": "LayoutModel",
      "state": {}
     },
     "e7381e3c8c624f209ad0047e86d5d14a": {
      "model_module": "@jupyter-widgets/controls",
      "model_module_version": "1.5.0",
      "model_name": "TextModel",
      "state": {
       "description": "Latitude",
       "layout": "IPY_MODEL_84bc19fc60ee4b37bfd2e29667126f0f",
       "style": "IPY_MODEL_96c40910dc5447b786214c0feca43904",
       "value": "7.83305556 S"
      }
     },
     "e7889f1f334e406192cfad52f06fcdd6": {
      "model_module": "@jupyter-widgets/controls",
      "model_module_version": "1.5.0",
      "model_name": "DescriptionStyleModel",
      "state": {
       "description_width": ""
      }
     },
     "ec1912f5b8534798ad6a21acae53c92e": {
      "model_module": "@jupyter-widgets/controls",
      "model_module_version": "1.5.0",
      "model_name": "TextModel",
      "state": {
       "description": "Latitude",
       "layout": "IPY_MODEL_4a146e5fbcbd409290bcf9411c9995b6",
       "style": "IPY_MODEL_8abf7ddc60364cad946f215cd3a1ea08",
       "value": "7.83305556 S"
      }
     },
     "f0b98b229eae447293a3b7ee1814369c": {
      "model_module": "@jupyter-widgets/controls",
      "model_module_version": "1.5.0",
      "model_name": "DatePickerModel",
      "state": {
       "description": "Dari:",
       "disabled": false,
       "layout": "IPY_MODEL_cbb0921befd0412a82b8f4def14ee5b6",
       "style": "IPY_MODEL_97a8ac79880c424ba1cb12449843e0a8",
       "value": {
        "date": 26,
        "month": 4,
        "year": 2020
       }
      }
     },
     "f15ee09170aa4c1dba27406d657ddd2c": {
      "model_module": "@jupyter-widgets/controls",
      "model_module_version": "1.5.0",
      "model_name": "DescriptionStyleModel",
      "state": {
       "description_width": ""
      }
     },
     "f6e829e6ae8b442dac81421342d174c9": {
      "model_module": "@jupyter-widgets/output",
      "model_module_version": "1.0.0",
      "model_name": "OutputModel",
      "state": {
       "layout": "IPY_MODEL_d4b6ca81cc6b4b69bda59014344a6b88"
      }
     },
     "ffb08e3772fd4d35ad50e508115ec067": {
      "model_module": "@jupyter-widgets/base",
      "model_module_version": "1.2.0",
      "model_name": "LayoutModel",
      "state": {}
     }
    },
    "version_major": 2,
    "version_minor": 0
   }
  }
 },
 "nbformat": 4,
 "nbformat_minor": 4
}
