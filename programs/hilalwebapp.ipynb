{
 "cells": [
  {
   "cell_type": "code",
   "execution_count": 8,
   "metadata": {},
   "outputs": [
    {
     "data": {
      "application/vnd.jupyter.widget-view+json": {
       "model_id": "83640f9675dd4f5a9cf83e9264705b73",
       "version_major": 2,
       "version_minor": 0
      },
      "text/plain": [
       "interactive(children=(Text(value='7.83305556 S', description='Latitude:', placeholder='Type something'), Text(…"
      ]
     },
     "metadata": {},
     "output_type": "display_data"
    },
    {
     "data": {
      "text/plain": [
       "<function __main__.find(lat, long, t0, t1)>"
      ]
     },
     "execution_count": 8,
     "metadata": {},
     "output_type": "execute_result"
    }
   ],
   "source": [
    "from skyfield.api import load, Topos\n",
    "from skyfield.units import Angle\n",
    "from skyfield import almanac\n",
    "from datetime import datetime, timedelta\n",
    "from pytz import timezone\n",
    "from ipywidgets import widgets, interact, interactive\n",
    "from IPython.display import display, HTML\n",
    "import calendar\n",
    "\n",
    "jkt = timezone('Asia/Jakarta')\n",
    "ts = load.timescale(builtin=True)\n",
    "e = load('de421.bsp')\n",
    "\n",
    "def find(lat, long, t0, t1):\n",
    "    t_konj = []\n",
    "    t_konj.clear\n",
    "    topo = Topos(lat, long)\n",
    "    loc = e['earth'] + topo\n",
    "    print(topo)\n",
    "    print(loc)\n",
    "    t0 = ts.utc(t0)\n",
    "    t1 = ts.utc(t1)\n",
    "    print(t0, t1)\n",
    "    \n",
    "    f = almanac.oppositions_conjunctions(e, e['moon'])\n",
    "    t, y = almanac.find_discrete(t0, t1, f)\n",
    "    for ti, yi in zip(t, y):\n",
    "        if(yi == 1):\n",
    "            t_konj.append(ti.utc)\n",
    "            \n",
    "#             t0 = ts.utc(t_konj[0], t_konj[1], t_konj[2], t_konj[3], t_konj[4], t_konj[5])\n",
    "#             t1 = ts.utc(t_konj[0], t_konj[1], t_konj[2]+1, t_konj[3], t_konj[4], t_konj[5])\n",
    "        else:\n",
    "            pass\n",
    "    print(t_konj)\n",
    "\n",
    "\n",
    "lat = widgets.Text(\n",
    "    value='7.83305556 S',\n",
    "    placeholder='Type something',\n",
    "    description='Latitude:',\n",
    "    disabled=False\n",
    ")\n",
    "long = widgets.Text(\n",
    "    value='110.38305556 E',\n",
    "    placeholder='Type something',\n",
    "    description='Longitude:',\n",
    "    disabled=False\n",
    ")\n",
    "\n",
    "hari_ini = datetime.now().date()\n",
    "days_in_month = calendar.monthrange(hari_ini.year, hari_ini.month)[1]\n",
    "besok = hari_ini + timedelta(days_in_month)\n",
    "\n",
    "t0 = widgets.DatePicker(value=hari_ini,\n",
    "    description='Dari:',\n",
    "    disabled=False\n",
    ")\n",
    "t1 = widgets.DatePicker(value=besok,\n",
    "    description='Sampai:',\n",
    "    disabled=False\n",
    ")\n",
    "\n",
    "interact(find, lat=lat, long=long, t0=t0, t1=t1)"
   ]
  },
  {
   "cell_type": "code",
   "execution_count": null,
   "metadata": {},
   "outputs": [],
   "source": []
  },
  {
   "cell_type": "code",
   "execution_count": null,
   "metadata": {},
   "outputs": [],
   "source": []
  }
 ],
 "metadata": {
  "kernelspec": {
   "display_name": "Python 3",
   "language": "python",
   "name": "python3"
  },
  "language_info": {
   "codemirror_mode": {
    "name": "ipython",
    "version": 3
   },
   "file_extension": ".py",
   "mimetype": "text/x-python",
   "name": "python",
   "nbconvert_exporter": "python",
   "pygments_lexer": "ipython3",
   "version": "3.7.6"
  },
  "widgets": {
   "application/vnd.jupyter.widget-state+json": {
    "state": {
     "0052376c6a40489ca7b857cacb9fa154": {
      "model_module": "@jupyter-widgets/controls",
      "model_module_version": "1.5.0",
      "model_name": "DatePickerModel",
      "state": {
       "description": "Sampai:",
       "disabled": false,
       "layout": "IPY_MODEL_db902fd4a09f44a188e74258d18b632b",
       "style": "IPY_MODEL_5e2c660adb1748d698257433ea629d6e",
       "value": {
        "date": 26,
        "month": 5,
        "year": 2020
       }
      }
     },
     "042c5d3f487a438caf7a68a880597b5f": {
      "model_module": "@jupyter-widgets/controls",
      "model_module_version": "1.5.0",
      "model_name": "VBoxModel",
      "state": {
       "_dom_classes": [
        "widget-interact"
       ],
       "children": [
        "IPY_MODEL_0437fcacb9c34f1a90d56abcd1fa5a3d",
        "IPY_MODEL_1703533b75e549c5bedf4b33569fc29e",
        "IPY_MODEL_66c8fe5f6e844179908ac6c24d83fe45",
        "IPY_MODEL_0052376c6a40489ca7b857cacb9fa154",
        "IPY_MODEL_8721603ab097464c82a2c247d83e26b0"
       ],
       "layout": "IPY_MODEL_50e207ee3467493a8c7eb0de5b7ed4d7"
      }
     },
     "0437fcacb9c34f1a90d56abcd1fa5a3d": {
      "model_module": "@jupyter-widgets/controls",
      "model_module_version": "1.5.0",
      "model_name": "TextModel",
      "state": {
       "description": "Latitude:",
       "layout": "IPY_MODEL_c1ed4e2aac1d47a7b1030c5ec3b285e8",
       "placeholder": "Type something",
       "style": "IPY_MODEL_640ce8b6e2e84fbcbf5c424630bcb2d6",
       "value": "7.83305556 S"
      }
     },
     "06f7aa1b2dec494b9b14441e61571286": {
      "model_module": "@jupyter-widgets/base",
      "model_module_version": "1.2.0",
      "model_name": "LayoutModel",
      "state": {}
     },
     "158ebeecc8274301bbca7c617cd59e27": {
      "model_module": "@jupyter-widgets/controls",
      "model_module_version": "1.5.0",
      "model_name": "DescriptionStyleModel",
      "state": {
       "description_width": ""
      }
     },
     "1703533b75e549c5bedf4b33569fc29e": {
      "model_module": "@jupyter-widgets/controls",
      "model_module_version": "1.5.0",
      "model_name": "TextModel",
      "state": {
       "description": "Longitude:",
       "layout": "IPY_MODEL_2332ca2d409d4c7abd44ddb5c1648b60",
       "placeholder": "Type something",
       "style": "IPY_MODEL_e667fe250b824a12b10f63ecf533d8e6",
       "value": "110.38305556 E"
      }
     },
     "2332ca2d409d4c7abd44ddb5c1648b60": {
      "model_module": "@jupyter-widgets/base",
      "model_module_version": "1.2.0",
      "model_name": "LayoutModel",
      "state": {}
     },
     "2a0c6640479b47cbb3248e05eb286ae1": {
      "model_module": "@jupyter-widgets/controls",
      "model_module_version": "1.5.0",
      "model_name": "DatePickerModel",
      "state": {
       "description": "Dari:",
       "disabled": false,
       "layout": "IPY_MODEL_a83cba4f55d04533918f68a9f93722ef",
       "style": "IPY_MODEL_34a25c42f1004967bfdb6b894e3d59e3",
       "value": {
        "date": 26,
        "month": 4,
        "year": 2020
       }
      }
     },
     "2c1719b84955433d92835edb3e39bb4b": {
      "model_module": "@jupyter-widgets/base",
      "model_module_version": "1.2.0",
      "model_name": "LayoutModel",
      "state": {}
     },
     "2d28e0a5b155400e94a80225131dfd63": {
      "model_module": "@jupyter-widgets/controls",
      "model_module_version": "1.5.0",
      "model_name": "DescriptionStyleModel",
      "state": {
       "description_width": ""
      }
     },
     "34a25c42f1004967bfdb6b894e3d59e3": {
      "model_module": "@jupyter-widgets/controls",
      "model_module_version": "1.5.0",
      "model_name": "DescriptionStyleModel",
      "state": {
       "description_width": ""
      }
     },
     "360b9a16aba84e749b8fdc207da34dc8": {
      "model_module": "@jupyter-widgets/base",
      "model_module_version": "1.2.0",
      "model_name": "LayoutModel",
      "state": {}
     },
     "3d6c55054def41afaf60d873d11c8d5a": {
      "model_module": "@jupyter-widgets/base",
      "model_module_version": "1.2.0",
      "model_name": "LayoutModel",
      "state": {}
     },
     "49170391c22d43a0bb8d5df1e99c7c46": {
      "model_module": "@jupyter-widgets/base",
      "model_module_version": "1.2.0",
      "model_name": "LayoutModel",
      "state": {}
     },
     "50e207ee3467493a8c7eb0de5b7ed4d7": {
      "model_module": "@jupyter-widgets/base",
      "model_module_version": "1.2.0",
      "model_name": "LayoutModel",
      "state": {}
     },
     "5e2c660adb1748d698257433ea629d6e": {
      "model_module": "@jupyter-widgets/controls",
      "model_module_version": "1.5.0",
      "model_name": "DescriptionStyleModel",
      "state": {
       "description_width": ""
      }
     },
     "5e56def16466495ab542dc5ad7c8c071": {
      "model_module": "@jupyter-widgets/base",
      "model_module_version": "1.2.0",
      "model_name": "LayoutModel",
      "state": {}
     },
     "640ce8b6e2e84fbcbf5c424630bcb2d6": {
      "model_module": "@jupyter-widgets/controls",
      "model_module_version": "1.5.0",
      "model_name": "DescriptionStyleModel",
      "state": {
       "description_width": ""
      }
     },
     "66c8fe5f6e844179908ac6c24d83fe45": {
      "model_module": "@jupyter-widgets/controls",
      "model_module_version": "1.5.0",
      "model_name": "DatePickerModel",
      "state": {
       "description": "Dari:",
       "disabled": false,
       "layout": "IPY_MODEL_8c190c7ed2b541ed9e90fdb21f0fa817",
       "style": "IPY_MODEL_ea0f43bd53404a8faeae8cef53f27569",
       "value": {
        "date": 26,
        "month": 4,
        "year": 2020
       }
      }
     },
     "68bbc27eb3ce4308bb90b53fc6ecbbbd": {
      "model_module": "@jupyter-widgets/output",
      "model_module_version": "1.0.0",
      "model_name": "OutputModel",
      "state": {
       "layout": "IPY_MODEL_360b9a16aba84e749b8fdc207da34dc8",
       "outputs": [
        {
         "name": "stdout",
         "output_type": "stream",
         "text": "Topos -07deg 49' 59.0\" N 110deg 22' 59.0\" E\nSum of 3 vectors:\n + Segment 'de421.bsp' 0 SOLAR SYSTEM BARYCENTER -> 3 EARTH BARYCENTER\n + Segment 'de421.bsp' 3 EARTH BARYCENTER -> 399 EARTH\n + Topos -07deg 49' 59.0\" N 110deg 22' 59.0\" E\n<Time tt=2458995.500800741> <Time tt=2459026.500800741>\n[(2020, 6, 21, 6, 41, 27.48125731945038)]\n"
        }
       ]
      }
     },
     "6f36962c585f42ffa4027fcf6c8fe1a9": {
      "model_module": "@jupyter-widgets/base",
      "model_module_version": "1.2.0",
      "model_name": "LayoutModel",
      "state": {}
     },
     "74331a96c11043e08fb3d72bf3b48586": {
      "model_module": "@jupyter-widgets/base",
      "model_module_version": "1.2.0",
      "model_name": "LayoutModel",
      "state": {}
     },
     "7fa5a777c2e44969826ffb77025bb4cb": {
      "model_module": "@jupyter-widgets/controls",
      "model_module_version": "1.5.0",
      "model_name": "DescriptionStyleModel",
      "state": {
       "description_width": ""
      }
     },
     "83640f9675dd4f5a9cf83e9264705b73": {
      "model_module": "@jupyter-widgets/controls",
      "model_module_version": "1.5.0",
      "model_name": "VBoxModel",
      "state": {
       "_dom_classes": [
        "widget-interact"
       ],
       "children": [
        "IPY_MODEL_dc4bc3c022044363955b7bf88977fca0",
        "IPY_MODEL_9b813c7f4797416d9cfe49613c9149a6",
        "IPY_MODEL_2a0c6640479b47cbb3248e05eb286ae1",
        "IPY_MODEL_c9df07ba035c4d118954b9ff89491776",
        "IPY_MODEL_68bbc27eb3ce4308bb90b53fc6ecbbbd"
       ],
       "layout": "IPY_MODEL_e92c1fa663494121bae6a3b0d1c5f4ef"
      }
     },
     "8721603ab097464c82a2c247d83e26b0": {
      "model_module": "@jupyter-widgets/output",
      "model_module_version": "1.0.0",
      "model_name": "OutputModel",
      "state": {
       "layout": "IPY_MODEL_973f3bd97dc14c3e88c1b9d319c7d5b9",
       "outputs": [
        {
         "name": "stdout",
         "output_type": "stream",
         "text": "Topos -07deg 49' 59.0\" N 110deg 22' 59.0\" E\nSum of 3 vectors:\n + Segment 'de421.bsp' 0 SOLAR SYSTEM BARYCENTER -> 3 EARTH BARYCENTER\n + Segment 'de421.bsp' 3 EARTH BARYCENTER -> 399 EARTH\n + Topos -07deg 49' 59.0\" N 110deg 22' 59.0\" E\n<Time tt=2458995.500800741> <Time tt=2459026.500800741>\n[(2020, 6, 21, 6, 41, 27.48125731945038)]\n"
        }
       ]
      }
     },
     "8aac686da4664bf9bb71e8c389d3b056": {
      "model_module": "@jupyter-widgets/controls",
      "model_module_version": "1.5.0",
      "model_name": "TextModel",
      "state": {
       "description": "Latitude:",
       "layout": "IPY_MODEL_c9eeb903c67445e292423d07745e5d39",
       "placeholder": "Type something",
       "style": "IPY_MODEL_92b4ad31bc3d4d508e68e774480baef7",
       "value": "7.83305556 S"
      }
     },
     "8c190c7ed2b541ed9e90fdb21f0fa817": {
      "model_module": "@jupyter-widgets/base",
      "model_module_version": "1.2.0",
      "model_name": "LayoutModel",
      "state": {}
     },
     "92b4ad31bc3d4d508e68e774480baef7": {
      "model_module": "@jupyter-widgets/controls",
      "model_module_version": "1.5.0",
      "model_name": "DescriptionStyleModel",
      "state": {
       "description_width": ""
      }
     },
     "973f3bd97dc14c3e88c1b9d319c7d5b9": {
      "model_module": "@jupyter-widgets/base",
      "model_module_version": "1.2.0",
      "model_name": "LayoutModel",
      "state": {}
     },
     "98ea6cb53b56441699612b0f4b2efc8a": {
      "model_module": "@jupyter-widgets/controls",
      "model_module_version": "1.5.0",
      "model_name": "DescriptionStyleModel",
      "state": {
       "description_width": ""
      }
     },
     "9b09976df01a445ab15aadcc6a2280db": {
      "model_module": "@jupyter-widgets/controls",
      "model_module_version": "1.5.0",
      "model_name": "TextModel",
      "state": {
       "description": "Longitude:",
       "layout": "IPY_MODEL_06f7aa1b2dec494b9b14441e61571286",
       "placeholder": "Type something",
       "style": "IPY_MODEL_b82d8d1e47b141da8423941ab341eb25",
       "value": "110.38305556 E"
      }
     },
     "9b813c7f4797416d9cfe49613c9149a6": {
      "model_module": "@jupyter-widgets/controls",
      "model_module_version": "1.5.0",
      "model_name": "TextModel",
      "state": {
       "description": "Longitude:",
       "layout": "IPY_MODEL_3d6c55054def41afaf60d873d11c8d5a",
       "placeholder": "Type something",
       "style": "IPY_MODEL_7fa5a777c2e44969826ffb77025bb4cb",
       "value": "110.38305556 E"
      }
     },
     "a453ce8b5039470e94a7c54a47942aae": {
      "model_module": "@jupyter-widgets/controls",
      "model_module_version": "1.5.0",
      "model_name": "DatePickerModel",
      "state": {
       "description": "Sampai:",
       "disabled": false,
       "layout": "IPY_MODEL_49170391c22d43a0bb8d5df1e99c7c46",
       "style": "IPY_MODEL_2d28e0a5b155400e94a80225131dfd63",
       "value": {
        "date": 26,
        "month": 5,
        "year": 2020
       }
      }
     },
     "a83cba4f55d04533918f68a9f93722ef": {
      "model_module": "@jupyter-widgets/base",
      "model_module_version": "1.2.0",
      "model_name": "LayoutModel",
      "state": {}
     },
     "ad4458854231469180de93bd173e55eb": {
      "model_module": "@jupyter-widgets/controls",
      "model_module_version": "1.5.0",
      "model_name": "DescriptionStyleModel",
      "state": {
       "description_width": ""
      }
     },
     "b82d8d1e47b141da8423941ab341eb25": {
      "model_module": "@jupyter-widgets/controls",
      "model_module_version": "1.5.0",
      "model_name": "DescriptionStyleModel",
      "state": {
       "description_width": ""
      }
     },
     "c1ed4e2aac1d47a7b1030c5ec3b285e8": {
      "model_module": "@jupyter-widgets/base",
      "model_module_version": "1.2.0",
      "model_name": "LayoutModel",
      "state": {}
     },
     "c24a0b3eea3d460585ee1f37d7101701": {
      "model_module": "@jupyter-widgets/controls",
      "model_module_version": "1.5.0",
      "model_name": "DatePickerModel",
      "state": {
       "description": "Dari:",
       "disabled": false,
       "layout": "IPY_MODEL_c8d27bb3f5f64c85b24d2268fc3a6361",
       "style": "IPY_MODEL_158ebeecc8274301bbca7c617cd59e27",
       "value": {
        "date": 26,
        "month": 4,
        "year": 2020
       }
      }
     },
     "c8d27bb3f5f64c85b24d2268fc3a6361": {
      "model_module": "@jupyter-widgets/base",
      "model_module_version": "1.2.0",
      "model_name": "LayoutModel",
      "state": {}
     },
     "c9df07ba035c4d118954b9ff89491776": {
      "model_module": "@jupyter-widgets/controls",
      "model_module_version": "1.5.0",
      "model_name": "DatePickerModel",
      "state": {
       "description": "Sampai:",
       "disabled": false,
       "layout": "IPY_MODEL_2c1719b84955433d92835edb3e39bb4b",
       "style": "IPY_MODEL_98ea6cb53b56441699612b0f4b2efc8a",
       "value": {
        "date": 26,
        "month": 5,
        "year": 2020
       }
      }
     },
     "c9eeb903c67445e292423d07745e5d39": {
      "model_module": "@jupyter-widgets/base",
      "model_module_version": "1.2.0",
      "model_name": "LayoutModel",
      "state": {}
     },
     "da020d422dbe4e95baf35002d82e60ab": {
      "model_module": "@jupyter-widgets/output",
      "model_module_version": "1.0.0",
      "model_name": "OutputModel",
      "state": {
       "layout": "IPY_MODEL_74331a96c11043e08fb3d72bf3b48586",
       "outputs": [
        {
         "name": "stdout",
         "output_type": "stream",
         "text": "Topos -07deg 49' 59.0\" N 110deg 22' 59.0\" E\nSum of 3 vectors:\n + Segment 'de421.bsp' 0 SOLAR SYSTEM BARYCENTER -> 3 EARTH BARYCENTER\n + Segment 'de421.bsp' 3 EARTH BARYCENTER -> 399 EARTH\n + Topos -07deg 49' 59.0\" N 110deg 22' 59.0\" E\n<Time tt=2458995.500800741> <Time tt=2459026.500800741>\n[(2020, 6, 21, 6, 41, 27.48125731945038)]\n"
        }
       ]
      }
     },
     "db902fd4a09f44a188e74258d18b632b": {
      "model_module": "@jupyter-widgets/base",
      "model_module_version": "1.2.0",
      "model_name": "LayoutModel",
      "state": {}
     },
     "dc4bc3c022044363955b7bf88977fca0": {
      "model_module": "@jupyter-widgets/controls",
      "model_module_version": "1.5.0",
      "model_name": "TextModel",
      "state": {
       "description": "Latitude:",
       "layout": "IPY_MODEL_5e56def16466495ab542dc5ad7c8c071",
       "placeholder": "Type something",
       "style": "IPY_MODEL_ad4458854231469180de93bd173e55eb",
       "value": "7.83305556 S"
      }
     },
     "e667fe250b824a12b10f63ecf533d8e6": {
      "model_module": "@jupyter-widgets/controls",
      "model_module_version": "1.5.0",
      "model_name": "DescriptionStyleModel",
      "state": {
       "description_width": ""
      }
     },
     "e92c1fa663494121bae6a3b0d1c5f4ef": {
      "model_module": "@jupyter-widgets/base",
      "model_module_version": "1.2.0",
      "model_name": "LayoutModel",
      "state": {}
     },
     "ea0f43bd53404a8faeae8cef53f27569": {
      "model_module": "@jupyter-widgets/controls",
      "model_module_version": "1.5.0",
      "model_name": "DescriptionStyleModel",
      "state": {
       "description_width": ""
      }
     },
     "ff2f7ce9d905476cba95f354a37020b2": {
      "model_module": "@jupyter-widgets/controls",
      "model_module_version": "1.5.0",
      "model_name": "VBoxModel",
      "state": {
       "_dom_classes": [
        "widget-interact"
       ],
       "children": [
        "IPY_MODEL_8aac686da4664bf9bb71e8c389d3b056",
        "IPY_MODEL_9b09976df01a445ab15aadcc6a2280db",
        "IPY_MODEL_c24a0b3eea3d460585ee1f37d7101701",
        "IPY_MODEL_a453ce8b5039470e94a7c54a47942aae",
        "IPY_MODEL_da020d422dbe4e95baf35002d82e60ab"
       ],
       "layout": "IPY_MODEL_6f36962c585f42ffa4027fcf6c8fe1a9"
      }
     }
    },
    "version_major": 2,
    "version_minor": 0
   }
  }
 },
 "nbformat": 4,
 "nbformat_minor": 4
}
