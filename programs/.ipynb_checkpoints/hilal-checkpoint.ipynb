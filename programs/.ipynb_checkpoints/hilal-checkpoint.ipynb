{
 "cells": [
  {
   "cell_type": "code",
   "execution_count": 4,
   "metadata": {},
   "outputs": [],
   "source": [
    "from skyfield.api import load, Topos\n",
    "from skyfield.units import Angle\n",
    "from skyfield import almanac\n",
    "from datetime import datetime, timedelta\n",
    "from pytz import timezone\n",
    "from ipywidgets import widgets, interact, interactive\n",
    "from IPython.display import display, HTML\n",
    "import calendar"
   ]
  },
  {
   "cell_type": "code",
   "execution_count": 5,
   "metadata": {},
   "outputs": [],
   "source": [
    "jkt = timezone('Asia/Jakarta')\n",
    "ts = load.timescale(builtin=True)\n",
    "e = load('de421.bsp')\n",
    "konj = []\n",
    "sunset = []"
   ]
  },
  {
   "cell_type": "code",
   "execution_count": null,
   "metadata": {},
   "outputs": [],
   "source": [
    "class var:\n",
    "    loc = None\n",
    "    "
   ]
  },
  {
   "cell_type": "code",
   "execution_count": 8,
   "metadata": {},
   "outputs": [],
   "source": [
    "def find(lat, long, t0, t1):\n",
    "    konj.clear\n",
    "    topo = Topos(lat, long)\n",
    "    var.loc = e['earth'] + topo\n",
    "    t0 = ts.utc(t0)\n",
    "    t1 = ts.utc(t1)\n",
    "    \n",
    "    f = almanac.oppositions_conjunctions(e, e['moon'])\n",
    "    t, y = almanac.find_discrete(t0, t1, f)\n",
    "    for ti, yi in zip(t, y):\n",
    "        if(yi == 1):\n",
    "            t = ti.utc\n",
    "            konj.append(t.astimezone(jkt))\n",
    "            \n",
    "            t0 = ts.utc(t[0], t[1], t[2], t[3], t[4], t[5])\n",
    "            t1 = ts.utc(t[0], t[1], t[2]+1, t[3], t[4], t[5])\n",
    "            t, y = almanac.find_discrete(t0, t1, almanac.sunrise_sunset(e, topo))\n",
    "            \n",
    "            for ti, yi in zip(t, y):\n",
    "                if(yi == True):\n",
    "                    t = ti.utc\n",
    "                    sunset.append(t.astimezonr(jkt))\n",
    "                    \n",
    "                    astroBulan = loc.at(t.utc(t[0], t[1], t[2], t[3], t[4], t[5])).observe(e['moon'])\n",
    "                    \n",
    "                    astroMatahari = loc.at(t.utc(t[0], t[1], t[2], t[3], t[4], t[5])).observe(e['sun'])\n",
    "                    \n",
    "                    \n",
    "            \n",
    "        else:\n",
    "            pass\n",
    "    print(t_konj)\n",
    "\n",
    "def getPos(obj, t):\n",
    "    t = t.utc\n",
    "    astrometric = var.loc.at(t.utc(t).observe(obj))\n",
    "    alt, az, d = astrometric.apparent().altaz()\n",
    "    return alt, az, d"
   ]
  },
  {
   "cell_type": "code",
   "execution_count": null,
   "metadata": {},
   "outputs": [],
   "source": [
    "lat = widgets.Text(\n",
    "    value='7.83305556 S',\n",
    "    placeholder='Type something',\n",
    "    description='Latitude:',\n",
    "    disabled=False\n",
    ")\n",
    "long = widgets.Text(\n",
    "    value='110.38305556 E',\n",
    "    placeholder='Type something',\n",
    "    description='Longitude:',\n",
    "    disabled=False\n",
    ")\n",
    "\n",
    "hari_ini = datetime.now().date()\n",
    "days_in_month = calendar.monthrange(hari_ini.year, hari_ini.month)[1]\n",
    "besok = hari_ini + timedelta(days_in_month)\n",
    "\n",
    "t0 = widgets.DatePicker(value=hari_ini,\n",
    "    description='Dari:',\n",
    "    disabled=False\n",
    ")\n",
    "t1 = widgets.DatePicker(value=besok,\n",
    "    description='Sampai:',\n",
    "    disabled=False\n",
    ")\n",
    "\n",
    "interact(find, lat=lat, long=long, t0=t0, t1=t1)"
   ]
  },
  {
   "cell_type": "code",
   "execution_count": null,
   "metadata": {},
   "outputs": [],
   "source": []
  },
  {
   "cell_type": "code",
   "execution_count": null,
   "metadata": {},
   "outputs": [],
   "source": []
  }
 ],
 "metadata": {
  "kernelspec": {
   "display_name": "Python 3",
   "language": "python",
   "name": "python3"
  },
  "language_info": {
   "codemirror_mode": {
    "name": "ipython",
    "version": 3
   },
   "file_extension": ".py",
   "mimetype": "text/x-python",
   "name": "python",
   "nbconvert_exporter": "python",
   "pygments_lexer": "ipython3",
   "version": "3.7.6"
  },
  "widgets": {
   "application/vnd.jupyter.widget-state+json": {
    "state": {
     "0664f6fb500f4256b6e0414ec2d4e6e2": {
      "model_module": "@jupyter-widgets/controls",
      "model_module_version": "1.5.0",
      "model_name": "DescriptionStyleModel",
      "state": {
       "description_width": ""
      }
     },
     "46e20683182f4022b455c28a0adade29": {
      "model_module": "@jupyter-widgets/output",
      "model_module_version": "1.0.0",
      "model_name": "OutputModel",
      "state": {
       "layout": "IPY_MODEL_9a926dbf7e864da09470bd27983708ce",
       "outputs": [
        {
         "name": "stdout",
         "output_type": "stream",
         "text": "Topos -03deg 49' 59.0\" N 110deg 22' 59.0\" E\nSum of 3 vectors:\n + Segment 'de421.bsp' 0 SOLAR SYSTEM BARYCENTER -> 3 EARTH BARYCENTER\n + Segment 'de421.bsp' 3 EARTH BARYCENTER -> 399 EARTH\n + Topos -03deg 49' 59.0\" N 110deg 22' 59.0\" E\n<Time tt=2458998.500800741> <Time tt=2459029.500800741>\n[(2020, 6, 21, 6, 41, 27.48125731945038)]\n"
        }
       ]
      }
     },
     "55a7b5b57ce9459b9f60e69bf9fd1ee5": {
      "model_module": "@jupyter-widgets/controls",
      "model_module_version": "1.5.0",
      "model_name": "DatePickerModel",
      "state": {
       "description": "Sampai:",
       "disabled": false,
       "layout": "IPY_MODEL_b1fe78d8cb5149e28161ecb96503cd04",
       "style": "IPY_MODEL_87a92c7dc8f54e5e8f168c42edfb79d1",
       "value": {
        "date": 29,
        "month": 5,
        "year": 2020
       }
      }
     },
     "59fe81b68c9f481e9dace1790aa172b4": {
      "model_module": "@jupyter-widgets/controls",
      "model_module_version": "1.5.0",
      "model_name": "DescriptionStyleModel",
      "state": {
       "description_width": ""
      }
     },
     "5fd934a23b364606851db7e60e327878": {
      "model_module": "@jupyter-widgets/controls",
      "model_module_version": "1.5.0",
      "model_name": "VBoxModel",
      "state": {
       "_dom_classes": [
        "widget-interact"
       ],
       "children": [
        "IPY_MODEL_bb5eba6cb5b747a59c92bd15b04313fb",
        "IPY_MODEL_d82a482bf28e4f3b8536f99a76c11f43",
        "IPY_MODEL_a2852475a7464602ae95cec6a31bb09f",
        "IPY_MODEL_55a7b5b57ce9459b9f60e69bf9fd1ee5",
        "IPY_MODEL_46e20683182f4022b455c28a0adade29"
       ],
       "layout": "IPY_MODEL_eaa4721e40c146a38ff3f308456515d2"
      }
     },
     "87a92c7dc8f54e5e8f168c42edfb79d1": {
      "model_module": "@jupyter-widgets/controls",
      "model_module_version": "1.5.0",
      "model_name": "DescriptionStyleModel",
      "state": {
       "description_width": ""
      }
     },
     "9a926dbf7e864da09470bd27983708ce": {
      "model_module": "@jupyter-widgets/base",
      "model_module_version": "1.2.0",
      "model_name": "LayoutModel",
      "state": {}
     },
     "a2852475a7464602ae95cec6a31bb09f": {
      "model_module": "@jupyter-widgets/controls",
      "model_module_version": "1.5.0",
      "model_name": "DatePickerModel",
      "state": {
       "description": "Dari:",
       "disabled": false,
       "layout": "IPY_MODEL_ed0d455066894c77ba47e901269e055b",
       "style": "IPY_MODEL_59fe81b68c9f481e9dace1790aa172b4",
       "value": {
        "date": 29,
        "month": 4,
        "year": 2020
       }
      }
     },
     "a7b117f0e05c4214b9994fe6938ea290": {
      "model_module": "@jupyter-widgets/base",
      "model_module_version": "1.2.0",
      "model_name": "LayoutModel",
      "state": {}
     },
     "b1fe78d8cb5149e28161ecb96503cd04": {
      "model_module": "@jupyter-widgets/base",
      "model_module_version": "1.2.0",
      "model_name": "LayoutModel",
      "state": {}
     },
     "b2ec34a2c6af46038dc5206170b4b33f": {
      "model_module": "@jupyter-widgets/base",
      "model_module_version": "1.2.0",
      "model_name": "LayoutModel",
      "state": {}
     },
     "bb5eba6cb5b747a59c92bd15b04313fb": {
      "model_module": "@jupyter-widgets/controls",
      "model_module_version": "1.5.0",
      "model_name": "TextModel",
      "state": {
       "description": "Latitude:",
       "layout": "IPY_MODEL_a7b117f0e05c4214b9994fe6938ea290",
       "placeholder": "Type something",
       "style": "IPY_MODEL_bfa85e34a0e5492e83b148e1b667d466",
       "value": "3.83305556 S"
      }
     },
     "bfa85e34a0e5492e83b148e1b667d466": {
      "model_module": "@jupyter-widgets/controls",
      "model_module_version": "1.5.0",
      "model_name": "DescriptionStyleModel",
      "state": {
       "description_width": ""
      }
     },
     "d82a482bf28e4f3b8536f99a76c11f43": {
      "model_module": "@jupyter-widgets/controls",
      "model_module_version": "1.5.0",
      "model_name": "TextModel",
      "state": {
       "description": "Longitude:",
       "layout": "IPY_MODEL_b2ec34a2c6af46038dc5206170b4b33f",
       "placeholder": "Type something",
       "style": "IPY_MODEL_0664f6fb500f4256b6e0414ec2d4e6e2",
       "value": "110.38305556 E"
      }
     },
     "eaa4721e40c146a38ff3f308456515d2": {
      "model_module": "@jupyter-widgets/base",
      "model_module_version": "1.2.0",
      "model_name": "LayoutModel",
      "state": {}
     },
     "ed0d455066894c77ba47e901269e055b": {
      "model_module": "@jupyter-widgets/base",
      "model_module_version": "1.2.0",
      "model_name": "LayoutModel",
      "state": {}
     }
    },
    "version_major": 2,
    "version_minor": 0
   }
  }
 },
 "nbformat": 4,
 "nbformat_minor": 4
}
