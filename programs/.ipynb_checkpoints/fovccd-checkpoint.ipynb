{
 "cells": [
  {
   "cell_type": "markdown",
   "metadata": {},
   "source": [
    "# Menghitung Field of View CCD Teleskop"
   ]
  },
  {
   "cell_type": "code",
   "execution_count": 1,
   "metadata": {},
   "outputs": [],
   "source": [
    "# nbi:hide_in\n",
    "# _jengkolrebus\n",
    "# Curup, Bengkulu\n",
    "# Juni 2020"
   ]
  },
  {
   "cell_type": "markdown",
   "metadata": {},
   "source": [
    "### Rumus yang digunakan\n",
    "\n",
    "<img src=\"rumus.png\">\n",
    "<em>sumber: <a href=\"http://www.astrosurf.com/luxorion/report-formulae.htm\">Astrosurf.com</a></em>\n",
    "<p>Ukuran sensor dan panjang fokus dalam milimeter (mm).</p>"
   ]
  },
  {
   "cell_type": "code",
   "execution_count": 2,
   "metadata": {},
   "outputs": [],
   "source": [
    "# nbi:hide_in\n",
    "from ipywidgets import widgets, interactive"
   ]
  },
  {
   "cell_type": "code",
   "execution_count": 3,
   "metadata": {},
   "outputs": [],
   "source": [
    "# nbi:hide_in\n",
    "xsensor = widgets.FloatText(value='8.6', description='Sensor X: ')\n",
    "ysensor = widgets.FloatText(value='6.80', description='Sensor Y: ')\n",
    "fTele = widgets.IntText(value='900', description='F Teleskop: ')\n",
    "\n",
    "def fov(x, y, f):\n",
    "    xfov = (x/f)*3438\n",
    "    yfov = (y/f)*3438\n",
    "#     print('FoV CCD:')\n",
    "#     print(xfov, 'x', yfov, 'arcminutes')\n",
    "    \n",
    "    xfov = xfov/60\n",
    "    yfov = yfov/60\n",
    "#     print(xfov, 'x', yfov, 'derajat')\n",
    "    \n",
    "    xdeg = int(xfov)\n",
    "    xm = (xfov-xdeg)*60\n",
    "    xs = (xm-int(xm))*60\n",
    "    ydeg = int(yfov)\n",
    "    ym = (yfov-ydeg)*60\n",
    "    ys = (ym-int(ym))*60\n",
    "    \n",
    "    print('FoV CCD: '+str(xdeg)+u\"\\N{DEGREE SIGN}\"+str(int(xm))+\"\\'\"+\"{:.2f}\".format(xs)+\"\\\"\", end=' x ')\n",
    "    print(str(ydeg)+u\"\\N{DEGREE SIGN}\"+str(int(ym))+\"\\'\"+\"{:.2f}\".format(ys)+\"\\\"\")\n",
    "\n"
   ]
  },
  {
   "cell_type": "code",
   "execution_count": 4,
   "metadata": {},
   "outputs": [
    {
     "data": {
      "application/vnd.jupyter.widget-view+json": {
       "model_id": "5a531c3d314e4cb9be5bd992c51159c5",
       "version_major": 2,
       "version_minor": 0
      },
      "text/plain": [
       "interactive(children=(FloatText(value=8.6, description='Sensor X: '), FloatText(value=6.8, description='Sensor…"
      ]
     },
     "metadata": {},
     "output_type": "display_data"
    }
   ],
   "source": [
    "# nbi:hide_in\n",
    "interactive(fov, x=xsensor, y=ysensor, f=fTele)"
   ]
  }
 ],
 "metadata": {
  "kernelspec": {
   "display_name": "Python 3",
   "language": "python",
   "name": "python3"
  },
  "language_info": {
   "codemirror_mode": {
    "name": "ipython",
    "version": 3
   },
   "file_extension": ".py",
   "mimetype": "text/x-python",
   "name": "python",
   "nbconvert_exporter": "python",
   "pygments_lexer": "ipython3",
   "version": "3.7.6"
  },
  "widgets": {
   "application/vnd.jupyter.widget-state+json": {
    "state": {
     "04c48864381f48e686fa77753ecd8eb5": {
      "model_module": "@jupyter-widgets/controls",
      "model_module_version": "1.5.0",
      "model_name": "FloatTextModel",
      "state": {
       "description": "Sensor Y: ",
       "layout": "IPY_MODEL_741c61707b5e497a9f7d810d06e6e723",
       "step": null,
       "style": "IPY_MODEL_a9916e42afd24aabb01c26ced942fd30",
       "value": 6.8
      }
     },
     "17d127e787b14d6a984f4c0cee2ce8bd": {
      "model_module": "@jupyter-widgets/controls",
      "model_module_version": "1.5.0",
      "model_name": "DescriptionStyleModel",
      "state": {
       "description_width": ""
      }
     },
     "1ab608a36cef45759601c9037270283d": {
      "model_module": "@jupyter-widgets/controls",
      "model_module_version": "1.5.0",
      "model_name": "DescriptionStyleModel",
      "state": {
       "description_width": ""
      }
     },
     "42fc21990aba461fa3a7a268afd37f93": {
      "model_module": "@jupyter-widgets/base",
      "model_module_version": "1.2.0",
      "model_name": "LayoutModel",
      "state": {}
     },
     "5a531c3d314e4cb9be5bd992c51159c5": {
      "model_module": "@jupyter-widgets/controls",
      "model_module_version": "1.5.0",
      "model_name": "VBoxModel",
      "state": {
       "_dom_classes": [
        "widget-interact"
       ],
       "children": [
        "IPY_MODEL_e12a00b8c4b444ea876045bbc0b0a121",
        "IPY_MODEL_04c48864381f48e686fa77753ecd8eb5",
        "IPY_MODEL_d6c7b02821df4124abe24f8d4c618083",
        "IPY_MODEL_fccdd2a2bff740c0b7f590768bf8ea4e"
       ],
       "layout": "IPY_MODEL_78b28a668d1e4a14bcb483cd20e315dc"
      }
     },
     "5fb4a5f6bcd94b2194afc56f32e1077c": {
      "model_module": "@jupyter-widgets/base",
      "model_module_version": "1.2.0",
      "model_name": "LayoutModel",
      "state": {}
     },
     "741c61707b5e497a9f7d810d06e6e723": {
      "model_module": "@jupyter-widgets/base",
      "model_module_version": "1.2.0",
      "model_name": "LayoutModel",
      "state": {}
     },
     "78b28a668d1e4a14bcb483cd20e315dc": {
      "model_module": "@jupyter-widgets/base",
      "model_module_version": "1.2.0",
      "model_name": "LayoutModel",
      "state": {}
     },
     "8848e3208cd0433cb053a2c5563b9c67": {
      "model_module": "@jupyter-widgets/base",
      "model_module_version": "1.2.0",
      "model_name": "LayoutModel",
      "state": {}
     },
     "a9916e42afd24aabb01c26ced942fd30": {
      "model_module": "@jupyter-widgets/controls",
      "model_module_version": "1.5.0",
      "model_name": "DescriptionStyleModel",
      "state": {
       "description_width": ""
      }
     },
     "d6c7b02821df4124abe24f8d4c618083": {
      "model_module": "@jupyter-widgets/controls",
      "model_module_version": "1.5.0",
      "model_name": "IntTextModel",
      "state": {
       "description": "F Teleskop: ",
       "layout": "IPY_MODEL_5fb4a5f6bcd94b2194afc56f32e1077c",
       "step": 1,
       "style": "IPY_MODEL_17d127e787b14d6a984f4c0cee2ce8bd",
       "value": 900
      }
     },
     "e12a00b8c4b444ea876045bbc0b0a121": {
      "model_module": "@jupyter-widgets/controls",
      "model_module_version": "1.5.0",
      "model_name": "FloatTextModel",
      "state": {
       "description": "Sensor X: ",
       "layout": "IPY_MODEL_8848e3208cd0433cb053a2c5563b9c67",
       "step": null,
       "style": "IPY_MODEL_1ab608a36cef45759601c9037270283d",
       "value": 8.6
      }
     },
     "fccdd2a2bff740c0b7f590768bf8ea4e": {
      "model_module": "@jupyter-widgets/output",
      "model_module_version": "1.0.0",
      "model_name": "OutputModel",
      "state": {
       "layout": "IPY_MODEL_42fc21990aba461fa3a7a268afd37f93",
       "outputs": [
        {
         "name": "stdout",
         "output_type": "stream",
         "text": "FoV CCD: 0°32'51.12\" x 0°25'58.56\"\n"
        }
       ]
      }
     }
    },
    "version_major": 2,
    "version_minor": 0
   }
  }
 },
 "nbformat": 4,
 "nbformat_minor": 4
}
