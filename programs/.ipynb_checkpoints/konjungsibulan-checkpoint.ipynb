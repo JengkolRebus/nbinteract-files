{
 "cells": [
  {
   "cell_type": "markdown",
   "metadata": {
    "extensions": {
     "jupyter_dashboards": {
      "version": 1,
      "views": {
       "grid_default": {},
       "report_default": {
        "hidden": false
       }
      }
     }
    }
   },
   "source": [
    "# Menampilkan Waktu & Posisi Hilal dari Suatu Tempat"
   ]
  },
  {
   "cell_type": "code",
   "execution_count": 1,
   "metadata": {
    "extensions": {
     "jupyter_dashboards": {
      "version": 1,
      "views": {
       "grid_default": {},
       "report_default": {
        "hidden": true
       }
      }
     }
    }
   },
   "outputs": [],
   "source": [
    "# @_jengkolrebus\n",
    "# Curup, Bengkulu\n",
    "# Mei 2020"
   ]
  },
  {
   "cell_type": "code",
   "execution_count": 2,
   "metadata": {
    "extensions": {
     "jupyter_dashboards": {
      "version": 1,
      "views": {
       "grid_default": {},
       "report_default": {
        "hidden": true
       }
      }
     }
    }
   },
   "outputs": [],
   "source": [
    "from skyfield.api import load, Topos\n",
    "from skyfield import almanac\n",
    "from datetime import datetime, timedelta\n",
    "from pytz import timezone\n",
    "from ipywidgets import interact\n",
    "from ipywidgets import widgets as wg\n",
    "import calendar\n",
    "import pandas as pd\n",
    "from IPython.display import display, HTML"
   ]
  },
  {
   "cell_type": "code",
   "execution_count": 3,
   "metadata": {
    "extensions": {
     "jupyter_dashboards": {
      "version": 1,
      "views": {
       "grid_default": {},
       "report_default": {
        "hidden": true
       }
      }
     }
    }
   },
   "outputs": [],
   "source": [
    "conj = []\n",
    "sunset = []\n",
    "bulan_alt = []\n",
    "bulan_az = []\n",
    "matahari_alt = []\n",
    "matahari_az = []\n",
    "\n",
    "\n",
    "jkt = timezone('Asia/Jakarta')\n",
    "ts = load.timescale()\n",
    "e = load('de421.bsp')    # ephemeris\n",
    "\n",
    "bulan = e['moon']\n",
    "bumi = e['earth']\n",
    "lat='7.83305556 S'\n",
    "long='110.38305556 E'\n",
    "\n",
    "obsUAD = Topos(lat, long)\n",
    "loc = bumi + obsUAD"
   ]
  },
  {
   "cell_type": "code",
   "execution_count": 8,
   "metadata": {},
   "outputs": [],
   "source": [
    "class var:\n",
    "    bulan = e['moon']\n",
    "    bumi = e['earth']\n",
    "    def __init__ (self, loc):\n",
    "        self.loc = loc\n",
    "        \n",
    "loc = obsUAD + var.bumi"
   ]
  },
  {
   "cell_type": "code",
   "execution_count": 9,
   "metadata": {
    "extensions": {
     "jupyter_dashboards": {
      "version": 1,
      "views": {
       "grid_default": {},
       "report_default": {
        "hidden": true
       }
      }
     }
    }
   },
   "outputs": [],
   "source": [
    "def getTopos(Latitude, Longitude):\n",
    "    global obsUAD\n",
    "    lat=Latitude\n",
    "    long=Longitude\n",
    "    obsUAD = Topos(lat, long)\n",
    "    loc = obsUAD + var.bumi\n",
    "    a = var(loc)\n",
    "    interact(konjungsi, t0=dari, t1=sampai)\n",
    "\n",
    "# fungsi mendapatkan waktu konjungsi\n",
    "\n",
    "def konjungsi(t0, t1):\n",
    "    conj.clear()\n",
    "    sunset.clear()\n",
    "    bulan_alt.clear()\n",
    "    bulan_az.clear()\n",
    "    matahari_alt.clear()\n",
    "    matahari_az.clear()\n",
    "    t0 = ts.utc(t0)\n",
    "    t1 = ts.utc(t1)\n",
    "    f = almanac.oppositions_conjunctions(e, bulan)\n",
    "    t, y = almanac.find_discrete(t0, t1, f)\n",
    "\n",
    "    for ti, yi in zip(t, y):\n",
    "        if (yi==1):\n",
    "            conj.append(ti.astimezone(jkt))\n",
    "            t = ti.utc\n",
    "            t0 = ts.utc(t[0], t[1], t[2], t[3], t[4], t[5])\n",
    "            t1 = ts.utc(t[0], t[1], t[2]+1, t[3], t[4], t[5])\n",
    "            t_rs, y_rs = almanac.find_discrete(t0, t1, almanac.sunrise_sunset(e, obsUAD))\n",
    "            for t_sun, y_sun in zip(t_rs, y_rs):\n",
    "                if (y_sun == False):\n",
    "                    loc = a.loc\n",
    "                    sunset.append(t_sun.astimezone(jkt))\n",
    "                    t = t_sun.utc\n",
    "    \n",
    "                    astrometrik_bulan = loc.at(ts.utc(t[0], t[1], t[2], t[3], t[4], t[5])).observe(var.bulan)\n",
    "                    astrometrik_matahari = loc.at(ts.utc(t[0], t[1], t[2], t[3], t[4], t[5])).observe(e['sun'])\n",
    "\n",
    "                    alt_bulan, az_bulan, jarak_bulan = astrometrik_bulan.apparent().altaz()\n",
    "                    alt_matahari, az_matahari, jarak_matahari = astrometrik_matahari.apparent().altaz()\n",
    "\n",
    "                    bulan_alt.append(alt_bulan)\n",
    "                    bulan_az.append(az_bulan)\n",
    "                    matahari_alt.append(alt_matahari)\n",
    "                    matahari_az.append(az_matahari)\n",
    "                    \n",
    "#                     tabel = list(zip(conj, sunset, bulan_alt, bulan_az, matahari_alt, matahari_az))\n",
    "#                     df = pd.DataFrame(tabel, columns=['Waktu Konjungsi (UTC+07)', 'Waktu Hilal (UTC+07)', 'Altitude Bulan', 'Azimuth Bulan', 'Altitude Matahari', 'Azimuth Matahari'])\n",
    "#                     df\n",
    "                    \n",
    "                else:\n",
    "                    pass\n",
    "            \n",
    "            \n",
    "        else:\n",
    "            pass\n",
    "        \n",
    "    #data(conj, sunset, bulan_alt, bulan_az, matahari_alt, matahari_az)\n",
    "    tabel = list(zip(conj, sunset, bulan_alt, bulan_az, matahari_alt, matahari_az))\n",
    "    df = pd.DataFrame(tabel, columns=['Waktu Konjungsi (UTC+07)', 'Waktu Hilal (UTC+07)', 'Altitude Bulan', 'Azimuth Bulan', 'Altitude Matahari', 'Azimuth Matahari'])\n",
    "    df.index+=1\n",
    "    display(df)"
   ]
  },
  {
   "cell_type": "code",
   "execution_count": 10,
   "metadata": {
    "extensions": {
     "jupyter_dashboards": {
      "version": 1,
      "views": {
       "grid_default": {},
       "report_default": {
        "hidden": false
       }
      }
     }
    }
   },
   "outputs": [
    {
     "data": {
      "application/vnd.jupyter.widget-view+json": {
       "model_id": "241415b910dd4ff0a827f50d7a62c22c",
       "version_major": 2,
       "version_minor": 0
      },
      "text/plain": [
       "interactive(children=(Text(value='7.83305556 S', description='Latitude'), Text(value='110.38305556 E', descrip…"
      ]
     },
     "metadata": {},
     "output_type": "display_data"
    },
    {
     "data": {
      "text/plain": [
       "<function __main__.getTopos(Latitude, Longitude)>"
      ]
     },
     "execution_count": 10,
     "metadata": {},
     "output_type": "execute_result"
    }
   ],
   "source": [
    "# wg.interact(getLat, Latitude='7.83305556 S')\n",
    "# wg.interact(getLong, Longitude='110.38305556 E')\n",
    "\n",
    "hari_ini = datetime.now().date()\n",
    "days_in_month = calendar.monthrange(hari_ini.year, hari_ini.month)[1]\n",
    "besok = hari_ini + timedelta(days_in_month)\n",
    "\n",
    "dari = wg.DatePicker(value=hari_ini,\n",
    "    description='Dari:',\n",
    "    disabled=False\n",
    ")\n",
    "sampai = wg.DatePicker(value=besok,\n",
    "    description='Sampai:',\n",
    "    disabled=False\n",
    ")\n",
    "\n",
    "interact(getTopos, Latitude='7.83305556 S', Longitude='110.38305556 E')\n",
    "#interact(konjungsi, t0=dari, t1=sampai)"
   ]
  },
  {
   "cell_type": "code",
   "execution_count": null,
   "metadata": {},
   "outputs": [],
   "source": []
  }
 ],
 "metadata": {
  "extensions": {
   "jupyter_dashboards": {
    "activeView": "grid_default",
    "version": 1,
    "views": {
     "grid_default": {
      "cellMargin": 10,
      "defaultCellHeight": 20,
      "maxColumns": 12,
      "name": "grid",
      "type": "grid"
     },
     "report_default": {
      "name": "report",
      "type": "report"
     }
    }
   }
  },
  "kernelspec": {
   "display_name": "Python 3",
   "language": "python",
   "name": "python3"
  },
  "language_info": {
   "codemirror_mode": {
    "name": "ipython",
    "version": 3
   },
   "file_extension": ".py",
   "mimetype": "text/x-python",
   "name": "python",
   "nbconvert_exporter": "python",
   "pygments_lexer": "ipython3",
   "version": "3.7.6"
  },
  "widgets": {
   "application/vnd.jupyter.widget-state+json": {
    "state": {
     "00d940c3383d40ac9045377b0a356443": {
      "model_module": "@jupyter-widgets/controls",
      "model_module_version": "1.5.0",
      "model_name": "DescriptionStyleModel",
      "state": {
       "description_width": ""
      }
     },
     "01a9600a503449019cc7e721e44952a9": {
      "model_module": "@jupyter-widgets/controls",
      "model_module_version": "1.5.0",
      "model_name": "DescriptionStyleModel",
      "state": {
       "description_width": ""
      }
     },
     "05ead49d66824d21988e89701ae51ffe": {
      "model_module": "@jupyter-widgets/controls",
      "model_module_version": "1.5.0",
      "model_name": "VBoxModel",
      "state": {
       "_dom_classes": [
        "widget-interact"
       ],
       "children": [
        "IPY_MODEL_af6aa49418864104a988feb2c2e7c329",
        "IPY_MODEL_fbe3494e12be43888f0cd40ca7d779e4",
        "IPY_MODEL_acc37b84c73a4ae3a83bdef37219fa90"
       ],
       "layout": "IPY_MODEL_2e111327b5af4f4f9e22bb4c0a3570b5"
      }
     },
     "09d2de37f67645e88d185c36c0177603": {
      "model_module": "@jupyter-widgets/base",
      "model_module_version": "1.2.0",
      "model_name": "LayoutModel",
      "state": {}
     },
     "0dc70c31ae474151adf186c02e184b48": {
      "model_module": "@jupyter-widgets/base",
      "model_module_version": "1.2.0",
      "model_name": "LayoutModel",
      "state": {}
     },
     "17001f8c8f734dfb894b1f1efd67a0a7": {
      "model_module": "@jupyter-widgets/base",
      "model_module_version": "1.2.0",
      "model_name": "LayoutModel",
      "state": {}
     },
     "1cddf0f1df994247983378b81a0b3e0e": {
      "model_module": "@jupyter-widgets/controls",
      "model_module_version": "1.5.0",
      "model_name": "DescriptionStyleModel",
      "state": {
       "description_width": ""
      }
     },
     "1e2d46dfb6aa46a8a9e0876a49726ef4": {
      "model_module": "@jupyter-widgets/base",
      "model_module_version": "1.2.0",
      "model_name": "LayoutModel",
      "state": {}
     },
     "1ea3eddf8b844c48a2462fa1b86b67d2": {
      "model_module": "@jupyter-widgets/base",
      "model_module_version": "1.2.0",
      "model_name": "LayoutModel",
      "state": {}
     },
     "22a71bbe156541a799b15fbb33f906e6": {
      "model_module": "@jupyter-widgets/controls",
      "model_module_version": "1.5.0",
      "model_name": "DatePickerModel",
      "state": {
       "description": "Dari:",
       "disabled": false,
       "layout": "IPY_MODEL_6fcf4ea894be4c078f598891e105344f",
       "style": "IPY_MODEL_84cdcb87b9cd42b4abf6611886ae4f75",
       "value": {
        "date": 15,
        "month": 11,
        "year": 2019
       }
      }
     },
     "253b963ae568461bbe8e15a69b518e95": {
      "model_module": "@jupyter-widgets/controls",
      "model_module_version": "1.5.0",
      "model_name": "DescriptionStyleModel",
      "state": {
       "description_width": ""
      }
     },
     "25f723092070449b9915cc6947119e32": {
      "model_module": "@jupyter-widgets/controls",
      "model_module_version": "1.5.0",
      "model_name": "VBoxModel",
      "state": {
       "_dom_classes": [
        "widget-interact"
       ],
       "children": [
        "IPY_MODEL_a791e4cf57254ec1aaf98909888034d3",
        "IPY_MODEL_55e6a559164e49c4a28e0cb14081766a",
        "IPY_MODEL_db25b55dfb3e440b8c81d2f310311591"
       ],
       "layout": "IPY_MODEL_46c05eba98664544bead8986e2bf7e34"
      }
     },
     "274ef9e54e6b42bb9ede9e1daa42db03": {
      "model_module": "@jupyter-widgets/controls",
      "model_module_version": "1.5.0",
      "model_name": "DescriptionStyleModel",
      "state": {
       "description_width": ""
      }
     },
     "2e111327b5af4f4f9e22bb4c0a3570b5": {
      "model_module": "@jupyter-widgets/base",
      "model_module_version": "1.2.0",
      "model_name": "LayoutModel",
      "state": {}
     },
     "38d6f56c13bc45b6b12e0edc007a9749": {
      "model_module": "@jupyter-widgets/controls",
      "model_module_version": "1.5.0",
      "model_name": "DatePickerModel",
      "state": {
       "description": "Sampai:",
       "disabled": false,
       "layout": "IPY_MODEL_63ac6278b95a429a87134c785ffd6b75",
       "style": "IPY_MODEL_e6e0d29b03e6405eb8d06e759e5286b3",
       "value": {
        "date": 18,
        "month": 5,
        "year": 2020
       }
      }
     },
     "40655edeaecf45d18ce8c252ee7cd4f4": {
      "model_module": "@jupyter-widgets/base",
      "model_module_version": "1.2.0",
      "model_name": "LayoutModel",
      "state": {}
     },
     "46c05eba98664544bead8986e2bf7e34": {
      "model_module": "@jupyter-widgets/base",
      "model_module_version": "1.2.0",
      "model_name": "LayoutModel",
      "state": {}
     },
     "48fb7eaa073740e1b953f886422015f0": {
      "model_module": "@jupyter-widgets/controls",
      "model_module_version": "1.5.0",
      "model_name": "DatePickerModel",
      "state": {
       "description": "Dari:",
       "disabled": false,
       "layout": "IPY_MODEL_4a67227f65404c219804070571345b5c",
       "style": "IPY_MODEL_82445226d82b4175ae52a97f564c84eb",
       "value": {
        "date": 18,
        "month": 4,
        "year": 2020
       }
      }
     },
     "4a67227f65404c219804070571345b5c": {
      "model_module": "@jupyter-widgets/base",
      "model_module_version": "1.2.0",
      "model_name": "LayoutModel",
      "state": {}
     },
     "55e6a559164e49c4a28e0cb14081766a": {
      "model_module": "@jupyter-widgets/controls",
      "model_module_version": "1.5.0",
      "model_name": "DatePickerModel",
      "state": {
       "description": "Sampai:",
       "disabled": false,
       "layout": "IPY_MODEL_b10acd96d5964c98948b236d956be089",
       "style": "IPY_MODEL_98008573e2dd4199b519cd7a103fdda7",
       "value": {
        "date": 18,
        "month": 5,
        "year": 2020
       }
      }
     },
     "572d2e3781824acb852d51bb7851bc9f": {
      "model_module": "@jupyter-widgets/base",
      "model_module_version": "1.2.0",
      "model_name": "LayoutModel",
      "state": {}
     },
     "58bbbc0fb4ff4a31bfe0406de9058900": {
      "model_module": "@jupyter-widgets/controls",
      "model_module_version": "1.5.0",
      "model_name": "DescriptionStyleModel",
      "state": {
       "description_width": ""
      }
     },
     "5a6f5ed616384283a2f6425411a6e1c8": {
      "model_module": "@jupyter-widgets/controls",
      "model_module_version": "1.5.0",
      "model_name": "DatePickerModel",
      "state": {
       "description": "Dari:",
       "disabled": false,
       "layout": "IPY_MODEL_1ea3eddf8b844c48a2462fa1b86b67d2",
       "style": "IPY_MODEL_7842b1f3603f44a9b418353c9b4d7df5",
       "value": {
        "date": 18,
        "month": 4,
        "year": 2020
       }
      }
     },
     "5c75e0f7ea6641b2807e788ca7ce63e0": {
      "model_module": "@jupyter-widgets/base",
      "model_module_version": "1.2.0",
      "model_name": "LayoutModel",
      "state": {}
     },
     "61c0de9875134ecc933f89119af56500": {
      "model_module": "@jupyter-widgets/controls",
      "model_module_version": "1.5.0",
      "model_name": "VBoxModel",
      "state": {
       "_dom_classes": [
        "widget-interact"
       ],
       "children": [
        "IPY_MODEL_5a6f5ed616384283a2f6425411a6e1c8",
        "IPY_MODEL_a2649188888249b7b27d3a8de4e62ff4",
        "IPY_MODEL_d215227d39594b949b2f0931be5f0fd3"
       ],
       "layout": "IPY_MODEL_572d2e3781824acb852d51bb7851bc9f"
      }
     },
     "63ac6278b95a429a87134c785ffd6b75": {
      "model_module": "@jupyter-widgets/base",
      "model_module_version": "1.2.0",
      "model_name": "LayoutModel",
      "state": {}
     },
     "6565f1ec9b0c43bbae899df3d1296d28": {
      "model_module": "@jupyter-widgets/controls",
      "model_module_version": "1.5.0",
      "model_name": "DescriptionStyleModel",
      "state": {
       "description_width": ""
      }
     },
     "656fed733cd443d6a270c8af42516468": {
      "model_module": "@jupyter-widgets/base",
      "model_module_version": "1.2.0",
      "model_name": "LayoutModel",
      "state": {}
     },
     "67cd7d28be6742df8c79f5e0c0214195": {
      "model_module": "@jupyter-widgets/controls",
      "model_module_version": "1.5.0",
      "model_name": "DescriptionStyleModel",
      "state": {
       "description_width": ""
      }
     },
     "67f835b715d241388fff1b4d87152990": {
      "model_module": "@jupyter-widgets/base",
      "model_module_version": "1.2.0",
      "model_name": "LayoutModel",
      "state": {}
     },
     "6fcf4ea894be4c078f598891e105344f": {
      "model_module": "@jupyter-widgets/base",
      "model_module_version": "1.2.0",
      "model_name": "LayoutModel",
      "state": {}
     },
     "71b86fe0b5e84802ade1ec0d40ff4dfd": {
      "model_module": "@jupyter-widgets/base",
      "model_module_version": "1.2.0",
      "model_name": "LayoutModel",
      "state": {}
     },
     "75511c83e3af4f7090045a336734f762": {
      "model_module": "@jupyter-widgets/controls",
      "model_module_version": "1.5.0",
      "model_name": "DescriptionStyleModel",
      "state": {
       "description_width": ""
      }
     },
     "7842b1f3603f44a9b418353c9b4d7df5": {
      "model_module": "@jupyter-widgets/controls",
      "model_module_version": "1.5.0",
      "model_name": "DescriptionStyleModel",
      "state": {
       "description_width": ""
      }
     },
     "7b0c800297f44a5687ae36b0c33f0b4f": {
      "model_module": "@jupyter-widgets/base",
      "model_module_version": "1.2.0",
      "model_name": "LayoutModel",
      "state": {}
     },
     "7f560176aef74b18a7ef515217ad5873": {
      "model_module": "@jupyter-widgets/controls",
      "model_module_version": "1.5.0",
      "model_name": "DatePickerModel",
      "state": {
       "description": "Dari:",
       "disabled": false,
       "layout": "IPY_MODEL_9a1d6d901d8844cdaf4c030e0de7b13a",
       "style": "IPY_MODEL_67cd7d28be6742df8c79f5e0c0214195",
       "value": {
        "date": 18,
        "month": 4,
        "year": 2020
       }
      }
     },
     "82445226d82b4175ae52a97f564c84eb": {
      "model_module": "@jupyter-widgets/controls",
      "model_module_version": "1.5.0",
      "model_name": "DescriptionStyleModel",
      "state": {
       "description_width": ""
      }
     },
     "827c3f36a9f14bac8187b81200bf55b3": {
      "model_module": "@jupyter-widgets/base",
      "model_module_version": "1.2.0",
      "model_name": "LayoutModel",
      "state": {}
     },
     "84cdcb87b9cd42b4abf6611886ae4f75": {
      "model_module": "@jupyter-widgets/controls",
      "model_module_version": "1.5.0",
      "model_name": "DescriptionStyleModel",
      "state": {
       "description_width": ""
      }
     },
     "8a5c2ab4781740e194bc55a83935d9ed": {
      "model_module": "@jupyter-widgets/controls",
      "model_module_version": "1.5.0",
      "model_name": "VBoxModel",
      "state": {
       "_dom_classes": [
        "widget-interact"
       ],
       "children": [
        "IPY_MODEL_ae87fc4f73874f25bbf44c0254e2d227",
        "IPY_MODEL_ca39d1ef031b46a484b7ae9ac631f78e",
        "IPY_MODEL_d52f43c66ba149e6b3f6caac2581c803"
       ],
       "layout": "IPY_MODEL_09d2de37f67645e88d185c36c0177603"
      }
     },
     "8a7a2eeaea714c80ba45b9d0264fead3": {
      "model_module": "@jupyter-widgets/controls",
      "model_module_version": "1.5.0",
      "model_name": "DatePickerModel",
      "state": {
       "description": "Sampai:",
       "disabled": false,
       "layout": "IPY_MODEL_7b0c800297f44a5687ae36b0c33f0b4f",
       "style": "IPY_MODEL_75511c83e3af4f7090045a336734f762",
       "value": {
        "date": 18,
        "month": 5,
        "year": 2020
       }
      }
     },
     "8ca09bcc577f42f5a9a0789414fb1d91": {
      "model_module": "@jupyter-widgets/controls",
      "model_module_version": "1.5.0",
      "model_name": "DatePickerModel",
      "state": {
       "description": "Sampai:",
       "disabled": false,
       "layout": "IPY_MODEL_a24c86cd3e4641c4af885eb82dc37ec4",
       "style": "IPY_MODEL_1cddf0f1df994247983378b81a0b3e0e",
       "value": {
        "date": 4,
        "month": 6,
        "year": 2020
       }
      }
     },
     "8ca3ef1d940945dc95675e90beac620a": {
      "model_module": "@jupyter-widgets/output",
      "model_module_version": "1.0.0",
      "model_name": "OutputModel",
      "state": {
       "layout": "IPY_MODEL_656fed733cd443d6a270c8af42516468",
       "outputs": [
        {
         "name": "stdout",
         "output_type": "stream",
         "text": "7.83305556 S 110.38305556 E\n"
        },
        {
         "data": {
          "text/html": "<div>\n<style scoped>\n    .dataframe tbody tr th:only-of-type {\n        vertical-align: middle;\n    }\n\n    .dataframe tbody tr th {\n        vertical-align: top;\n    }\n\n    .dataframe thead th {\n        text-align: right;\n    }\n</style>\n<table border=\"1\" class=\"dataframe\">\n  <thead>\n    <tr style=\"text-align: right;\">\n      <th></th>\n      <th>Waktu Konjungsi (UTC+07)</th>\n      <th>Waktu Hilal (UTC+07)</th>\n      <th>Altitude Bulan</th>\n      <th>Azimuth Bulan</th>\n      <th>Altitude Matahari</th>\n      <th>Azimuth Matahari</th>\n    </tr>\n  </thead>\n  <tbody>\n    <tr>\n      <th>1</th>\n      <td>2020-05-23 00:38:51.912000+07:00</td>\n      <td>2020-05-23 17:26:56.875000+07:00</td>\n      <td>06deg 20' 43.0\"</td>\n      <td>291deg 52' 07.8\"</td>\n      <td>-00deg 49' 59.9\"</td>\n      <td>290deg 47' 29.1\"</td>\n    </tr>\n  </tbody>\n</table>\n</div>",
          "text/plain": "          Waktu Konjungsi (UTC+07)             Waktu Hilal (UTC+07)  \\\n1 2020-05-23 00:38:51.912000+07:00 2020-05-23 17:26:56.875000+07:00   \n\n    Altitude Bulan     Azimuth Bulan Altitude Matahari  Azimuth Matahari  \n1  06deg 20' 43.0\"  291deg 52' 07.8\"  -00deg 49' 59.9\"  290deg 47' 29.1\"  "
         },
         "metadata": {},
         "output_type": "display_data"
        }
       ]
      }
     },
     "969041c2a2754dcba365edf66c73414d": {
      "model_module": "@jupyter-widgets/output",
      "model_module_version": "1.0.0",
      "model_name": "OutputModel",
      "state": {
       "layout": "IPY_MODEL_9c82781a25c741358bbef1f6c4402d78",
       "outputs": [
        {
         "name": "stdout",
         "output_type": "stream",
         "text": "7.83305556 S 110.38305556 E\n"
        },
        {
         "data": {
          "text/html": "<div>\n<style scoped>\n    .dataframe tbody tr th:only-of-type {\n        vertical-align: middle;\n    }\n\n    .dataframe tbody tr th {\n        vertical-align: top;\n    }\n\n    .dataframe thead th {\n        text-align: right;\n    }\n</style>\n<table border=\"1\" class=\"dataframe\">\n  <thead>\n    <tr style=\"text-align: right;\">\n      <th></th>\n      <th>Waktu Konjungsi (UTC+07)</th>\n      <th>Waktu Hilal (UTC+07)</th>\n      <th>Altitude Bulan</th>\n      <th>Azimuth Bulan</th>\n      <th>Altitude Matahari</th>\n      <th>Azimuth Matahari</th>\n    </tr>\n  </thead>\n  <tbody>\n    <tr>\n      <th>1</th>\n      <td>2020-05-23 00:38:51.912000+07:00</td>\n      <td>2020-05-23 17:26:56.875000+07:00</td>\n      <td>06deg 20' 43.0\"</td>\n      <td>291deg 52' 07.8\"</td>\n      <td>-00deg 49' 59.9\"</td>\n      <td>290deg 47' 29.1\"</td>\n    </tr>\n  </tbody>\n</table>\n</div>",
          "text/plain": "          Waktu Konjungsi (UTC+07)             Waktu Hilal (UTC+07)  \\\n1 2020-05-23 00:38:51.912000+07:00 2020-05-23 17:26:56.875000+07:00   \n\n    Altitude Bulan     Azimuth Bulan Altitude Matahari  Azimuth Matahari  \n1  06deg 20' 43.0\"  291deg 52' 07.8\"  -00deg 49' 59.9\"  290deg 47' 29.1\"  "
         },
         "metadata": {},
         "output_type": "display_data"
        }
       ]
      }
     },
     "98008573e2dd4199b519cd7a103fdda7": {
      "model_module": "@jupyter-widgets/controls",
      "model_module_version": "1.5.0",
      "model_name": "DescriptionStyleModel",
      "state": {
       "description_width": ""
      }
     },
     "9a1d6d901d8844cdaf4c030e0de7b13a": {
      "model_module": "@jupyter-widgets/base",
      "model_module_version": "1.2.0",
      "model_name": "LayoutModel",
      "state": {}
     },
     "9c82781a25c741358bbef1f6c4402d78": {
      "model_module": "@jupyter-widgets/base",
      "model_module_version": "1.2.0",
      "model_name": "LayoutModel",
      "state": {}
     },
     "9ec9d79c2b0141b9883d3d7385bcd4ac": {
      "model_module": "@jupyter-widgets/base",
      "model_module_version": "1.2.0",
      "model_name": "LayoutModel",
      "state": {}
     },
     "a24c86cd3e4641c4af885eb82dc37ec4": {
      "model_module": "@jupyter-widgets/base",
      "model_module_version": "1.2.0",
      "model_name": "LayoutModel",
      "state": {}
     },
     "a2649188888249b7b27d3a8de4e62ff4": {
      "model_module": "@jupyter-widgets/controls",
      "model_module_version": "1.5.0",
      "model_name": "DatePickerModel",
      "state": {
       "description": "Sampai:",
       "disabled": false,
       "layout": "IPY_MODEL_b7b157f291a44d41936486cbaf117916",
       "style": "IPY_MODEL_6565f1ec9b0c43bbae899df3d1296d28",
       "value": {
        "date": 18,
        "month": 5,
        "year": 2020
       }
      }
     },
     "a791e4cf57254ec1aaf98909888034d3": {
      "model_module": "@jupyter-widgets/controls",
      "model_module_version": "1.5.0",
      "model_name": "DatePickerModel",
      "state": {
       "description": "Dari:",
       "disabled": false,
       "layout": "IPY_MODEL_ededcd79763b49349014fca0cfc56fcd",
       "style": "IPY_MODEL_58bbbc0fb4ff4a31bfe0406de9058900",
       "value": {
        "date": 18,
        "month": 4,
        "year": 2020
       }
      }
     },
     "acc37b84c73a4ae3a83bdef37219fa90": {
      "model_module": "@jupyter-widgets/output",
      "model_module_version": "1.0.0",
      "model_name": "OutputModel",
      "state": {
       "layout": "IPY_MODEL_67f835b715d241388fff1b4d87152990",
       "outputs": [
        {
         "name": "stdout",
         "output_type": "stream",
         "text": "7.83305556 S 110.38305556 E\n"
        },
        {
         "data": {
          "text/html": "<div>\n<style scoped>\n    .dataframe tbody tr th:only-of-type {\n        vertical-align: middle;\n    }\n\n    .dataframe tbody tr th {\n        vertical-align: top;\n    }\n\n    .dataframe thead th {\n        text-align: right;\n    }\n</style>\n<table border=\"1\" class=\"dataframe\">\n  <thead>\n    <tr style=\"text-align: right;\">\n      <th></th>\n      <th>Waktu Konjungsi (UTC+07)</th>\n      <th>Waktu Hilal (UTC+07)</th>\n      <th>Altitude Bulan</th>\n      <th>Azimuth Bulan</th>\n      <th>Altitude Matahari</th>\n      <th>Azimuth Matahari</th>\n    </tr>\n  </thead>\n  <tbody>\n    <tr>\n      <th>1</th>\n      <td>2020-05-23 00:38:51.912000+07:00</td>\n      <td>2020-05-23 17:26:56.875000+07:00</td>\n      <td>06deg 20' 43.0\"</td>\n      <td>291deg 52' 07.8\"</td>\n      <td>-00deg 49' 59.9\"</td>\n      <td>290deg 47' 29.1\"</td>\n    </tr>\n  </tbody>\n</table>\n</div>",
          "text/plain": "          Waktu Konjungsi (UTC+07)             Waktu Hilal (UTC+07)  \\\n1 2020-05-23 00:38:51.912000+07:00 2020-05-23 17:26:56.875000+07:00   \n\n    Altitude Bulan     Azimuth Bulan Altitude Matahari  Azimuth Matahari  \n1  06deg 20' 43.0\"  291deg 52' 07.8\"  -00deg 49' 59.9\"  290deg 47' 29.1\"  "
         },
         "metadata": {},
         "output_type": "display_data"
        }
       ]
      }
     },
     "ad579589dfce48beb2ed3aefae7d0084": {
      "model_module": "@jupyter-widgets/controls",
      "model_module_version": "1.5.0",
      "model_name": "VBoxModel",
      "state": {
       "_dom_classes": [
        "widget-interact"
       ],
       "children": [
        "IPY_MODEL_7f560176aef74b18a7ef515217ad5873",
        "IPY_MODEL_8a7a2eeaea714c80ba45b9d0264fead3",
        "IPY_MODEL_8ca3ef1d940945dc95675e90beac620a"
       ],
       "layout": "IPY_MODEL_827c3f36a9f14bac8187b81200bf55b3"
      }
     },
     "ae87fc4f73874f25bbf44c0254e2d227": {
      "model_module": "@jupyter-widgets/controls",
      "model_module_version": "1.5.0",
      "model_name": "DatePickerModel",
      "state": {
       "description": "Dari:",
       "disabled": false,
       "layout": "IPY_MODEL_40655edeaecf45d18ce8c252ee7cd4f4",
       "style": "IPY_MODEL_01a9600a503449019cc7e721e44952a9",
       "value": {
        "date": 1,
        "month": 0,
        "year": 2020
       }
      }
     },
     "af4d911737ec46488042d91b30617bb1": {
      "model_module": "@jupyter-widgets/controls",
      "model_module_version": "1.5.0",
      "model_name": "VBoxModel",
      "state": {
       "_dom_classes": [
        "widget-interact"
       ],
       "children": [
        "IPY_MODEL_48fb7eaa073740e1b953f886422015f0",
        "IPY_MODEL_38d6f56c13bc45b6b12e0edc007a9749",
        "IPY_MODEL_969041c2a2754dcba365edf66c73414d"
       ],
       "layout": "IPY_MODEL_5c75e0f7ea6641b2807e788ca7ce63e0"
      }
     },
     "af6aa49418864104a988feb2c2e7c329": {
      "model_module": "@jupyter-widgets/controls",
      "model_module_version": "1.5.0",
      "model_name": "DatePickerModel",
      "state": {
       "description": "Dari:",
       "disabled": false,
       "layout": "IPY_MODEL_9ec9d79c2b0141b9883d3d7385bcd4ac",
       "style": "IPY_MODEL_274ef9e54e6b42bb9ede9e1daa42db03",
       "value": {
        "date": 18,
        "month": 4,
        "year": 2020
       }
      }
     },
     "b10acd96d5964c98948b236d956be089": {
      "model_module": "@jupyter-widgets/base",
      "model_module_version": "1.2.0",
      "model_name": "LayoutModel",
      "state": {}
     },
     "b2cf2ab971604ab7b912bf8c36c7a468": {
      "model_module": "@jupyter-widgets/base",
      "model_module_version": "1.2.0",
      "model_name": "LayoutModel",
      "state": {}
     },
     "b59bc8d3124f4cc5af90c5c80bc3b4e3": {
      "model_module": "@jupyter-widgets/base",
      "model_module_version": "1.2.0",
      "model_name": "LayoutModel",
      "state": {}
     },
     "b7b157f291a44d41936486cbaf117916": {
      "model_module": "@jupyter-widgets/base",
      "model_module_version": "1.2.0",
      "model_name": "LayoutModel",
      "state": {}
     },
     "bc06eb8ac884437db8bc30fb8c864ec2": {
      "model_module": "@jupyter-widgets/controls",
      "model_module_version": "1.5.0",
      "model_name": "VBoxModel",
      "state": {
       "_dom_classes": [
        "widget-interact"
       ],
       "children": [
        "IPY_MODEL_22a71bbe156541a799b15fbb33f906e6",
        "IPY_MODEL_8ca09bcc577f42f5a9a0789414fb1d91",
        "IPY_MODEL_ff3ab7cca6ea49eeac82cc43325d7e95"
       ],
       "layout": "IPY_MODEL_1e2d46dfb6aa46a8a9e0876a49726ef4"
      }
     },
     "c45cbb23759a43ddb4d1150ef6d2756d": {
      "model_module": "@jupyter-widgets/base",
      "model_module_version": "1.2.0",
      "model_name": "LayoutModel",
      "state": {}
     },
     "ca39d1ef031b46a484b7ae9ac631f78e": {
      "model_module": "@jupyter-widgets/controls",
      "model_module_version": "1.5.0",
      "model_name": "DatePickerModel",
      "state": {
       "description": "Sampai:",
       "disabled": false,
       "layout": "IPY_MODEL_17001f8c8f734dfb894b1f1efd67a0a7",
       "style": "IPY_MODEL_253b963ae568461bbe8e15a69b518e95",
       "value": {
        "date": 18,
        "month": 5,
        "year": 2020
       }
      }
     },
     "d215227d39594b949b2f0931be5f0fd3": {
      "model_module": "@jupyter-widgets/output",
      "model_module_version": "1.0.0",
      "model_name": "OutputModel",
      "state": {
       "layout": "IPY_MODEL_0dc70c31ae474151adf186c02e184b48",
       "outputs": [
        {
         "name": "stdout",
         "output_type": "stream",
         "text": "7.83305556 S 110.38305556 E\n"
        },
        {
         "data": {
          "text/html": "<div>\n<style scoped>\n    .dataframe tbody tr th:only-of-type {\n        vertical-align: middle;\n    }\n\n    .dataframe tbody tr th {\n        vertical-align: top;\n    }\n\n    .dataframe thead th {\n        text-align: right;\n    }\n</style>\n<table border=\"1\" class=\"dataframe\">\n  <thead>\n    <tr style=\"text-align: right;\">\n      <th></th>\n      <th>Waktu Konjungsi (UTC+07)</th>\n      <th>Waktu Hilal (UTC+07)</th>\n      <th>Altitude Bulan</th>\n      <th>Azimuth Bulan</th>\n      <th>Altitude Matahari</th>\n      <th>Azimuth Matahari</th>\n    </tr>\n  </thead>\n  <tbody>\n    <tr>\n      <th>1</th>\n      <td>2020-05-23 00:38:51.912000+07:00</td>\n      <td>2020-05-23 17:26:56.875000+07:00</td>\n      <td>06deg 20' 43.0\"</td>\n      <td>291deg 52' 07.8\"</td>\n      <td>-00deg 49' 59.9\"</td>\n      <td>290deg 47' 29.1\"</td>\n    </tr>\n  </tbody>\n</table>\n</div>",
          "text/plain": "          Waktu Konjungsi (UTC+07)             Waktu Hilal (UTC+07)  \\\n1 2020-05-23 00:38:51.912000+07:00 2020-05-23 17:26:56.875000+07:00   \n\n    Altitude Bulan     Azimuth Bulan Altitude Matahari  Azimuth Matahari  \n1  06deg 20' 43.0\"  291deg 52' 07.8\"  -00deg 49' 59.9\"  290deg 47' 29.1\"  "
         },
         "metadata": {},
         "output_type": "display_data"
        }
       ]
      }
     },
     "d52f43c66ba149e6b3f6caac2581c803": {
      "model_module": "@jupyter-widgets/output",
      "model_module_version": "1.0.0",
      "model_name": "OutputModel",
      "state": {
       "layout": "IPY_MODEL_b2cf2ab971604ab7b912bf8c36c7a468",
       "outputs": [
        {
         "name": "stdout",
         "output_type": "stream",
         "text": "7.83305556 S 110.38305556 E\n"
        },
        {
         "data": {
          "text/html": "<div>\n<style scoped>\n    .dataframe tbody tr th:only-of-type {\n        vertical-align: middle;\n    }\n\n    .dataframe tbody tr th {\n        vertical-align: top;\n    }\n\n    .dataframe thead th {\n        text-align: right;\n    }\n</style>\n<table border=\"1\" class=\"dataframe\">\n  <thead>\n    <tr style=\"text-align: right;\">\n      <th></th>\n      <th>Waktu Konjungsi (UTC+07)</th>\n      <th>Waktu Hilal (UTC+07)</th>\n      <th>Altitude Bulan</th>\n      <th>Azimuth Bulan</th>\n      <th>Altitude Matahari</th>\n      <th>Azimuth Matahari</th>\n    </tr>\n  </thead>\n  <tbody>\n    <tr>\n      <th>1</th>\n      <td>2020-01-25 04:42:00.207000+07:00</td>\n      <td>2020-01-25 18:05:05.351000+07:00</td>\n      <td>05deg 13' 18.0\"</td>\n      <td>250deg 27' 29.3\"</td>\n      <td>-00deg 49' 59.9\"</td>\n      <td>250deg 39' 31.6\"</td>\n    </tr>\n    <tr>\n      <th>2</th>\n      <td>2020-02-23 22:32:02.134000+07:00</td>\n      <td>2020-02-24 18:00:28.476000+07:00</td>\n      <td>08deg 20' 03.8\"</td>\n      <td>260deg 32' 09.9\"</td>\n      <td>-00deg 49' 59.9\"</td>\n      <td>260deg 13' 22.6\"</td>\n    </tr>\n    <tr>\n      <th>3</th>\n      <td>2020-03-24 16:28:14.621000+07:00</td>\n      <td>2020-03-24 17:47:03.783000+07:00</td>\n      <td>01deg 21' 33.7\"</td>\n      <td>267deg 38' 12.8\"</td>\n      <td>-00deg 49' 59.9\"</td>\n      <td>271deg 35' 39.2\"</td>\n    </tr>\n    <tr>\n      <th>4</th>\n      <td>2020-04-23 09:25:52.403000+07:00</td>\n      <td>2020-04-23 17:33:02.514000+07:00</td>\n      <td>03deg 26' 36.0\"</td>\n      <td>280deg 53' 26.0\"</td>\n      <td>-00deg 49' 59.9\"</td>\n      <td>282deg 45' 58.8\"</td>\n    </tr>\n    <tr>\n      <th>5</th>\n      <td>2020-05-23 00:38:51.912000+07:00</td>\n      <td>2020-05-23 17:26:56.876000+07:00</td>\n      <td>06deg 20' 43.0\"</td>\n      <td>291deg 52' 07.8\"</td>\n      <td>-00deg 49' 59.9\"</td>\n      <td>290deg 47' 29.1\"</td>\n    </tr>\n  </tbody>\n</table>\n</div>",
          "text/plain": "          Waktu Konjungsi (UTC+07)             Waktu Hilal (UTC+07)  \\\n1 2020-01-25 04:42:00.207000+07:00 2020-01-25 18:05:05.351000+07:00   \n2 2020-02-23 22:32:02.134000+07:00 2020-02-24 18:00:28.476000+07:00   \n3 2020-03-24 16:28:14.621000+07:00 2020-03-24 17:47:03.783000+07:00   \n4 2020-04-23 09:25:52.403000+07:00 2020-04-23 17:33:02.514000+07:00   \n5 2020-05-23 00:38:51.912000+07:00 2020-05-23 17:26:56.876000+07:00   \n\n    Altitude Bulan     Azimuth Bulan Altitude Matahari  Azimuth Matahari  \n1  05deg 13' 18.0\"  250deg 27' 29.3\"  -00deg 49' 59.9\"  250deg 39' 31.6\"  \n2  08deg 20' 03.8\"  260deg 32' 09.9\"  -00deg 49' 59.9\"  260deg 13' 22.6\"  \n3  01deg 21' 33.7\"  267deg 38' 12.8\"  -00deg 49' 59.9\"  271deg 35' 39.2\"  \n4  03deg 26' 36.0\"  280deg 53' 26.0\"  -00deg 49' 59.9\"  282deg 45' 58.8\"  \n5  06deg 20' 43.0\"  291deg 52' 07.8\"  -00deg 49' 59.9\"  290deg 47' 29.1\"  "
         },
         "metadata": {},
         "output_type": "display_data"
        }
       ]
      }
     },
     "db25b55dfb3e440b8c81d2f310311591": {
      "model_module": "@jupyter-widgets/output",
      "model_module_version": "1.0.0",
      "model_name": "OutputModel",
      "state": {
       "layout": "IPY_MODEL_71b86fe0b5e84802ade1ec0d40ff4dfd",
       "outputs": [
        {
         "name": "stdout",
         "output_type": "stream",
         "text": "7.83305556 S 110.38305556 E\n"
        },
        {
         "data": {
          "text/html": "<div>\n<style scoped>\n    .dataframe tbody tr th:only-of-type {\n        vertical-align: middle;\n    }\n\n    .dataframe tbody tr th {\n        vertical-align: top;\n    }\n\n    .dataframe thead th {\n        text-align: right;\n    }\n</style>\n<table border=\"1\" class=\"dataframe\">\n  <thead>\n    <tr style=\"text-align: right;\">\n      <th></th>\n      <th>Waktu Konjungsi (UTC+07)</th>\n      <th>Waktu Hilal (UTC+07)</th>\n      <th>Altitude Bulan</th>\n      <th>Azimuth Bulan</th>\n      <th>Altitude Matahari</th>\n      <th>Azimuth Matahari</th>\n    </tr>\n  </thead>\n  <tbody>\n    <tr>\n      <th>1</th>\n      <td>2020-05-23 00:38:51.912000+07:00</td>\n      <td>2020-05-23 17:26:56.875000+07:00</td>\n      <td>06deg 20' 43.0\"</td>\n      <td>291deg 52' 07.8\"</td>\n      <td>-00deg 49' 59.9\"</td>\n      <td>290deg 47' 29.1\"</td>\n    </tr>\n  </tbody>\n</table>\n</div>",
          "text/plain": "          Waktu Konjungsi (UTC+07)             Waktu Hilal (UTC+07)  \\\n1 2020-05-23 00:38:51.912000+07:00 2020-05-23 17:26:56.875000+07:00   \n\n    Altitude Bulan     Azimuth Bulan Altitude Matahari  Azimuth Matahari  \n1  06deg 20' 43.0\"  291deg 52' 07.8\"  -00deg 49' 59.9\"  290deg 47' 29.1\"  "
         },
         "metadata": {},
         "output_type": "display_data"
        }
       ]
      }
     },
     "e6e0d29b03e6405eb8d06e759e5286b3": {
      "model_module": "@jupyter-widgets/controls",
      "model_module_version": "1.5.0",
      "model_name": "DescriptionStyleModel",
      "state": {
       "description_width": ""
      }
     },
     "ededcd79763b49349014fca0cfc56fcd": {
      "model_module": "@jupyter-widgets/base",
      "model_module_version": "1.2.0",
      "model_name": "LayoutModel",
      "state": {}
     },
     "fbe3494e12be43888f0cd40ca7d779e4": {
      "model_module": "@jupyter-widgets/controls",
      "model_module_version": "1.5.0",
      "model_name": "DatePickerModel",
      "state": {
       "description": "Sampai:",
       "disabled": false,
       "layout": "IPY_MODEL_b59bc8d3124f4cc5af90c5c80bc3b4e3",
       "style": "IPY_MODEL_00d940c3383d40ac9045377b0a356443",
       "value": {
        "date": 18,
        "month": 5,
        "year": 2020
       }
      }
     },
     "ff3ab7cca6ea49eeac82cc43325d7e95": {
      "model_module": "@jupyter-widgets/output",
      "model_module_version": "1.0.0",
      "model_name": "OutputModel",
      "state": {
       "layout": "IPY_MODEL_c45cbb23759a43ddb4d1150ef6d2756d",
       "outputs": [
        {
         "name": "stdout",
         "output_type": "stream",
         "text": "7.83305556 S 110.38305556 E\n"
        },
        {
         "data": {
          "text/html": "<div>\n<style scoped>\n    .dataframe tbody tr th:only-of-type {\n        vertical-align: middle;\n    }\n\n    .dataframe tbody tr th {\n        vertical-align: top;\n    }\n\n    .dataframe thead th {\n        text-align: right;\n    }\n</style>\n<table border=\"1\" class=\"dataframe\">\n  <thead>\n    <tr style=\"text-align: right;\">\n      <th></th>\n      <th>Waktu Konjungsi (UTC+07)</th>\n      <th>Waktu Hilal (UTC+07)</th>\n      <th>Altitude Bulan</th>\n      <th>Azimuth Bulan</th>\n      <th>Altitude Matahari</th>\n      <th>Azimuth Matahari</th>\n    </tr>\n  </thead>\n  <tbody>\n    <tr>\n      <th>1</th>\n      <td>2019-12-26 12:13:07.732000+07:00</td>\n      <td>2019-12-26 17:56:08.370000+07:00</td>\n      <td>01deg 02' 24.0\"</td>\n      <td>246deg 55' 05.7\"</td>\n      <td>-00deg 49' 59.9\"</td>\n      <td>246deg 16' 29.5\"</td>\n    </tr>\n    <tr>\n      <th>2</th>\n      <td>2020-01-25 04:42:00.207000+07:00</td>\n      <td>2020-01-25 18:05:05.351000+07:00</td>\n      <td>05deg 13' 18.0\"</td>\n      <td>250deg 27' 29.3\"</td>\n      <td>-00deg 49' 59.9\"</td>\n      <td>250deg 39' 31.6\"</td>\n    </tr>\n    <tr>\n      <th>3</th>\n      <td>2020-02-23 22:32:02.134000+07:00</td>\n      <td>2020-02-24 18:00:28.476000+07:00</td>\n      <td>08deg 20' 03.8\"</td>\n      <td>260deg 32' 09.9\"</td>\n      <td>-00deg 49' 59.9\"</td>\n      <td>260deg 13' 22.6\"</td>\n    </tr>\n    <tr>\n      <th>4</th>\n      <td>2020-03-24 16:28:14.621000+07:00</td>\n      <td>2020-03-24 17:47:03.783000+07:00</td>\n      <td>01deg 21' 33.7\"</td>\n      <td>267deg 38' 12.8\"</td>\n      <td>-00deg 49' 59.9\"</td>\n      <td>271deg 35' 39.2\"</td>\n    </tr>\n    <tr>\n      <th>5</th>\n      <td>2020-04-23 09:25:52.403000+07:00</td>\n      <td>2020-04-23 17:33:02.514000+07:00</td>\n      <td>03deg 26' 36.0\"</td>\n      <td>280deg 53' 26.0\"</td>\n      <td>-00deg 49' 59.9\"</td>\n      <td>282deg 45' 58.8\"</td>\n    </tr>\n    <tr>\n      <th>6</th>\n      <td>2020-05-23 00:38:51.912000+07:00</td>\n      <td>2020-05-23 17:26:56.875000+07:00</td>\n      <td>06deg 20' 43.0\"</td>\n      <td>291deg 52' 07.8\"</td>\n      <td>-00deg 49' 59.9\"</td>\n      <td>290deg 47' 29.1\"</td>\n    </tr>\n    <tr>\n      <th>7</th>\n      <td>2020-06-21 13:41:27.481000+07:00</td>\n      <td>2020-06-21 17:30:21.892000+07:00</td>\n      <td>00deg 04' 17.9\"</td>\n      <td>294deg 06' 43.4\"</td>\n      <td>-00deg 49' 59.9\"</td>\n      <td>293deg 32' 51.3\"</td>\n    </tr>\n  </tbody>\n</table>\n</div>",
          "text/plain": "          Waktu Konjungsi (UTC+07)             Waktu Hilal (UTC+07)  \\\n1 2019-12-26 12:13:07.732000+07:00 2019-12-26 17:56:08.370000+07:00   \n2 2020-01-25 04:42:00.207000+07:00 2020-01-25 18:05:05.351000+07:00   \n3 2020-02-23 22:32:02.134000+07:00 2020-02-24 18:00:28.476000+07:00   \n4 2020-03-24 16:28:14.621000+07:00 2020-03-24 17:47:03.783000+07:00   \n5 2020-04-23 09:25:52.403000+07:00 2020-04-23 17:33:02.514000+07:00   \n6 2020-05-23 00:38:51.912000+07:00 2020-05-23 17:26:56.875000+07:00   \n7 2020-06-21 13:41:27.481000+07:00 2020-06-21 17:30:21.892000+07:00   \n\n    Altitude Bulan     Azimuth Bulan Altitude Matahari  Azimuth Matahari  \n1  01deg 02' 24.0\"  246deg 55' 05.7\"  -00deg 49' 59.9\"  246deg 16' 29.5\"  \n2  05deg 13' 18.0\"  250deg 27' 29.3\"  -00deg 49' 59.9\"  250deg 39' 31.6\"  \n3  08deg 20' 03.8\"  260deg 32' 09.9\"  -00deg 49' 59.9\"  260deg 13' 22.6\"  \n4  01deg 21' 33.7\"  267deg 38' 12.8\"  -00deg 49' 59.9\"  271deg 35' 39.2\"  \n5  03deg 26' 36.0\"  280deg 53' 26.0\"  -00deg 49' 59.9\"  282deg 45' 58.8\"  \n6  06deg 20' 43.0\"  291deg 52' 07.8\"  -00deg 49' 59.9\"  290deg 47' 29.1\"  \n7  00deg 04' 17.9\"  294deg 06' 43.4\"  -00deg 49' 59.9\"  293deg 32' 51.3\"  "
         },
         "metadata": {},
         "output_type": "display_data"
        }
       ]
      }
     }
    },
    "version_major": 2,
    "version_minor": 0
   }
  }
 },
 "nbformat": 4,
 "nbformat_minor": 4
}
