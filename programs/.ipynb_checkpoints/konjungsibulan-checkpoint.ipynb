{
 "cells": [
  {
   "cell_type": "code",
   "execution_count": 1,
   "metadata": {
    "extensions": {
     "jupyter_dashboards": {
      "version": 1,
      "views": {
       "grid_default": {},
       "report_default": {}
      }
     }
    }
   },
   "outputs": [],
   "source": [
    "# @_jengkolrebus\n",
    "# Curup, Bengkulu\n",
    "# Mei 2020"
   ]
  },
  {
   "cell_type": "code",
   "execution_count": 14,
   "metadata": {
    "extensions": {
     "jupyter_dashboards": {
      "version": 1,
      "views": {
       "grid_default": {},
       "report_default": {}
      }
     }
    }
   },
   "outputs": [],
   "source": [
    "from skyfield.api import load, Topos\n",
    "from skyfield import almanac\n",
    "from datetime import datetime, timedelta\n",
    "from pytz import timezone\n",
    "from ipywidgets import interact\n",
    "from ipywidgets import widgets as wg\n",
    "import calendar\n",
    "import pandas as pd\n",
    "from IPython.display import display, HTML"
   ]
  },
  {
   "cell_type": "code",
   "execution_count": 15,
   "metadata": {
    "extensions": {
     "jupyter_dashboards": {
      "version": 1,
      "views": {
       "grid_default": {},
       "report_default": {}
      }
     }
    }
   },
   "outputs": [],
   "source": [
    "conj = []\n",
    "sunset = []\n",
    "bulan_alt = []\n",
    "bulan_az = []\n",
    "matahari_alt = []\n",
    "matahari_az = []"
   ]
  },
  {
   "cell_type": "code",
   "execution_count": 16,
   "metadata": {
    "extensions": {
     "jupyter_dashboards": {
      "version": 1,
      "views": {
       "grid_default": {},
       "report_default": {}
      }
     }
    }
   },
   "outputs": [],
   "source": [
    "jkt = timezone('Asia/Jakarta')\n",
    "ts = load.timescale()\n",
    "e = load('de421.bsp')    # ephemeris\n",
    "\n",
    "bulan = e['moon']\n",
    "bumi = e['earth']\n",
    "obsUAD = Topos('7.83305556 S', '110.38305556 E')\n",
    "loc = bumi + obsUAD"
   ]
  },
  {
   "cell_type": "code",
   "execution_count": 17,
   "metadata": {
    "extensions": {
     "jupyter_dashboards": {
      "version": 1,
      "views": {
       "grid_default": {},
       "report_default": {}
      }
     }
    }
   },
   "outputs": [],
   "source": [
    "# fungsi mendapatkan waktu konjungsi\n",
    "\n",
    "def konjungsi(t0, t1):\n",
    "    conj.clear()\n",
    "    sunset.clear()\n",
    "    bulan_alt.clear()\n",
    "    bulan_az.clear()\n",
    "    matahari_alt.clear()\n",
    "    matahari_az.clear()\n",
    "    t0 = ts.utc(t0)\n",
    "    t1 = ts.utc(t1)\n",
    "    f = almanac.oppositions_conjunctions(e, bulan)\n",
    "    t, y = almanac.find_discrete(t0, t1, f)\n",
    "\n",
    "    for ti, yi in zip(t, y):\n",
    "        if (yi==1):\n",
    "            conj.append(ti.astimezone(jkt))\n",
    "            t = ti.utc\n",
    "            t0 = ts.utc(t[0], t[1], t[2], t[3], t[4], t[5])\n",
    "            t1 = ts.utc(t[0], t[1], t[2]+1, t[3], t[4], t[5])\n",
    "            t_rs, y_rs = almanac.find_discrete(t0, t1, almanac.sunrise_sunset(e, obsUAD))\n",
    "            for t_sun, y_sun in zip(t_rs, y_rs):\n",
    "                if (y_sun == False):\n",
    "                    sunset.append(t_sun.astimezone(jkt))\n",
    "                    t = t_sun.utc\n",
    "    \n",
    "                    astrometrik_bulan = loc.at(ts.utc(t[0], t[1], t[2], t[3], t[4], t[5])).observe(bulan)\n",
    "                    astrometrik_matahari = loc.at(ts.utc(t[0], t[1], t[2], t[3], t[4], t[5])).observe(e['sun'])\n",
    "\n",
    "                    alt_bulan, az_bulan, jarak_bulan = astrometrik_bulan.apparent().altaz()\n",
    "                    alt_matahari, az_matahari, jarak_matahari = astrometrik_matahari.apparent().altaz()\n",
    "\n",
    "                    bulan_alt.append(alt_bulan.degrees)\n",
    "                    bulan_az.append(az_bulan.degrees)\n",
    "                    matahari_alt.append(alt_matahari.degrees)\n",
    "                    matahari_az.append(az_matahari.degrees)\n",
    "                    \n",
    "#                     tabel = list(zip(conj, sunset, bulan_alt, bulan_az, matahari_alt, matahari_az))\n",
    "#                     df = pd.DataFrame(tabel, columns=['Waktu Konjungsi (UTC+07)', 'Waktu Hilal (UTC+07)', 'Altitude Bulan', 'Azimuth Bulan', 'Altitude Matahari', 'Azimuth Matahari'])\n",
    "#                     df\n",
    "                    \n",
    "                else:\n",
    "                    pass\n",
    "            \n",
    "            \n",
    "        else:\n",
    "            pass\n",
    "        \n",
    "    #data(conj, sunset, bulan_alt, bulan_az, matahari_alt, matahari_az)\n",
    "    tabel = list(zip(conj, sunset, bulan_alt, bulan_az, matahari_alt, matahari_az))\n",
    "    df = pd.DataFrame(tabel, columns=['Waktu Konjungsi (UTC+07)', 'Waktu Hilal (UTC+07)', 'Altitude Bulan', 'Azimuth Bulan', 'Altitude Matahari', 'Azimuth Matahari'])\n",
    "    df.index+=1\n",
    "    display(df)"
   ]
  },
  {
   "cell_type": "code",
   "execution_count": 18,
   "metadata": {
    "extensions": {
     "jupyter_dashboards": {
      "version": 1,
      "views": {
       "grid_default": {},
       "report_default": {}
      }
     }
    }
   },
   "outputs": [
    {
     "data": {
      "application/vnd.jupyter.widget-view+json": {
       "model_id": "bb9fcf7b892443aa81ab546125dd2ccc",
       "version_major": 2,
       "version_minor": 0
      },
      "text/plain": [
       "interactive(children=(DatePicker(value=datetime.date(2020, 5, 17), description='Dari:'), DatePicker(value=date…"
      ]
     },
     "metadata": {},
     "output_type": "display_data"
    },
    {
     "data": {
      "text/plain": [
       "<function __main__.konjungsi(t0, t1)>"
      ]
     },
     "execution_count": 18,
     "metadata": {},
     "output_type": "execute_result"
    }
   ],
   "source": [
    "hari_ini = datetime.now().date()\n",
    "days_in_month = calendar.monthrange(hari_ini.year, hari_ini.month)[1]\n",
    "besok = hari_ini + timedelta(days_in_month)\n",
    "\n",
    "dari = wg.DatePicker(value=hari_ini,\n",
    "    description='Dari:',\n",
    "    disabled=False\n",
    ")\n",
    "sampai = wg.DatePicker(value=besok,\n",
    "    description='Sampai:',\n",
    "    disabled=False\n",
    ")\n",
    "wg.interact(konjungsi, t0=dari, t1=sampai)\n",
    "\n"
   ]
  },
  {
   "cell_type": "code",
   "execution_count": null,
   "metadata": {
    "extensions": {
     "jupyter_dashboards": {
      "version": 1,
      "views": {
       "grid_default": {},
       "report_default": {}
      }
     }
    }
   },
   "outputs": [],
   "source": []
  }
 ],
 "metadata": {
  "extensions": {
   "jupyter_dashboards": {
    "activeView": "grid_default",
    "version": 1,
    "views": {
     "grid_default": {
      "cellMargin": 10,
      "defaultCellHeight": 20,
      "maxColumns": 12,
      "name": "grid",
      "type": "grid"
     },
     "report_default": {
      "name": "report",
      "type": "report"
     }
    }
   }
  },
  "kernelspec": {
   "display_name": "Python 3",
   "language": "python",
   "name": "python3"
  },
  "language_info": {
   "codemirror_mode": {
    "name": "ipython",
    "version": 3
   },
   "file_extension": ".py",
   "mimetype": "text/x-python",
   "name": "python",
   "nbconvert_exporter": "python",
   "pygments_lexer": "ipython3",
   "version": "3.7.6"
  }
 },
 "nbformat": 4,
 "nbformat_minor": 4
}
