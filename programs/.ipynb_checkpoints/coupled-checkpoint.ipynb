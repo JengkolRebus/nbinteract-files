{
 "cells": [
  {
   "cell_type": "markdown",
   "metadata": {},
   "source": [
    "# Osilasi Terkopel"
   ]
  },
  {
   "cell_type": "code",
   "execution_count": 1,
   "metadata": {},
   "outputs": [],
   "source": [
    "# nbi:hide_in\n",
    "# _jengkolrebus\n",
    "# Juni, 2020\n",
    "# Curup, Bengkulu"
   ]
  },
  {
   "cell_type": "markdown",
   "metadata": {},
   "source": [
    "Tugas Mata Kuliah Gelombang & Optik\n",
    "\n",
    "<img src=\"persamaan.png\">\n",
    "<img src=\"persamaan2.png\">\n",
    "\n",
    "PLOT persamaan 1.16 dan 1.17 dengan variasi nilai s dan m\n",
    "1. nilai s dibuat tetap, nilai m divariasi agar rasio s/m bernilai 10 - 100 kali lebih kecil daripada g/l (3 variasi nilai m)\n",
    "2. nilai s dibuat tetap, nilai m divariasi agar rasio s/m bernilai 10 - 100 kali lebih besar daripada g/l (3 variasi nilai m)\n",
    "3. nilai m dibuat tetap, nilai s divariasi agar rasio s/m bernilai 10 - 100 kali lebih kecil daripada g/l (3 variasi nilai s)\n",
    "4. nilai m dibuat tetap, nilai s divariasi agar rasio s/m bernilai 10 - 100 kali lebih besar daripada g/l (3 variasi nilai s)"
   ]
  },
  {
   "cell_type": "code",
   "execution_count": 2,
   "metadata": {},
   "outputs": [],
   "source": [
    "# nbi:hide_in\n",
    "from ipywidgets import widgets as wg\n",
    "from ipywidgets import interact, interactive\n",
    "import numpy as np\n",
    "\n",
    "import matplotlib\n",
    "import matplotlib.pyplot as plt\n"
   ]
  },
  {
   "cell_type": "code",
   "execution_count": 3,
   "metadata": {},
   "outputs": [],
   "source": [
    "# nbi:hide_in\n",
    "class Var:\n",
    "    case = None"
   ]
  },
  {
   "cell_type": "code",
   "execution_count": 6,
   "metadata": {},
   "outputs": [],
   "source": [
    "# nbi:hide_in\n",
    "g = 9.8 # m/s^2\n",
    "l = 1 # meter\n",
    "omega_1_squared= g/l\n",
    "a = 1\n",
    "\n",
    "\n",
    "def result(s, m, tr):\n",
    "    \n",
    "    t = np.arange(0.0, tr, 0.01)\n",
    "    \n",
    "    print('a:', a)\n",
    "    print('g:', g)\n",
    "    print('l:', l)\n",
    "    print('s:', s)\n",
    "    print('m:', m)\n",
    "    \n",
    "    print(\"g/l:\",omega_1_squared)\n",
    "    print(\"s/m:\", s/m)\n",
    "    omega_2_squared = omega_1_squared + (2* (s/m))\n",
    "    \n",
    "\n",
    "    if(Var.case == 1):\n",
    "        ratio = omega_1_squared/(s/m)\n",
    "        print('Rasio s/m', round(ratio, 2), 'kali lebih kecil dari g/l')\n",
    "    elif(Var.case == 2):\n",
    "        ratio = (s/m)/omega_1_squared\n",
    "        print('Rasio s/m', round(ratio, 2), 'kali lebih besar dari g/l')\n",
    "    elif(Var.case == 3):\n",
    "        ratio = omega_1_squared/(s/m)\n",
    "        print('Rasio s/m', round(ratio, 2), 'kali lebih kecil dari g/l')\n",
    "    else:\n",
    "        ratio = (s/m)/omega_1_squared\n",
    "        print('Rasio s/m', round(ratio, 2), 'kali lebih besar dari g/l')\n",
    "    \n",
    "    omega_1 = np.sqrt(omega_1_squared)\n",
    "    omega_2 = np.sqrt(omega_2_squared)\n",
    "    print('Omega 1:',omega_1)\n",
    "    print('Omega 2:',omega_2)\n",
    "    \n",
    "    # Plot x:\n",
    "#     x = [(2*a) * np.cos(((omega_2_squared-omega_1_squared)*t)/2) * np.cos(((omega_2_squared+omega_1_squared)*t)/2) for t in range(10)]\n",
    "    x = (2*a) * np.cos(((omega_2-omega_1)*t)/2) * \\\n",
    "        np.cos(((omega_2+omega_1)*t)/2)\n",
    "    y = (-2*a) * np.sin(((omega_1-omega_2)*t)/2) * \\\n",
    "        np.sin(((omega_2+omega_1)*t)/2) \n",
    "    \n",
    "    plt.plot(t, x, label='x')\n",
    "    plt.plot(t, y, label='y')\n",
    "    plt.title('Grafik x dan y terhadap waktu')\n",
    "    plt.legend(bbox_to_anchor=(1.05, 1), loc='upper left', borderaxespad=0.)\n",
    "    plt.grid()\n",
    "    \n",
    "def pilih(case):\n",
    "    s = wg.FloatSlider(description='s', \n",
    "                     value=20, min=1, \n",
    "                     max=100, \n",
    "                     disabled=True)\n",
    "    \n",
    "    m = wg.FloatSlider(description='m', \n",
    "                       value=10, \n",
    "                       disabled=False, \n",
    "                       step=0.01)\n",
    "    \n",
    "    \n",
    "    if(case == 'Kasus 1'):\n",
    "        s.disabled = True\n",
    "        Var.case = 1\n",
    "        \n",
    "        m.min = 10*((s.value*l)/g)\n",
    "        m.max = 100*((s.value*l)/g)\n",
    "\n",
    "    elif(case == 'Kasus 2'):\n",
    "        s.disabled = True\n",
    "        Var.case = 2\n",
    "        \n",
    "        m.min = (s.value*l)/(g*100)\n",
    "        m.max = (s.value*l)/(g*10)\n",
    "\n",
    "    elif(case == 'Kasus 3'):\n",
    "        s.disabled = False\n",
    "        m.disabled = True\n",
    "        m.value = 10\n",
    "        \n",
    "        s.min = (g*m.value)/(l*100)\n",
    "        s.max = (g*m.value)/(l*10)\n",
    "        Var.case = 3\n",
    "\n",
    "    else:\n",
    "        s.disabled = False\n",
    "        m.disabled = True\n",
    "        m.value = 1\n",
    "        \n",
    "        s_min = (10*g*m.value)/l\n",
    "        s_max = (100*g*m.value)/l\n",
    "        Var.case = 4\n",
    "        s.min = s_min\n",
    "        s.max = s_max\n",
    "    \n",
    "    \n",
    "    t = wg.FloatSlider(description='t', \n",
    "                       value=10, \n",
    "                       min=1, \n",
    "                       max=60, \n",
    "                       step=1)\n",
    "    interact(result, s=s, m=m, tr=t)\n",
    "        "
   ]
  },
  {
   "cell_type": "code",
   "execution_count": 7,
   "metadata": {},
   "outputs": [
    {
     "data": {
      "application/vnd.jupyter.widget-view+json": {
       "model_id": "d1f0c3203a6b40f9aaade0aac32487b6",
       "version_major": 2,
       "version_minor": 0
      },
      "text/plain": [
       "interactive(children=(RadioButtons(description='Pilih Kasus:', options=('Kasus 1', 'Kasus 2', 'Kasus 3', 'Kasu…"
      ]
     },
     "metadata": {},
     "output_type": "display_data"
    }
   ],
   "source": [
    "# nbi:hide_in\n",
    "pilihan = wg.RadioButtons(\n",
    "    options=['Kasus 1', 'Kasus 2', 'Kasus 3', 'Kasus 4'],\n",
    "#    value='pineapple', # Defaults to 'pineapple'\n",
    "#    layout={'width': 'max-content'}, # If the items' names are long\n",
    "    description='Pilih Kasus:',\n",
    "    disabled=False\n",
    ")\n",
    "\n",
    "interactive(pilih, case=pilihan)"
   ]
  },
  {
   "cell_type": "code",
   "execution_count": null,
   "metadata": {},
   "outputs": [],
   "source": []
  },
  {
   "cell_type": "code",
   "execution_count": null,
   "metadata": {},
   "outputs": [],
   "source": []
  }
 ],
 "metadata": {
  "kernelspec": {
   "display_name": "Python 3",
   "language": "python",
   "name": "python3"
  },
  "language_info": {
   "codemirror_mode": {
    "name": "ipython",
    "version": 3
   },
   "file_extension": ".py",
   "mimetype": "text/x-python",
   "name": "python",
   "nbconvert_exporter": "python",
   "pygments_lexer": "ipython3",
   "version": "3.7.6"
  },
  "widgets": {
   "application/vnd.jupyter.widget-state+json": {
    "state": {},
    "version_major": 2,
    "version_minor": 0
   }
  }
 },
 "nbformat": 4,
 "nbformat_minor": 4
}
