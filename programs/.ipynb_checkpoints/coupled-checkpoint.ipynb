{
 "cells": [
  {
   "cell_type": "markdown",
   "metadata": {},
   "source": [
    "# Osilasi Terkopel"
   ]
  },
  {
   "cell_type": "code",
   "execution_count": 1,
   "metadata": {},
   "outputs": [],
   "source": [
    "# nbi:hide_in\n",
    "# _jengkolrebus\n",
    "# Juni, 2020\n",
    "# Curup, Bengkulu"
   ]
  },
  {
   "cell_type": "markdown",
   "metadata": {},
   "source": [
    "Tugas Mata Kuliah Gelombang & Optik\n",
    "\n",
    "<img src=\"persamaan.png\">\n",
    "<img src=\"persamaan2.png\">\n",
    "\n",
    "PLOT persamaan 1.16 dan 1.17 dengan variasi nilai s dan m\n",
    "1. nilai s dibuat tetap, nilai m divariasi agar rasio s/m bernilai 10 - 100 kali lebih kecil daripada g/l (3 variasi nilai m)\n",
    "2. nilai s dibuat tetap, nilai m divariasi agar rasio s/m bernilai 10 - 100 kali lebih besar daripada g/l (3 variasi nilai m)\n",
    "3. nilai m dibuat tetap, nilai s divariasi agar rasio s/m bernilai 10 - 100 kali lebih kecil daripada g/l (3 variasi nilai s)\n",
    "4. nilai m dibuat tetap, nilai s divariasi agar rasio s/m bernilai 10 - 100 kali lebih besar daripada g/l (3 variasi nilai s)"
   ]
  },
  {
   "cell_type": "code",
   "execution_count": 2,
   "metadata": {},
   "outputs": [],
   "source": [
    "# nbi:hide_in\n",
    "from ipywidgets import widgets as wg\n",
    "from ipywidgets import interact, interactive\n",
    "import numpy as np\n",
    "\n",
    "import matplotlib\n",
    "import matplotlib.pyplot as plt\n"
   ]
  },
  {
   "cell_type": "code",
   "execution_count": 3,
   "metadata": {},
   "outputs": [],
   "source": [
    "# nbi:hide_in\n",
    "class Var:\n",
    "    case = None"
   ]
  },
  {
   "cell_type": "code",
   "execution_count": 4,
   "metadata": {},
   "outputs": [],
   "source": [
    "# nbi:hide_in\n",
    "g = 9.8 # m/s^2\n",
    "l = 1 # meter\n",
    "omega_1_squared= g/l\n",
    "a = 1\n",
    "\n",
    "\n",
    "def result(s, m, tr):\n",
    "    \n",
    "    t = np.arange(0.0, tr, 0.01)\n",
    "    \n",
    "    print('a:', a)\n",
    "    print('g:', g)\n",
    "    print('l:', l)\n",
    "    print('s:', s)\n",
    "    print('m:', m)\n",
    "    \n",
    "    print(\"g/l:\",omega_1_squared)\n",
    "    print(\"s/m:\", s/m)\n",
    "    omega_2_squared = omega_1_squared + (2* (s/m))\n",
    "    \n",
    "\n",
    "    if(Var.case == 1):\n",
    "        ratio = omega_1_squared/(s/m)\n",
    "        print('Rasio s/m', round(ratio, 2), 'kali lebih kecil dari g/l')\n",
    "    elif(Var.case == 2):\n",
    "        ratio = (s/m)/omega_1_squared\n",
    "        print('Rasio s/m', round(ratio, 2), 'kali lebih besar dari g/l')\n",
    "    elif(Var.case == 3):\n",
    "        ratio = omega_1_squared/(s/m)\n",
    "        print('Rasio s/m', round(ratio, 2), 'kali lebih kecil dari g/l')\n",
    "    else:\n",
    "        ratio = (s/m)/omega_1_squared\n",
    "        print('Rasio s/m', round(ratio, 2), 'kali lebih besar dari g/l')\n",
    "    \n",
    "    omega_1 = np.sqrt(omega_1_squared)\n",
    "    omega_2 = np.sqrt(omega_2_squared)\n",
    "    print('Omega 1:',omega_1)\n",
    "    print('Omega 2:',omega_2)\n",
    "    \n",
    "    # Plot x:\n",
    "#     x = [(2*a) * np.cos(((omega_2_squared-omega_1_squared)*t)/2) * np.cos(((omega_2_squared+omega_1_squared)*t)/2) for t in range(10)]\n",
    "    x = (2*a) * np.cos(((omega_2-omega_1)*t)/2) * \\\n",
    "        np.cos(((omega_2+omega_1)*t)/2)\n",
    "    y = (-2*a) * np.sin(((omega_1-omega_2)*t)/2) * \\\n",
    "        np.sin(((omega_2+omega_1)*t)/2) \n",
    "    \n",
    "    plt.plot(t, x, label='x')\n",
    "    plt.plot(t, y, label='y')\n",
    "    plt.title('Grafik x dan y terhadap waktu')\n",
    "    plt.legend(bbox_to_anchor=(1.05, 1), loc='upper left', borderaxespad=0.)\n",
    "    plt.grid()\n",
    "    \n",
    "def pilih(case):\n",
    "    s = wg.FloatSlider(description='s', \n",
    "                     value=20, min=1, \n",
    "                     max=100, \n",
    "                     disabled=True)\n",
    "    \n",
    "    m = wg.FloatSlider(description='m', \n",
    "                       value=10, \n",
    "                       disabled=False, \n",
    "                       step=0.01)\n",
    "    \n",
    "    \n",
    "    if(case == 'Kasus 1'):\n",
    "        s.disabled = True\n",
    "        Var.case = 1\n",
    "        \n",
    "        m.min = 10*((s.value*l)/g)\n",
    "        m.max = 100*((s.value*l)/g)\n",
    "\n",
    "    elif(case == 'Kasus 2'):\n",
    "        s.disabled = True\n",
    "        Var.case = 2\n",
    "        \n",
    "        m.min = (s.value*l)/(g*100)\n",
    "        m.max = (s.value*l)/(g*10)\n",
    "\n",
    "    elif(case == 'Kasus 3'):\n",
    "        s.disabled = False\n",
    "        m.disabled = True\n",
    "        m.value = 10\n",
    "        \n",
    "        s.min = (g*m.value)/(l*100)\n",
    "        s.max = (g*m.value)/(l*10)\n",
    "        Var.case = 3\n",
    "\n",
    "    else:\n",
    "        s.disabled = False\n",
    "        m.disabled = True\n",
    "        m.value = 1\n",
    "        \n",
    "        s_min = (10*g*m.value)/l\n",
    "        s_max = (100*g*m.value)/l\n",
    "        Var.case = 4\n",
    "        s.min = s_min\n",
    "        s.max = s_max\n",
    "    \n",
    "    \n",
    "    t = wg.FloatSlider(description='t', \n",
    "                       value=10, \n",
    "                       min=1, \n",
    "                       max=60, \n",
    "                       step=1)\n",
    "    interact(result, s=s, m=m, tr=t)\n",
    "        "
   ]
  },
  {
   "cell_type": "code",
   "execution_count": 6,
   "metadata": {},
   "outputs": [
    {
     "data": {
      "application/vnd.jupyter.widget-view+json": {
       "model_id": "29912acd16cc40d8b713eceaccb03abf",
       "version_major": 2,
       "version_minor": 0
      },
      "text/plain": [
       "interactive(children=(RadioButtons(description='Pilih Kasus:', options=('Kasus 1', 'Kasus 2', 'Kasus 3', 'Kasu…"
      ]
     },
     "metadata": {},
     "output_type": "display_data"
    },
    {
     "data": {
      "text/plain": [
       "<function __main__.pilih(case)>"
      ]
     },
     "execution_count": 6,
     "metadata": {},
     "output_type": "execute_result"
    }
   ],
   "source": [
    "# nbi:hide_in\n",
    "pilihan = wg.RadioButtons(\n",
    "    options=['Kasus 1', 'Kasus 2', 'Kasus 3', 'Kasus 4'],\n",
    "#    value='pineapple', # Defaults to 'pineapple'\n",
    "#    layout={'width': 'max-content'}, # If the items' names are long\n",
    "    description='Pilih Kasus:',\n",
    "    disabled=False\n",
    ")\n",
    "\n",
    "interact(pilih, case=pilihan)"
   ]
  },
  {
   "cell_type": "code",
   "execution_count": null,
   "metadata": {},
   "outputs": [],
   "source": []
  },
  {
   "cell_type": "code",
   "execution_count": null,
   "metadata": {},
   "outputs": [],
   "source": []
  }
 ],
 "metadata": {
  "kernelspec": {
   "display_name": "Python 3",
   "language": "python",
   "name": "python3"
  },
  "language_info": {
   "codemirror_mode": {
    "name": "ipython",
    "version": 3
   },
   "file_extension": ".py",
   "mimetype": "text/x-python",
   "name": "python",
   "nbconvert_exporter": "python",
   "pygments_lexer": "ipython3",
   "version": "3.7.6"
  },
  "widgets": {
   "application/vnd.jupyter.widget-state+json": {
    "state": {
     "1adaf773505e4aa8a2e3d1502aab1359": {
      "model_module": "@jupyter-widgets/output",
      "model_module_version": "1.0.0",
      "model_name": "OutputModel",
      "state": {
       "layout": "IPY_MODEL_7ac0b11bc8af44fe8b8891f84ba4db18",
       "outputs": [
        {
         "data": {
          "application/vnd.jupyter.widget-view+json": {
           "model_id": "5eb59e89e480420ab877dd271a912f9a",
           "version_major": 2,
           "version_minor": 0
          },
          "text/plain": "interactive(children=(FloatSlider(value=20.0, description='s', disabled=True, min=1.0), FloatSlider(value=20.4…"
         },
         "metadata": {},
         "output_type": "display_data"
        }
       ]
      }
     },
     "29912acd16cc40d8b713eceaccb03abf": {
      "model_module": "@jupyter-widgets/controls",
      "model_module_version": "1.5.0",
      "model_name": "VBoxModel",
      "state": {
       "_dom_classes": [
        "widget-interact"
       ],
       "children": [
        "IPY_MODEL_62c0352af04142a88f15c237841cbf3c",
        "IPY_MODEL_1adaf773505e4aa8a2e3d1502aab1359"
       ],
       "layout": "IPY_MODEL_9164814073934d37bc5c08a546f90faa"
      }
     },
     "313c9d5384fb40fc983867a9f41722a9": {
      "model_module": "@jupyter-widgets/base",
      "model_module_version": "1.2.0",
      "model_name": "LayoutModel",
      "state": {}
     },
     "339959c1285e40baba436be789998e4e": {
      "model_module": "@jupyter-widgets/controls",
      "model_module_version": "1.5.0",
      "model_name": "SliderStyleModel",
      "state": {
       "description_width": ""
      }
     },
     "37447256975e4d408a647ce640ddd710": {
      "model_module": "@jupyter-widgets/base",
      "model_module_version": "1.2.0",
      "model_name": "LayoutModel",
      "state": {}
     },
     "3cfec0d784334b3aa71dfcd231feebe2": {
      "model_module": "@jupyter-widgets/controls",
      "model_module_version": "1.5.0",
      "model_name": "FloatSliderModel",
      "state": {
       "description": "s",
       "disabled": true,
       "layout": "IPY_MODEL_983ce509ddbe4d02a664d20761fad3b7",
       "min": 1,
       "step": 0.1,
       "style": "IPY_MODEL_67c10b5ead95493eadf85a878897598a",
       "value": 20
      }
     },
     "57a94d1e29794706bfd6573623be7264": {
      "model_module": "@jupyter-widgets/base",
      "model_module_version": "1.2.0",
      "model_name": "LayoutModel",
      "state": {}
     },
     "5cf1be3c679c41928a4394c6b6167770": {
      "model_module": "@jupyter-widgets/base",
      "model_module_version": "1.2.0",
      "model_name": "LayoutModel",
      "state": {}
     },
     "5eb59e89e480420ab877dd271a912f9a": {
      "model_module": "@jupyter-widgets/controls",
      "model_module_version": "1.5.0",
      "model_name": "VBoxModel",
      "state": {
       "_dom_classes": [
        "widget-interact"
       ],
       "children": [
        "IPY_MODEL_3cfec0d784334b3aa71dfcd231feebe2",
        "IPY_MODEL_fa4cfb8fabf7466ba4eba65c31d17884",
        "IPY_MODEL_8b61faeabddd4b0dbbacedbeb582a5c0",
        "IPY_MODEL_d10df6f2e7a74eb1a2cd93e168d47f82"
       ],
       "layout": "IPY_MODEL_5cf1be3c679c41928a4394c6b6167770"
      }
     },
     "62c0352af04142a88f15c237841cbf3c": {
      "model_module": "@jupyter-widgets/controls",
      "model_module_version": "1.5.0",
      "model_name": "RadioButtonsModel",
      "state": {
       "_options_labels": [
        "Kasus 1",
        "Kasus 2",
        "Kasus 3",
        "Kasus 4"
       ],
       "description": "Pilih Kasus:",
       "index": 0,
       "layout": "IPY_MODEL_94fa5b0fec674482bae2038f07345138",
       "style": "IPY_MODEL_a12ed9fc80ec403485f5d6edce31a153"
      }
     },
     "67c10b5ead95493eadf85a878897598a": {
      "model_module": "@jupyter-widgets/controls",
      "model_module_version": "1.5.0",
      "model_name": "SliderStyleModel",
      "state": {
       "description_width": ""
      }
     },
     "69ab3526151b4e5185f90e69ee8f1612": {
      "model_module": "@jupyter-widgets/controls",
      "model_module_version": "1.5.0",
      "model_name": "SliderStyleModel",
      "state": {
       "description_width": ""
      }
     },
     "72ad28540a434234a0b0cc07a92b9653": {
      "model_module": "@jupyter-widgets/base",
      "model_module_version": "1.2.0",
      "model_name": "LayoutModel",
      "state": {}
     },
     "7ac0b11bc8af44fe8b8891f84ba4db18": {
      "model_module": "@jupyter-widgets/base",
      "model_module_version": "1.2.0",
      "model_name": "LayoutModel",
      "state": {}
     },
     "807187ec2cbf4ca1bd208e153c557959": {
      "model_module": "@jupyter-widgets/base",
      "model_module_version": "1.2.0",
      "model_name": "LayoutModel",
      "state": {}
     },
     "81769ef2a73a4873a9a7ab0ba174ae22": {
      "model_module": "@jupyter-widgets/base",
      "model_module_version": "1.2.0",
      "model_name": "LayoutModel",
      "state": {}
     },
     "821475bcd4fe4180ae2d6de35eee6f1d": {
      "model_module": "@jupyter-widgets/controls",
      "model_module_version": "1.5.0",
      "model_name": "SliderStyleModel",
      "state": {
       "description_width": ""
      }
     },
     "8a8f22334943459aba5cb7667e7e37a7": {
      "model_module": "@jupyter-widgets/base",
      "model_module_version": "1.2.0",
      "model_name": "LayoutModel",
      "state": {}
     },
     "8b61faeabddd4b0dbbacedbeb582a5c0": {
      "model_module": "@jupyter-widgets/controls",
      "model_module_version": "1.5.0",
      "model_name": "FloatSliderModel",
      "state": {
       "description": "t",
       "layout": "IPY_MODEL_d6546157a1f7412da33f79e6463bb3f4",
       "max": 60,
       "min": 1,
       "style": "IPY_MODEL_821475bcd4fe4180ae2d6de35eee6f1d",
       "value": 10
      }
     },
     "8cc61a7111ce446ebd6007ad0a38d764": {
      "model_module": "@jupyter-widgets/controls",
      "model_module_version": "1.5.0",
      "model_name": "SliderStyleModel",
      "state": {
       "description_width": ""
      }
     },
     "9164814073934d37bc5c08a546f90faa": {
      "model_module": "@jupyter-widgets/base",
      "model_module_version": "1.2.0",
      "model_name": "LayoutModel",
      "state": {}
     },
     "94fa5b0fec674482bae2038f07345138": {
      "model_module": "@jupyter-widgets/base",
      "model_module_version": "1.2.0",
      "model_name": "LayoutModel",
      "state": {}
     },
     "983ce509ddbe4d02a664d20761fad3b7": {
      "model_module": "@jupyter-widgets/base",
      "model_module_version": "1.2.0",
      "model_name": "LayoutModel",
      "state": {}
     },
     "9ffb964fc5b54b9795f5de5787965c6e": {
      "model_module": "@jupyter-widgets/controls",
      "model_module_version": "1.5.0",
      "model_name": "FloatSliderModel",
      "state": {
       "description": "m",
       "layout": "IPY_MODEL_8a8f22334943459aba5cb7667e7e37a7",
       "max": 204.08163265306123,
       "min": 20.408163265306122,
       "step": 0.01,
       "style": "IPY_MODEL_8cc61a7111ce446ebd6007ad0a38d764",
       "value": 20.408163265306122
      }
     },
     "a12ed9fc80ec403485f5d6edce31a153": {
      "model_module": "@jupyter-widgets/controls",
      "model_module_version": "1.5.0",
      "model_name": "DescriptionStyleModel",
      "state": {
       "description_width": ""
      }
     },
     "b0b8f69458694b2d94c8ea4a2c0365a8": {
      "model_module": "@jupyter-widgets/controls",
      "model_module_version": "1.5.0",
      "model_name": "SliderStyleModel",
      "state": {
       "description_width": ""
      }
     },
     "c5376771f5304ab2a5972df77cac8c2f": {
      "model_module": "@jupyter-widgets/controls",
      "model_module_version": "1.5.0",
      "model_name": "RadioButtonsModel",
      "state": {
       "_options_labels": [
        "Kasus 1",
        "Kasus 2",
        "Kasus 3",
        "Kasus 4"
       ],
       "description": "Pilih Kasus:",
       "index": 0,
       "layout": "IPY_MODEL_e5a8ce44f9e0477fb0f342635e336cd9",
       "style": "IPY_MODEL_fe1d7389b62a4d729723e9895f9ad3e0"
      }
     },
     "c7fb93d10153496f954eaebdc5ea15a9": {
      "model_module": "@jupyter-widgets/base",
      "model_module_version": "1.2.0",
      "model_name": "LayoutModel",
      "state": {}
     },
     "c7fb9e92021544bd921391d9baad9e5b": {
      "model_module": "@jupyter-widgets/base",
      "model_module_version": "1.2.0",
      "model_name": "LayoutModel",
      "state": {}
     },
     "d0d3d7acf4c2437a8a0582d3d7debf7b": {
      "model_module": "@jupyter-widgets/controls",
      "model_module_version": "1.5.0",
      "model_name": "VBoxModel",
      "state": {
       "_dom_classes": [
        "widget-interact"
       ],
       "children": [
        "IPY_MODEL_c5376771f5304ab2a5972df77cac8c2f",
        "IPY_MODEL_e1afda8619be421587ecf51952eb9482"
       ],
       "layout": "IPY_MODEL_57a94d1e29794706bfd6573623be7264"
      }
     },
     "d10df6f2e7a74eb1a2cd93e168d47f82": {
      "model_module": "@jupyter-widgets/output",
      "model_module_version": "1.0.0",
      "model_name": "OutputModel",
      "state": {
       "layout": "IPY_MODEL_c7fb93d10153496f954eaebdc5ea15a9",
       "outputs": [
        {
         "name": "stdout",
         "output_type": "stream",
         "text": "a: 1\ng: 9.8\nl: 1\ns: 20.0\nm: 20.408163265306122\ng/l: 9.8\ns/m: 0.98\nRasio s/m 10.0 kali lebih kecil dari g/l\nOmega 1: 3.1304951684997055\nOmega 2: 3.4292856398964497\n"
        },
        {
         "data": {
          "image/png": "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\n",
          "text/plain": "<Figure size 432x288 with 1 Axes>"
         },
         "metadata": {
          "needs_background": "light"
         },
         "output_type": "display_data"
        }
       ]
      }
     },
     "d6546157a1f7412da33f79e6463bb3f4": {
      "model_module": "@jupyter-widgets/base",
      "model_module_version": "1.2.0",
      "model_name": "LayoutModel",
      "state": {}
     },
     "dd57e4b205ef48989c474856a2440f11": {
      "model_module": "@jupyter-widgets/controls",
      "model_module_version": "1.5.0",
      "model_name": "FloatSliderModel",
      "state": {
       "description": "t",
       "layout": "IPY_MODEL_81769ef2a73a4873a9a7ab0ba174ae22",
       "max": 60,
       "min": 1,
       "style": "IPY_MODEL_339959c1285e40baba436be789998e4e",
       "value": 10
      }
     },
     "e1296fe2267845809d1e8b837694e317": {
      "model_module": "@jupyter-widgets/output",
      "model_module_version": "1.0.0",
      "model_name": "OutputModel",
      "state": {
       "layout": "IPY_MODEL_807187ec2cbf4ca1bd208e153c557959",
       "outputs": [
        {
         "name": "stdout",
         "output_type": "stream",
         "text": "a: 1\ng: 9.8\nl: 1\ns: 20.0\nm: 20.408163265306122\ng/l: 9.8\ns/m: 0.98\nRasio s/m 10.0 kali lebih kecil dari g/l\nOmega 1: 3.1304951684997055\nOmega 2: 3.4292856398964497\n"
        },
        {
         "data": {
          "image/png": "iVBORw0KGgoAAAANSUhEUgAAAbcAAAEICAYAAADcC7pLAAAABHNCSVQICAgIfAhkiAAAAAlwSFlzAAALEgAACxIB0t1+/AAAADh0RVh0U29mdHdhcmUAbWF0cGxvdGxpYiB2ZXJzaW9uMy4yLjEsIGh0dHA6Ly9tYXRwbG90bGliLm9yZy+j8jraAAAgAElEQVR4nOydZ3gkV5Ww39utnHMOEzQ5OIxnnO0xGHBgTU5Lsgn+bGOWjJdlAe+SdmEJ6zXgxQaMMWADxsY7DM6jMeOxPTlpojQa5Rw6qNWSWn2/H7dK06NpSV3VJakl1fs8/bS6696qU92tOnXOPUFIKbGxsbGxsZlPOGZbABsbGxsbG6uxlZuNjY2NzbzDVm42NjY2NvMOW7nZ2NjY2Mw7bOVmY2NjYzPvsJWbjY2Njc28w1ZuNlMihHiHEKJJCOEVQlwkhKgRQmzWtt0rhHh0BmS4VQixY7qPM90IIRYJIaQQIs6i/VULIT5hxb6mA+1cq2ZbDpuFh63c5hlCiPcLIV4XQgwIITq1v+8SQogodvtfwN1SyjQp5X4p5RopZbVFIs8p7Iu1ddifpc10Yiu3eYQQ4gvAfwPfB4qAQuAO4EogYYI5zgh2XQnUWCTmgsUqa83GxmZqbOU2TxBCZAL/DtwlpfyTlNIjFfullB+UUg5p4x4WQvxMCLFVCDEAXCeEuFkIsV8I4dbcj/dqYxOFEF7ACRwUQtRp758RQlwfRoZ4IcTvhRBPCCESxm1LEEIcEEJ8WnvtFEK8IoT4+gTnkyuEeFqTaRewdNz2/9ZkdQsh9gohrg7Zdq8Q4g9CiEeEEB7NjXrJBMf5iRDiB+Pe+z8hxGfDjH1Z+/Og5qJ9n/b+W7Vz6xdC7BRCrA+Zc0YIcY8Q4hAwAOgK7oNCiEYhRLcQ4qsh4zcJIV7V9tUmhLg/9LMUQrxJCHFcCOESQtwPiJBtS4UQLwkherT9/lYIkTVOlq8IIY4KIfqEEL8SQiRN8Lk0CCE2aH9/SLOyVmuvPyGEeCoSecft8yrtO7su3GcZzvVsW3c2ppFS2o958ABuAAJA3BTjHgZcKGvOASQBm4F12uv1QAfw9pA5EqgKeX0GuF77+17gUSAZ+Ku2f+cEx14L9AGrgK8Cr00y9jHgD0CqNq8F2BGy/UNALkpZfAFoB5JCZPIDN6EU83eB1yY4ziagFXBor/MAH1A4wfjxn8XFQCdwqXasj2qfT2LIZ3UAKNc+o0XaPh7UXl8ADAGrtPEbgMu081oEHAM+GyKbG3g3EA98TvvOP6FtrwLeBCQC+cDLwI/HfW9HNFlygFeAb01wno8AX9D+/jlQB9wZsu1zU8kb+nkBbwGagE2TfJa3hn7H4cbYD/sR6WPWBbAfFn2R6mLfPu69nUA/MAhco733MPDIFPv6MfCjkNdTKbenge3AfYCYYt9fAI6jlNyyCcY4gRFgZch73xl/4Rs3pw+4IESmF0K2rQYGJ5l7DHiT9vfdwNZJxo7/LH4GfHPcmBPAtSGf1cdCti3S9lEW8t4u4P0THO+zwJPa3x8hREmjrLZmNOUWZu7bgf3jvrc7Ql7fBNRNMPfjwNMhn88ngMe01w3AxVPJG/J5fUWbs26Kz9JWbvbDsoftlpw/9AB5oes6UsorpJRZ2rbQ77opdKIQ4lIhxDYhRJcQwoVap8szcOzLUBbff0gpp6rE/WvUBX6rlPLUBGPyUZZAqJwN42T+ghDimOae6wcyx8ncHvK3D0iaZM3r16ibA7Tn30xxDqFUAl/Q3HL9mizlQEnImKYw88bLlwYghFguhNgihGgXQrhRSl0/r5LQfWmf9dhrIUSBEOIxIUSLNvdRzv8ex3+mJYRnO3C1EKIIdbPxOHClEGIR6rM+EIG8Op8F/iClPDzBsWxsLMdWbvOHV1HurbdFMHa8Avodyvoql1JmAg8QspYTAc+hXH8vCiEKpxj7U2AL8BYhxFUTjOlCudvKQ96r0P/Q1tfuAd4LZGsK3GVQ5lAeBd4mhLgA5TJ9ysDcJuDbUsqskEeKlPL3IWOMtN74GcqyXSalzAD+hbPn1UbIZyKEEJz7GX1XO9Z6be6HOP8zGf+ZtoYTQkpZi1K6/wS8LKX0oBTy7SjrKhiBvDrvAd4ebh1zHANASsj5FU0x3sZmQmzlNk+QUvYD/wb8VAjxbiFEmhDCIYS4ELVuNRnpQK+U0i+E2AT8o4njfw+lJF8UQoS1+oQQH0at0dyKumj+WgiRFmZfo8CfgXuFEClaIMNHx8kbQCnBOC0oJcOozCHHawZ2oyy2J6SUg5MM7wCWhLx+ELhDs36FECJVqACddJPipKPW1bxCiJXAnSHb/gqsEUK8U7NC/wkVFRs61wv0CyFKgS+F2f+nhBBlQogclCJ6fBJZtqPctNu119XjXk8lr04r8Ebgn4QQd4W8P/6zPKid34VaoMu9k8hmYzMptnKbR2gK5vPAl1FBDh3A/6KsnJ2TTL0L+HchhAf4OiqQw8zxv4myel7QLp5jCCEqUGt5H5FSeqWUvwP2AD+aYHd3o1x17ah1wl+FbHsW+BtwEuVa8xPe9WeEX6OCaqZySd6LUsr9Qoj3Sin3AJ8E7ket+9WilLdZvoi6ufCgFOeY8pFSdqOsoP9AuZqXoYJCdP4NFeDiQinCP4fZ/+9QlvZp7fGtSWTZjlJeL0/welJ5Q5FSNqIU3D3ibNL5vZz7WZ5ERfy+AJwC5nzSvs3sIaZeIrGxmf8IIa5BuScXhbjc5hVCiDOo4JMXZlsWG5vpxrbcbBY8Qoh44DPAQ/NVsdnYLDRs5WazoBFCrEKlSxSj3KY2NjbzANstaWNjY2Mz77AtNxsbGxubeUdMF3LNy8uTixYtMjV3YGCA1NSpIuDnF/Y5Lwzsc57/RHO+e/fu7ZZS5kdz/L179xbExcU9hCp9F4tGUBA4EggEPrFhw4bOcANiWrktWrSIPXv2mJpbXV3N5s2brRUoxrHPeWFgn/P8J5rzFUI0TD1qcuLi4h4qKipalZ+f3+dwOGJu7SoYDIqurq7V7e3tDwG3hBsTixrZxsbGxmZ2WZufn++ORcUG4HA4ZH5+vgtlWYYfM4Py2NjY2NjMDRyxqth0NPkm1GG2crOxsbGxmXfYys3GxsbGZt5hKzcbGxsbm3lH1MpNCFGu9QI7JoSoEUJ8JswYIYS4TwhRK4Q4JIS4ONrj2tjY2NjMT7Zv356yfPny1T6fT7jdbkdVVdWa3bt3JxnZhxWpAAFUO/p9WpuPvUKI56WUR0PG3IiqYL4MuBTVA+pSC45tY2NjYzONfOlPB8tPtntSph4ZOcuL0n3ff/cFE3byuPbaa3033HBD/2c/+9nSwcFBx3ve856ejRs3+o0cI2rlJqVsQzVRRErpEUIcA0qBUOX2NuARrXPwa0KILCFEsTbXcu578RT0Btg8HTu3sbGxsZl2vve977VdcMEFqxITE4O/+tWvGo3OtzSJW2tBfxHw+rhNpZzbb6tZe+885SaEuB3V7ZfCwkKqq6sNyTAUkDz0sg/3MLR4n+fGxfGG5s9lvF6v4c9rrmOf88JgoZ1zLJ3vZBbWdNLZ2en0+XyOQCAgfD6fIyMjw1DHDsuUm9ZR+Qngs1JK9/jNYaaEzaGQUv4c+DnAJZdcIs1k6V+3OcgH/uc5nqwN8KlbrqQi11KLOmZZaFUcwD7nhcKCOmcpqd6+feGc7wTceuuti7761a+21tfXJ9x9991ljzzyiCHrzZJoSa0f1hPAb6WU4br/NgPlIa/LUK3np4WEOAcfWpUAwC9fqZ+uw9jY2NhYz44fsv7gNyAwPNuSzBr3339/blxcnLzjjjt6v/3tb7cfOHAg5emnn043sg8roiUF8AvgmJTyhxMMexr4iBY1eRngmq71Np3sJAc3riviiX3NDAVGp/NQs0IwKNl6uI2/HGghMGr317SxmRdICft/iyM4AnEJsy3NrHH33Xf3PPfcc3UAcXFxHDp06Pgtt9ziMbIPK9ySVwIfBg4LIQ5o7/0LUAEgpXwA2ArcBNQCPuA2C447JbdcUMJfDrTy+ulerlkeVZHsmEJKyZf+dIgn9jUDsOVQG//7oQ2zLJWNjU3UtO6H3jraV9xN1mzLMsexIlpyB+HX1ELHSOBT0R7LKFdW5ZEU7+CFYx3zSrlVn+jiiX3N3HHtUtKT4vj+syd46kALObMtmI3NdCMltO5Tf5dcDGLSS8/co/YFQNCTu2m2JZnzzOsKJUnxTq6qyufFY2Hb/cxZ/vflOkoyk/jCm5dz57VLWV2cwf0v1WJ3VbeZ9zz7VXjwDerx3L/OtjTWU/sClFzESELmbEsy55nXyg3gyqpcWvoHaekfnG1RLOFEu4fXTvdy65WLiHc6cDgEH79qMae7BzjZZ6+92cxjTr0Ar/0ELv4oXPRhePV+qHtptqWyjsF+aN4NVdfPtiTzgnmv3DYuUs66PWd6Z1kSa3jmSDtCwDsuKht778Z1RSTHO3m9PTCLktnYTDM7fghZFXDTf8HNP1B/b/vubEtlHc27QQZh8dWzLcm8YN4rt5VF6aQmONlzpm+2RbGE5462s6Eim/z0xLH3UhLiuLIqj4Odo7Zr0mZekuqth4ZXYNPtKoowLhEuvROad0H74dkWzxqad4NwqLVEm6iZ98otzungoops9jbMfeXW7vJT0+rmTasLz9v2hpUF9Pglpzq9syCZjc30UtixHRzxcOEHz765/n1KGRz9y+wJZiVNu6BwDSSmzbYk84J5r9wA1pVlcrLDM+fz3V6v7wFUFOh4rlupokFfPtk1ozLZ2MwEed27YNFVkBISE5yaC5VXwvG/zp5gVhEMQsteKNs425LMGxaEcltTkkEgKDnVMbetml31vaQnxrGqOOO8bcWZyeQli3lhodrYnEN3LSmDLbDipvO3rbwZOo9C7+mZl8tK+uphyA0lF822JDHBZz7zmZJvfvObBfrrT3/606Xf+ta3CiabMx5LCyfHKmtKVFhtTauLtaVzN8R2V30vF1dm43SEz+1ZluVgT0MfUkrEfMv/sVm4nN6mnpe/+fxtS9+ons/sgJwlMyeT1XTUqOfCtbMrRzie+lQ5nUetLdBbsNrH238yYUHmu+66q/sd73jH0q997Wudo6OjPPXUU9m7d+8+ZuQQC8Jyq8xJIS0xjprW8fWc5w4u3winOr1sXJQ94Zhl2U66PEM09c6PtAcbGwAaduJPzIWsyvO35S2DlDxo2DnzcllJ51FAQP7K2ZYkJlixYsVwVlZW4JVXXkl+8sknM9asWeMrKioytK60ICw3h0OwsiidY21zV7nVtLkAJrU8q7LUvcr+pr550wnBPzLK/24/zZmeAT50WSUbKidW7jbzECmhYSeuzDUkhfNGCAGVl6tIyrlMxxHIXQoJMfh/O4mFNZ3cdttt3Q899FBeZ2dn/G233dZjdP6CsNwAlhWmUTuHIwmPalan7mINR0magwSng6NzWImHIqXkM4/t50cvnOS5mnY+8OBr7Gu01xQXFH314G3Hlbl64jEVV0B/I7haZk4uq+moUZGSNmN8+MMf7t+2bVvmwYMHU9/1rne5jM5fMMptaX4afb4RerxDsy2KKY62uilITzwnv208cQ7BssK0MUU413npeCfP1nTwlRtXsuOeN5Cflsi//Pkwo0E7l2/B0KLqSLozVkw8plQrGt52cAYEmgaGB6C3Hgps5RZKUlKSvOKKK9y33HJLb1yccSfjglFuVQUqd2SuWm81re6IgmFWF2dwtNU955O5pZT8+IVTVOSk8LGrFpOdmsCXb1jB8XYP20/Or1qhNpPQdhCcCQyklk88pnANIKD90IyJZSmdxwEJhZNYpwuQ0dFR9u3bl3bnnXd2m5m/8JRb19xTbv6RUWq7vKwpOT8FYDyrSzLoGRimyzM3LVSdmlY3h1tc3H7NEuKd6md607piCtITeeTVhlmWLgapeQoeuh7+eCt42mdbGutoPwQFq5CO+InHJKapwJK5arl1n1TPdjDJGHv37k2qrKxcd/XVV7vXrVtn6mK2IAJKAEoyk0mOd85Jy+1kh4fRoIxMuWk5cEfb3BRkJE23aNPGXw60EO8UvHV98dh78U4H79tYzv3baunyDE3qol1QnHwW/vhRyK1Sazedx+D27RA/d79/QAWTtB2EVf8w9dii9dD42vTLNB301IJwQvai2ZYkZtiwYYO/ubk5qrpqC8ZyczgESwtS56hyUzIvL5y6y/qqkrPKba4ipeSvh9q4Zlk+WSnndiO+YW0RUsJLxztmSboYY8QPWz6v8qPueAXe9xvoOg4775ttyaLH1QyDfUpxTUXxBeBuhgHDQXWzT0+tUmzOSazTmScYDAZjOllWk2/CViiWKDchxC+FEJ1CiCMTbN8shHAJIQ5oj69bcVyjVOWnUTcHlVtdl5d4p6A8Z+ow4YykeEoyk6idw9VYaju9tLr8YWtori7OoDQrmedqbOUGwKHH1UX9Ld9RllrV9bD8Rnj1JypQYS6jr6EVXzj12OILtDlz0DXZU6es7tjiSFdXV2asKrhgMCi6uroygbA6B6xzSz4M3A88MsmYv0sp32rR8UyxOC+Npw604h8ZJSneOZuiGKKu00tlburY2tNULMlPo24Ori3q/P2UWj++atn5NTSFEFy/qoDH9zQxHLD717H3YShYDYuvOfve5Z+Ck3+D41th/XtmTbSoaT8CCBVoUbd78rF6GH3ncVj6hmkXzTKCQeitO/f7iwECgcAn2tvbH2pvb19LbHr4gsCRQCDwiYkGWKLcpJQvCyEWWbGv6aQiNxmA5r7BsQCTuUBdl5dlBVO7JHWW5qfy530tc7YM147abhbnpVKWHd5SvXxpLr9+tYHDLf0zLFmM0XEUWvfBDf+pkpl1Kq+EzHJl1c1l5dZ9ArLKISF16rEpuZCcrebMJTxtMOJTCdwxxIYNGzqBW2ZbjmiYyYCSy4UQB4FW4ItSyppwg4QQtwO3AxQWFlJdXW3qYF6v97y5PX2qesuW6te4sGBuxNIEgpIz3T5WpQ9P+Vno5zzaP4JnKMBfnt1GVlIs3nRNTFBKXq31cWlR3ITnOzKs0hx+98Ieriuc+nOZb+jfc0XDH1iMYKe7iJFxn8HizE1U1D7JK89vIRA/d27kQrmkfh9Difkcrq4O+/88novii5C1uzgwh34PWX2HuBA40DxA/0D12PuRnK/NFEgpLXkAi4AjE2zLANK0v28CTkWyzw0bNkizbNu27bz3Ot1+WXnPFvmrHadN73emOdXhkZX3bJFP7G2acqx+zjtOdcnKe7bIV2q7plk669HP9/HdjZOOe8uPtssPPfRa2O95vjN2zj+/TsqfvyH8oIZXpfxGhpRHnpwxuSxlNCDlNwukfOZfpJTh/5/P4y93S/mfS6ZXLqvZ9aD6nlwt57wdze8a2CMtuq7P5ceM3NZLKd1SSq/291YgXghx/oLKNJOXlkBKgpPGOVRYWF87W5of+d33kvxUbe7cCyjYr5XXuqg8a9JxGyqzOdDUT3COJ6ubxtup+n+tuCH89tJLIDETal+YWbmsor8RAn7In6QyyXjyVoCvG3y90yeX1fSdgbgkSCuabUnmHTOi3IQQRUJb/BFCbNKOO+Mxu0IIKnJSaOydOxd9XbnpCisSijKSSElwzsnI0ANN/aQnxk2pzNeXZeLxB+j0LVDlphcKXjJB8IQzDpZcC3XbZk4mK+nS1s7yjCi35efOnQv0NUBWBTjm1vLBXMCqVIDfA68CK4QQzUKIjwsh7hBC3KENeTdwRFtzuw94v2Y+zzjlOSk09vpm49CmaOr1kZeWQHpS5DkwQgiWztGIyQNN/awvz8QxQc86nfVlyrKrdy3QiMmGVyE+BYonyQFbdJVKE3A1z5xcVqEHhuQvj3yOPnYuBZX0NyrlZmM5VkVLfmCK7fejUgVmnYqcFP5+qmvORBI29voiym8bT2VuCkdaDBfSnlX8I6Mcb/dwx7VTN51cVpBGUryDepehFk/zh4adUL5p8sTfso3quWkXZJbNjFxW0X0SUgtUBGSkZFZAXDJ0n5o+uaymv+Fs4WcbS1lwtnBlbgr+kSBdc6Q7QGOvjwoTyq0iJ4XmvkECo3PHsjnV4dXKjE1dIDrO6WBNSSZn3HPn/KwibsSr+n9VXjn5wKJ16mLfPEWOWCzSc9p4YrPDoSp99NZPi0iW43erCiy25TYtLDjlpltBjT2x75ocGQ3S2u83rdwCQUmbyz8Nkk0Px9tVybCVRZHl9K0rVcptobXAyXBrVeQrLp98oDMeSi5Slttco/c05Cw2Pi97kQrSmAv0N6rn7DAdxm2iZsEpN11RzIV1t7Z+P6NBacotqZ9n0xw4T53j7R6S4h1U5kYWPLO6JIPhUWjomTsBQpMxHAjS1OsjOIWyTvfUAkIprqko36iKD4/MnZschn3gbYdsE8otZ7FSbnMhirZf625hW27TwoJTbmXZqkrJXFBuuoxmLLfyOaTEdU60e1hWkI5zimASHd3CO9nhmU6xZoRX63q44j9e5OrvbePG//77pAo73VOrIgMTI0gPKb0EgiOqW8BcQbe8zFpuIwMw0GWlRNODbrllLZpVMeYrC065JcY5yU9PpK0/9u9kG7SUBTPKrTgziTiHmFPK7Xi7hxURuiRB9egTwIn2uRcVGkpTr49PPrKHrJQE/vXmVXR4/Nz2q90MDocPlkn31EFJBMWEQa27AXRE1T1kZunT1szMWG76nLmw7tbXAAlpkJIz25LMSxaccgMoyUqm1RX7idyNvT4SnA4KTfRli3M6KMtOpmGOKLce7xDd3qGI19sAUhLiyE8RnOiYu+19AL6z9RijQcmvP7aJT1y9hJ9+8GJOdw/w0+ra8wd7Okgc7j1bBX8qsiohIV0rQjxH0BWTWcsN5sa6m54GMAeituciC1K5lWYl0dof+8qtqddHWXZyxG668ZTnpMyZNbcT7cq1aMRyAyhLc4zNnYscbXXztyPt3HHtUkqzlMv8iqV53LSuiIdfOYPbP3LuBL3bdCRtYEBFEBauUdGVc4W+ekjKNGfRZFUA4qz1F8v0N6ibD5tpYUEqt+LMZFr7/cxSHnnEmM1x06mYQwnrdd3KBWu0W0NpuoMzPT78I3Mz3+3R1xtIjHNw6xWLznn/rs1VeIYCPL6r6dwJbQeQiMmTt8dTtFatucX4732M3tPmXJKgetpllMS+W1JKO4F7mlmQyq0kK5nBkVH6fSNTD55FGnvM5bjpVOSk0O8bwTUY2+cJUN81QHK8kyKDLtjyNAejQRm+GktgCJ79Kvx4PTz6LugO4+abRXzDAZ7a38I/XFBCZsq5ydhrSzO5qCKLP+1tPvcmrKMGf1IhJBqwcAvXwpD7bABDrNNbb84lqZO9OPbdkkNu9ZhryfVziAWp3Eqz1AW0JYZdk27/CG5/YCy60wxzKR3gdLeXxXmphqvGFKepn/B5RaKlhCc+Aa/eD/krVZHhX74lpkpRbT/RhW94lHdeXBp2+zsvLuNEh4ea1pA1xa7jDKQavNsfCyqZA67J0QC4msxbbgA5i2LfLelqUc+Z4b97m+hZkMqtRFvbiOV1Nz2aU5fVDLpLs7kv9pVbffcAiw0Uh9YpTBEIoSy/c9j/Gzj2NLzp3+GDf4CPPaeqzG/5vEUSR88zNe1kp8SzaVH4taW3rivG6RA8c6RdvREYhp5a48pNr6w/FwoKu5ogGIjSclsE3g4YjuH8R3eres6wLbfpwlZuMYoezRmNcjt7nrGd9qAnLy/NM67cEpyCksxk6rtD3JIjg7DtO1B+KVzxT+q9/OVwzRfh1LNwZodFkpsnMBrkpWOdvGl1IXHO8P+G2akJbKjI5qXjneqN3joIBhhILTd2sMR0SC+ZGzUXx3K/ogi00Ofq1lEs4tY8CBklsyvHPGZBKrfc1AQS4hwxXZpKV7wlWcbTAHSyU+JJinfEtBIHFTgTlJiy3EC1AzrdHXKXvv9R8LTBG752bpj1pXeoYrw7/ydKiaPnUIsLz1CAa5cXTDruupUFHG1z0+7yQ+cxAHwpJoIQ8papYsSxjksLoMkyqMBD0dexXE2Tj5tN3K0gHJBu93GbLhakchNCUJKZFNNrbq39gzgdgoJ088pNnWfs5/Sd1oJBFucZi5TUWZKXSn3XgAq8kBL2/ErlgS2++tyB8clw8Yfh1HOzvvb2ap1qZ3jZksnD3d+wUim/bSc6lXITDnwpJlxZecuU5RbrEZP9TYCIzl03ptxiZ331PFwtkFY4eVcHm6hYkMoNtETuGFZubf1+ijKSTOe46ZRkJdMS427Jes3qWmzCLanP8wwFVKeHlr3QWQMbbgs/+OKPggzCwd+bFdcSXqntZlVxBrlpiZOOW16YRklmEi+f7IKuY5C9mKAzwfgB85bDkEt18I5lXE3KmokzcY466cXKKopl5eZugQw7mGQ6WeDKLXYv+i39g1G5JHVK5kDCen33AHlpCWQmm7uLXaJ17a7vGoCaJ8ERD2vfGX5wdiWUbYKjT5sVN2r8I6PsaejjiqW5U44VQnDZklx2n+lFdh6HglXmDpq3TD33xPi6m6sJMqNwSYKyhtKL54Bys9fbphOrOnH/UgjRKYQIG2ssFPcJIWqFEIeEEBdbcdxoKMlMosPjj9l+Z20uP8WZ5oNJdEqykunyDDEUiN0k59PdA6atNjhr8dV3eeHY/8GSzarCxUSsvgXaD81aou/hFhfDgSCXLZlauQFsWpyD2zugkpvzV5o7aJ7epTrG1936m6zJ/cosi901NymVW9K23KYVqyy3h4EbJtl+I7BMe9wO/Myi45qmMDMJKYnJpqXBoKTNNRhVpKSOvo8OV+ydp05jjy/iNjfhKMlKJiHOgbfxgCpptOofJp+w8q3q+eSzpo8ZDQeb+gG4sDwrovGbFudQIToQcvSskjJKegnEp8Z2xGQwqCyaaIJJdDLLYtdy87tU5wI7x21asUS5SSlfBnonGfI24BGpeA3IEkIUW3FssxRqgRod7ti76HcPDDEyKi1xS+r1CmM1eMY/Mkq72095tvlKLE6HYHFuKgUtz6u1lhU3TT4hZ7FKEq7fbvqY0XCgqZ/SrGTy0ydfb9NZnJfKBckqAMVwd2odhwNyl8a25ebtgE1BJdIAACAASURBVNHh6N2SoJSbu0UpzFhjLMfNdktOJ3EzdJxSINRH0Ky91zZ+oBDidpR1R2FhIdXV1aYO6PV6J53b7FJuuhd37qG/cKY+hsg43a9k62mqpXroTMTzwp1z+4D6537ptX0MNcVeZFabV8nn7ThDdbXxvCT9nNPwU9m/C3f6Uvbtmbp32fKk5RTUbuOVl15EOpyGjxsNr5/ysSjTYei3fUFCC/hhx7E2vEOY+r9YFcwio/kQr5v8n5puMlzHuRg41OSi11d9zrap/p/HU9I5yPLRYXY+/xeGE7MtlTNacnr2sh7YV9eJu7s67Bij52sTBimlJQ9gEXBkgm1/Ba4Kef0isGGqfW7YsEGaZdu2bZNu73APysp7tshf76w3fYzpYuuhVll5zxZ5pKXf0Lxw5zw4HJCV92yR971w0iLprGXb8Q5Zec8Wuau+x9x87Zz/8y+75fDXs2XwuW9ENvHIk1J+I0PKxtdNHdcs3R6/rLxni/zf7bWG5tU88FHZ/fVS2eMdmvK3PSEvfkvKe7OkDAybmz/dHP6T+k7aa87bZPicj29V+2raY41sVrLnV0q2vsYJh5j+jqWUwB5p0XV9Lj9mKlqyGQj1NZQBrTN07LDkpSbidAiVHBtj6C7EUgvW3JLineSlJcRsrltTn5IrGrckwAaOEy9G6S+6PLIJi68BBJyujuq4RjnU7AJgfVlk6206pcFWzsgiDjX3mz949iKVBhGrBZT7NeeOVQElEJtBJa4WO4F7Bpgp5fY08BEtavIywCWlPM8lOZM4HIKC9MSYXHNrc/lJjneaDo0fT3Fm7Oa6Nff6SIhzUBDh+tNELPftY0jGUZ+8NrIJKTlQsBoaX4vquEY50NSPQ8C60kmiOcOQ7mvUlJvL/MFjvZGnq0lFuSZlRL+vWE7kdrfaCdwzgFWpAL8HXgVWCCGahRAfF0LcIYS4QxuyFTgN1AIPAndZcdxoKcxIosMdexf9Vi3HzWiF/IkoyUqiLUYDSpr6fJRlJeOIMlm9oPt19stlnHEbqMBRvhGa98xo0MHhFhdVBWmkJhpY5x0ewOFpoz+5IjrLTS9GHKvKrb8JMi3qb5aUBQlpMarcmu00gBnAkkgKKeUHptgugU9ZcSwrKcxI5PT4avIxQKvLb0kagE5JVjI7TnUjpbRMYVpFU+8gZVH0rANgsI+E7hp2Bt+Fw0h7n/JLYe/D0H3CfHK0QY63udm02GCH6d7TAMTlV3Gw2cUHK0wGwKQVgTMxdtvBuJrOWpfRIkTs5rq521Qhb5tpZcFWKAEoykiiPQYttw6Xn0KDTTsnozQrmYHh0ZhsWtrU56M8ip51ALTsRSCpT15rrPN42SZNiF3RHT9CXL4RWl1+VhQZdLv11AGQXbaKLs8QfUMm60M6HKpCS6xabq5ma9IAdGI1183briqo2EwrC1q5FWYm4fEH8A0HZluUMYJBSZd3iMKM6NagQinKVIoy1hS5xz9Cv29krO+caZr3AAJ3znpjjVlzl0JyDjTPjHI70eEBYGWxgS7aoFrdABXLVdPRelcUbtRZ7lIdDEp2nOrm8d2N1HaGtCnyu7TO1Ba66zJKY0+5jQyqc00rnG1J5j2xleA1w4Qmci/Oi42PomdgmNGgjKobwHiKNCuw3eVnpVGrYRpp6rUmUpKmXVCwmoK8PF4+1RX5PCGg7BJo3hvd8SPkeLvqqL2yyKBy66mDtCJWlBcjxEEa3dEot0XQsFOVgJphF3XvwDCf+u0+Xj2tEtKFgLs2L+WLb16BcGvxZekWJjZnlICvGwJDEGfdzWJUeDvUs63cpp0FbbnpFk0sBZV0epQs0UYPhqK7OGPpPEG5JAHKc6JwS8ogtOyB8o1U5KTQ4R7CP2KgjmbxBapqx8j0B9wcb/eQmRw/drMRMT11kFtFcoKTxbmpNHujVG7DHvBNVlDIeoYCo3zykT3sa+zj2+9Yy7YvbubdF5fxk211/Oj5k+DRq3ZY6K7TXX+eduv2GS0eTbnZaQDTzoJWbrrrL5Yu+p0elZpQYKFbUt9Xe4zVl9RdiNFYbim+VuXmKdtIRa7aT3OfAddk0XqQo9Bx1LQMkXK8zc2KonTjQT29p8ciHVcVZ9DkiUK5zVLE5M+q69jb0McP3nsBH7y0ksV5qXzv3et594Yy7nupllN1Ws1LK9ei9PJWsaTcvJostuU27Sxw5RZ7Fk2XlndnpVsyMc5JTmpCzK25NfcNkpYYR1aK+XyfDPcJ9UfZxrG1O0NBJcXr1XP7QdMyREIwKDnZ4TXukhz2wUDnWBThyqJ0On2SgSGT68RjuW4zFzHZ3Ofjp9vquOWCEt66/qzbUQjBN9+2loqcFF7ee0i9aWW9xTHLbVbrRZyLbbnNGAtauaUlxpGS4Iwpi0ZXtJEW1Y2UWMzpa7Egny/dcwoSMyF3GRW6cusxoNyyKlXicNsh0zJEQkv/IN6hgPE1Tz2UPasSgJXFar4enGIYbT8zqdwefPk0QSn55xvPb9eTnODkX29eRfxAB0PxGapbulXoitI9q/UizsXbAcIJKXmzLcm8Z0ErNyEERRmqr1us0OkZIjM5nqR4a4v5FmUknqvcgkG1luMyXqzYKtot6FmX5j0DRWvB4SA3NYGUBCeNvQbWz4RQrsn26VVupzqVMlpemGZsYl+Des7WlJtm+R1vM6ncElJUvtsMuSV7vEM8vqeJt19UOmHu5ptWF7Is2UPLaDajQZNpDuFIzlZ5fbFkuXnbIa1ApWXYTCsL/hMuyEikI4bqS3Z6/JYGk+gUZYZYbqeeh/suhP+5GH60Gh55+6yETLe5/NG19ZGS1IEzqowW6malLDuZln4Dlhso5dZRA6PTlxJS16mKBSzNN6jc+jXllqUqd5RlJ5McB8fa3OaFya48qzSnmcf3NOEfCfL/rlky4RghBKtSvTSNZPJsjYXrY0Io918sWW6eDqXcbKadBa/cYtFyszKBW6cwI4lu7zCB/Y/B794L8SnwD/8Nb/wGNO+GX94wo1bccCBIt3eIoowoLLf+RuJGB6FwzdhbpVnJxnvXFa+HgB96pq+RZ12Xl9zUBLJTE4xN7G9U1kequiAKIShPd4ylFZgis3xGKndIKXlibzOXVGazrHDytcbMQDeehHwefc1ipZtREnsBJWn2ettMsOCVm1qLGtJb8cw6ne6h6bHcMpJYL+pwbvk0VF4Jn3wRNtwKV38ebtuqIg7/+FEIGgijjwLdiizOjEKRd2h92wrPFksuyUqmpc+gcitSydG0HzEvyxSc7hpgSb6JbuP9DcpqC3FjlaU7ON7mMf+bzSpXNzLTXFPzYLOLuq4B3rVhiir/owHEQCcFJYvZWddDQ4+FJfHSi2PLLenpgHQ7UnImsJVbRhLDgSB9vtkvTSWlpMszRL6FaQA6RWkO/iv+AYaT8uC9j0BCyIW2+AJ464+UBffazyw/djj0yM2iaJRbp6bcQupClmYn0+cbMVZ1JrdKLfJ3HTcvyxTUdXmNuyRBWW5Z5xYTLk9z4BkK0GxUietklkFw5GxY+jTx1P4WEuMc3Lx+ivB+bwfIICuWL8ch4PHdFlqVGSXKLRkLN6+jARjosi23GWLBKzc9B6zLM/sRk/2+EYZHg5amAeisavgtyx0tHFr/NdXuZTxr3wVV18PL34fBPsuPP542lzWW22BSESSeVRp6DzxD1ltcoirFNU3KrW9gmJ6BYXPKra9hLJhEpyxd/dueU77KCHrl/WlcZ5VS8vzRDq5elk9G0hSpHh61JpZZUMnVy/L5y4FW6zwp6cUQGAR/FN0UrMLXDUjbcpshbOWmKZLOGFh30xO4rawrCcBgHwX7/4fnRy/mUOoEzTyFgOvvVReB1x6w9vhh0FvwRGW5ddTgTRt34deKMDcbXXfLXwmdx8zLMgmnu5USWlpg0C055IHB3vMst+JU9W+rR2AaJksrTjyNTUuPt3to6R/kTasjCJ5wn61O8tb1xbT0D3Iwmr51oegVT2IhqERf+7MttxlhwSs3PZ8sFiw3fR3KcsvttQcQwx7uk++bPNetaB0sewvs+YWqxzeNtLn8pCfGkT7VXf1EjAxCTy0DqYvOebs0S+W6GV53K1ilcr9GrL/JMR8pqee4navc0hIEeWmJUVhu09+l+oWjHQgBb1gZgZXiOVtX8s2ri4h3Cv56yKJ1srFE7hhQbnZdyRnFVm4xpNzGSm9ZGVAy5FHraCvfSn/GctqnSnu47E61LnDkCetkCEO7yx+d1dZ1AmSQgdRzLbeC9ETincJ4xGT+SlWnsvukeZkmoK7LS4LTQZnRMmNjaQCLztu0rCCNU2aVW2K6auY5jW7JF451cGF5VmTFCNyt4IiHlFwyU+K5elk+Ww+3W+OajCXlpltutltyRrCqE/cNQogTQohaIcQ/h9m+WQjhEkIc0B5ft+K4VqBXKemMCeWmWW5WuiUPPQ5DLrjyMyrtYaoqJUs2qwv9nl9aJ0MY2txRKjctUtKbtuictx0OQXGmiYjJfK16RtcJ8zJNQF3XAIvzUnEa7Tauuw2zzu9OXVWQRm2HN7qIyf7psdy6PEMcbHZx/aoIL+KeNpWPpkWE3rzOQtdkegy5JW3LbUaJWrkJIZzAT4AbgdXAB4QQq8MM/buU8kLt8e/RHtdK8tMTY8Nycw+RnhhHSoJF7XekhF0PqSTlso2RleASAi74gIqc1JpkTgftrsHo0wDikhlMPn/9wlSuW24VOOKgy/p1t9NdXnNpAH0NKh8x9fxSTcsK0/AMBehwm/zdTmOu2866bgCuWZYf2QR36zkFk9+4qgCHgJeOdUQvTHyS6tkXC+kAnnZVNSVW2u/Mc6yw3DYBtVLK01LKYeAx4G0W7HfGKIgV5ebxW5sG0PCKulhvuh20UmPtbv/Ud/vr3gMIOPQH62QJYWQ0SKdniKJoSm911qh1MnF+mTJTuW5xCZCzFDqtjZgcDgRp6PVFl+MWpvZmVYFavzO/7lY+bW7JV+t6yEiKY3VJhHU0PW3ntLrJSkngksocXjzeaY1AejrAbOPtsINJZhArTIRSIPQWsBm4NMy4y4UQB4FW4ItSyppwOxNC3A7cDlBYWEh1dbUpobxeb8Rz5aCfM96g6WNZxammQRIcWHbOK4/9mDxnKjv7CghWV+PtGsE/EmTrC9Wkxk/uIrsgax2Ju37NLi6zvKllz2AQKcHd3kB1tbk76iua9tOTuzHs9xxwDdPhHuGFl7YRZ8AVuFrkkta4j10W/g7aB4KMBiVD3U1UVxvLK9vQfJThhGwOj5PH6/USqFW1MP/2yn4CLcaDcsp6hqkacrPj+S0E4k2kKEzCi0d8VGU4+PvL26ceLCVX9zXTlrSK2pDzrEwY5o9nRnjymZfITnIY+n8ez7qRBBJaT7J3lv+/L2o9xagziUMRyBHN+dpoSCmjegDvAR4Kef1h4H/GjckA0rS/bwJORbLvDRs2SLNs27Yt4rFff+qwXPeNZ0wfyyqu/s+X5Kd/t8/0/HPOecQv5XfKpHzyzrG3nj7QIivv2SKPt7mn3tnuX0j5jQwpO46almci9pzpkZX3bJEvHe8wtwNPh5Lt1Z+G/Z4f39UoK+/ZIhu6B4zt96XvSPmNTCmHfebkCsO24x2y8p4tcld9j/HJ3y2XcssXzt/ntm0yGAzK9fc+K7/y50PmBDvypPoM20zOn4DGngFZec8W+asdpyObMNiv5Njx43PePtHulpX3bJG/fa1BSmns//k8nvqUlN9fZn6+VfxwrZRPfDKiodGcL7BHRnldnw8PK9ySzUB5yOsylHUWqkDdUkqv9vdWIF4IETM9HwoyknD7A8Y6OFuMlJJOj9+6HLe6bTDkhtVvH3tLD+CIqK/b8hvV8/G/WiNPCHoCd4lZt2SHViYrpKZkKKVjuW4GCyjnrwAk9NSakysMem85vR1PxAz2q5JoYYJJQNWYXKYFlZgiU/uXtdg1+erpHgCuqIrw39t9Ng0glGUFaZRlJ/PScQvW3TJKwNsJo7NYhUhKra6kHUwyU1ih3HYDy4QQi4UQCcD7gadDBwghioTWtEsIsUk7bo8Fx7aE/LTZTwdQytXC6iRHn1J9ypZsHnurSG/OGkkXhIxiKN0AJ7ZaI08IejqC6WhJvWt2wQTKzUyVElBBJWCtcuvxkRTvMJ7eMUmkpE5VQRq1XSaV21git7VBJa/V9ZCXlsCygghdnZ6zCdyhCCF448oCdtR2R3/TmV4MSKXgZovBPhgdtpuUziBRKzcpZQC4G3gWOAb8QUpZI4S4Qwhxhzbs3cARbc3tPuD9mvkcE4zlunlnT7l1WZkGEBiC41thxc0qUEJD33fEHblX3Agtey1fjG9z+UlJcJKRZHLJt6NGLcyn5obdXKy10TEeMblUPXdbp9waen1U5KQYb8iqK7dxpbdCqSpIo3dgmB4zv9vUfNVtwGVtlZK9jX1sqMyO/HzHcr/Orz957Yp8/CNB9pyJshzcWK7bLHYHsNMAZhxL8tyklFullMullEullN/W3ntASvmA9vf9Uso1UsoLpJSXSSl3WnFcq9CVW6fZsGoL0I9tSQfu09Uqt23N2895OzHOSU5qQuQduVfcrJ5PPhO9TCHoCdymO3B3HJnQJQnqPAvSE41bbgmpkFFqueVm2CUJIZbbxMpNbyNjKplbCFWpxEK3ZLd3iIYeHxsqsyOfNFZ6q+S8TZcuziXeKfh7bVd0gunW0mwmcuvKzbbcZowFX6EEzlYEmU3L7WxdSQvckjVPQWImLLnuvE0F6YmR50YVrFIX+9PV0csUQls0OW6jAZVoPYlyA7XuZthyA+WatKivm5SSxl4fFTkm0wAS0lVe1ATo6QCmK5VYnMi9r0FZWBdXGFBunjZVLSX+/PXX1MQ4LqrIZsep7ugEi4UqJR7dcrOV20xhKzcgJzUBIWZ3ze1sXckoLbfAMJz4K6y86RyXpE5Eidw6Qqg1u/rtlvZ5a3f5zTcp7a2D0aEplVuJmURu0JRbrSUtUrq8QwyOjFKZa9JymyDHTackM4nUBCe1HSYLKFtsue1r7CfeKVhbmhn5JHdbWKtN5+qqPGpa3biHo/g+UvNUPuSsuiX1osl2F+6ZwlZuQJzTQW5q4ti612zQ6RkiOd5JWmKUqYenq1WU3eq3h90cUQmuUJZcpxbD2w9FJ5fGaFDS4Rkyb7lNESmpU5aVTFu/n2DQ4EUxb5n6/AaitBZQLkkwESkJqjrJJMEkoIIulkYTVJJZrtxlgWFz88exr7GPNSWZJMWfn1g/IZ7WsOttOlctU1GXR3uiuLlyOJVSmU3l5ulQ1WYSJ+9IbmMdFtV5mvvMdgmuTs8QhRmJ5tehdI4+BYkZsPR8lySodjrd3iECo0HinBHc2yy5Vj3XbYOSi6KTDWUdjwblWNCHYTpqVJmsvOWTDivNTmZ4NEi3d4gCI67e0IjJtAjLR03AWBqAUctNSmW5Lb56yqFV+Wm8UmdSEWeWAVIpmOxF5vahMTIa5FBzP/+4aeI1wrC42ya9UVlflkVGUhw13dFGTBbNiFuypX+Q/zvYysl2D06HYEVROm9ZU0S5ngZgcUEEm4mxLTeN2S7B1en2R50GIIIjcHwLrLx5wvp1BRlJBCV0eyO8W08rgMK1lq27tbmUq9C85VajFNsU9fn0dADDfd3GlFv0624NPT6EONtjLmIG+2DYM6XlBrC0II0O9xAev4kcroxS9WyBa/JYmxv/SNBYMMloAAY6z8txC8XpEFyxNI+antHougSkF0+r5eYfGeXep2u45nvb+I+/HWdnXQ/bT3bxrb8eY/N/VVN3uo6RFNslOZPYlptGfnoiJ82uXVhAp2co8lp8E5Ddd2hSlyScDVjpMFKVf8lm2PWg6qEWZuHfCGM5bmbX3DqOQvmmKYfpidwtfYPGAhyyKsCZYEnEZGOvj+KMJBLjDLjpIKTVzdRWkB5UUtc1wIXlWcaOY2Ei9149mKTSgAzeDtVmKGNityQo1+QzNe2c7h4w180clOXW9Lq5uVPQOzDMR375Okda3Hzosgru3Fw1dnPV1Ovj4Z1nYHcn2wcrSanr5oqlMVO/Yl5jW24a+enKXWd4jcYilOUWXTBJfteOSV2SEJLIbWjdbbMK4mh8LSr54Gx1ElOWm9+l8rKmWG+DkERuo5abwwk5SyzJdWvs9Rl3SUJECdw6URVQzrTOctvX2E9JZhLFRqrOeMJXJxnP1dq6W1RRk+nF4OuxvAmvxz/CPz74Gic7vDz0kUv41tvXjf32AMpzUvjaW1ezKMGDOy6Xj/5yF3/eN3199GzOYis3jYL0REZGJf2DM1+iZ2AowMDwaHRpAIFh8rpfhxU3Teqy08t7dRhxwZZfCsIBja+al0+j3e0nMc5BVoqJDtx6ZZLCtVMOTU+KJz0pjtZoIiajpKHHR6WZNIA+3XKbWrlV5KQQ5xDmlFt8MqTkWqLcDjb1c2GFQcvRHb46yXgqc1PJTxb8PSrlpoXgey0o56URDEo+9/hBTnV6efAjl3D96gkStId9OEc83HT5hVxSmcPn/3CQx3ZZmzxvcz62ctOYzY7clnTgrt9OfGDgvMTt8eSmJeJ0iMhKcOkkZUDROmiIPve+zeWn2GwC91ikZLh2gedTaqb1DSjl1ntarQmZZGAoQLd3yLzllpQJyVMri3ing0V5qVG0vikDd4u5uRou3wiNvT5jKQAQseUGsCbXyWunexgZDZqQkGmpUvLrV8/wwrEO/vXmVVy7fJLgIy0NICm7hIc/tpHNK/L5ypOHeWKvbcFNJ7Zy0zivvqSnA069AAcfh2NboLd+2o59NsctCsut5ikCzhRY+oZJhzkdgvy0RGNuSYCKK6B5T9Rh4239g8ZcV6F0HlUXfT0QYgrKoknkDo5EVZrKdMFkOJvjFiFV+WnUmU0HyIg+162mVXXMXmdUublbwRGvrMcpWJPnxDsU4FBzvxkRLa9S0tAzwH8+c5zNK/K59YpFkw/WE7jTC0mMc/LAhzZw5dI8vvSng2w9HAN95uYptnLTKMhIIo4ASTWPwUNvgh8sh9++C568HR7/INx3ITxwNdQ8aUmCbyhjlpvZupKjKkqyO29TRF1+CzMSjbklASovh8AgtB00J6OGbrmZoqNGuSQjtPpMJ3LnLVPPUay76crNXAJ3Q0TBJDpVBWk09AwwFDARLm9BIvfhFqXc1paYsNzSi8Ex9WVoVY4TITDvmrTQcpNS8tUnjxDvcPDdd66b2gsxlsCtFGxSvJOff2QDF1dk85nH9vP3U1GWF7MJi63cNIrat/FSwhe45MBXYcgDb/hXuHUrfHoffPIleMt3VVXvP94Kj74LBqxratCpWVGFZi2309vB309X/hURDS/ISDLmlgSouFw9N5p3TQaD0liU5rmT1ZpbBMEkOqVZyXj8AdxGw+QtSAcwncCt57gZVG5Bqdb4DJNZploj+V3G52ocbnFRmpVMdur5FXEmxd0aca3FtATButJMXqk1qdySc5SVaIHl9tLxTnbUdvP5Ny+PzAuhdyMIOdeUhDh+cetGqgrSuf2RvWPRpjbWYSs3byf88VaS//RB/CKJx6q+D3e9Ctd8CRZdqSrFl26Ay++CO3fCjd+HMzvgwc3Qd8YSEbo8QyTEOchINpmZcfRJSEinLzuyJOuijCQ6jFZjSStQF/0G80El3QNDBILSnOXmalS5XwWRrbeBstwA40ElKbmq3mEUQSUNvQNkJMWRlWLwgj/QDSM+Y25JSyImza+71bS6jbskQSmaKYJJQrmqKo/9jf14h0yshTocWiJ3dJZbYDTId7YeY3FeKh+8NMIbEE+7KjyQnHPO25nJ8fz6YxspyEjkYw/v5kT77KUizUcWrnKTEg78Du7fqBpyXvev3Jn6Q3Y6N07s9nI44dLb4ba/gd8Nv7rZEgXXoaUBmAqyGB1R8q+4kaAzsgtpYUYi/b4R432yKi5XEZNBc4v6Z/u4mVhzMxApqROa62YIIdRNTU+dsXkhNPYOUplrpmDy1K1uxrMkXx3HnHKLLtfN7R+hvnuAtaUGczSlVNVJIggm0bmqKo9AUPL6aZNeEwuqlPx5Xwt1XQPcc8NKEuIivHx6O1R1kjDu14L0JB79+KUkxTv48C9eH7P4baJnYSq33np49J3w1J2QvxLu2AHXfons9LTIoiXLNsBH/w+GvfC79ylFFwWdniHzkZL121VFiymiJEPRy1EZbvFTeQX4+6HruLF5GlHluHXUqOeCVRFPKTOb6wZaOkAUyq1nwGQwSeRpADopCXGUZiWbVG5l6tltTrnVtKjfvuFIySE3jAwYstwurswmKd4RxbpbdJZbYDTIT6trWVuawVvWGOjL5mmftGByeU4Kv/n4pQyPBvnQL14fW6awiQ5LlJsQ4gYhxAkhRK0Q4p/DbBdCiPu07YeEEBdbcVzDBIbh7z+En14GTbuUi/G2v0H+CkAFdETc9qZ4Pbz3Eeg+BX/+pGlrBvS6kibX22qeUq1Rlr4x4iljVUqMuiajXHeLqgN3xxFV/zAx8goVeWmJJDgd5pRbzlJ1wR8xPjcwGqS5b9BkGoBx5QZaV24zyi2tULnMTFpuR/RgEsORkpGnAegkxTvZuCiHHWbX3dKLo7Lcthxq40yPj7uvW2bMy+LtmLLVzfLCdB6+bRPd3iE+/ItdDIzETC/nOUvUyk0I4QR+AtwIrAY+IIQYvzByI7BMe9wO/Cza4xoiMAz7fwv3XwIv/hssexN8apdyMYa4CvLTEo3dNS25Fm74rmrmufsh0+KZrk6iRUmy4kaIj1xhmKpSAkq5pBVCo7kyRq2uQRKcDnKNBh7A2UhJAzgcguKsJJO5blpX7t7Thqe2ufwEgpJKs2kAyTmGq8dXFaRxuttrvMKOw6kUjMk1tyOtLoozk8hLM/j79USWwD2eq5flUdvpHbtRMkR6kQqcGTbu+gsGJfdvq2VFYTpvnihZeyI87ZA+NzA8hAAAIABJREFU9ZwLy7N48COXUN89wI/2+hkctq7N1ELECsttE1ArpTwtpRwGHgPeNm7M24BHpOI1IEsIYexXHSlSQk8dGa4TcPhPsOVz8MOV8Je7VFLsB/8E73v07EJ6CPnpibj9AWNrUZtuh2Vvhue/pppoGsQ/MorbHzBWuV6n/mXDLkkIqVJi1C0phKpW0mSuDJfpDtwjg6qPm4FISZ3SrGSTVUo05WbCNWm6GwBE1OomHEvz0/CPBM1ZqZmlpi23wy0u41YbnHUPTtLuJhxXVmmluMxYb/qxvMZdk9tPdlHb6eWu65bicBj4/Y6OqLJfETYpvbIqj/s+cBGVGY7I1/RswmLFp1cKhLbzbdbeMzrGOn56ORfv/zI88XE49AdYdJVSardvV1bbBOhJ1N1GOnILAbfcDwmp8OT/M9zUU1/3yjdjudX82bBLElSUVkKcw7jlBlBxmbIu3MbdO20uk2kAXcdVgV0Tys10rluObrkZV24N0fRx6280FEyiMxYxaSaZO7MMXMY7cnuHAtR3D5iLlBwrvRW5WxJgVVEGuakJ5lICxhK5jSu3h3eeoTAjkZvWGbwnH+gCZESWm84Na4v48GpVScjGPFZ0BQj3DYz3jUQyRg0U4naU65LCwkKqq6sNC5S/4jN4RySOzFJ8KRVIhxNagJbtk85r61Ihxs9sf5WqLGOV3Asqb2X1sR9w8vf/TGvpzRHPO9WnlGFH/QmqvZFfSEVwhCsOP0lP7kaOv6IsKa/XG/HnlRkvOXSqgepqY7X20t3xbABqnvklXQVXGppb3+5jaZbD8Hda1PYCK4HXz3gZ7Dx37lTnPNI/TKd7hBde2kacwYvFFfFZ9BzZwYmAsT52O04M4xRw8sDr1BqxUqXk6r4GWlLWcHqScwp3zh6tU/WzOw8i2ozV7VzsClLuauHlbS+pGqIRcqJ3FCkh2NNAdbUxt+ayk3soiEvjlVcic3GHnnNV+igvHW1l27Y+Q16AVG8TG4Ga11+kqz7ySjvtA0G2nxzkHVXxvPL3lyOeB5DuPsUG4PCZLnq81RHPM/K/bBMeK5RbM1Ae8roMaDUxBgAp5c+BnwNccsklcvPmzSZE2kx1dTVG5+a1uPjR3h2UL1vD5jWRuRHGkNfCb/ayvPExlt/yxYjv1HyH2+D1fVx/1SZWFRsIpz7xNwgMUPTGT1G0fDOAoXNedHwnOASbN18e+TEBRq+EQ19nTboHDHy+Ukpczz/DBcsr2bw58ohHAJ55FuKSufSG96s1ohCmOufO1Cb+UneI5RdcatxNeHoVxfgoNvg7+kPLXipzPbzhOmPz8LTD9mEq1l1FxaaJ5050zt94/XnIKGTz5vXGjptyChqfYPMlqyNOqgao21EPHOUfb7zKeOm4tp9DoCLi32voOXemNvHlJw5RsuoSVhQZWJv09cKef2JNeQ5cHtlxAf7t/2qIdzbwlfddY/w8TwzCPlh32fUqyjpCzFy/bM7FCrfkbmCZEGKxECIBeD/w9LgxTwMf0aImLwNcUsqYK6qmB3V0mimeLATc9AMI+OHZf4l42tm6kgbdkkeegOTsSdvbTEZBRpLxNTcAZ7xKaje47tY7MMzwaJBiM2uLHTUqBcBhsC8aZ3PdmvtN5A/lLjWVyN3Q46PcrEsSDFUnCaUq32TEpMlctyMtLgozEs3VRPW0Gl5v07lSa4FjuGxVcjY4Ew1FTA4MBfjTnmZuXlds8jz1tUWDQSg2URO1cpNSBoC7gWeBY8AfpJQ1Qog7hBB3aMO2AqeBWuBB4K5ojzsd5KQmIAR0mc0zyauCqz4HR/4E9X+PaEqnZ4g4hyDbSCWLYR8c3wqr36aUjQmKMpLocPvNdTeuuAzaDsHwQMRT2swmcEup0gBMrLfB2b5urf0mvtOcpapTtIE8RikljT0+czUlDbS6CcfSgjRqu7zGv1M9182gcjvc4jK33gZqzdZgpKROaVYyS/JSja+7CWE41+3P+1vwDAX4yFTFkSdCb7GTanfhnmksCceRUm6VUi6XUi6VUn5be+8BKeUD2t9SSvkpbfs6KeUeK45rNXFOB7mpBnLdwnHV5yCzAv725YhapnS6VQK3oQisU8+qBNi17zItZmFGIr7hUXOljCouAzkKLXsjnqIrt5Isg3e/3k4VbWZSuekBLKZb34ChoJJ+3wieoUCUCdzlk4+bgKqCNPp9I/QMGOzcYKJpqW84QF2XlzVGiyWD+r8Y6DSU4zaeK6vyeL2+13ix6PTiiJWblJJHdp5hfVkmFxntcq7j7VDl3OJMpL/YRIUdazqOgvRE45U7QolPhhu+o9qzRJD71unxk2/UVXfwcZVvVmksoCOUQrO5bgBlGwFhKN+t3aWUi+FoybEebuaUW1K8k/z0RFrMuiXBUDpAQ7StblLzVeStCfSIyTqjrsmkLEhIM6Tcjra6kdJEmxtQF3wZNG25AVy7PB/f8Ci76nuNTTRgub1a18OpTi8fuXyRudJ4oNrdRJgGYGMttnIbR356ork1t1BWvhWWXAfbvgPeydcFdMstYjztcOo5uOADptagdPT1A1PrbslZag3MQGfuNpefOIcgL9Xg2mKnVlOywJxyA5UOYM4tuUQ9G0jkbuhRrlpzdSXN5bjpmE4HEEL1yDNQgktvc7OuzGTBZIjackuMc/DisU5jEw1Ybg/vPENOagJvXR9FSq43sgRuG+uxlds4CtITo+/GLQTc+D3lOnzx3kmHdnoMVic58DvlErzow1GJqFtQpiw3UMnczbsjzutrd/kpzEgy5n4FaD+sLkipUze0nIgys7lu8cmqmaeBoJKmaCy3PmN93MZTnJFEcrzTfI1JA5bb4RYXeWmJ5irruM1VJwklOcHJVVV5vHCsw9gaY3qR6i4xNHkF/uY+Hy8c6+D9G8tJijd/E6ksN1u5zQa2chtHQUYi3d4h42WMxpO/HC67E/Y/Cs3h16aGA0H6fCOR15WUUu2v8koVvBIF+kWp3axyq7hMFb/tPBbRcNNNStuPQNE64/NCKNU6cpv6Tg12B2jo8ZGfnkhygsELYnBUJVKbSODWcTgESwtSo1Bukeeq1bS4WVeaYc5dZ4HlBvDGVYU09w1yssPA+Y41LZ08v/PR11Tk6ocuM/99IOXZjgA2M46t3MaRn5ZIICjp9RlclA/HNV9W/vatXwhbWFkPXIn47rdhpwpuiNJqA0hNjCM9Mc78+mL5peo5wpSAdjNNSgND0H3CcE3J8ZRkJjEcCBoPtADD6QANvT5zNSXdLRAMRGW5gUoHMLzmBkq5DXTCyNQ3O4PDo5zq9EQRKdmqGoemmLfGAd64SkUgvnDMQCGCsSolE6cD+EdGeWx3I29eXTTWE9AUvl4IjhjKHbSxDlu5jcN0O5hwJGXAm/4dWvfD/t+ct3ksxy0jQuX2+gNq8X/1+NKd5ijMTDLvljRQRFlKSZtr0PiFouu4uuAXRafcSrOVsjFdhsvfry5UEdDU6zNfUxKistxArbu1uvwMGI2CHWt9M7X1drTNTVDCGrPKzdOmLKgw/c2MUJiRxLrSTF40pNx0y23idbenD7bS7xvho2bD/3X0NADbcpsVbOU2Dt2KiiodIJT171WtYl78N1XkOARdgUaUHNpbrzoAXPIxSDBx8QxDYUaieeVmoIiyaowaHOtGEDHtWqRkkcGKG+MoNduRG86mA0RgvflHRml3+6NMA4heuQHUGQ0qMaDc9DY3UVluBmtKTsQbVxWwv6k/8nqwU1huUkoefuUMKwrTuWxJTtgxEaMXaLYtt1nBVm7j0BWNZQ0D9eCSwT4VPRlCl8eA5fb6AyCcqguBRRSmm6xSohNhEWXTTUo7jkBc8tmoRZPoyi2q1jcRrLs19/mQEvMJ3MJxtlqISUwrt4zIc90Ot7jITU0wt4YKmnKzpinIm1cXIf9/e+cdHWd55/vPM+plRr1LluXewMY2xgYCJpQAKSQEtoaw2STknE2/2Q2w2bu5e+7ebMvuSW6S3YRA2kICXBKWugFTTLcxuBfJlmU1q9dRr8/945lXGssa6W2jmZGezzk6rzTzlt8rjeY7v9/zKxJ+f9xkYXaSFxLSQnpuB2q7Odns58+ucpD+b9CnPbdIosVtBnlOWnCFouhS5XEdeHDaGwlcwyMgZ770+P42OPgruOQO194UQIUl2/qG7SfPlO1U23m8txa/zRq3lmOqvs1ByQOALyWe9KR4e2HJzHL1ocKE5zY16ibbZhmAr8RxsW95ThrxHmE9qcSCuB0PjLmx9eYvpfKafO4MBVlf5GVlXhrPHJm1Ve3FTHUpmf0D2S/ePkdGSgIf3+KCfdpziyha3GaQkhiHNyneeTnATK77llove/6v1D84as0tN93EaIvXv6uSK675K1dNKvAmMTYh6babPFN0qfKs5ll3m/bcLKy5SanEzeF6G4AQguLMZHviFp+oas9MdClxNOrGYRmAQUKch/KcVOvilpCsCsjnEbfhsQnOtPXbD0kO98DYoO2+kjMRQvDRzcW8W9tlfoBpiFq3pp4hXjih0v8tZ7vORl+LGkllsyhf4wwtbrOQ53Oh1m0mqdlw/d9C/dtw9DFAeW7zhiQ7z8J7P4Otd02HyFzCKEGwXQ5gsolyS+8wcR5hbWZdb6N6I3SYKWlQkpliLywJat3NRFiyrnOQ1MQ4ctNteF89dY6TSQxW5dttoDx/rdvJZj8Tk9LegFKYDmG7GIH46OZipITnjplsiBzCc3t4Xx1SSmfp/8GYnMCtCQ9a3GYh35tEW59La27BbP00lO6A574BHWdo849QMFcyiZTwzFchIRV23++6Oa5khi67Yt4mys29qlDd0vDFVneSSQxKslJo6rUrboFat3mKhRu6BlmWnWpj0viwerN1wXMDNZW7rnOQsYmLy0/mJKN03oSS4046k4CaBgCuhSVB3e/GYh+/O2iyCN1owRX09+wbHuPhfXXctKHQ3kSH2ejXrbciiRa3WcjzJru75mbgiYM7fw7xSfDYXQz6u+b23N79KdS+ATf+XVji9o67lIDKBJ2niXKLnQJuY22yYIN924IozkyhZ3DMeoo8KM9tbGA6tTsEdQFxs4wxBdtFz218Uk61AjONL+C5zSHixxp7yU5LpNhJMgm4FpY0+MPLyzjR5OdoY8/8O3sLYXwIhnunHnp4Xz3+4XH+4joXoyN9LXq9LYJocZsFo3myrXEw85FRCnf8DNlZzXfH/p7ilBDtq2pegxfuhzU3w9a73bcDVbAODsKSYKqJclPvkLX1NoDmwypLMsnCMMo5mMqYtFXrFsjWnCOpZHJSUt81yPJcG+sr3e6UARhM9Zi0GprMKIXRfhUODsExJ8kkMB2WdFncPn5ZCSkJcfx6f/38O8+odRsem+ChN2v4wOpcLi212f1/JkZ3Ei1uEUOL2yzke5MYGptgYNTiOA2zrNhNzy3/wRZRzV0nPquGcRpICceegF//ofIYbv+p42LXUCTGe8hJS3RWDmA0UQ6x7ialpKXXRneSpkNQvNW+XTMozXIgbibKAVr8w4yOT9qscatVWxc9NyGgqsVmrVuINlzTySQWJsbPxH9eJa64PALGl5zAxzYX89ThJvzDY3PvPKPW7dF36+noH+VL1zlraXcBI30qcUaXAUQMLW6zYIQKXat1m4WGohu5a+x+Uke74MdXw39+Ap75GjywG377WZUC/2fPqS4nYaTAl+z8PsuugIYDs7YY8w+PMzg6YS0s2deq3gRL3BO3Yie1bhllEJc4p+dmZEoutzMNoLtWTYh2aX0mNTGe5TlpnGo2P2QVmHdo6alAMontTEmY7k4SBj61s5yhsYn5vbcgz61veIwfvFLNFRXZ7KhwWLQdTJ8uA4g0jsRNCJEthNgjhDgT2GaF2K9WCHFMCHFYCBGVg0qDyUsPJFqEY90tQKt/hHcmN3LmD15VA079TXDyKbUu9+F/hT9/AdJyw3Z9gwJfEq1Ok2eW7YSRXmi/uIlycyCJw1JYsumg2rroueV7k4n3CHtdSjxxkFUx5+ib6VE3dssAylz10NcXeTnVYlfcGmZ92kgmsZ0pCYEJ3O4lkwRzSWkGH1idy09fr2ForqiL4U31NfPj187SOTDKtz683nnRdjBGjZv23CKG0/+m+4CXpZSrgZcDP4fiOinlFinldofXDDtTnltYxU0JSm5+kSoR+OJ+uPccfP4VuPxzEBcftmsHU+BLpqXX4X0aTZTrLw5NNgfmqFkKS54/qLp1FLmTKQkQ5xEUZtisdYN5ywHqugaJ9wh7XTt63KlxC2Z9oY+6zkFrk9bT8lVD4xAZk8fP+8lKTZhav7SF/7yrZQAz+cr1q+kcGOUXb9eG3ikpHZJ8+DsaefCNc3x8S7F7a20GRncS7blFDKfidhvwy8D3vwQ+7vB8UcFUf8kwilubfzjQnSSy4+cLfMl0DoxYTxsPxmii3HBxUomRfl+caeFNv+kg5K13vfjVWa3bCuW5zRJ6BeW5lWWnEh9n41+q270aN4P1RSqcXWXFe/N4VM/HEGFJx8kkY8Mw1OVaX8nZuHx5Njesz+cHr5yZihrMhvQWcqKqisR4D/fdst59Q7TnFnGcugcFUspmACllsxAiP8R+EnhRCCGBn0gpHwh1QiHEPcA9AAUFBezdu9eWYf39/baPlVISL+D9E2dYOV5n6xzzcfj0CL5EwZtvvO7aOe3cc2/LmCqn27OX7GT7n3U2Jq8g/fRe9s+4/r7To3gEnDq4jyozb4pSclXtfjpyr6DKxL1Yuef4kRHOdE3Yel0UdUyydmKEd158gpHki1/mJ+qG8CUKy+eOGx/gA8M9nO2aoMHksWbuuXdIifBTr71P37IE0/ZskV6oP8HhGecfnZBUtQxyS0WC7f+r5KEWdgKV5/20WDyHlb/zh/Imeb1qgi88+Bpf25qEZ5bXXXFfIglDbfzBGg+Vh/ZRacma+VlZ/R7FnkTe2HdItfyyiJP3L00AKeWcX8BLwPFZvm4Dembs2x3iHMWBbT5wBLhmvutKKdm2bZu0y6uvvmr7WCmlvPIfXpZff/SQo3PMxd0/2y8/8n/fcPWcdu75pZMtsvzeZ+XBui5nF3/7h1J+2yelv/mCh7/+2CG56zsvmT9PZ406z7sPmtrdyj1/94VKWXHfs3J0fMK8PQY1ryu7ql++6KnJyUm56W9/L//2v45ZP+/5Q+q8x580fYiZe56cnJSXfPv38v7fHbVmz28/L+W/bbro4fdqu2T5vc/K/z7WZO18wZx7M+TvcD6svrZ/+fY5WX7vs/I7z5+Uk5OTFzz36/118rd/c6vs/Ps1Fz3nGk98VsrvXWr7cCfvX8B70sT762L/mtdzk1LeEOo5IUSrEKJIKq+tCGgLcY6mwLZNCPEksANwz2UJA3nepLCuubX5R6yF6sKE0YLLUTkATDdRrt8HG6ej0y29wxRZWaMxkklKtjmzZxZKMlOYlGq9szTLYuLH1Oibs7Dygxc81TUwSt/IOMvsZEoaSSout1YTQrC+yEelnYxJ/3k1GTyoYfWhejWu6bJls+aMmcNoeRWmhJJg7tpZTlVLHz95rYbG7iG+cM0KPELwyP46fvNuAz/MKyZr8F1cTCG5kL4W3Z0kwjhdc3saMCqM7waemrmDECJNCOE1vgduQnl+UU2+Nwz9JYNo6xuean8VSQxxc9xuzGiiPGPdrdlqjVvDAXWefHc6kwRjCFpDl411N2+hGpUyS1JJXZdRBmAjU9JoyOxwrM9srC/yUdnSZ23qQ0ap6jgzoxvLoYYeSjJTpl4vtjASVcJUChCMEIK///gm/upDa9lzopWP/fAtPvKDN3n8vUY+/4EKbtl1GWJi9KIZi66h+0pGHKdrbv8IPC6E+CxQD9wJIIQoBh6UUt4KFABPBhah44FfSyl/7/C6YSffl8SBWnPTl60yNjFJR//o3H0lF4ictETiPMJ8R/VQGE2U69+ZekhKSVPPEDesD7UUOwt1b0HpdteLfGG6W39D1yC7VuZYO1gIJUCzTAdwVAbQdU59wg9D5/gNRT4GRyesdU7xBdW6BSV+HK7vYcsyhxmF/mbVJT/MtZsGQgi+eN0q/vDyMt4528mklOxckaME+kSV2qmvWTU1d5v+1os8fM3C4kjcpJSdwPWzPN4E3Br4vgbY7OQ6kSAvPZnuwTFGxydJjHe31t3wCAvMDCkNMx6PIN+b5DwsCaqJ8pvfU02UE9PoHhxjZHzSfI3bcK9qmHzNN53bMgvFmcnEeQR1XRZ7LhrkrFRjeGZQ1zmIEFgPdYLyBF0OSRpsKFYicux8r3lxC651K9sBqDDu+Z4h/vzqCmcG9bk3pNQKuelJfHTzjAzNqULuZtUwwU1GB2HErz23CKM7lITAqHVrNzu+3gJGjZujEI+LFPiS3ZmCYDRRblR1+kbBtOm1xYZ3QU5C+S7ntsxCfJyHkswU6u2EJUGJUHctTFzY3qm+c5AiXzLJCTZmgHXVQLZD0QjB2kIvSfEejjSYaCZskGEMLZ2udTtUr46/zLHn1rQgIUlTTLXgMjnB2wpTZQB6zS2SaHELQThr3Qwvad5ZbgtEgS/JeVgSVKcSTwKcfRmwMaS07i3wxAeaMYeH8pxU6q12yzfIWaXEu+fC9k61nQMssxOSHPbDQBtkh8dzS4jzsKkkgyNmOuUbJGdAku+CWrdDDd0kxnnYWOwwnBjG7iSWSb+wv6Sr6ALuqECLWwjyvcasM/f7SxpeUjR5bo7G3hgkeZXXdWYPAC1TrbdM3mfdO1C0JayTi8uyU6cSQCxjiNCMHpP1XYP2ekqGKVMymEtLMzh+3s+4lSL9GUNLD9X3sKHYR1K8g+nUE+NKSMJYwG2JhGRIyQqv56bFLaJocQuBMTU6HOUArf5h4j2C7NTIdicxKPAl4x8en7sfn1lW3QhtJ6G3kabeYRLiBLnpJjzUkX41E678Suc2zEF5dio9g2P0Ds3TOX42gssBAvSPjNPRP2rPczPELQyZkgZbyjIZCnTzN42vBPxK3EbGJzja2OM8JNnforzezDJn53ETb1F4xK1PhyWjAS1uIchNT0SIcInbCPneJDxWJlOHEdfKAQBW36S2Z/bQ3DNEgS/Z3H3WvgmTY7DqovwkVzEyGhvseG+p2SpsF+S5GZmS9jy38JUBGGwO9Ey0tu427bkdbexleGySKyosZpfOxPAEjYSVaCC9IExhyRYVng9HFqbGNFrcQhAfp2adhWfNLTpq3AyMrE1X1t3y1qoRMWdepKl3mGKz623VL0FCqkpKCSNlgXKAejviJoTy3oLKAWo71HmirQzAoDwnlYyUBGvrbhmlMNgJY0Psr+kE4Aqn42CmxG0JeG79rUo43ZwyoLGMFrc5yPMm0+6GNzODNv9IVJQBGEx1KXFDyIVQ08PPvkJPTxdFZjIlpYTqPVBxDcSH9/di1LoZ89csk70SOqdH35xtV+G+CjsTuMNYBmAghGBLWSbv11koVg4aWrqvpot1hV6ynDb4NsboREtCCag1sb6WkM2wbaMLuKMCLW5zEK4WXK19w1GTTAJBYUm3kmc23Q7jw2zqe9tcd5LOapVivypkpzfX8CYnkJ2WSL3dWrfc1dBbr9YIgZr2fkoyU0hNtFEyGsYygGB2VGRzurWfTrNlLQFxG+uq5/26bnaucBiSBOW5pWSpcTPRgrdIrQMOdrh73jAOZNWYR4vbHBT6ktzJIgxieGyCnsGxqVKDaMCXHE9ygsedsCRA2U4m0ou4RbxtLix54r/Udu0t7lx/HpZlp9oLSwLkB8ajdKgOFzUdA6zIs+G1DXWrMoCc1fbssIAhTu+eM9lxJ+Bdna8/w9DYBDtXuLB21NMQXettEFTr5vK6m78pujzUJYoWtzkozEihrc/hrLMZGGt40bTmJoSg0JdMs1tC7vHQtfxWrvUcoSzFhLdw4neq8fICvfmV56TaD0saPS/bTiGl5GxbPyvzbHgj7afVNm+dPTsscGlpBikJcew3LW7FgKC1XiXO7HCaTALKc4um9TYI6lLi4rrbSJ/qThItJQ9LGC1uc1DoS0ZKdwu5o607iUFxZspURxE3qM6/mUQxwdrOl+bese2UKh3Y9EnXrj0fy7JTaeoZYnTcxoeWrOUQnwxtp2jrG2FgdMKe5xbw/MhbY/1YiyTEedi+PIt9geSQeYlPgvQC+ttqubQ0g2w3Bur2Nkax5+aiuPmNyQda3CKNFrc5MIqPW1wMTRrdSaIpoQTUOBg3xa3Ss4oTk+UUnPqVShgJxeFHQMTBhttcu/Z8VOSmMSltZkx64lRGaNvJqWSSFbl2PLcqJZKZ7k7gDsXOFTlUtvTRNTBqav9xbzGJg83sXmuh6XUohnthpDf6PDdjSrab4tbXpLZa3CKOFrc5MJIhXFuLIshzi4KJAMEUZ6oQrC1vZhbO9wzzCLcQ31kJtW/MvtPoIBz8T1j/kQXNLlsRCCPWtFsobA4mfyO0neJsu0pKWZlvw3Nrr1LrbR4HXT8sYKy7vVVtLnmiTeRRTAe71+Y5v7jRpzLaPLf4REjNdXfNzR8QN51QEnG0uM1BYSB02OymuPUNkxjnITM1wbVzukFJVgpSuifkjd1DHMq4Qb15vPbPs3tvB38Fwz2w4wuuXNMsRhixpsNmxmT+euhrpqm5idTEuKnXiSU6qpQHuEBsKcskOy2Rl061zr8zUDWUQbGnk80lGc4vHo01bgZu17r5tecWLWhxm4PM1ASS4j2uZky2+UfI9yUhoqzAsyQwLbuxx2aixQwaewYpyM6Aa7+pPLfTM0b4Dfvh9X9RtW1hbrk1E19yArnpSZy10pIqmEBSyVjzSSpy06z/LUcHVPPlBRS3OI/gg+vyebWybd4EqeGxCfZ3pZDCKHEjFoq/Q2HUuEWb5waBWjeXPbeUbEiwMH1eExa0uM2BEIKijGRXPbemniHzjYQXEEPcmnrc89xKs1Jg22cgbz08/ZXcnwhGAAAcXUlEQVTpT8hSwrNfh6EuuOHvItLJYUVemjPPDUjurrKXKdlxRm0XUNwAblhfgH94fN4hvHur2jg3lqV+MITJCb0Nqh1VehQWNhuF3G7hb9JeW5TgSNyEEHcKIU4IISaFENvn2O9mIUSVEKJaCHGfk2suNAW+5Knu9m7Q3DtsfgTMAmKsL57vdn6vfcNj9AyOqeGd8Ylwx0Mw2g8P3QSHHobffR6OPwHXfQtKtjq+nh1W5qXbX3PzFSOTfBQM19jLlGwPZErmLqy4fWB1LknxHp47Oren8syRZgaTA5mEQXPdbGNM9fZE4Wdpb5GqN5wYd+d8fVrcogWnr7bjwO3A66F2EELEAT8CbgE2AH8shNjg8LoLRlFGsmvZkpOTkpbeYXMtqRaY5IQ48rxJrmRMng+cozQrIOIFG+HuZ5XH9tQXVdH2tffBB77h+Fp2WZmnJoV3m8wevAAhGMxcwxrRwKp8O5mSp5QnE8aGybORlhTPzZsKeeZIE8Njs0+A6OwfYc+pVi7ZEJhOHTT6xjY9DdG53gbKc5OTMNDuzvmiaSDrEseRuEkpT0kpq+bZbQdQLaWskVKOAo8CC5f37ZDCjBRae0eYnJwjnd0knQOjjE5Mmm8mvMAUZ6ZMCZMTGrsMcQtqJly6Db5yEP5iH/zlabju/og2lp1OKrHnvbWkrGaDqGNdgQ3PreWYKt6OX/iRR3duK8M/PM7vj88einvsvQZGxyf5xNWbIS7JnbBkT52qD4xGpgq5XVh3Gx9VIqm7k0QFNhriWaYECP4PaQSuCLWzEOIe4B6AgoIC9u7da+ui/f39to+94DxtY4xOTPLsnr34kpy9GZ/rVZ+WOxuq2bu31rFtM3F6z4ljw1R3Tjr+vb1ap2al1Z88RM/Z2X5n5jL2zGD3ntsHVFLF82+8T98565mrdV1Z3C2GOH7gGRrTrSVK7Kp/n+6sy6iMwGt7UkqK0wTffe4Ivp7TeII+YIxMSB54fYj12R7OVx6iNCELf/UhTiXauxaAZ2KEa/qaOdcjqXPwunLr/3kmXv95tgHH3tlDZ67f0bmSh1rZCVQ2+2lxaGu47ncpMa+4CSFeAmabuvctKeVTJq4x27tbSDdISvkA8ADA9u3b5e7du01c4mL27t2L3WODGT7ewsOn3mfFpq1scpgWPXy8Bd55n5uuvtzxuWbD6T2/NXCSo+/Uce211zrK5nzz2ZMkJ9Tx0Zt2hz0r1O49j09M8j/ffoH47FJ2715v+fi/rmwFP+xalgSXWrh+fxvs7aZwyw0U7rJwXBBO/85/mdHI/3j8CP3Za/nY5un1oR++coaekdM8+JmdbF+eDbWrSRkfpsDJ/1F7FbwBFVuvo8LK72kGbv0/X4R/LRz8Sy4pz4XLHZ6/fh/sh3WXX8e6Vc7OFbb7XULMG5aUUt4gpdw0y5cZYQPlqQUH3EuBJjvGRoIiFwu5mwOJKdGYLQkqY3JkfJJOO+tQQTR0D1KalRp15Q7BxMd5WJGXRlVrn63j93ZmMiqSoOmQtQNbjqlt4SW2rusGH9tczObSDP7X0yemXtdHGnr4/stnuGVToRI2UGuCXeecXay7Vm2jNSyZlgcIdzIm/YHkGx2WjAoWIn3pALBaCFEhhEgE/gh4egGu6wqGELnRVLi5d5ikeI87vfrCQHGgHMBpxuRUGUCUs6HIR2WzdXHrGRylqW+cbu8aaD5s7WBD3Ao2Wb6uW8THefiXOzczMjbB7f/+Ft9+6jifemg/+d5kvvOJINHNXqHGwQz32r+YIY7RKm5x8ZCeP902ywlGX0mdUBIVOC0F+IQQohHYBTwnhHgh8HixEOJ5ACnlOPAl4AXgFPC4lPKEM7MXjpz0JOI8wpVyAKPGLVo9mpIso9ZtaYjbuiIvLf5hyxmTlS1KEMcKtkDzEWvDLluOga8UUl0YI+OANQVefv35neSkJ/Hrd+vZUpbJY1/YeeFQUiOb04n31l0LCWmQluvI3rDiK5nuLOIEf5OaJp/s/pKDxjqOEkqklE8CT87yeBNwa9DPzwPPO7lWpIjzCAq8SbT0Op8MEK01bgZTXUoceG7+4TF6h8YoC86UjFLWFfoAJVa7Vpof63I6EMr0VmyHM/+phq2a7e5//j0oucyyreFgc1kmz3z5aqSUs3/gMqaEd52F4i32LtJdq7y2KP1AB0DmMmg97vw8vfWq5CGa73UJEYVVldFHYUYyLX7nnltzz1BU1rgZZKQk4E2Otz/Ik+mQZmksiFuRF4BTzday5E4195GRkoBv5Q71wPn3zB3Y367e7Esvt3S9cBMykmCEErtq7J/cELdoJrNM1eJZ8cBno6dBnUsTFWhxM0GhCy24JiYlrX0jUVvjBupNrjwnlToH4tYQODYWwpJ56UnkpCVS2WJN3I6f72VTiQ+Rtw6SM6HubXMHNh5Q29IdFi2NEIlpav3IblhSSiVu2RWumuU6meUwMaI6lTihN4qL1ZcgWtxMUOhLoaV3GDnXXLJ5aOsbZmJSRrXnBlCek0Z9p82ei0Bt4NjlOTaKmxcYIQTrirxTa2hmGBmfoLLFzyUlmaqd1LJd1sTNE28/xBcJslfa99z622B8KAY8t2Vq2+OgYH10AAY7tecWRWhxM0FJVgqDoxP0DI7ZPofRkDiaPTeA8uxUGruHGJ+nc3woznUMkpWaQEaUjfQJxbpCH1UtfUyY7EBT2dzH2IRkc2kgaaD8SrUm1WeiML3xgCoBiKWO8dkV0HnW3rHRXgZgYHhbPXX2z2EIY8Yy5/ZoXEGLmwmMEJuTRIupGreo99xSGZ+UtqcD1HYMsDw3+r02g43FPkbGJznTZs57O9qoRsBcEixuAPXzeG/jI3D+/dgJSRpkr1DhuhEb9YCd1WqbFe1hSUPc6u2fw2hTpj23qEGLmwmmxc3+WlRzQCyiOVsSYFm2Eqa6LnuhybrOASpiICRpcNkyNdrlcL25uWVHG3vJSUucyiylaLNKdT8Xsne4ovEAjA3CimudmLvwTGVM2lh36zyjGkRnlbtrk9skedUMNid9NA1h1GtuUYMWNxMYmX9OPLfG7kG8SfH4kheinad9ynPUvdZ1Whfy4bEJmnqHKY8hcVuek0pmagIH67tN7X+ksYdLSjOmMwzjEmDldXD6xdmnjRucfRVEHCy/2gWrF5DsgLh1nrF+bMcZFdaMi4EQdWaZc8/NE6+mDGiiAi1uJjBS5J14bg3dQ5RlR3dLKoBCXzKJ8R5b5QCGIC7Pjf4yAAMhBJeVZXLIhOfWNTDK6dZ+tpdnXfjEmpvB3zh3rVTNq2p2XawV+OasAuGZnkFnhc5qyFntvk3hIHOZM3HraVCTxj1x7tmkcYQWN5OUZqU68tzquwYpy47ukCSAxyNYlp1KnY2MyXOBydYVMbTmBio0eaatn96huROG3j2nJljvXDGj4Hv1TWp7+vezH9h7Xq23rbnZqakLT0KyWndrO2XtuMkJlWWZuyo8drlNZrkSKLsZ0boMIOrQ4maSkswU2+ImpaShazAmunaAypi0E5acKgOIMXHbGlh3OzRPaHL/uU6SEzxcWpp54RPeAijZDidDtEw99Yzabvi4U1MjQ946655bTx1MjMaO55ZRpsoWBjrsHd9TP11SoIkKtLiZpDRLDfK0U+vW3jfCyPgkZdmxIW7LcpS4Wb3Xus4BctIS8SXHwBpLEFvLM0mM8/Dmmbnf2PbVdLF1WRaJ8bP822z+I2g5qnpNzuTY/4P8jbHjxcwkb50qdxi30IOzI5ApmRsj4jZV62YjNDk+qqYKaM8tqtDiZpLSrBT6R8bnDV3NRkNgrW5ZjIjbirx0hsYmLHdlORdjZQAGqYnxXF6Rxetn2kPu0zUwSmWLnysqQvSgvOQONbn6vZ9f+Hjj+6o917a7XbR4gclbB5PjSuDMYiSgxIrnZohbrw1x620ApPbcogwtbiZxkjHZ0KWOiYU1N4DV+ekAnGnrt3RcddsAK2JQ3ACuXZPH6db+qXrEmbxS2YaU8MF1+bOfICULtvwJHHp4ungZ4K3vQaIXNv+x+0YvFPnr1NbKulvbSUjNgTTzDakjilGf1m2jkNsokzCmKGiiAi1uJnFS61Y/1W8xNjy3VQFxq7Ygbt0Do3T0j7CmwBsus8LKNWvyAHitanbvbc/JFgp9yWwq8YU+ybXfVNlyz30DJsah8jk49TRc+WVInuO4aCdntfWMydYTEZ1ZZ5nkDCXGdlqNGcdocYsqtLiZxEgGMbwwKzR0DZLvTSI5ITbShHPSEslMTbAkbsYYmNUF6eEyK6ysLfBSmpXCc8eaL3quf2Sc1093cMOG/LlLOXzFcPM/QPVL8IPL4PFPQ/FlcNVXw2j5ApCQrLqMtJv03CYnlJcXwWnjtshZZa/VWPc5VcifHsKr10QELW4m8aXEk5GSMJURaIWG7sGYSSYBVfu1Oj+ds1bELbBvrHpuQghuv6yEN6s7aJmx1vj04SaGxib45NbS+U+0/c/hkw8pb2f7Z+GuJ5U4xDr566H1pLl9u2pgfBgKNobXJrfJWWVtXdGgq0Z5bVFew7rUcDqJ+04hxAkhxKQQYvsc+9UKIY4JIQ4LIUwOv4ouhBBU5KbZE7euIcpiYARMMKvy0033WwQ409qHNymeoozYfSO/fWspUsKv90+vu0gpeWR/HesKvWwpy5zj6CAuuQPu+h3c+s9qLW4xULRFFWUPmxgPZBSzx5q4Za+AvmYYsbbWrMRteVhM0tjHqed2HLgdmKexHgDXSSm3SClDimC0U5Gbxrl2a+I2Oj5Jc+9QTHluACvz0ukeHKOz39wE8qqWPlYXpEd9B5a5WJ6bxs0bC3nozXNT9/3CiRZONPn5zFXLY/reHFO8BZCq3GE+Wo6rVmO5a8NulqvkBEo1rHhvkxOBmXV6vS3acCRuUspTUkobfXlik4rcNJp6hxkanTB9TF3nAJMSVuTFVhahEV6sMjnr7Exbf8yGJIP5xk1rGBmf5GuPHea10+38zX8dZ12h11xIcjFTFJhB13Ro/n1bjyuhiLVwrCFuVtbd/E2qWF2LW9SxUF18JfCiEEICP5FSPhBqRyHEPcA9AAUFBezdu9fWBfv7+20fG4qhtnEAnnjhNcq85j4XvN+qjumur2Jvb7Wr9szEzXv2j6gC7qfeOMRo49xF2T3Dk3QNjOLpa3X9dz4f4fg737UhgV+e6OCNMx1kJgk+vSqON98wE5xYGMJxz2bYmZRH7+EXODU6R6KIlFx57h26srdS6aKNC3HPnokRrgHOvfcSdR3Zpo7J7D7KFuBwvZ+evr2u2RKpv/GiQko55xfwEir8OPPrtqB99gLb5zhHcWCbDxwBrpnvulJKtm3bJu3y6quv2j42FMcae2T5vc/K5482mT7mR6+ekeX3Piv9Q6Ou2zMTt+9553dekl/9zcF599tzokWW3/usPHCu09XrmyEcf2cppTzT6pfPHW2SPQPh/7tZJVz3PC+/+RMpv3/Z3Pt01Ur5bZ+U7/7U1Usv2D3/63opf3uP+f33P6Dut/e8q2Y4uV/gPWni/XWxf83ruUkpb3BBQJsC2zYhxJPADsyt00UVRveNmg7z62417QPkeZPwxlhLKoCNxRkcb5o/geBoYw8eofZfLKzK97IqP/bDrK5SshUqn4XBLkgN4dk0HgjsG6NL6zkrra25tVdBUgZ4i8Jnk8YWYS8FEEKkCSG8xvfATSjPL+ZIT4on35s01f3eDDXt/THbtWNTiY+z7f0Mjo7Pud/R872sKfCSkhgbdXwamywLTB2veyv0Puffh/iU2MuUNMhZpebQmaW9EvLW6jKAKMRpKcAnhBCNwC7gOSHEC4HHi4UQzwd2KwDeFEIcAd4FnpNShpgNEv1U5KZRa0XcOgZYkRebhc0bizOQEk41h/bepJQca+zlkpLF47VpQlCyVQlX7Rzidu4NKN0eGwNKZyN3DQz3QH+buf3bq5S4aaIOp9mST0opS6WUSVLKAinlhwKPN0kpbw18XyOl3Bz42iil/D9uGB4pVuSlmfbcugZG6RkcY2WMZUoaGIJ1tLE35D5NvcN0DoxyaakWt0VPfBKU7YDaN2Z/vr8dWo+pyeSxiuFxzjV41mCwCwbaVGNpTdShO5RYZGVeOp0Do6bqv862908dE4sUZiRTkpnCgdqukPu8X6dmoG02W+CsiW1WXKve+P1NFz937rXAPrsX0iJ3yTfE7cT8+7ZXqq0Wt6hEi5tF1hWqBriVJuq/jHDeuqLYTUy4oiKbd891hZzt9s7ZTrxJ8WwoiuHGwBrzrP2w2lY9f/Fzp19QHVmMmrhYJC1HJYdYEjcdloxGtLhZxBCqudahDE42+clMTaDQF2PFrEHsqMimo380ZIbovppOdlRkEx+nX0pLgry1kL1yerq4weigmoKw/qNqMkIsk7/BXFiy9aQaZ5SxxAv8oxT9jmSR3PQk8rxJnGo257mtL/TFdNumnSvUPK43Tl88CqapZ4hzHQPsWhkjM7s0zhECNn0Sal6bnmMGcPq/YWwANt0ROdvcomCjShSZmGcwcfNhKLpUZ0pGKVrcbLCu0Duv5zY+MUllSx/rYzxctzw3jZV5aew51XrRc3tOqsd2r9WjPpYU2z+jvLN3A42GpIR9/wGZ5bD86sja5gYFm1RLrblKAibGVQ/NWA7BLnK0uNlgQ5GP6rZ+xiYmQ+5T2znAyPgkG4pjW9wAbtxQyP6aLnoHL/wk+/yxZtYUpE8NN9UsEXzFcMkfwIEHoeWYmj7eeACu/nrshyQh0CQaaDoYep+O0zA+BEWbF8YmjWW0uNlgXZGX0YnJqWzI2TgZCFuuj+FkEoNbLylkfFLy1JHzU4819w7xbm0XN2/SnRmWJDf+HaRkw0+uhae/BMs/AFs/HWmr3CFntZrMbXRbmY3mw2pbrD23aEWLmw0uLVVp70caekLuc7Shh8R4z6Lwai4tzWRzWSa/eKuWyUmVNfmLt2oRwJ3b9GL6kiQ9Hz77Auz4PFx7L/zJY4vDawPweFT7sIY5xK1hv2q7ZUwS0EQdWtxssCI3jczUhKkar9l4r66bzaUZJMUvjn/4z11dQU3HAA/vr6O6rY+fv13LRzcXx9ycOo2LZC2HW/4JrvtrSIzNRgUhKb0c2k6GHs5a9zYs27l4BH0RosXNBkIIti3LCiluw2MTnGjqZVu5ubEZscBHLi3i2jV5/O1TJ7jl+2/gS47n/lvWR9osjSY8lO8CpBKxmfS3qzW38isX3CyNebS42WRreRZn2wfoGhi96Lmjjb2MTUi2l2dFwLLwIITgx5/axpc/uIo7tpXx+Bd2UZgRu/V7Gs2cLNsFCalw9uWLnzPaj5VftbA2aSyxUMNKFx1Gbdeb1R18bHPxBc+9eaYdj4DtyxePuAGkJMbxjZt0NwbNEiA+SSXJVM8iblXPq2Sa4ssW3i6NabTnZpPNpZlkpSawt/Li7uGvVLWxrTyLzNTECFim0WhcYfWNarZbcCuu8VHVZmzdrRCnfYNoRoubTeI8gmvX5LH3dDsTk9N9F1v9wxw/7+eD6woiaJ1Go3HMxtvBkwCHHpl+rPolGPHDuo9Gzi6NKbS4OeDmTYV0DYyyt2rae3vmiOqWfuMGLW4aTUyTlqM8tCO/UVmTUsK+fwdfCay6PtLWaeZBi5sDrl9fQL43iYf31QGq5dYj++vZVp61KOrbNJolz1VfhaEuePFb8N5DKpnkyq/E7jDWJYTTSdz/IoSoFEIcFUI8KYSYdaiXEOJmIUSVEKJaCHGfk2tGEwlxHv70inJerWrnreoOHt5Xx7mOAT7/gYpIm6bRaNygZBtc+WU4+Ct47htQfjVc/rlIW6UxgdMV0T3A/VLKcSHEPwH3A/cG7yCEiAN+BNwINAIHhBBPSylPOrx2VHDPNSt46vB5/vTB/QDsXpvHhzYWRtgqjUbjGjf+b5X2P9QNGz+hE0liBEd/JSnli0E/7gNmm3exA6iWUtYACCEeBW4DFoW4pSTG8eg9O/nxazWkJ8fzhWtWxPSIG41GMwMhYO0tkbZCYxERasKy5RMJ8QzwmJTy4RmP3wHcLKX8XODnu4ArpJRfCnGee4B7AAoKCrY9+uijtuzp7+8nPX1prXvpe14a6Hte/Di53+uuu+59KeV2l02KOeb13IQQLwGzxdm+JaV8KrDPt4Bx4JFZ9pvNjQmpqFLKB4AHALZv3y537949n4mzsnfvXuweG6voe14a6Hte/Cy1+w0H84qblPKGuZ4XQtwNfAS4Xs7uBjYCZUE/lwJNVozUaDQajcYKTrMlb0YlkHxMSjkYYrcDwGohRIUQIhH4I+BpJ9fVaDQajWYunNa5/RDwAnuEEIeFED8GEEIUCyGeB5BSjgNfAl4ATgGPSylPhDqhRqPRaDROcZotOeukPillE3Br0M/PA887uZZGo9FoNGbRHUo0Go1Gs+jQ4qbRaDSaRYcWN41Go9EsOlwr4g4HQoh2oM7m4blAh4vmxAL6npcG+p4XP07ut1xKmeemMbFIVIubE4QQ7y21Kn19z0sDfc+Ln6V2v+FAhyU1Go1Gs+jQ4qbRaDSaRcdiFrcHIm1ABND3vDTQ97z4WWr36zqLds1No9FoNEuXxey5aTQajWaJosVNo9FoNIuORSduQoibhRBVQohqIcR9kbYn3AghyoQQrwohTgkhTgghvhppmxYKIUScEOKQEOLZSNuyEAghMoUQTwghKgN/712RtincCCG+HnhdHxdC/EYIkRxpm9xGCPEzIUSbEOJ40GPZQog9QogzgW1WJG2MRRaVuAkh4oAfAbcAG4A/FkJsiKxVYWcc+IaUcj2wE/jiErhng6+iJk0sFb4P/F5KuQ7YzCK/dyFECfAVYLuUchMQhxqZtdj4BXDzjMfuA16WUq4GXg78rLHAohI3YAdQLaWskVKOAo8Ct0XYprAipWyWUh4MfN+HesMriaxV4UcIUQp8GHgw0rYsBEIIH3AN8BCAlHJUStkTWasWhHggRQgRD6SyCAcdSylfB7pmPHwb8MvA978EPr6gRi0CFpu4lQANQT83sgTe6A2EEMuBy4D9kbVkQfge8E1gMtKGLBArgHbg54FQ7INCiLRIGxVOpJTnge8C9UAz0CulfDGyVi0YBVLKZlAfYIH8CNsTcyw2cROzPLYkah2EEOnAb4GvSSn9kbYnnAghPgK0SSnfj7QtC0g8sBX4DynlZcAAizxUFVhnug2oAIqBNCHEpyJrlSZWWGzi1giUBf1cyiIMY8xECJGAErZHpJS/i7Q9C8BVwMeEELWo0PMHhRAPR9aksNMINEopDa/8CZTYLWZuAM5JKdullGPA74ArI2zTQtEqhCgCCGzbImxPzLHYxO0AsFoIUSGESEQtPj8dYZvCihBCoNZhTkkp/y3S9iwEUsr7pZSlUsrlqL/xK1LKRf2JXkrZAjQIIdYGHroeOBlBkxaCemCnECI18Dq/nkWeRBPE08Ddge/vBp6KoC0xSXykDXATKeW4EOJLwAuozKqfSSlPRNiscHMVcBdwTAhxOPDYX0spn4+gTZrw8GXgkcAHtxrgMxG2J6xIKfcLIZ4ADqKygg+xCNtSCSF+A+wGcoUQjcC3gX8EHhdCfBYl8ndGzsLYRLff0mg0Gs2iY7GFJTUajUaj0eKm0Wg0msWHFjeNRqPRLDq0uGk0Go1m0aHFTaPRaDSLDi1uGo1Go1l0aHHTaDQazaLj/wPpZVOGOxh17QAAAABJRU5ErkJggg==\n",
          "text/plain": "<Figure size 432x288 with 1 Axes>"
         },
         "metadata": {
          "needs_background": "light"
         },
         "output_type": "display_data"
        }
       ]
      }
     },
     "e1afda8619be421587ecf51952eb9482": {
      "model_module": "@jupyter-widgets/output",
      "model_module_version": "1.0.0",
      "model_name": "OutputModel",
      "state": {
       "layout": "IPY_MODEL_313c9d5384fb40fc983867a9f41722a9",
       "outputs": [
        {
         "data": {
          "application/vnd.jupyter.widget-view+json": {
           "model_id": "",
           "version_major": 2,
           "version_minor": 0
          },
          "text/plain": "interactive(children=(FloatSlider(value=20.0, description='s', disabled=True, min=1.0), FloatSlider(value=20.4…"
         },
         "metadata": {},
         "output_type": "display_data"
        }
       ]
      }
     },
     "e5a8ce44f9e0477fb0f342635e336cd9": {
      "model_module": "@jupyter-widgets/base",
      "model_module_version": "1.2.0",
      "model_name": "LayoutModel",
      "state": {}
     },
     "f295c33fa3014c009e7b5ed91b3dc47f": {
      "model_module": "@jupyter-widgets/controls",
      "model_module_version": "1.5.0",
      "model_name": "FloatSliderModel",
      "state": {
       "description": "s",
       "disabled": true,
       "layout": "IPY_MODEL_72ad28540a434234a0b0cc07a92b9653",
       "min": 1,
       "step": 0.1,
       "style": "IPY_MODEL_69ab3526151b4e5185f90e69ee8f1612",
       "value": 20
      }
     },
     "f4326394706645bbaf398a885da1c856": {
      "model_module": "@jupyter-widgets/controls",
      "model_module_version": "1.5.0",
      "model_name": "VBoxModel",
      "state": {
       "_dom_classes": [
        "widget-interact"
       ],
       "children": [
        "IPY_MODEL_f295c33fa3014c009e7b5ed91b3dc47f",
        "IPY_MODEL_9ffb964fc5b54b9795f5de5787965c6e",
        "IPY_MODEL_dd57e4b205ef48989c474856a2440f11",
        "IPY_MODEL_e1296fe2267845809d1e8b837694e317"
       ],
       "layout": "IPY_MODEL_c7fb9e92021544bd921391d9baad9e5b"
      }
     },
     "fa4cfb8fabf7466ba4eba65c31d17884": {
      "model_module": "@jupyter-widgets/controls",
      "model_module_version": "1.5.0",
      "model_name": "FloatSliderModel",
      "state": {
       "description": "m",
       "layout": "IPY_MODEL_37447256975e4d408a647ce640ddd710",
       "max": 204.08163265306123,
       "min": 20.408163265306122,
       "step": 0.01,
       "style": "IPY_MODEL_b0b8f69458694b2d94c8ea4a2c0365a8",
       "value": 20.408163265306122
      }
     },
     "fe1d7389b62a4d729723e9895f9ad3e0": {
      "model_module": "@jupyter-widgets/controls",
      "model_module_version": "1.5.0",
      "model_name": "DescriptionStyleModel",
      "state": {
       "description_width": ""
      }
     }
    },
    "version_major": 2,
    "version_minor": 0
   }
  }
 },
 "nbformat": 4,
 "nbformat_minor": 4
}
