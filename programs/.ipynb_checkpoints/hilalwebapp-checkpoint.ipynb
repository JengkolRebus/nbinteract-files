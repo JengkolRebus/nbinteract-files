{
 "cells": [
  {
   "cell_type": "code",
   "execution_count": 1,
   "metadata": {},
   "outputs": [],
   "source": [
    "from skyfield.api import load, Topos\n",
    "from skyfield.units import Angle\n",
    "from skyfield import almanac\n",
    "from datetime import datetime, timedelta\n",
    "from pytz import timezone\n",
    "from ipywidgets import widgets, interact\n",
    "from IPython.display import display, HTML\n",
    "import calendar"
   ]
  },
  {
   "cell_type": "code",
   "execution_count": 2,
   "metadata": {},
   "outputs": [],
   "source": [
    "jkt = timezone('Asia/Jakarta')\n",
    "ts = load.timescale()\n",
    "e = load('de421.bsp')"
   ]
  },
  {
   "cell_type": "code",
   "execution_count": 3,
   "metadata": {},
   "outputs": [],
   "source": [
    "def find(t0, t1):\n",
    "    t0 = ts.utc(t0)\n",
    "    t1 = ts.utc(t1)\n",
    "    \n",
    "    print(t0, t1)\n",
    "    \n",
    "    f = almanac.oppositions_conjunctions(e, e['moon'])\n",
    "    t, y = almanac.find_discrete(t0, t1, f)\n",
    "    \n",
    "    for ti, yi in zip(t, y):\n",
    "        if(yi == 1):\n",
    "            t_konj = ti.utc\n",
    "            \n",
    "#             t0 = ts.utc(t_konj[0], t_konj[1], t_konj[2], t_konj[3], t_konj[4], t_konj[5])\n",
    "#             t1 = ts.utc(t_konj[0], t_konj[1], t_konj[2]+1, t_konj[3], t_konj[4], t_konj[5])\n",
    "        else:\n",
    "            pass\n",
    "    print(t_konj)\n",
    "\n",
    "def loc(Latitude, Longitude):\n",
    "    topo = Topos(Latitude, Longitude)\n",
    "    interact(find, t0=dari, t1=sampai)"
   ]
  },
  {
   "cell_type": "code",
   "execution_count": 4,
   "metadata": {},
   "outputs": [
    {
     "data": {
      "application/vnd.jupyter.widget-view+json": {
       "model_id": "68e2b53bd86044a09d12d2673009d996",
       "version_major": 2,
       "version_minor": 0
      },
      "text/plain": [
       "interactive(children=(Text(value='7.83305556 S', description='Latitude'), Text(value='110.38305556 E', descrip…"
      ]
     },
     "metadata": {},
     "output_type": "display_data"
    },
    {
     "data": {
      "text/plain": [
       "<function __main__.loc(Latitude, Longitude)>"
      ]
     },
     "execution_count": 4,
     "metadata": {},
     "output_type": "execute_result"
    }
   ],
   "source": [
    "hari_ini = datetime.now().date()\n",
    "days_in_month = calendar.monthrange(hari_ini.year, hari_ini.month)[1]\n",
    "besok = hari_ini + timedelta(days_in_month)\n",
    "\n",
    "dari = widgets.DatePicker(value=hari_ini,\n",
    "    description='Dari:',\n",
    "    disabled=False\n",
    ")\n",
    "sampai = widgets.DatePicker(value=besok,\n",
    "    description='Sampai:',\n",
    "    disabled=False\n",
    ")\n",
    "\n",
    "interact(loc, Latitude='7.83305556 S', Longitude='110.38305556 E')"
   ]
  }
 ],
 "metadata": {
  "kernelspec": {
   "display_name": "Python 3",
   "language": "python",
   "name": "python3"
  },
  "language_info": {
   "codemirror_mode": {
    "name": "ipython",
    "version": 3
   },
   "file_extension": ".py",
   "mimetype": "text/x-python",
   "name": "python",
   "nbconvert_exporter": "python",
   "pygments_lexer": "ipython3",
   "version": "3.7.6"
  },
  "widgets": {
   "application/vnd.jupyter.widget-state+json": {
    "state": {
     "088bbfee3b7b4d1798c9583716c731e3": {
      "model_module": "@jupyter-widgets/controls",
      "model_module_version": "1.5.0",
      "model_name": "DatePickerModel",
      "state": {
       "description": "Sampai:",
       "disabled": false,
       "layout": "IPY_MODEL_cfd0fd12e5de4be9b9602f912997dadb",
       "style": "IPY_MODEL_12e8992207e347289fa6e4eff4e86751",
       "value": {
        "date": 26,
        "month": 5,
        "year": 2020
       }
      }
     },
     "0d5e1cdb193b4fafbf1123d10f7e3d0c": {
      "model_module": "@jupyter-widgets/base",
      "model_module_version": "1.2.0",
      "model_name": "LayoutModel",
      "state": {}
     },
     "12e8992207e347289fa6e4eff4e86751": {
      "model_module": "@jupyter-widgets/controls",
      "model_module_version": "1.5.0",
      "model_name": "DescriptionStyleModel",
      "state": {
       "description_width": ""
      }
     },
     "249562d450174c57a8da65c18ae07777": {
      "model_module": "@jupyter-widgets/controls",
      "model_module_version": "1.5.0",
      "model_name": "DescriptionStyleModel",
      "state": {
       "description_width": ""
      }
     },
     "36c1f489de184a35a38a89eaa4ccbcf9": {
      "model_module": "@jupyter-widgets/base",
      "model_module_version": "1.2.0",
      "model_name": "LayoutModel",
      "state": {}
     },
     "3ad4bb5bb1e24851bd36f9d34a7fd2bc": {
      "model_module": "@jupyter-widgets/controls",
      "model_module_version": "1.5.0",
      "model_name": "DescriptionStyleModel",
      "state": {
       "description_width": ""
      }
     },
     "68e2b53bd86044a09d12d2673009d996": {
      "model_module": "@jupyter-widgets/controls",
      "model_module_version": "1.5.0",
      "model_name": "VBoxModel",
      "state": {
       "_dom_classes": [
        "widget-interact"
       ],
       "children": [
        "IPY_MODEL_e077a3f06b95485683d2a98f371111da",
        "IPY_MODEL_83917e65c963439787195b510a79fc0b",
        "IPY_MODEL_9f3f41e14e4d4063bfc26a3f4da44938"
       ],
       "layout": "IPY_MODEL_c4609211b3cc4ccc869e590355c964fe"
      }
     },
     "763f29cb9d5d4f1b9655c8dca53dacab": {
      "model_module": "@jupyter-widgets/controls",
      "model_module_version": "1.5.0",
      "model_name": "DatePickerModel",
      "state": {
       "description": "Dari:",
       "disabled": false,
       "layout": "IPY_MODEL_c641c1e689ef4104b0cda98a35c90698",
       "style": "IPY_MODEL_b48ad1776e7a4f76a991715c4bec0fc2",
       "value": {
        "date": 26,
        "month": 4,
        "year": 2020
       }
      }
     },
     "78cadee8a90743d2a393b2bf8ca655cf": {
      "model_module": "@jupyter-widgets/controls",
      "model_module_version": "1.5.0",
      "model_name": "VBoxModel",
      "state": {
       "_dom_classes": [
        "widget-interact"
       ],
       "children": [
        "IPY_MODEL_763f29cb9d5d4f1b9655c8dca53dacab",
        "IPY_MODEL_088bbfee3b7b4d1798c9583716c731e3",
        "IPY_MODEL_a816cbc627d443ed97aa142075037aaf"
       ],
       "layout": "IPY_MODEL_9ddd151e5e5b48f9b0f33a247f722e5f"
      }
     },
     "83917e65c963439787195b510a79fc0b": {
      "model_module": "@jupyter-widgets/controls",
      "model_module_version": "1.5.0",
      "model_name": "TextModel",
      "state": {
       "description": "Longitude",
       "layout": "IPY_MODEL_0d5e1cdb193b4fafbf1123d10f7e3d0c",
       "style": "IPY_MODEL_3ad4bb5bb1e24851bd36f9d34a7fd2bc",
       "value": "110.38305556 E"
      }
     },
     "9ddd151e5e5b48f9b0f33a247f722e5f": {
      "model_module": "@jupyter-widgets/base",
      "model_module_version": "1.2.0",
      "model_name": "LayoutModel",
      "state": {}
     },
     "9f3f41e14e4d4063bfc26a3f4da44938": {
      "model_module": "@jupyter-widgets/output",
      "model_module_version": "1.0.0",
      "model_name": "OutputModel",
      "state": {
       "layout": "IPY_MODEL_d8126f6a97184a92a652f976b807808c",
       "outputs": [
        {
         "data": {
          "application/vnd.jupyter.widget-view+json": {
           "model_id": "78cadee8a90743d2a393b2bf8ca655cf",
           "version_major": 2,
           "version_minor": 0
          },
          "text/plain": "interactive(children=(DatePicker(value=datetime.date(2020, 5, 26), description='Dari:'), DatePicker(value=date…"
         },
         "metadata": {},
         "output_type": "display_data"
        }
       ]
      }
     },
     "a816cbc627d443ed97aa142075037aaf": {
      "model_module": "@jupyter-widgets/output",
      "model_module_version": "1.0.0",
      "model_name": "OutputModel",
      "state": {
       "layout": "IPY_MODEL_36c1f489de184a35a38a89eaa4ccbcf9",
       "outputs": [
        {
         "name": "stdout",
         "output_type": "stream",
         "text": "<Time tt=2458995.500800741> <Time tt=2459026.500800741>\n(2020, 6, 21, 6, 41, 27.48125731945038)\n"
        }
       ]
      }
     },
     "aee20800228d4dafaee02ce4849faa0c": {
      "model_module": "@jupyter-widgets/base",
      "model_module_version": "1.2.0",
      "model_name": "LayoutModel",
      "state": {}
     },
     "b48ad1776e7a4f76a991715c4bec0fc2": {
      "model_module": "@jupyter-widgets/controls",
      "model_module_version": "1.5.0",
      "model_name": "DescriptionStyleModel",
      "state": {
       "description_width": ""
      }
     },
     "c4609211b3cc4ccc869e590355c964fe": {
      "model_module": "@jupyter-widgets/base",
      "model_module_version": "1.2.0",
      "model_name": "LayoutModel",
      "state": {}
     },
     "c641c1e689ef4104b0cda98a35c90698": {
      "model_module": "@jupyter-widgets/base",
      "model_module_version": "1.2.0",
      "model_name": "LayoutModel",
      "state": {}
     },
     "cfd0fd12e5de4be9b9602f912997dadb": {
      "model_module": "@jupyter-widgets/base",
      "model_module_version": "1.2.0",
      "model_name": "LayoutModel",
      "state": {}
     },
     "d8126f6a97184a92a652f976b807808c": {
      "model_module": "@jupyter-widgets/base",
      "model_module_version": "1.2.0",
      "model_name": "LayoutModel",
      "state": {}
     },
     "e077a3f06b95485683d2a98f371111da": {
      "model_module": "@jupyter-widgets/controls",
      "model_module_version": "1.5.0",
      "model_name": "TextModel",
      "state": {
       "description": "Latitude",
       "layout": "IPY_MODEL_aee20800228d4dafaee02ce4849faa0c",
       "style": "IPY_MODEL_249562d450174c57a8da65c18ae07777",
       "value": "7.83305556 S"
      }
     }
    },
    "version_major": 2,
    "version_minor": 0
   }
  }
 },
 "nbformat": 4,
 "nbformat_minor": 4
}
