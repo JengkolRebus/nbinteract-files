{
 "cells": [
  {
   "cell_type": "code",
   "execution_count": 1,
   "metadata": {},
   "outputs": [
    {
     "data": {
      "application/vnd.jupyter.widget-view+json": {
       "model_id": "594c59fa94014adab7dc7f2fa5420116",
       "version_major": 2,
       "version_minor": 0
      },
      "text/plain": [
       "interactive(children=(Text(value='7.83305556 S', description='Latitude:', placeholder='Type something'), Text(…"
      ]
     },
     "metadata": {},
     "output_type": "display_data"
    },
    {
     "data": {
      "text/plain": [
       "<function __main__.find(lat, long, t0, t1)>"
      ]
     },
     "execution_count": 1,
     "metadata": {},
     "output_type": "execute_result"
    }
   ],
   "source": [
    "from skyfield.api import load, Topos\n",
    "from skyfield.units import Angle\n",
    "from skyfield import almanac\n",
    "from datetime import datetime, timedelta\n",
    "from pytz import timezone\n",
    "from ipywidgets import widgets, interact, interactive\n",
    "from IPython.display import display, HTML\n",
    "import calendar\n",
    "\n",
    "jkt = timezone('Asia/Jakarta')\n",
    "ts = load.timescale(builtin=True)\n",
    "e = load('de421.bsp')\n",
    "\n",
    "def find(lat, long, t0, t1):\n",
    "    t_konj = []\n",
    "    t_konj.clear\n",
    "    topo = Topos(lat, long)\n",
    "    loc = e['earth'] + topo\n",
    "    print(topo)\n",
    "    print(loc)\n",
    "    t0 = ts.utc(t0)\n",
    "    t1 = ts.utc(t1)\n",
    "    print(t0, t1)\n",
    "    \n",
    "    f = almanac.oppositions_conjunctions(e, e['moon'])\n",
    "    t, y = almanac.find_discrete(t0, t1, f)\n",
    "    for ti, yi in zip(t, y):\n",
    "        if(yi == 1):\n",
    "            t_konj.append(ti.utc)\n",
    "            \n",
    "#             t0 = ts.utc(t_konj[0], t_konj[1], t_konj[2], t_konj[3], t_konj[4], t_konj[5])\n",
    "#             t1 = ts.utc(t_konj[0], t_konj[1], t_konj[2]+1, t_konj[3], t_konj[4], t_konj[5])\n",
    "        else:\n",
    "            pass\n",
    "    print(t_konj)\n",
    "\n",
    "\n",
    "lat = widgets.Text(\n",
    "    value='7.83305556 S',\n",
    "    placeholder='Type something',\n",
    "    description='Latitude:',\n",
    "    disabled=False\n",
    ")\n",
    "long = widgets.Text(\n",
    "    value='110.38305556 E',\n",
    "    placeholder='Type something',\n",
    "    description='Longitude:',\n",
    "    disabled=False\n",
    ")\n",
    "\n",
    "hari_ini = datetime.now().date()\n",
    "days_in_month = calendar.monthrange(hari_ini.year, hari_ini.month)[1]\n",
    "besok = hari_ini + timedelta(days_in_month)\n",
    "\n",
    "t0 = widgets.DatePicker(value=hari_ini,\n",
    "    description='Dari:',\n",
    "    disabled=False\n",
    ")\n",
    "t1 = widgets.DatePicker(value=besok,\n",
    "    description='Sampai:',\n",
    "    disabled=False\n",
    ")\n",
    "\n",
    "interact(find, lat=lat, long=long, t0=t0, t1=t1)"
   ]
  }
 ],
 "metadata": {
  "kernelspec": {
   "display_name": "Python 3",
   "language": "python",
   "name": "python3"
  },
  "language_info": {
   "codemirror_mode": {
    "name": "ipython",
    "version": 3
   },
   "file_extension": ".py",
   "mimetype": "text/x-python",
   "name": "python",
   "nbconvert_exporter": "python",
   "pygments_lexer": "ipython3",
   "version": "3.7.6"
  },
  "widgets": {
   "application/vnd.jupyter.widget-state+json": {
    "state": {
     "3c9accc79a424918a5f3988e8ebbce6b": {
      "model_module": "@jupyter-widgets/output",
      "model_module_version": "1.0.0",
      "model_name": "OutputModel",
      "state": {
       "layout": "IPY_MODEL_76c3e27f7e6247eeafb40d03941c8716",
       "outputs": [
        {
         "name": "stdout",
         "output_type": "stream",
         "text": "Topos -07deg 49' 59.0\" N 110deg 22' 59.0\" E\nSum of 3 vectors:\n + Segment 'de421.bsp' 0 SOLAR SYSTEM BARYCENTER -> 3 EARTH BARYCENTER\n + Segment 'de421.bsp' 3 EARTH BARYCENTER -> 399 EARTH\n + Topos -07deg 49' 59.0\" N 110deg 22' 59.0\" E\n<Time tt=2458995.500800741> <Time tt=2459026.500800741>\n[(2020, 6, 21, 6, 41, 27.48125731945038)]\n"
        }
       ]
      }
     },
     "426dbcbe179e40cbb5fd75624af298ed": {
      "model_module": "@jupyter-widgets/base",
      "model_module_version": "1.2.0",
      "model_name": "LayoutModel",
      "state": {}
     },
     "4a70eeb413a7463d95cde7b7a993c985": {
      "model_module": "@jupyter-widgets/controls",
      "model_module_version": "1.5.0",
      "model_name": "DescriptionStyleModel",
      "state": {
       "description_width": ""
      }
     },
     "4cc274c630e442bf90dc0e3cc895983c": {
      "model_module": "@jupyter-widgets/base",
      "model_module_version": "1.2.0",
      "model_name": "LayoutModel",
      "state": {}
     },
     "594c59fa94014adab7dc7f2fa5420116": {
      "model_module": "@jupyter-widgets/controls",
      "model_module_version": "1.5.0",
      "model_name": "VBoxModel",
      "state": {
       "_dom_classes": [
        "widget-interact"
       ],
       "children": [
        "IPY_MODEL_b843732a8b4940f4bd9db904a8ad1ba4",
        "IPY_MODEL_ae15e76816d142e7a3b7f96db6e3205e",
        "IPY_MODEL_bf877ffb927c4c759a717d25f0230295",
        "IPY_MODEL_ba2719d5c11e4b45bc2e86d29e36995d",
        "IPY_MODEL_3c9accc79a424918a5f3988e8ebbce6b"
       ],
       "layout": "IPY_MODEL_e535253dfab14d7384748f9e653632d1"
      }
     },
     "76c3e27f7e6247eeafb40d03941c8716": {
      "model_module": "@jupyter-widgets/base",
      "model_module_version": "1.2.0",
      "model_name": "LayoutModel",
      "state": {}
     },
     "ae15e76816d142e7a3b7f96db6e3205e": {
      "model_module": "@jupyter-widgets/controls",
      "model_module_version": "1.5.0",
      "model_name": "TextModel",
      "state": {
       "description": "Longitude:",
       "layout": "IPY_MODEL_f092507df47d485f8beeda09cc7fcd38",
       "placeholder": "Type something",
       "style": "IPY_MODEL_e7b9dee858c14e5fb7e2e12484e86802",
       "value": "110.38305556 E"
      }
     },
     "b843732a8b4940f4bd9db904a8ad1ba4": {
      "model_module": "@jupyter-widgets/controls",
      "model_module_version": "1.5.0",
      "model_name": "TextModel",
      "state": {
       "description": "Latitude:",
       "layout": "IPY_MODEL_4cc274c630e442bf90dc0e3cc895983c",
       "placeholder": "Type something",
       "style": "IPY_MODEL_4a70eeb413a7463d95cde7b7a993c985",
       "value": "7.83305556 S"
      }
     },
     "ba2719d5c11e4b45bc2e86d29e36995d": {
      "model_module": "@jupyter-widgets/controls",
      "model_module_version": "1.5.0",
      "model_name": "DatePickerModel",
      "state": {
       "description": "Sampai:",
       "disabled": false,
       "layout": "IPY_MODEL_f861a578fd064e6cad28fee3bc11b921",
       "style": "IPY_MODEL_cacb29bae06046ff8e365cb36f8cfbe5",
       "value": {
        "date": 26,
        "month": 5,
        "year": 2020
       }
      }
     },
     "bf877ffb927c4c759a717d25f0230295": {
      "model_module": "@jupyter-widgets/controls",
      "model_module_version": "1.5.0",
      "model_name": "DatePickerModel",
      "state": {
       "description": "Dari:",
       "disabled": false,
       "layout": "IPY_MODEL_426dbcbe179e40cbb5fd75624af298ed",
       "style": "IPY_MODEL_e0b6d4f823f64ff9b33c855411045e34",
       "value": {
        "date": 26,
        "month": 4,
        "year": 2020
       }
      }
     },
     "cacb29bae06046ff8e365cb36f8cfbe5": {
      "model_module": "@jupyter-widgets/controls",
      "model_module_version": "1.5.0",
      "model_name": "DescriptionStyleModel",
      "state": {
       "description_width": ""
      }
     },
     "e0b6d4f823f64ff9b33c855411045e34": {
      "model_module": "@jupyter-widgets/controls",
      "model_module_version": "1.5.0",
      "model_name": "DescriptionStyleModel",
      "state": {
       "description_width": ""
      }
     },
     "e535253dfab14d7384748f9e653632d1": {
      "model_module": "@jupyter-widgets/base",
      "model_module_version": "1.2.0",
      "model_name": "LayoutModel",
      "state": {}
     },
     "e7b9dee858c14e5fb7e2e12484e86802": {
      "model_module": "@jupyter-widgets/controls",
      "model_module_version": "1.5.0",
      "model_name": "DescriptionStyleModel",
      "state": {
       "description_width": ""
      }
     },
     "f092507df47d485f8beeda09cc7fcd38": {
      "model_module": "@jupyter-widgets/base",
      "model_module_version": "1.2.0",
      "model_name": "LayoutModel",
      "state": {}
     },
     "f861a578fd064e6cad28fee3bc11b921": {
      "model_module": "@jupyter-widgets/base",
      "model_module_version": "1.2.0",
      "model_name": "LayoutModel",
      "state": {}
     }
    },
    "version_major": 2,
    "version_minor": 0
   }
  }
 },
 "nbformat": 4,
 "nbformat_minor": 4
}
