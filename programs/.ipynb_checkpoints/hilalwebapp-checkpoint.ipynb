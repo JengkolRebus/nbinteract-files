{
 "cells": [
  {
   "cell_type": "code",
   "execution_count": 25,
   "metadata": {},
   "outputs": [],
   "source": [
    "from skyfield.api import load, Topos\n",
    "from skyfield.units import Angle\n",
    "from skyfield import almanac\n",
    "from datetime import datetime, timedelta\n",
    "from pytz import timezone\n",
    "from ipywidgets import widgets, interactive\n",
    "from IPython.display import display, HTML\n",
    "import pandas as pd\n",
    "import calendar"
   ]
  },
  {
   "cell_type": "code",
   "execution_count": 26,
   "metadata": {},
   "outputs": [],
   "source": [
    "jkt = timezone('Asia/Jakarta')\n",
    "ts = load.timescale()\n",
    "e = load('de421.bsp')\n",
    "bumi = e['earth']\n",
    "bulan = e['moon']\n",
    "matahari = e['sun']"
   ]
  },
  {
   "cell_type": "code",
   "execution_count": 30,
   "metadata": {},
   "outputs": [],
   "source": [
    "def find(lat, long, t0, t1):\n",
    "    topo = Topos(lat, long)\n",
    "    print(topo)"
   ]
  },
  {
   "cell_type": "code",
   "execution_count": 31,
   "metadata": {},
   "outputs": [],
   "source": [
    "hari_ini = datetime.now().date()\n",
    "days_in_month = calendar.monthrange(hari_ini.year, hari_ini.month)[1]\n",
    "besok = hari_ini + timedelta(days_in_month)\n",
    "\n",
    "dari = widgets.DatePicker(value=hari_ini,\n",
    "    description='Dari:',\n",
    "    disabled=False\n",
    ")\n",
    "sampai = widgets.DatePicker(value=besok,\n",
    "    description='Sampai:',\n",
    "    disabled=False\n",
    ")\n",
    "\n",
    "lat = widgets.Text(value='7.83305556 S', description='Latitude')\n",
    "long = widgets.Text(value='110.38305556 E', description='Longitude')\n",
    "\n"
   ]
  },
  {
   "cell_type": "code",
   "execution_count": 32,
   "metadata": {},
   "outputs": [
    {
     "data": {
      "application/vnd.jupyter.widget-view+json": {
       "model_id": "fba9ebf1c792472b9849d67f8535678a",
       "version_major": 2,
       "version_minor": 0
      },
      "text/plain": [
       "interactive(children=(Text(value='7.83305556 S', description='Latitude'), Text(value='110.38305556 E', descrip…"
      ]
     },
     "metadata": {},
     "output_type": "display_data"
    }
   ],
   "source": [
    "interactive(find, lat=lat, long=long, t0=dari, t1=sampai)"
   ]
  },
  {
   "cell_type": "code",
   "execution_count": null,
   "metadata": {},
   "outputs": [],
   "source": []
  }
 ],
 "metadata": {
  "kernelspec": {
   "display_name": "Python 3",
   "language": "python",
   "name": "python3"
  },
  "language_info": {
   "codemirror_mode": {
    "name": "ipython",
    "version": 3
   },
   "file_extension": ".py",
   "mimetype": "text/x-python",
   "name": "python",
   "nbconvert_exporter": "python",
   "pygments_lexer": "ipython3",
   "version": "3.7.6"
  },
  "widgets": {
   "application/vnd.jupyter.widget-state+json": {
    "state": {
     "000f0ed7d7444acfa63b8a37648275a5": {
      "model_module": "@jupyter-widgets/base",
      "model_module_version": "1.2.0",
      "model_name": "LayoutModel",
      "state": {}
     },
     "0039e14f8a8649a69bd02d1ca3ec210d": {
      "model_module": "@jupyter-widgets/base",
      "model_module_version": "1.2.0",
      "model_name": "LayoutModel",
      "state": {}
     },
     "005cb0836a924c2f916670970de3ad7d": {
      "model_module": "@jupyter-widgets/controls",
      "model_module_version": "1.5.0",
      "model_name": "DatePickerModel",
      "state": {
       "description": "Sampai:",
       "disabled": false,
       "layout": "IPY_MODEL_1873643767fc4bfd9eeb54d0c7ff561d",
       "style": "IPY_MODEL_888391de93284f0cb0e0883ee62a6609",
       "value": {
        "date": 3,
        "month": 6,
        "year": 2020
       }
      }
     },
     "008bad52a9eb464a9ff7c0575987e7a5": {
      "model_module": "@jupyter-widgets/base",
      "model_module_version": "1.2.0",
      "model_name": "LayoutModel",
      "state": {}
     },
     "0090ff9fee9645459a14e2500646d1c2": {
      "model_module": "@jupyter-widgets/base",
      "model_module_version": "1.2.0",
      "model_name": "LayoutModel",
      "state": {}
     },
     "01d7172d6f4d497382d5214f67892e64": {
      "model_module": "@jupyter-widgets/controls",
      "model_module_version": "1.5.0",
      "model_name": "TextModel",
      "state": {
       "description": "Longitude",
       "layout": "IPY_MODEL_2025d8d35311431fa248a7c471fd8874",
       "style": "IPY_MODEL_884fd3ec52df4aba8cbcae539795a429",
       "value": "110.38305556 E"
      }
     },
     "03479c5aafa34765894baf8d12a7dddb": {
      "model_module": "@jupyter-widgets/base",
      "model_module_version": "1.2.0",
      "model_name": "LayoutModel",
      "state": {}
     },
     "03a6e929c9714a708293a21072806a16": {
      "model_module": "@jupyter-widgets/controls",
      "model_module_version": "1.5.0",
      "model_name": "DescriptionStyleModel",
      "state": {
       "description_width": ""
      }
     },
     "03b958e0bc0646a8af45fe123f02c035": {
      "model_module": "@jupyter-widgets/controls",
      "model_module_version": "1.5.0",
      "model_name": "DescriptionStyleModel",
      "state": {
       "description_width": ""
      }
     },
     "03da6ae5203a4d77a040039051c999a4": {
      "model_module": "@jupyter-widgets/base",
      "model_module_version": "1.2.0",
      "model_name": "LayoutModel",
      "state": {}
     },
     "05b32594b3f546149c1ae0336a0ae1cc": {
      "model_module": "@jupyter-widgets/base",
      "model_module_version": "1.2.0",
      "model_name": "LayoutModel",
      "state": {}
     },
     "06f3d5b4fb374c689d67c444b93af980": {
      "model_module": "@jupyter-widgets/controls",
      "model_module_version": "1.5.0",
      "model_name": "TextModel",
      "state": {
       "description": "Latitude",
       "layout": "IPY_MODEL_07e1adb04370412db19eb6999292d020",
       "style": "IPY_MODEL_4e306ed47df542db9cfae0ed4dfc2e5f",
       "value": "7.83305556 S"
      }
     },
     "07d54ccd9073482cab3dec2aeace58bd": {
      "model_module": "@jupyter-widgets/controls",
      "model_module_version": "1.5.0",
      "model_name": "DatePickerModel",
      "state": {
       "description": "Dari:",
       "disabled": false,
       "layout": "IPY_MODEL_c3fe5220e35f4326b4d1c4f619934bda",
       "style": "IPY_MODEL_2b5c20574c484595b3a58d47100ca5f6",
       "value": {
        "date": 3,
        "month": 5,
        "year": 2020
       }
      }
     },
     "07e1adb04370412db19eb6999292d020": {
      "model_module": "@jupyter-widgets/base",
      "model_module_version": "1.2.0",
      "model_name": "LayoutModel",
      "state": {}
     },
     "09b63754d06c4cdfa8a3ac1359462722": {
      "model_module": "@jupyter-widgets/controls",
      "model_module_version": "1.5.0",
      "model_name": "DatePickerModel",
      "state": {
       "description": "Dari:",
       "disabled": false,
       "layout": "IPY_MODEL_6de1e34e263647529c4e53fe003673c5",
       "style": "IPY_MODEL_f9bfcaab1b664e8a9911a6d07a1ac029",
       "value": {
        "date": 3,
        "month": 5,
        "year": 2020
       }
      }
     },
     "0d4da6e8b1e7475ebdc0a0fd55d79538": {
      "model_module": "@jupyter-widgets/controls",
      "model_module_version": "1.5.0",
      "model_name": "TextModel",
      "state": {
       "description": "Longitude",
       "layout": "IPY_MODEL_82c6560a3ab046a4b5a3673073fc74ac",
       "style": "IPY_MODEL_41fce83c181c49a49f18670fbb249db1",
       "value": "110.38305556 E"
      }
     },
     "0e3d2bb7f7164fb19a2d37d15051516f": {
      "model_module": "@jupyter-widgets/controls",
      "model_module_version": "1.5.0",
      "model_name": "DatePickerModel",
      "state": {
       "description": "Sampai:",
       "disabled": false,
       "layout": "IPY_MODEL_7fae6cf5b343400e90d35fe5e6582af9",
       "style": "IPY_MODEL_d324195c6e4a4f88911f2d674f107d1d",
       "value": {
        "date": 3,
        "month": 6,
        "year": 2020
       }
      }
     },
     "0febc3dbb3a449a0bb579ef6dac236f1": {
      "model_module": "@jupyter-widgets/base",
      "model_module_version": "1.2.0",
      "model_name": "LayoutModel",
      "state": {}
     },
     "1326bf1a863744b1be8a7cec3d5af1d9": {
      "model_module": "@jupyter-widgets/controls",
      "model_module_version": "1.5.0",
      "model_name": "TextModel",
      "state": {
       "description": "Latitude",
       "layout": "IPY_MODEL_000f0ed7d7444acfa63b8a37648275a5",
       "style": "IPY_MODEL_653f8d5c64b74d93a9881a77b7291270",
       "value": "7.83305556 S"
      }
     },
     "14452cb1e3b14df694ee086d588f687c": {
      "model_module": "@jupyter-widgets/controls",
      "model_module_version": "1.5.0",
      "model_name": "TextModel",
      "state": {
       "description": "Longitude",
       "layout": "IPY_MODEL_c3a8e7deffe64a97a1383e61fade82ed",
       "style": "IPY_MODEL_5faea8ee53844226be67a93ab47a0288",
       "value": "110.38305556 E"
      }
     },
     "15728cfbf16f417e8693fc95223e454d": {
      "model_module": "@jupyter-widgets/controls",
      "model_module_version": "1.5.0",
      "model_name": "TextModel",
      "state": {
       "description": "Latitude",
       "layout": "IPY_MODEL_3cf7dd9242ed4613b28f131627ae2b01",
       "style": "IPY_MODEL_db6e64d3e84c4373981d8172f0ddd444",
       "value": "7.83305556 S"
      }
     },
     "17ac6a2837e64641b50e47dda69ff439": {
      "model_module": "@jupyter-widgets/base",
      "model_module_version": "1.2.0",
      "model_name": "LayoutModel",
      "state": {}
     },
     "1829d5a734a144069755b64942f8a64d": {
      "model_module": "@jupyter-widgets/controls",
      "model_module_version": "1.5.0",
      "model_name": "DescriptionStyleModel",
      "state": {
       "description_width": ""
      }
     },
     "1832d4f2b8214f2ea8406eaeb363d76f": {
      "model_module": "@jupyter-widgets/controls",
      "model_module_version": "1.5.0",
      "model_name": "VBoxModel",
      "state": {
       "_dom_classes": [
        "widget-interact"
       ],
       "children": [
        "IPY_MODEL_ff59713fd57944e392339e75eab6dabf",
        "IPY_MODEL_67cff7014e294c4fa139eac7a98be522",
        "IPY_MODEL_4fd3c8c53a7347a3a49f34139e08184a",
        "IPY_MODEL_195b3064f8b24d8f9e391badc0bc5641",
        "IPY_MODEL_c6a6e0ea53bc45259a9449c81d1949cc"
       ],
       "layout": "IPY_MODEL_58746d33bd7f48909e9c69b7d187be49"
      }
     },
     "1873643767fc4bfd9eeb54d0c7ff561d": {
      "model_module": "@jupyter-widgets/base",
      "model_module_version": "1.2.0",
      "model_name": "LayoutModel",
      "state": {}
     },
     "18ea14991ea44fcbbc7e1ec9e5e9ee2a": {
      "model_module": "@jupyter-widgets/controls",
      "model_module_version": "1.5.0",
      "model_name": "DatePickerModel",
      "state": {
       "description": "Dari:",
       "disabled": false,
       "layout": "IPY_MODEL_c03df5f768334beda900b865578d0913",
       "style": "IPY_MODEL_256de7a13e8e49278a6783a80b21f93f",
       "value": {
        "date": 3,
        "month": 5,
        "year": 2020
       }
      }
     },
     "195b3064f8b24d8f9e391badc0bc5641": {
      "model_module": "@jupyter-widgets/controls",
      "model_module_version": "1.5.0",
      "model_name": "DatePickerModel",
      "state": {
       "description": "Sampai:",
       "disabled": false,
       "layout": "IPY_MODEL_841246cff1d641f1aa186b7d2e3e25ce",
       "style": "IPY_MODEL_c2688a6b19734b87bf0058b2ff921071",
       "value": {
        "date": 3,
        "month": 6,
        "year": 2020
       }
      }
     },
     "1b03f4af76d74b5b9f645fcaedc2b55d": {
      "model_module": "@jupyter-widgets/controls",
      "model_module_version": "1.5.0",
      "model_name": "DescriptionStyleModel",
      "state": {
       "description_width": ""
      }
     },
     "1ce1ba116cbc4c7d9ce3e9d123c8527b": {
      "model_module": "@jupyter-widgets/controls",
      "model_module_version": "1.5.0",
      "model_name": "DescriptionStyleModel",
      "state": {
       "description_width": ""
      }
     },
     "1fb56a5cba704b52b74f9b93e12e4d4d": {
      "model_module": "@jupyter-widgets/output",
      "model_module_version": "1.0.0",
      "model_name": "OutputModel",
      "state": {
       "layout": "IPY_MODEL_af4b3304e39c4b579adc088d4744348d"
      }
     },
     "2025d8d35311431fa248a7c471fd8874": {
      "model_module": "@jupyter-widgets/base",
      "model_module_version": "1.2.0",
      "model_name": "LayoutModel",
      "state": {}
     },
     "2108146062dc4ee889fa0287a8d6ac96": {
      "model_module": "@jupyter-widgets/controls",
      "model_module_version": "1.5.0",
      "model_name": "DatePickerModel",
      "state": {
       "description": "Dari:",
       "disabled": false,
       "layout": "IPY_MODEL_3a9afb5a8dc747869f4a66bf19cdb469",
       "style": "IPY_MODEL_2d3a0a24da664306bec8b28f38fb8669",
       "value": {
        "date": 3,
        "month": 5,
        "year": 2020
       }
      }
     },
     "256de7a13e8e49278a6783a80b21f93f": {
      "model_module": "@jupyter-widgets/controls",
      "model_module_version": "1.5.0",
      "model_name": "DescriptionStyleModel",
      "state": {
       "description_width": ""
      }
     },
     "25d3853afa834675896084250b3a26a1": {
      "model_module": "@jupyter-widgets/base",
      "model_module_version": "1.2.0",
      "model_name": "LayoutModel",
      "state": {}
     },
     "26462b860ad64a86bb4836b59a332814": {
      "model_module": "@jupyter-widgets/controls",
      "model_module_version": "1.5.0",
      "model_name": "DatePickerModel",
      "state": {
       "description": "Dari:",
       "disabled": false,
       "layout": "IPY_MODEL_70e4ef9f83184d5f977a35c712ffaa9e",
       "style": "IPY_MODEL_633fcf36e21d4f6283dc8e721d74875b",
       "value": {
        "date": 3,
        "month": 5,
        "year": 2020
       }
      }
     },
     "273a01e30669483a9c3417fce6dc2da2": {
      "model_module": "@jupyter-widgets/controls",
      "model_module_version": "1.5.0",
      "model_name": "DatePickerModel",
      "state": {
       "description": "Sampai:",
       "disabled": false,
       "layout": "IPY_MODEL_31dc2f7e4a974c08a8880efe60908953",
       "style": "IPY_MODEL_c9ecbf5d948e414eb9963665eee76804",
       "value": {
        "date": 3,
        "month": 6,
        "year": 2020
       }
      }
     },
     "27ba706370c942d388007d0976d27531": {
      "model_module": "@jupyter-widgets/controls",
      "model_module_version": "1.5.0",
      "model_name": "DescriptionStyleModel",
      "state": {
       "description_width": ""
      }
     },
     "2b5c20574c484595b3a58d47100ca5f6": {
      "model_module": "@jupyter-widgets/controls",
      "model_module_version": "1.5.0",
      "model_name": "DescriptionStyleModel",
      "state": {
       "description_width": ""
      }
     },
     "2c54c2b648114b88ac4d363f6b8d09e5": {
      "model_module": "@jupyter-widgets/controls",
      "model_module_version": "1.5.0",
      "model_name": "DescriptionStyleModel",
      "state": {
       "description_width": ""
      }
     },
     "2c850d12b17e41d6b4d0a33552b6c427": {
      "model_module": "@jupyter-widgets/base",
      "model_module_version": "1.2.0",
      "model_name": "LayoutModel",
      "state": {}
     },
     "2ceb903ea6194a34bbfc48427fa16706": {
      "model_module": "@jupyter-widgets/controls",
      "model_module_version": "1.5.0",
      "model_name": "DatePickerModel",
      "state": {
       "description": "Dari:",
       "disabled": false,
       "layout": "IPY_MODEL_e745ef6273ce4c479e33d4d03211599d",
       "style": "IPY_MODEL_84f54cb8b8e8483f911085926184fbe7",
       "value": {
        "date": 3,
        "month": 5,
        "year": 2020
       }
      }
     },
     "2d3a0a24da664306bec8b28f38fb8669": {
      "model_module": "@jupyter-widgets/controls",
      "model_module_version": "1.5.0",
      "model_name": "DescriptionStyleModel",
      "state": {
       "description_width": ""
      }
     },
     "3077eb71c0de488ea366be1e0e02fd20": {
      "model_module": "@jupyter-widgets/base",
      "model_module_version": "1.2.0",
      "model_name": "LayoutModel",
      "state": {}
     },
     "31dc2f7e4a974c08a8880efe60908953": {
      "model_module": "@jupyter-widgets/base",
      "model_module_version": "1.2.0",
      "model_name": "LayoutModel",
      "state": {}
     },
     "32415865f3e84f148afc69f0adad88c0": {
      "model_module": "@jupyter-widgets/controls",
      "model_module_version": "1.5.0",
      "model_name": "TextModel",
      "state": {
       "description": "Latitude",
       "layout": "IPY_MODEL_03da6ae5203a4d77a040039051c999a4",
       "style": "IPY_MODEL_888ac8b9842d413ca284751b0a9d74ce",
       "value": "7.83305556 S"
      }
     },
     "32f99f6bb8174b2eb6597e691e7d85ae": {
      "model_module": "@jupyter-widgets/output",
      "model_module_version": "1.0.0",
      "model_name": "OutputModel",
      "state": {
       "layout": "IPY_MODEL_8602a732085949f59c73749cbad769f9"
      }
     },
     "34642d4a993148adb6d374e7575805f8": {
      "model_module": "@jupyter-widgets/controls",
      "model_module_version": "1.5.0",
      "model_name": "TextModel",
      "state": {
       "description": "Latitude",
       "layout": "IPY_MODEL_4c3c2c99559e42a6b7b12ac1c81756ad",
       "style": "IPY_MODEL_c63e52864a8d4a4fa6413f2ebea70294",
       "value": "7.83305556 S"
      }
     },
     "3704928859164331ab0b36484be727c8": {
      "model_module": "@jupyter-widgets/base",
      "model_module_version": "1.2.0",
      "model_name": "LayoutModel",
      "state": {}
     },
     "374710acff8f4314a24bbaa9069ec919": {
      "model_module": "@jupyter-widgets/controls",
      "model_module_version": "1.5.0",
      "model_name": "TextModel",
      "state": {
       "description": "Latitude",
       "layout": "IPY_MODEL_05b32594b3f546149c1ae0336a0ae1cc",
       "style": "IPY_MODEL_ff61eb8e3a3c457ba137d2a01fedebcf",
       "value": "7.83305556 S"
      }
     },
     "38a58889a4554f529cb1efd27c671bc6": {
      "model_module": "@jupyter-widgets/controls",
      "model_module_version": "1.5.0",
      "model_name": "DescriptionStyleModel",
      "state": {
       "description_width": ""
      }
     },
     "3a9afb5a8dc747869f4a66bf19cdb469": {
      "model_module": "@jupyter-widgets/base",
      "model_module_version": "1.2.0",
      "model_name": "LayoutModel",
      "state": {}
     },
     "3bada039ed38468cbe78ee30206e9902": {
      "model_module": "@jupyter-widgets/controls",
      "model_module_version": "1.5.0",
      "model_name": "DescriptionStyleModel",
      "state": {
       "description_width": ""
      }
     },
     "3cf7dd9242ed4613b28f131627ae2b01": {
      "model_module": "@jupyter-widgets/base",
      "model_module_version": "1.2.0",
      "model_name": "LayoutModel",
      "state": {}
     },
     "3eb5c9f259c442508447e00263cc46cf": {
      "model_module": "@jupyter-widgets/base",
      "model_module_version": "1.2.0",
      "model_name": "LayoutModel",
      "state": {}
     },
     "4150459b81704dd68d77d2d1a41dd8a7": {
      "model_module": "@jupyter-widgets/controls",
      "model_module_version": "1.5.0",
      "model_name": "DatePickerModel",
      "state": {
       "description": "Sampai:",
       "disabled": false,
       "layout": "IPY_MODEL_3077eb71c0de488ea366be1e0e02fd20",
       "style": "IPY_MODEL_a325f122dc6040f0acbe817691d6fbba",
       "value": {
        "date": 3,
        "month": 6,
        "year": 2020
       }
      }
     },
     "41fce83c181c49a49f18670fbb249db1": {
      "model_module": "@jupyter-widgets/controls",
      "model_module_version": "1.5.0",
      "model_name": "DescriptionStyleModel",
      "state": {
       "description_width": ""
      }
     },
     "450c4d115204465084ccceacfe913609": {
      "model_module": "@jupyter-widgets/base",
      "model_module_version": "1.2.0",
      "model_name": "LayoutModel",
      "state": {}
     },
     "4781cfc3bf604fd4908dc8c36222f866": {
      "model_module": "@jupyter-widgets/base",
      "model_module_version": "1.2.0",
      "model_name": "LayoutModel",
      "state": {}
     },
     "47d11ee0425d4b6a98985a0f09ad7b2d": {
      "model_module": "@jupyter-widgets/base",
      "model_module_version": "1.2.0",
      "model_name": "LayoutModel",
      "state": {}
     },
     "490a04c2d01a4dfa89ab2d52f30c831f": {
      "model_module": "@jupyter-widgets/controls",
      "model_module_version": "1.5.0",
      "model_name": "VBoxModel",
      "state": {
       "_dom_classes": [
        "widget-interact"
       ],
       "children": [
        "IPY_MODEL_816a4d933e9c4295813af436b0ca714e",
        "IPY_MODEL_7ecd416325524d3fbe940b51d00a27e8",
        "IPY_MODEL_2108146062dc4ee889fa0287a8d6ac96",
        "IPY_MODEL_76adf18782ec41d9aec45c4543caf569",
        "IPY_MODEL_b21bb1651f274a18b99724fc7e8c600e"
       ],
       "layout": "IPY_MODEL_9852d250e54446ed85edc986133574fc"
      }
     },
     "4c3c2c99559e42a6b7b12ac1c81756ad": {
      "model_module": "@jupyter-widgets/base",
      "model_module_version": "1.2.0",
      "model_name": "LayoutModel",
      "state": {}
     },
     "4dafc2f9e8724c549cf7a1e3599a6e1f": {
      "model_module": "@jupyter-widgets/controls",
      "model_module_version": "1.5.0",
      "model_name": "DatePickerModel",
      "state": {
       "description": "Sampai:",
       "disabled": false,
       "layout": "IPY_MODEL_6b89e1352a874f84b117a89bf13b7d0e",
       "style": "IPY_MODEL_80522986af7c45c781536cf18fe3c3fe",
       "value": {
        "date": 3,
        "month": 6,
        "year": 2020
       }
      }
     },
     "4e306ed47df542db9cfae0ed4dfc2e5f": {
      "model_module": "@jupyter-widgets/controls",
      "model_module_version": "1.5.0",
      "model_name": "DescriptionStyleModel",
      "state": {
       "description_width": ""
      }
     },
     "4e333d09b5c14cf68cf7bfbc2934723c": {
      "model_module": "@jupyter-widgets/base",
      "model_module_version": "1.2.0",
      "model_name": "LayoutModel",
      "state": {}
     },
     "4fd3c8c53a7347a3a49f34139e08184a": {
      "model_module": "@jupyter-widgets/controls",
      "model_module_version": "1.5.0",
      "model_name": "DatePickerModel",
      "state": {
       "description": "Dari:",
       "disabled": false,
       "layout": "IPY_MODEL_62aaa3e334b842e6bc283eec1150c354",
       "style": "IPY_MODEL_27ba706370c942d388007d0976d27531",
       "value": {
        "date": 3,
        "month": 5,
        "year": 2020
       }
      }
     },
     "5133c415bb9c41dc8ac5657ef6faaf48": {
      "model_module": "@jupyter-widgets/base",
      "model_module_version": "1.2.0",
      "model_name": "LayoutModel",
      "state": {}
     },
     "57c0a5da1d0b4ad0951f4925a90a3e1a": {
      "model_module": "@jupyter-widgets/controls",
      "model_module_version": "1.5.0",
      "model_name": "DatePickerModel",
      "state": {
       "description": "Sampai:",
       "disabled": false,
       "layout": "IPY_MODEL_76bfb537e3594b968d514d22539a5497",
       "style": "IPY_MODEL_cb9b8dc63b704c7c85c5b7959fc323e8",
       "value": {
        "date": 3,
        "month": 6,
        "year": 2020
       }
      }
     },
     "58746d33bd7f48909e9c69b7d187be49": {
      "model_module": "@jupyter-widgets/base",
      "model_module_version": "1.2.0",
      "model_name": "LayoutModel",
      "state": {}
     },
     "5aba0f823c48482f9929c7f41214dfc5": {
      "model_module": "@jupyter-widgets/controls",
      "model_module_version": "1.5.0",
      "model_name": "VBoxModel",
      "state": {
       "_dom_classes": [
        "widget-interact"
       ],
       "children": [
        "IPY_MODEL_dd5ec23bdd1d4fe98e2409488aeb2285",
        "IPY_MODEL_14452cb1e3b14df694ee086d588f687c",
        "IPY_MODEL_d9999c9686b246f1a06e5342fb713b64",
        "IPY_MODEL_273a01e30669483a9c3417fce6dc2da2",
        "IPY_MODEL_32f99f6bb8174b2eb6597e691e7d85ae"
       ],
       "layout": "IPY_MODEL_ec46d1e8152e4270bea90830f82831fc"
      }
     },
     "5f0634961457484cad2543d7e3008e29": {
      "model_module": "@jupyter-widgets/controls",
      "model_module_version": "1.5.0",
      "model_name": "DatePickerModel",
      "state": {
       "description": "Sampai:",
       "disabled": false,
       "layout": "IPY_MODEL_03479c5aafa34765894baf8d12a7dddb",
       "style": "IPY_MODEL_1829d5a734a144069755b64942f8a64d",
       "value": {
        "date": 3,
        "month": 6,
        "year": 2020
       }
      }
     },
     "5faea8ee53844226be67a93ab47a0288": {
      "model_module": "@jupyter-widgets/controls",
      "model_module_version": "1.5.0",
      "model_name": "DescriptionStyleModel",
      "state": {
       "description_width": ""
      }
     },
     "61ce4d401c464d43b0363d3b9e6850ae": {
      "model_module": "@jupyter-widgets/controls",
      "model_module_version": "1.5.0",
      "model_name": "DatePickerModel",
      "state": {
       "description": "Dari:",
       "disabled": false,
       "layout": "IPY_MODEL_47d11ee0425d4b6a98985a0f09ad7b2d",
       "style": "IPY_MODEL_b28d80bdb80845d79ee6a1c1dbbe9c8a",
       "value": {
        "date": 3,
        "month": 5,
        "year": 2020
       }
      }
     },
     "6209f38cd80148c3beeff52ecd86cdf7": {
      "model_module": "@jupyter-widgets/base",
      "model_module_version": "1.2.0",
      "model_name": "LayoutModel",
      "state": {}
     },
     "62aaa3e334b842e6bc283eec1150c354": {
      "model_module": "@jupyter-widgets/base",
      "model_module_version": "1.2.0",
      "model_name": "LayoutModel",
      "state": {}
     },
     "633fcf36e21d4f6283dc8e721d74875b": {
      "model_module": "@jupyter-widgets/controls",
      "model_module_version": "1.5.0",
      "model_name": "DescriptionStyleModel",
      "state": {
       "description_width": ""
      }
     },
     "653f8d5c64b74d93a9881a77b7291270": {
      "model_module": "@jupyter-widgets/controls",
      "model_module_version": "1.5.0",
      "model_name": "DescriptionStyleModel",
      "state": {
       "description_width": ""
      }
     },
     "67cff7014e294c4fa139eac7a98be522": {
      "model_module": "@jupyter-widgets/controls",
      "model_module_version": "1.5.0",
      "model_name": "TextModel",
      "state": {
       "description": "Longitude",
       "layout": "IPY_MODEL_450c4d115204465084ccceacfe913609",
       "style": "IPY_MODEL_03b958e0bc0646a8af45fe123f02c035",
       "value": "110.38305556 E"
      }
     },
     "68aa7a60506c4701ae6cff1206085629": {
      "model_module": "@jupyter-widgets/base",
      "model_module_version": "1.2.0",
      "model_name": "LayoutModel",
      "state": {}
     },
     "6ae4e65ecfb94732adb9f6464d25ca4a": {
      "model_module": "@jupyter-widgets/base",
      "model_module_version": "1.2.0",
      "model_name": "LayoutModel",
      "state": {}
     },
     "6b89e1352a874f84b117a89bf13b7d0e": {
      "model_module": "@jupyter-widgets/base",
      "model_module_version": "1.2.0",
      "model_name": "LayoutModel",
      "state": {}
     },
     "6cb23dc80c854c17bb8ce57be661b906": {
      "model_module": "@jupyter-widgets/controls",
      "model_module_version": "1.5.0",
      "model_name": "DatePickerModel",
      "state": {
       "description": "Sampai:",
       "disabled": false,
       "layout": "IPY_MODEL_25d3853afa834675896084250b3a26a1",
       "style": "IPY_MODEL_3bada039ed38468cbe78ee30206e9902",
       "value": {
        "date": 3,
        "month": 6,
        "year": 2020
       }
      }
     },
     "6de1e34e263647529c4e53fe003673c5": {
      "model_module": "@jupyter-widgets/base",
      "model_module_version": "1.2.0",
      "model_name": "LayoutModel",
      "state": {}
     },
     "70e4ef9f83184d5f977a35c712ffaa9e": {
      "model_module": "@jupyter-widgets/base",
      "model_module_version": "1.2.0",
      "model_name": "LayoutModel",
      "state": {}
     },
     "722c026a1b3448f7876232518a5ed5d1": {
      "model_module": "@jupyter-widgets/controls",
      "model_module_version": "1.5.0",
      "model_name": "DescriptionStyleModel",
      "state": {
       "description_width": ""
      }
     },
     "74ed56d336e14bb18bfe02a63aa67d7c": {
      "model_module": "@jupyter-widgets/output",
      "model_module_version": "1.0.0",
      "model_name": "OutputModel",
      "state": {
       "layout": "IPY_MODEL_6209f38cd80148c3beeff52ecd86cdf7",
       "outputs": [
        {
         "name": "stdout",
         "output_type": "stream",
         "text": "Topos -07deg 49' 59.0\" N 110deg 22' 59.0\" E\n"
        }
       ]
      }
     },
     "76adf18782ec41d9aec45c4543caf569": {
      "model_module": "@jupyter-widgets/controls",
      "model_module_version": "1.5.0",
      "model_name": "DatePickerModel",
      "state": {
       "description": "Sampai:",
       "disabled": false,
       "layout": "IPY_MODEL_b063b3dcfaec46da8f6ae554ad903f5b",
       "style": "IPY_MODEL_c9f0bbff2e5f42b3a71a0532b7631390",
       "value": {
        "date": 3,
        "month": 6,
        "year": 2020
       }
      }
     },
     "76bfb537e3594b968d514d22539a5497": {
      "model_module": "@jupyter-widgets/base",
      "model_module_version": "1.2.0",
      "model_name": "LayoutModel",
      "state": {}
     },
     "77235194fdc74c4384cae490108a5663": {
      "model_module": "@jupyter-widgets/controls",
      "model_module_version": "1.5.0",
      "model_name": "DescriptionStyleModel",
      "state": {
       "description_width": ""
      }
     },
     "7775f65db4c6468e8f145b6281ffc3e6": {
      "model_module": "@jupyter-widgets/controls",
      "model_module_version": "1.5.0",
      "model_name": "VBoxModel",
      "state": {
       "_dom_classes": [
        "widget-interact"
       ],
       "children": [
        "IPY_MODEL_06f3d5b4fb374c689d67c444b93af980",
        "IPY_MODEL_b7a897e173cf498c9866241e2fbe164d",
        "IPY_MODEL_aeca2d4cd52b4f65a442fba99d45604d",
        "IPY_MODEL_5f0634961457484cad2543d7e3008e29",
        "IPY_MODEL_d5949477babc4bb9b6d0c4e59c1b51c0"
       ],
       "layout": "IPY_MODEL_c254e3ba82424ac8b644821088f895e0"
      }
     },
     "7945df1e6be2448ba1a11940ed97a69c": {
      "model_module": "@jupyter-widgets/controls",
      "model_module_version": "1.5.0",
      "model_name": "DescriptionStyleModel",
      "state": {
       "description_width": ""
      }
     },
     "7d92303e57a041c690fb68ec8f4b998b": {
      "model_module": "@jupyter-widgets/output",
      "model_module_version": "1.0.0",
      "model_name": "OutputModel",
      "state": {
       "layout": "IPY_MODEL_008bad52a9eb464a9ff7c0575987e7a5"
      }
     },
     "7ecd416325524d3fbe940b51d00a27e8": {
      "model_module": "@jupyter-widgets/controls",
      "model_module_version": "1.5.0",
      "model_name": "TextModel",
      "state": {
       "description": "Longitude",
       "layout": "IPY_MODEL_c873f4961acd4a74b928a8057bd056bf",
       "style": "IPY_MODEL_77235194fdc74c4384cae490108a5663",
       "value": "110.38305556 E"
      }
     },
     "7edd5e7b1b0f404fad3d5db29131c3f8": {
      "model_module": "@jupyter-widgets/controls",
      "model_module_version": "1.5.0",
      "model_name": "TextModel",
      "state": {
       "description": "Longitude",
       "layout": "IPY_MODEL_bc57e8356a624639814a4ab61f68262c",
       "style": "IPY_MODEL_d0c9305ef0d142bca3857cb3231cc469",
       "value": "110.38305556 E"
      }
     },
     "7f6a4833431b4913a8bebc969f0a78b5": {
      "model_module": "@jupyter-widgets/controls",
      "model_module_version": "1.5.0",
      "model_name": "VBoxModel",
      "state": {
       "_dom_classes": [
        "widget-interact"
       ],
       "children": [
        "IPY_MODEL_fd576edac2554d818b42dc99132bbc71",
        "IPY_MODEL_01d7172d6f4d497382d5214f67892e64",
        "IPY_MODEL_61ce4d401c464d43b0363d3b9e6850ae",
        "IPY_MODEL_0e3d2bb7f7164fb19a2d37d15051516f",
        "IPY_MODEL_1fb56a5cba704b52b74f9b93e12e4d4d"
       ],
       "layout": "IPY_MODEL_b4de7558db1c43208b95b7445155bc30"
      }
     },
     "7fae6cf5b343400e90d35fe5e6582af9": {
      "model_module": "@jupyter-widgets/base",
      "model_module_version": "1.2.0",
      "model_name": "LayoutModel",
      "state": {}
     },
     "80522986af7c45c781536cf18fe3c3fe": {
      "model_module": "@jupyter-widgets/controls",
      "model_module_version": "1.5.0",
      "model_name": "DescriptionStyleModel",
      "state": {
       "description_width": ""
      }
     },
     "805faf3c20ec4462a74bd71d27c32ef6": {
      "model_module": "@jupyter-widgets/controls",
      "model_module_version": "1.5.0",
      "model_name": "DescriptionStyleModel",
      "state": {
       "description_width": ""
      }
     },
     "816a4d933e9c4295813af436b0ca714e": {
      "model_module": "@jupyter-widgets/controls",
      "model_module_version": "1.5.0",
      "model_name": "TextModel",
      "state": {
       "description": "Latitude",
       "layout": "IPY_MODEL_81738922275146da9043afda844ae96b",
       "style": "IPY_MODEL_91ef5775df134cd19e27af72b36f8c25",
       "value": "7.83305556 S"
      }
     },
     "81738922275146da9043afda844ae96b": {
      "model_module": "@jupyter-widgets/base",
      "model_module_version": "1.2.0",
      "model_name": "LayoutModel",
      "state": {}
     },
     "82c6560a3ab046a4b5a3673073fc74ac": {
      "model_module": "@jupyter-widgets/base",
      "model_module_version": "1.2.0",
      "model_name": "LayoutModel",
      "state": {}
     },
     "830de381c57c43d7a43710e5966cceec": {
      "model_module": "@jupyter-widgets/base",
      "model_module_version": "1.2.0",
      "model_name": "LayoutModel",
      "state": {}
     },
     "841246cff1d641f1aa186b7d2e3e25ce": {
      "model_module": "@jupyter-widgets/base",
      "model_module_version": "1.2.0",
      "model_name": "LayoutModel",
      "state": {}
     },
     "84c4d766c141464f882377d665aefc3b": {
      "model_module": "@jupyter-widgets/base",
      "model_module_version": "1.2.0",
      "model_name": "LayoutModel",
      "state": {}
     },
     "84f54cb8b8e8483f911085926184fbe7": {
      "model_module": "@jupyter-widgets/controls",
      "model_module_version": "1.5.0",
      "model_name": "DescriptionStyleModel",
      "state": {
       "description_width": ""
      }
     },
     "8602a732085949f59c73749cbad769f9": {
      "model_module": "@jupyter-widgets/base",
      "model_module_version": "1.2.0",
      "model_name": "LayoutModel",
      "state": {}
     },
     "870ea45d053d40f5add8c13cc0070954": {
      "model_module": "@jupyter-widgets/base",
      "model_module_version": "1.2.0",
      "model_name": "LayoutModel",
      "state": {}
     },
     "884fd3ec52df4aba8cbcae539795a429": {
      "model_module": "@jupyter-widgets/controls",
      "model_module_version": "1.5.0",
      "model_name": "DescriptionStyleModel",
      "state": {
       "description_width": ""
      }
     },
     "888391de93284f0cb0e0883ee62a6609": {
      "model_module": "@jupyter-widgets/controls",
      "model_module_version": "1.5.0",
      "model_name": "DescriptionStyleModel",
      "state": {
       "description_width": ""
      }
     },
     "888ac8b9842d413ca284751b0a9d74ce": {
      "model_module": "@jupyter-widgets/controls",
      "model_module_version": "1.5.0",
      "model_name": "DescriptionStyleModel",
      "state": {
       "description_width": ""
      }
     },
     "89ecdb80e6444d39bbbff252800e2837": {
      "model_module": "@jupyter-widgets/base",
      "model_module_version": "1.2.0",
      "model_name": "LayoutModel",
      "state": {}
     },
     "908852f225c2408f8f981bbfbe27c97f": {
      "model_module": "@jupyter-widgets/controls",
      "model_module_version": "1.5.0",
      "model_name": "TextModel",
      "state": {
       "description": "Latitude",
       "layout": "IPY_MODEL_0039e14f8a8649a69bd02d1ca3ec210d",
       "style": "IPY_MODEL_9bd573796dcc4e26aeae76102806310f",
       "value": "7.83305556 S"
      }
     },
     "91ef5775df134cd19e27af72b36f8c25": {
      "model_module": "@jupyter-widgets/controls",
      "model_module_version": "1.5.0",
      "model_name": "DescriptionStyleModel",
      "state": {
       "description_width": ""
      }
     },
     "9662e951e4cd4c3e9c1450a88490156a": {
      "model_module": "@jupyter-widgets/output",
      "model_module_version": "1.0.0",
      "model_name": "OutputModel",
      "state": {
       "layout": "IPY_MODEL_830de381c57c43d7a43710e5966cceec",
       "outputs": [
        {
         "ename": "NameError",
         "evalue": "name 'tanggal' is not defined",
         "output_type": "error",
         "traceback": [
          "\u001b[1;31m---------------------------------------------------------------------------\u001b[0m",
          "\u001b[1;31mNameError\u001b[0m                                 Traceback (most recent call last)",
          "\u001b[1;32mc:\\users\\khair\\appdata\\local\\programs\\python\\python37\\lib\\site-packages\\ipywidgets\\widgets\\interaction.py\u001b[0m in \u001b[0;36mupdate\u001b[1;34m(self, *args)\u001b[0m\n\u001b[0;32m    254\u001b[0m                     \u001b[0mvalue\u001b[0m \u001b[1;33m=\u001b[0m \u001b[0mwidget\u001b[0m\u001b[1;33m.\u001b[0m\u001b[0mget_interact_value\u001b[0m\u001b[1;33m(\u001b[0m\u001b[1;33m)\u001b[0m\u001b[1;33m\u001b[0m\u001b[1;33m\u001b[0m\u001b[0m\n\u001b[0;32m    255\u001b[0m                     \u001b[0mself\u001b[0m\u001b[1;33m.\u001b[0m\u001b[0mkwargs\u001b[0m\u001b[1;33m[\u001b[0m\u001b[0mwidget\u001b[0m\u001b[1;33m.\u001b[0m\u001b[0m_kwarg\u001b[0m\u001b[1;33m]\u001b[0m \u001b[1;33m=\u001b[0m \u001b[0mvalue\u001b[0m\u001b[1;33m\u001b[0m\u001b[1;33m\u001b[0m\u001b[0m\n\u001b[1;32m--> 256\u001b[1;33m                 \u001b[0mself\u001b[0m\u001b[1;33m.\u001b[0m\u001b[0mresult\u001b[0m \u001b[1;33m=\u001b[0m \u001b[0mself\u001b[0m\u001b[1;33m.\u001b[0m\u001b[0mf\u001b[0m\u001b[1;33m(\u001b[0m\u001b[1;33m**\u001b[0m\u001b[0mself\u001b[0m\u001b[1;33m.\u001b[0m\u001b[0mkwargs\u001b[0m\u001b[1;33m)\u001b[0m\u001b[1;33m\u001b[0m\u001b[1;33m\u001b[0m\u001b[0m\n\u001b[0m\u001b[0;32m    257\u001b[0m                 \u001b[0mshow_inline_matplotlib_plots\u001b[0m\u001b[1;33m(\u001b[0m\u001b[1;33m)\u001b[0m\u001b[1;33m\u001b[0m\u001b[1;33m\u001b[0m\u001b[0m\n\u001b[0;32m    258\u001b[0m                 \u001b[1;32mif\u001b[0m \u001b[0mself\u001b[0m\u001b[1;33m.\u001b[0m\u001b[0mauto_display\u001b[0m \u001b[1;32mand\u001b[0m \u001b[0mself\u001b[0m\u001b[1;33m.\u001b[0m\u001b[0mresult\u001b[0m \u001b[1;32mis\u001b[0m \u001b[1;32mnot\u001b[0m \u001b[1;32mNone\u001b[0m\u001b[1;33m:\u001b[0m\u001b[1;33m\u001b[0m\u001b[1;33m\u001b[0m\u001b[0m\n",
          "\u001b[1;32m<ipython-input-5-c777b67ae2f5>\u001b[0m in \u001b[0;36mfind\u001b[1;34m(Latitude, Longitude)\u001b[0m\n\u001b[0;32m      1\u001b[0m \u001b[1;32mdef\u001b[0m \u001b[0mfind\u001b[0m\u001b[1;33m(\u001b[0m\u001b[0mLatitude\u001b[0m\u001b[1;33m,\u001b[0m \u001b[0mLongitude\u001b[0m\u001b[1;33m)\u001b[0m\u001b[1;33m:\u001b[0m\u001b[1;33m\u001b[0m\u001b[1;33m\u001b[0m\u001b[0m\n\u001b[0;32m      2\u001b[0m     \u001b[0mtopo\u001b[0m \u001b[1;33m=\u001b[0m \u001b[0mTopos\u001b[0m\u001b[1;33m(\u001b[0m\u001b[0mLatitude\u001b[0m\u001b[1;33m,\u001b[0m \u001b[0mLongitude\u001b[0m\u001b[1;33m)\u001b[0m\u001b[1;33m\u001b[0m\u001b[1;33m\u001b[0m\u001b[0m\n\u001b[1;32m----> 3\u001b[1;33m     \u001b[0minteract\u001b[0m\u001b[1;33m(\u001b[0m\u001b[0mtanggal\u001b[0m\u001b[1;33m,\u001b[0m \u001b[0mt0\u001b[0m\u001b[1;33m=\u001b[0m\u001b[0mdari\u001b[0m\u001b[1;33m,\u001b[0m \u001b[0mt1\u001b[0m\u001b[1;33m=\u001b[0m\u001b[0msampai\u001b[0m\u001b[1;33m)\u001b[0m\u001b[1;33m\u001b[0m\u001b[1;33m\u001b[0m\u001b[0m\n\u001b[0m",
          "\u001b[1;31mNameError\u001b[0m: name 'tanggal' is not defined"
         ]
        }
       ]
      }
     },
     "9852d250e54446ed85edc986133574fc": {
      "model_module": "@jupyter-widgets/base",
      "model_module_version": "1.2.0",
      "model_name": "LayoutModel",
      "state": {}
     },
     "9a1216ad850241e99f03d8cddb59211a": {
      "model_module": "@jupyter-widgets/base",
      "model_module_version": "1.2.0",
      "model_name": "LayoutModel",
      "state": {}
     },
     "9a1cc2051ef4437992f6155f4b9a8fac": {
      "model_module": "@jupyter-widgets/base",
      "model_module_version": "1.2.0",
      "model_name": "LayoutModel",
      "state": {}
     },
     "9a466c56a308458495964fd00b03867f": {
      "model_module": "@jupyter-widgets/base",
      "model_module_version": "1.2.0",
      "model_name": "LayoutModel",
      "state": {}
     },
     "9b2441ed0db544169731159ff3704e1b": {
      "model_module": "@jupyter-widgets/controls",
      "model_module_version": "1.5.0",
      "model_name": "DescriptionStyleModel",
      "state": {
       "description_width": ""
      }
     },
     "9bd573796dcc4e26aeae76102806310f": {
      "model_module": "@jupyter-widgets/controls",
      "model_module_version": "1.5.0",
      "model_name": "DescriptionStyleModel",
      "state": {
       "description_width": ""
      }
     },
     "9cecc9b97e704358af1d29739d8a0cf4": {
      "model_module": "@jupyter-widgets/base",
      "model_module_version": "1.2.0",
      "model_name": "LayoutModel",
      "state": {}
     },
     "9fd9eed9441b44ea83e28aa8d83436d1": {
      "model_module": "@jupyter-widgets/controls",
      "model_module_version": "1.5.0",
      "model_name": "VBoxModel",
      "state": {
       "_dom_classes": [
        "widget-interact"
       ],
       "children": [
        "IPY_MODEL_908852f225c2408f8f981bbfbe27c97f",
        "IPY_MODEL_d6532a834f32468baf27bd6fdd3a9afb",
        "IPY_MODEL_f20cbf67c9e344a5af02313197880611"
       ],
       "layout": "IPY_MODEL_3eb5c9f259c442508447e00263cc46cf"
      }
     },
     "a325f122dc6040f0acbe817691d6fbba": {
      "model_module": "@jupyter-widgets/controls",
      "model_module_version": "1.5.0",
      "model_name": "DescriptionStyleModel",
      "state": {
       "description_width": ""
      }
     },
     "a7cf3ea37d934f2191e63f86bdd17da5": {
      "model_module": "@jupyter-widgets/base",
      "model_module_version": "1.2.0",
      "model_name": "LayoutModel",
      "state": {}
     },
     "a85a88a3fb844b1e8c59395deb1a01f8": {
      "model_module": "@jupyter-widgets/controls",
      "model_module_version": "1.5.0",
      "model_name": "TextModel",
      "state": {
       "description": "Longitude",
       "layout": "IPY_MODEL_0090ff9fee9645459a14e2500646d1c2",
       "style": "IPY_MODEL_2c54c2b648114b88ac4d363f6b8d09e5",
       "value": "110.38305556 E"
      }
     },
     "aeca2d4cd52b4f65a442fba99d45604d": {
      "model_module": "@jupyter-widgets/controls",
      "model_module_version": "1.5.0",
      "model_name": "DatePickerModel",
      "state": {
       "description": "Dari:",
       "disabled": false,
       "layout": "IPY_MODEL_9a1216ad850241e99f03d8cddb59211a",
       "style": "IPY_MODEL_38a58889a4554f529cb1efd27c671bc6",
       "value": {
        "date": 3,
        "month": 5,
        "year": 2020
       }
      }
     },
     "af4b3304e39c4b579adc088d4744348d": {
      "model_module": "@jupyter-widgets/base",
      "model_module_version": "1.2.0",
      "model_name": "LayoutModel",
      "state": {}
     },
     "af7889b3a6cd4d529e4635ef1b4dfc8f": {
      "model_module": "@jupyter-widgets/base",
      "model_module_version": "1.2.0",
      "model_name": "LayoutModel",
      "state": {}
     },
     "b063b3dcfaec46da8f6ae554ad903f5b": {
      "model_module": "@jupyter-widgets/base",
      "model_module_version": "1.2.0",
      "model_name": "LayoutModel",
      "state": {}
     },
     "b17cb441ba6b4f74af048978c5e06d8b": {
      "model_module": "@jupyter-widgets/controls",
      "model_module_version": "1.5.0",
      "model_name": "VBoxModel",
      "state": {
       "_dom_classes": [
        "widget-interact"
       ],
       "children": [
        "IPY_MODEL_15728cfbf16f417e8693fc95223e454d",
        "IPY_MODEL_b734d4559dea4ff7882822796f273fd3",
        "IPY_MODEL_9662e951e4cd4c3e9c1450a88490156a"
       ],
       "layout": "IPY_MODEL_edf5514f47c24371ba8a561392751def"
      }
     },
     "b207a95195224209baddb37045050a78": {
      "model_module": "@jupyter-widgets/controls",
      "model_module_version": "1.5.0",
      "model_name": "DatePickerModel",
      "state": {
       "description": "Dari:",
       "disabled": false,
       "layout": "IPY_MODEL_d279a252b2cc4b9c84f91abe3a237efc",
       "style": "IPY_MODEL_03a6e929c9714a708293a21072806a16",
       "value": {
        "date": 3,
        "month": 5,
        "year": 2020
       }
      }
     },
     "b21bb1651f274a18b99724fc7e8c600e": {
      "model_module": "@jupyter-widgets/output",
      "model_module_version": "1.0.0",
      "model_name": "OutputModel",
      "state": {
       "layout": "IPY_MODEL_af7889b3a6cd4d529e4635ef1b4dfc8f"
      }
     },
     "b28d80bdb80845d79ee6a1c1dbbe9c8a": {
      "model_module": "@jupyter-widgets/controls",
      "model_module_version": "1.5.0",
      "model_name": "DescriptionStyleModel",
      "state": {
       "description_width": ""
      }
     },
     "b4de7558db1c43208b95b7445155bc30": {
      "model_module": "@jupyter-widgets/base",
      "model_module_version": "1.2.0",
      "model_name": "LayoutModel",
      "state": {}
     },
     "b5f23347db164aee95991988dd04e386": {
      "model_module": "@jupyter-widgets/base",
      "model_module_version": "1.2.0",
      "model_name": "LayoutModel",
      "state": {}
     },
     "b734d4559dea4ff7882822796f273fd3": {
      "model_module": "@jupyter-widgets/controls",
      "model_module_version": "1.5.0",
      "model_name": "TextModel",
      "state": {
       "description": "Longitude",
       "layout": "IPY_MODEL_b5f23347db164aee95991988dd04e386",
       "style": "IPY_MODEL_cf9aeb85984d44ebafc002f5e75b394e",
       "value": "110.38305556 E"
      }
     },
     "b7a897e173cf498c9866241e2fbe164d": {
      "model_module": "@jupyter-widgets/controls",
      "model_module_version": "1.5.0",
      "model_name": "TextModel",
      "state": {
       "description": "Longitude",
       "layout": "IPY_MODEL_17ac6a2837e64641b50e47dda69ff439",
       "style": "IPY_MODEL_e80b31bf90bf4b19b85b591b54fbd1ac",
       "value": "110.38305556 E"
      }
     },
     "b96e788d12564b7fb60a7c34862026b3": {
      "model_module": "@jupyter-widgets/controls",
      "model_module_version": "1.5.0",
      "model_name": "DescriptionStyleModel",
      "state": {
       "description_width": ""
      }
     },
     "bc57e8356a624639814a4ab61f68262c": {
      "model_module": "@jupyter-widgets/base",
      "model_module_version": "1.2.0",
      "model_name": "LayoutModel",
      "state": {}
     },
     "c03df5f768334beda900b865578d0913": {
      "model_module": "@jupyter-widgets/base",
      "model_module_version": "1.2.0",
      "model_name": "LayoutModel",
      "state": {}
     },
     "c254e3ba82424ac8b644821088f895e0": {
      "model_module": "@jupyter-widgets/base",
      "model_module_version": "1.2.0",
      "model_name": "LayoutModel",
      "state": {}
     },
     "c2688a6b19734b87bf0058b2ff921071": {
      "model_module": "@jupyter-widgets/controls",
      "model_module_version": "1.5.0",
      "model_name": "DescriptionStyleModel",
      "state": {
       "description_width": ""
      }
     },
     "c31c1b4338aa43dba04fda85687298b8": {
      "model_module": "@jupyter-widgets/base",
      "model_module_version": "1.2.0",
      "model_name": "LayoutModel",
      "state": {}
     },
     "c3a8e7deffe64a97a1383e61fade82ed": {
      "model_module": "@jupyter-widgets/base",
      "model_module_version": "1.2.0",
      "model_name": "LayoutModel",
      "state": {}
     },
     "c3fe5220e35f4326b4d1c4f619934bda": {
      "model_module": "@jupyter-widgets/base",
      "model_module_version": "1.2.0",
      "model_name": "LayoutModel",
      "state": {}
     },
     "c63e52864a8d4a4fa6413f2ebea70294": {
      "model_module": "@jupyter-widgets/controls",
      "model_module_version": "1.5.0",
      "model_name": "DescriptionStyleModel",
      "state": {
       "description_width": ""
      }
     },
     "c65f2d424f6243c0901c863cf87f5d9c": {
      "model_module": "@jupyter-widgets/controls",
      "model_module_version": "1.5.0",
      "model_name": "DatePickerModel",
      "state": {
       "description": "Sampai:",
       "disabled": false,
       "layout": "IPY_MODEL_3704928859164331ab0b36484be727c8",
       "style": "IPY_MODEL_f9d2310ad43f4323adefd9a48b807000",
       "value": {
        "date": 3,
        "month": 6,
        "year": 2020
       }
      }
     },
     "c6a6e0ea53bc45259a9449c81d1949cc": {
      "model_module": "@jupyter-widgets/output",
      "model_module_version": "1.0.0",
      "model_name": "OutputModel",
      "state": {
       "layout": "IPY_MODEL_ddc023103eaf4cd79d5ed3b542bb71f7",
       "outputs": [
        {
         "ename": "NameError",
         "evalue": "name 'Latitude' is not defined",
         "output_type": "error",
         "traceback": [
          "\u001b[1;31m---------------------------------------------------------------------------\u001b[0m",
          "\u001b[1;31mNameError\u001b[0m                                 Traceback (most recent call last)",
          "\u001b[1;32mc:\\users\\khair\\appdata\\local\\programs\\python\\python37\\lib\\site-packages\\ipywidgets\\widgets\\interaction.py\u001b[0m in \u001b[0;36mupdate\u001b[1;34m(self, *args)\u001b[0m\n\u001b[0;32m    254\u001b[0m                     \u001b[0mvalue\u001b[0m \u001b[1;33m=\u001b[0m \u001b[0mwidget\u001b[0m\u001b[1;33m.\u001b[0m\u001b[0mget_interact_value\u001b[0m\u001b[1;33m(\u001b[0m\u001b[1;33m)\u001b[0m\u001b[1;33m\u001b[0m\u001b[1;33m\u001b[0m\u001b[0m\n\u001b[0;32m    255\u001b[0m                     \u001b[0mself\u001b[0m\u001b[1;33m.\u001b[0m\u001b[0mkwargs\u001b[0m\u001b[1;33m[\u001b[0m\u001b[0mwidget\u001b[0m\u001b[1;33m.\u001b[0m\u001b[0m_kwarg\u001b[0m\u001b[1;33m]\u001b[0m \u001b[1;33m=\u001b[0m \u001b[0mvalue\u001b[0m\u001b[1;33m\u001b[0m\u001b[1;33m\u001b[0m\u001b[0m\n\u001b[1;32m--> 256\u001b[1;33m                 \u001b[0mself\u001b[0m\u001b[1;33m.\u001b[0m\u001b[0mresult\u001b[0m \u001b[1;33m=\u001b[0m \u001b[0mself\u001b[0m\u001b[1;33m.\u001b[0m\u001b[0mf\u001b[0m\u001b[1;33m(\u001b[0m\u001b[1;33m**\u001b[0m\u001b[0mself\u001b[0m\u001b[1;33m.\u001b[0m\u001b[0mkwargs\u001b[0m\u001b[1;33m)\u001b[0m\u001b[1;33m\u001b[0m\u001b[1;33m\u001b[0m\u001b[0m\n\u001b[0m\u001b[0;32m    257\u001b[0m                 \u001b[0mshow_inline_matplotlib_plots\u001b[0m\u001b[1;33m(\u001b[0m\u001b[1;33m)\u001b[0m\u001b[1;33m\u001b[0m\u001b[1;33m\u001b[0m\u001b[0m\n\u001b[0;32m    258\u001b[0m                 \u001b[1;32mif\u001b[0m \u001b[0mself\u001b[0m\u001b[1;33m.\u001b[0m\u001b[0mauto_display\u001b[0m \u001b[1;32mand\u001b[0m \u001b[0mself\u001b[0m\u001b[1;33m.\u001b[0m\u001b[0mresult\u001b[0m \u001b[1;32mis\u001b[0m \u001b[1;32mnot\u001b[0m \u001b[1;32mNone\u001b[0m\u001b[1;33m:\u001b[0m\u001b[1;33m\u001b[0m\u001b[1;33m\u001b[0m\u001b[0m\n",
          "\u001b[1;32m<ipython-input-11-4c75cc543b84>\u001b[0m in \u001b[0;36mfind\u001b[1;34m(lat, long, t0, t1)\u001b[0m\n\u001b[0;32m      1\u001b[0m \u001b[1;32mdef\u001b[0m \u001b[0mfind\u001b[0m\u001b[1;33m(\u001b[0m\u001b[0mlat\u001b[0m\u001b[1;33m,\u001b[0m \u001b[0mlong\u001b[0m\u001b[1;33m,\u001b[0m \u001b[0mt0\u001b[0m\u001b[1;33m,\u001b[0m \u001b[0mt1\u001b[0m\u001b[1;33m)\u001b[0m\u001b[1;33m:\u001b[0m\u001b[1;33m\u001b[0m\u001b[1;33m\u001b[0m\u001b[0m\n\u001b[1;32m----> 2\u001b[1;33m     \u001b[0mtopo\u001b[0m \u001b[1;33m=\u001b[0m \u001b[0mTopos\u001b[0m\u001b[1;33m(\u001b[0m\u001b[0mLatitude\u001b[0m\u001b[1;33m,\u001b[0m \u001b[0mLongitude\u001b[0m\u001b[1;33m)\u001b[0m\u001b[1;33m\u001b[0m\u001b[1;33m\u001b[0m\u001b[0m\n\u001b[0m\u001b[0;32m      3\u001b[0m \u001b[1;31m#     interact(tanggal, t0=dari, t1=sampai)\u001b[0m\u001b[1;33m\u001b[0m\u001b[1;33m\u001b[0m\u001b[1;33m\u001b[0m\u001b[0m\n",
          "\u001b[1;31mNameError\u001b[0m: name 'Latitude' is not defined"
         ]
        }
       ]
      }
     },
     "c873f4961acd4a74b928a8057bd056bf": {
      "model_module": "@jupyter-widgets/base",
      "model_module_version": "1.2.0",
      "model_name": "LayoutModel",
      "state": {}
     },
     "c9ecbf5d948e414eb9963665eee76804": {
      "model_module": "@jupyter-widgets/controls",
      "model_module_version": "1.5.0",
      "model_name": "DescriptionStyleModel",
      "state": {
       "description_width": ""
      }
     },
     "c9f0bbff2e5f42b3a71a0532b7631390": {
      "model_module": "@jupyter-widgets/controls",
      "model_module_version": "1.5.0",
      "model_name": "DescriptionStyleModel",
      "state": {
       "description_width": ""
      }
     },
     "cb9b8dc63b704c7c85c5b7959fc323e8": {
      "model_module": "@jupyter-widgets/controls",
      "model_module_version": "1.5.0",
      "model_name": "DescriptionStyleModel",
      "state": {
       "description_width": ""
      }
     },
     "cf9aeb85984d44ebafc002f5e75b394e": {
      "model_module": "@jupyter-widgets/controls",
      "model_module_version": "1.5.0",
      "model_name": "DescriptionStyleModel",
      "state": {
       "description_width": ""
      }
     },
     "d0c9305ef0d142bca3857cb3231cc469": {
      "model_module": "@jupyter-widgets/controls",
      "model_module_version": "1.5.0",
      "model_name": "DescriptionStyleModel",
      "state": {
       "description_width": ""
      }
     },
     "d144f4cda7584a0d963936986a16211b": {
      "model_module": "@jupyter-widgets/controls",
      "model_module_version": "1.5.0",
      "model_name": "VBoxModel",
      "state": {
       "_dom_classes": [
        "widget-interact"
       ],
       "layout": "IPY_MODEL_0febc3dbb3a449a0bb579ef6dac236f1"
      }
     },
     "d145d3615e3b40dcaf86ac71356dd626": {
      "model_module": "@jupyter-widgets/controls",
      "model_module_version": "1.5.0",
      "model_name": "DescriptionStyleModel",
      "state": {
       "description_width": ""
      }
     },
     "d279a252b2cc4b9c84f91abe3a237efc": {
      "model_module": "@jupyter-widgets/base",
      "model_module_version": "1.2.0",
      "model_name": "LayoutModel",
      "state": {}
     },
     "d324195c6e4a4f88911f2d674f107d1d": {
      "model_module": "@jupyter-widgets/controls",
      "model_module_version": "1.5.0",
      "model_name": "DescriptionStyleModel",
      "state": {
       "description_width": ""
      }
     },
     "d5949477babc4bb9b6d0c4e59c1b51c0": {
      "model_module": "@jupyter-widgets/output",
      "model_module_version": "1.0.0",
      "model_name": "OutputModel",
      "state": {
       "layout": "IPY_MODEL_4e333d09b5c14cf68cf7bfbc2934723c"
      }
     },
     "d6532a834f32468baf27bd6fdd3a9afb": {
      "model_module": "@jupyter-widgets/controls",
      "model_module_version": "1.5.0",
      "model_name": "TextModel",
      "state": {
       "description": "Longitude",
       "layout": "IPY_MODEL_68aa7a60506c4701ae6cff1206085629",
       "style": "IPY_MODEL_9b2441ed0db544169731159ff3704e1b",
       "value": "110.38305556 E"
      }
     },
     "d6cde4a05b1740dd9438084f14f8920d": {
      "model_module": "@jupyter-widgets/controls",
      "model_module_version": "1.5.0",
      "model_name": "DescriptionStyleModel",
      "state": {
       "description_width": ""
      }
     },
     "d9999c9686b246f1a06e5342fb713b64": {
      "model_module": "@jupyter-widgets/controls",
      "model_module_version": "1.5.0",
      "model_name": "DatePickerModel",
      "state": {
       "description": "Dari:",
       "disabled": false,
       "layout": "IPY_MODEL_f5d18d460de44c8793ea921494814459",
       "style": "IPY_MODEL_1ce1ba116cbc4c7d9ce3e9d123c8527b",
       "value": {
        "date": 3,
        "month": 5,
        "year": 2020
       }
      }
     },
     "db6e64d3e84c4373981d8172f0ddd444": {
      "model_module": "@jupyter-widgets/controls",
      "model_module_version": "1.5.0",
      "model_name": "DescriptionStyleModel",
      "state": {
       "description_width": ""
      }
     },
     "db8aa582a69b43779650e307a456cad2": {
      "model_module": "@jupyter-widgets/controls",
      "model_module_version": "1.5.0",
      "model_name": "TextModel",
      "state": {
       "description": "Longitude",
       "layout": "IPY_MODEL_a7cf3ea37d934f2191e63f86bdd17da5",
       "style": "IPY_MODEL_d6cde4a05b1740dd9438084f14f8920d",
       "value": "110.38305556 E"
      }
     },
     "dd5ec23bdd1d4fe98e2409488aeb2285": {
      "model_module": "@jupyter-widgets/controls",
      "model_module_version": "1.5.0",
      "model_name": "TextModel",
      "state": {
       "description": "Latitude",
       "layout": "IPY_MODEL_84c4d766c141464f882377d665aefc3b",
       "style": "IPY_MODEL_7945df1e6be2448ba1a11940ed97a69c",
       "value": "7.83305556 S"
      }
     },
     "ddc023103eaf4cd79d5ed3b542bb71f7": {
      "model_module": "@jupyter-widgets/base",
      "model_module_version": "1.2.0",
      "model_name": "LayoutModel",
      "state": {}
     },
     "e601841946ab46a289af7bcc0f9e6e57": {
      "model_module": "@jupyter-widgets/controls",
      "model_module_version": "1.5.0",
      "model_name": "DescriptionStyleModel",
      "state": {
       "description_width": ""
      }
     },
     "e745ef6273ce4c479e33d4d03211599d": {
      "model_module": "@jupyter-widgets/base",
      "model_module_version": "1.2.0",
      "model_name": "LayoutModel",
      "state": {}
     },
     "e80b31bf90bf4b19b85b591b54fbd1ac": {
      "model_module": "@jupyter-widgets/controls",
      "model_module_version": "1.5.0",
      "model_name": "DescriptionStyleModel",
      "state": {
       "description_width": ""
      }
     },
     "e95c3c08b7d843a09d0f6825014afeb8": {
      "model_module": "@jupyter-widgets/controls",
      "model_module_version": "1.5.0",
      "model_name": "TextModel",
      "state": {
       "description": "Latitude",
       "layout": "IPY_MODEL_9a466c56a308458495964fd00b03867f",
       "style": "IPY_MODEL_805faf3c20ec4462a74bd71d27c32ef6",
       "value": "7.83305556 S"
      }
     },
     "ec46d1e8152e4270bea90830f82831fc": {
      "model_module": "@jupyter-widgets/base",
      "model_module_version": "1.2.0",
      "model_name": "LayoutModel",
      "state": {}
     },
     "edc6669d6daa4a51a31ff276f82242c7": {
      "model_module": "@jupyter-widgets/controls",
      "model_module_version": "1.5.0",
      "model_name": "TextModel",
      "state": {
       "description": "Latitude",
       "layout": "IPY_MODEL_5133c415bb9c41dc8ac5657ef6faaf48",
       "style": "IPY_MODEL_722c026a1b3448f7876232518a5ed5d1",
       "value": "7.83305556 S"
      }
     },
     "edf5514f47c24371ba8a561392751def": {
      "model_module": "@jupyter-widgets/base",
      "model_module_version": "1.2.0",
      "model_name": "LayoutModel",
      "state": {}
     },
     "ef97dd53a40848918dc81c58b2c00905": {
      "model_module": "@jupyter-widgets/controls",
      "model_module_version": "1.5.0",
      "model_name": "DescriptionStyleModel",
      "state": {
       "description_width": ""
      }
     },
     "f20cbf67c9e344a5af02313197880611": {
      "model_module": "@jupyter-widgets/output",
      "model_module_version": "1.0.0",
      "model_name": "OutputModel",
      "state": {
       "layout": "IPY_MODEL_870ea45d053d40f5add8c13cc0070954",
       "outputs": [
        {
         "ename": "NameError",
         "evalue": "name 'tanggal' is not defined",
         "output_type": "error",
         "traceback": [
          "\u001b[1;31m---------------------------------------------------------------------------\u001b[0m",
          "\u001b[1;31mNameError\u001b[0m                                 Traceback (most recent call last)",
          "\u001b[1;32mc:\\users\\khair\\appdata\\local\\programs\\python\\python37\\lib\\site-packages\\ipywidgets\\widgets\\interaction.py\u001b[0m in \u001b[0;36mupdate\u001b[1;34m(self, *args)\u001b[0m\n\u001b[0;32m    254\u001b[0m                     \u001b[0mvalue\u001b[0m \u001b[1;33m=\u001b[0m \u001b[0mwidget\u001b[0m\u001b[1;33m.\u001b[0m\u001b[0mget_interact_value\u001b[0m\u001b[1;33m(\u001b[0m\u001b[1;33m)\u001b[0m\u001b[1;33m\u001b[0m\u001b[1;33m\u001b[0m\u001b[0m\n\u001b[0;32m    255\u001b[0m                     \u001b[0mself\u001b[0m\u001b[1;33m.\u001b[0m\u001b[0mkwargs\u001b[0m\u001b[1;33m[\u001b[0m\u001b[0mwidget\u001b[0m\u001b[1;33m.\u001b[0m\u001b[0m_kwarg\u001b[0m\u001b[1;33m]\u001b[0m \u001b[1;33m=\u001b[0m \u001b[0mvalue\u001b[0m\u001b[1;33m\u001b[0m\u001b[1;33m\u001b[0m\u001b[0m\n\u001b[1;32m--> 256\u001b[1;33m                 \u001b[0mself\u001b[0m\u001b[1;33m.\u001b[0m\u001b[0mresult\u001b[0m \u001b[1;33m=\u001b[0m \u001b[0mself\u001b[0m\u001b[1;33m.\u001b[0m\u001b[0mf\u001b[0m\u001b[1;33m(\u001b[0m\u001b[1;33m**\u001b[0m\u001b[0mself\u001b[0m\u001b[1;33m.\u001b[0m\u001b[0mkwargs\u001b[0m\u001b[1;33m)\u001b[0m\u001b[1;33m\u001b[0m\u001b[1;33m\u001b[0m\u001b[0m\n\u001b[0m\u001b[0;32m    257\u001b[0m                 \u001b[0mshow_inline_matplotlib_plots\u001b[0m\u001b[1;33m(\u001b[0m\u001b[1;33m)\u001b[0m\u001b[1;33m\u001b[0m\u001b[1;33m\u001b[0m\u001b[0m\n\u001b[0;32m    258\u001b[0m                 \u001b[1;32mif\u001b[0m \u001b[0mself\u001b[0m\u001b[1;33m.\u001b[0m\u001b[0mauto_display\u001b[0m \u001b[1;32mand\u001b[0m \u001b[0mself\u001b[0m\u001b[1;33m.\u001b[0m\u001b[0mresult\u001b[0m \u001b[1;32mis\u001b[0m \u001b[1;32mnot\u001b[0m \u001b[1;32mNone\u001b[0m\u001b[1;33m:\u001b[0m\u001b[1;33m\u001b[0m\u001b[1;33m\u001b[0m\u001b[0m\n",
          "\u001b[1;32m<ipython-input-5-c777b67ae2f5>\u001b[0m in \u001b[0;36mfind\u001b[1;34m(Latitude, Longitude)\u001b[0m\n\u001b[0;32m      1\u001b[0m \u001b[1;32mdef\u001b[0m \u001b[0mfind\u001b[0m\u001b[1;33m(\u001b[0m\u001b[0mLatitude\u001b[0m\u001b[1;33m,\u001b[0m \u001b[0mLongitude\u001b[0m\u001b[1;33m)\u001b[0m\u001b[1;33m:\u001b[0m\u001b[1;33m\u001b[0m\u001b[1;33m\u001b[0m\u001b[0m\n\u001b[0;32m      2\u001b[0m     \u001b[0mtopo\u001b[0m \u001b[1;33m=\u001b[0m \u001b[0mTopos\u001b[0m\u001b[1;33m(\u001b[0m\u001b[0mLatitude\u001b[0m\u001b[1;33m,\u001b[0m \u001b[0mLongitude\u001b[0m\u001b[1;33m)\u001b[0m\u001b[1;33m\u001b[0m\u001b[1;33m\u001b[0m\u001b[0m\n\u001b[1;32m----> 3\u001b[1;33m     \u001b[0minteract\u001b[0m\u001b[1;33m(\u001b[0m\u001b[0mtanggal\u001b[0m\u001b[1;33m,\u001b[0m \u001b[0mt0\u001b[0m\u001b[1;33m=\u001b[0m\u001b[0mdari\u001b[0m\u001b[1;33m,\u001b[0m \u001b[0mt1\u001b[0m\u001b[1;33m=\u001b[0m\u001b[0msampai\u001b[0m\u001b[1;33m)\u001b[0m\u001b[1;33m\u001b[0m\u001b[1;33m\u001b[0m\u001b[0m\n\u001b[0m",
          "\u001b[1;31mNameError\u001b[0m: name 'tanggal' is not defined"
         ]
        }
       ]
      }
     },
     "f4122b3a13294717975f55315443c07b": {
      "model_module": "@jupyter-widgets/controls",
      "model_module_version": "1.5.0",
      "model_name": "DatePickerModel",
      "state": {
       "description": "Dari:",
       "disabled": false,
       "layout": "IPY_MODEL_c31c1b4338aa43dba04fda85687298b8",
       "style": "IPY_MODEL_d145d3615e3b40dcaf86ac71356dd626",
       "value": {
        "date": 3,
        "month": 5,
        "year": 2020
       }
      }
     },
     "f5d18d460de44c8793ea921494814459": {
      "model_module": "@jupyter-widgets/base",
      "model_module_version": "1.2.0",
      "model_name": "LayoutModel",
      "state": {}
     },
     "f68b84502c9143e7b55f80100d537774": {
      "model_module": "@jupyter-widgets/controls",
      "model_module_version": "1.5.0",
      "model_name": "DatePickerModel",
      "state": {
       "description": "Sampai:",
       "disabled": false,
       "layout": "IPY_MODEL_4781cfc3bf604fd4908dc8c36222f866",
       "style": "IPY_MODEL_e601841946ab46a289af7bcc0f9e6e57",
       "value": {
        "date": 3,
        "month": 6,
        "year": 2020
       }
      }
     },
     "f9bfcaab1b664e8a9911a6d07a1ac029": {
      "model_module": "@jupyter-widgets/controls",
      "model_module_version": "1.5.0",
      "model_name": "DescriptionStyleModel",
      "state": {
       "description_width": ""
      }
     },
     "f9d2310ad43f4323adefd9a48b807000": {
      "model_module": "@jupyter-widgets/controls",
      "model_module_version": "1.5.0",
      "model_name": "DescriptionStyleModel",
      "state": {
       "description_width": ""
      }
     },
     "fba5eb67ec994d97975b7829395be1eb": {
      "model_module": "@jupyter-widgets/controls",
      "model_module_version": "1.5.0",
      "model_name": "VBoxModel",
      "state": {
       "_dom_classes": [
        "widget-interact"
       ],
       "children": [
        "IPY_MODEL_1326bf1a863744b1be8a7cec3d5af1d9",
        "IPY_MODEL_ff1f837cffe44d708f3d5eb48e347c80",
        "IPY_MODEL_07d54ccd9073482cab3dec2aeace58bd",
        "IPY_MODEL_57c0a5da1d0b4ad0951f4925a90a3e1a",
        "IPY_MODEL_7d92303e57a041c690fb68ec8f4b998b"
       ],
       "layout": "IPY_MODEL_89ecdb80e6444d39bbbff252800e2837"
      }
     },
     "fba9ebf1c792472b9849d67f8535678a": {
      "model_module": "@jupyter-widgets/controls",
      "model_module_version": "1.5.0",
      "model_name": "VBoxModel",
      "state": {
       "_dom_classes": [
        "widget-interact"
       ],
       "children": [
        "IPY_MODEL_edc6669d6daa4a51a31ff276f82242c7",
        "IPY_MODEL_0d4da6e8b1e7475ebdc0a0fd55d79538",
        "IPY_MODEL_18ea14991ea44fcbbc7e1ec9e5e9ee2a",
        "IPY_MODEL_005cb0836a924c2f916670970de3ad7d",
        "IPY_MODEL_74ed56d336e14bb18bfe02a63aa67d7c"
       ],
       "layout": "IPY_MODEL_6ae4e65ecfb94732adb9f6464d25ca4a"
      }
     },
     "fd576edac2554d818b42dc99132bbc71": {
      "model_module": "@jupyter-widgets/controls",
      "model_module_version": "1.5.0",
      "model_name": "TextModel",
      "state": {
       "description": "Latitude",
       "layout": "IPY_MODEL_9cecc9b97e704358af1d29739d8a0cf4",
       "style": "IPY_MODEL_ef97dd53a40848918dc81c58b2c00905",
       "value": "7.83305556 S"
      }
     },
     "ff1f837cffe44d708f3d5eb48e347c80": {
      "model_module": "@jupyter-widgets/controls",
      "model_module_version": "1.5.0",
      "model_name": "TextModel",
      "state": {
       "description": "Longitude",
       "layout": "IPY_MODEL_9a1cc2051ef4437992f6155f4b9a8fac",
       "style": "IPY_MODEL_1b03f4af76d74b5b9f645fcaedc2b55d",
       "value": "110.38305556 E"
      }
     },
     "ff59713fd57944e392339e75eab6dabf": {
      "model_module": "@jupyter-widgets/controls",
      "model_module_version": "1.5.0",
      "model_name": "TextModel",
      "state": {
       "description": "Latitude",
       "layout": "IPY_MODEL_2c850d12b17e41d6b4d0a33552b6c427",
       "style": "IPY_MODEL_b96e788d12564b7fb60a7c34862026b3",
       "value": "7.83305556 S"
      }
     },
     "ff61eb8e3a3c457ba137d2a01fedebcf": {
      "model_module": "@jupyter-widgets/controls",
      "model_module_version": "1.5.0",
      "model_name": "DescriptionStyleModel",
      "state": {
       "description_width": ""
      }
     }
    },
    "version_major": 2,
    "version_minor": 0
   }
  }
 },
 "nbformat": 4,
 "nbformat_minor": 4
}
