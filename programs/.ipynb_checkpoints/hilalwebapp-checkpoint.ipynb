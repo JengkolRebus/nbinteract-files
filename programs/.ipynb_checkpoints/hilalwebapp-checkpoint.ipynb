{
 "cells": [
  {
   "cell_type": "code",
   "execution_count": 1,
   "metadata": {},
   "outputs": [],
   "source": [
    "from skyfield.api import load, Topos\n",
    "from skyfield.units import Angle\n",
    "from skyfield import almanac\n",
    "from datetime import datetime as dt\n",
    "from datetime import timedelta\n",
    "from pytz import timezone\n",
    "from ipywidgets import widgets, interact\n",
    "import pandas as pd\n",
    "from IPython.display import display, HTML\n",
    "import numpy as np\n",
    "import matplotlib.pyplot as plt\n",
    "import matplotlib.patches as mpatches\n",
    "from datetime import datetime, timedelta\n",
    "import calendar"
   ]
  },
  {
   "cell_type": "code",
   "execution_count": 2,
   "metadata": {},
   "outputs": [],
   "source": [
    "jkt = timezone('Asia/Jakarta')\n",
    "ts = load.timescale()\n",
    "e = load('de421.bsp')"
   ]
  },
  {
   "cell_type": "code",
   "execution_count": 3,
   "metadata": {},
   "outputs": [],
   "source": [
    "def find(t0, t1):\n",
    "    t0 = ts.utc(t0)\n",
    "    t1 = ts.utc(t1)\n",
    "    \n",
    "    print(t0, t1)\n",
    "    \n",
    "    f = almanac.oppositions_conjunctions(e, e['moon'])\n",
    "    t, y = almanac.find_discrete(t0, t1, f)\n",
    "    \n",
    "    for ti, yi in zip(t, y):\n",
    "        if(yi == 1):\n",
    "            t_konj = ti.utc\n",
    "            \n",
    "#             t0 = ts.utc(t_konj[0], t_konj[1], t_konj[2], t_konj[3], t_konj[4], t_konj[5])\n",
    "#             t1 = ts.utc(t_konj[0], t_konj[1], t_konj[2]+1, t_konj[3], t_konj[4], t_konj[5])\n",
    "        else:\n",
    "            pass\n",
    "    print(t_konj)\n",
    "\n",
    "def loc(Latitude, Longitude):\n",
    "    topo = Topos(Latitude, Longitude)\n",
    "    interact(find, t0=dari, t1=sampai)"
   ]
  },
  {
   "cell_type": "code",
   "execution_count": 4,
   "metadata": {},
   "outputs": [
    {
     "data": {
      "application/vnd.jupyter.widget-view+json": {
       "model_id": "9b21532899f746b7a7468de25c5849da",
       "version_major": 2,
       "version_minor": 0
      },
      "text/plain": [
       "interactive(children=(Text(value='7.83305556 S', description='Latitude'), Text(value='110.38305556 E', descrip…"
      ]
     },
     "metadata": {},
     "output_type": "display_data"
    },
    {
     "data": {
      "text/plain": [
       "<function __main__.loc(Latitude, Longitude)>"
      ]
     },
     "execution_count": 4,
     "metadata": {},
     "output_type": "execute_result"
    }
   ],
   "source": [
    "hari_ini = dt.now().date()\n",
    "days_in_month = calendar.monthrange(hari_ini.year, hari_ini.month)[1]\n",
    "besok = hari_ini + timedelta(days_in_month)\n",
    "\n",
    "dari = widgets.DatePicker(value=hari_ini,\n",
    "    description='Dari:',\n",
    "    disabled=False\n",
    ")\n",
    "sampai = widgets.DatePicker(value=besok,\n",
    "    description='Sampai:',\n",
    "    disabled=False\n",
    ")\n",
    "\n",
    "interact(loc, Latitude='7.83305556 S', Longitude='110.38305556 E')"
   ]
  }
 ],
 "metadata": {
  "kernelspec": {
   "display_name": "Python 3",
   "language": "python",
   "name": "python3"
  },
  "language_info": {
   "codemirror_mode": {
    "name": "ipython",
    "version": 3
   },
   "file_extension": ".py",
   "mimetype": "text/x-python",
   "name": "python",
   "nbconvert_exporter": "python",
   "pygments_lexer": "ipython3",
   "version": "3.7.6"
  },
  "widgets": {
   "application/vnd.jupyter.widget-state+json": {
    "state": {
     "0bfabad518e247eb8961e841620e33e6": {
      "model_module": "@jupyter-widgets/base",
      "model_module_version": "1.2.0",
      "model_name": "LayoutModel",
      "state": {}
     },
     "0f868d864f954d42b5043eda3cda14d7": {
      "model_module": "@jupyter-widgets/controls",
      "model_module_version": "1.5.0",
      "model_name": "DescriptionStyleModel",
      "state": {
       "description_width": ""
      }
     },
     "14bc7d87f3624e09afabedd788fcef5f": {
      "model_module": "@jupyter-widgets/base",
      "model_module_version": "1.2.0",
      "model_name": "LayoutModel",
      "state": {}
     },
     "2522eedcea0d474b85088946aa8bbf34": {
      "model_module": "@jupyter-widgets/base",
      "model_module_version": "1.2.0",
      "model_name": "LayoutModel",
      "state": {}
     },
     "2b7b1ddca6254352adeea8ae5d614617": {
      "model_module": "@jupyter-widgets/controls",
      "model_module_version": "1.5.0",
      "model_name": "TextModel",
      "state": {
       "description": "Longitude",
       "layout": "IPY_MODEL_2522eedcea0d474b85088946aa8bbf34",
       "style": "IPY_MODEL_399c005a420049b9b94f9e52c41fee08",
       "value": "110.38305556 E"
      }
     },
     "2feb4b279d4a4ca6a3cc09abc7c82e1d": {
      "model_module": "@jupyter-widgets/controls",
      "model_module_version": "1.5.0",
      "model_name": "DatePickerModel",
      "state": {
       "description": "Sampai:",
       "disabled": false,
       "layout": "IPY_MODEL_8842f415f43142db85fe146b5cd9c137",
       "style": "IPY_MODEL_94df24530f074092acc250936aa9f763",
       "value": {
        "date": 26,
        "month": 5,
        "year": 2020
       }
      }
     },
     "3118885e67ce495bae2546516ad48e5d": {
      "model_module": "@jupyter-widgets/controls",
      "model_module_version": "1.5.0",
      "model_name": "DatePickerModel",
      "state": {
       "description": "Dari:",
       "disabled": false,
       "layout": "IPY_MODEL_569506eec7fa469197641f34a20f8364",
       "style": "IPY_MODEL_0f868d864f954d42b5043eda3cda14d7",
       "value": {
        "date": 26,
        "month": 4,
        "year": 2020
       }
      }
     },
     "399c005a420049b9b94f9e52c41fee08": {
      "model_module": "@jupyter-widgets/controls",
      "model_module_version": "1.5.0",
      "model_name": "DescriptionStyleModel",
      "state": {
       "description_width": ""
      }
     },
     "478070ed8e1445c0aa82c1703555dccb": {
      "model_module": "@jupyter-widgets/output",
      "model_module_version": "1.0.0",
      "model_name": "OutputModel",
      "state": {
       "layout": "IPY_MODEL_7415ccc7e9354188a426fd730ca99dea",
       "outputs": [
        {
         "name": "stdout",
         "output_type": "stream",
         "text": "<Time tt=2458995.500800741> <Time tt=2459026.500800741>\n(2020, 6, 21, 6, 41, 27.48125731945038)\n"
        }
       ]
      }
     },
     "569506eec7fa469197641f34a20f8364": {
      "model_module": "@jupyter-widgets/base",
      "model_module_version": "1.2.0",
      "model_name": "LayoutModel",
      "state": {}
     },
     "5ba0a6ae85b04435bae3372db9e1d53d": {
      "model_module": "@jupyter-widgets/controls",
      "model_module_version": "1.5.0",
      "model_name": "TextModel",
      "state": {
       "description": "Latitude",
       "layout": "IPY_MODEL_96c99565091149cebb53172a79d18f0f",
       "style": "IPY_MODEL_7a83c2b3d0fb46829b1515b80f2b9a15",
       "value": "7.83305556 S"
      }
     },
     "72580059c0fb4276afdc8fb2ab17474c": {
      "model_module": "@jupyter-widgets/controls",
      "model_module_version": "1.5.0",
      "model_name": "VBoxModel",
      "state": {
       "_dom_classes": [
        "widget-interact"
       ],
       "children": [
        "IPY_MODEL_3118885e67ce495bae2546516ad48e5d",
        "IPY_MODEL_2feb4b279d4a4ca6a3cc09abc7c82e1d",
        "IPY_MODEL_478070ed8e1445c0aa82c1703555dccb"
       ],
       "layout": "IPY_MODEL_14bc7d87f3624e09afabedd788fcef5f"
      }
     },
     "7415ccc7e9354188a426fd730ca99dea": {
      "model_module": "@jupyter-widgets/base",
      "model_module_version": "1.2.0",
      "model_name": "LayoutModel",
      "state": {}
     },
     "7a83c2b3d0fb46829b1515b80f2b9a15": {
      "model_module": "@jupyter-widgets/controls",
      "model_module_version": "1.5.0",
      "model_name": "DescriptionStyleModel",
      "state": {
       "description_width": ""
      }
     },
     "8842f415f43142db85fe146b5cd9c137": {
      "model_module": "@jupyter-widgets/base",
      "model_module_version": "1.2.0",
      "model_name": "LayoutModel",
      "state": {}
     },
     "8fa47cb6aa8c47efacf2cc80e96dfac4": {
      "model_module": "@jupyter-widgets/output",
      "model_module_version": "1.0.0",
      "model_name": "OutputModel",
      "state": {
       "layout": "IPY_MODEL_0bfabad518e247eb8961e841620e33e6",
       "outputs": [
        {
         "data": {
          "application/vnd.jupyter.widget-view+json": {
           "model_id": "72580059c0fb4276afdc8fb2ab17474c",
           "version_major": 2,
           "version_minor": 0
          },
          "text/plain": "interactive(children=(DatePicker(value=datetime.date(2020, 5, 26), description='Dari:'), DatePicker(value=date…"
         },
         "metadata": {},
         "output_type": "display_data"
        }
       ]
      }
     },
     "94df24530f074092acc250936aa9f763": {
      "model_module": "@jupyter-widgets/controls",
      "model_module_version": "1.5.0",
      "model_name": "DescriptionStyleModel",
      "state": {
       "description_width": ""
      }
     },
     "96c99565091149cebb53172a79d18f0f": {
      "model_module": "@jupyter-widgets/base",
      "model_module_version": "1.2.0",
      "model_name": "LayoutModel",
      "state": {}
     },
     "9b21532899f746b7a7468de25c5849da": {
      "model_module": "@jupyter-widgets/controls",
      "model_module_version": "1.5.0",
      "model_name": "VBoxModel",
      "state": {
       "_dom_classes": [
        "widget-interact"
       ],
       "children": [
        "IPY_MODEL_5ba0a6ae85b04435bae3372db9e1d53d",
        "IPY_MODEL_2b7b1ddca6254352adeea8ae5d614617",
        "IPY_MODEL_8fa47cb6aa8c47efacf2cc80e96dfac4"
       ],
       "layout": "IPY_MODEL_e613e97633ad40078bc86b830b3a0039"
      }
     },
     "e613e97633ad40078bc86b830b3a0039": {
      "model_module": "@jupyter-widgets/base",
      "model_module_version": "1.2.0",
      "model_name": "LayoutModel",
      "state": {}
     }
    },
    "version_major": 2,
    "version_minor": 0
   }
  }
 },
 "nbformat": 4,
 "nbformat_minor": 4
}
