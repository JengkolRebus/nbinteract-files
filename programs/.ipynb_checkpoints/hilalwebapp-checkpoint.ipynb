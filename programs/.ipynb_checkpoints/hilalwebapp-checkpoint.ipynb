{
 "cells": [
  {
   "cell_type": "code",
   "execution_count": 1,
   "metadata": {},
   "outputs": [],
   "source": [
    "from skyfield.api import load, Topos\n",
    "from skyfield.units import Angle\n",
    "from skyfield import almanac\n",
    "from datetime import datetime, timedelta\n",
    "from pytz import timezone\n",
    "from ipywidgets import widgets, interact, interactive\n",
    "from IPython.display import display, HTML\n",
    "import calendar"
   ]
  },
  {
   "cell_type": "code",
   "execution_count": 2,
   "metadata": {},
   "outputs": [],
   "source": [
    "jkt = timezone('Asia/Jakarta')\n",
    "ts = load.timescale()\n",
    "e = load('de421.bsp')"
   ]
  },
  {
   "cell_type": "code",
   "execution_count": 58,
   "metadata": {},
   "outputs": [],
   "source": [
    "def find(lat, long, t0, t1):\n",
    "    t_konj = []\n",
    "    t_konj.clear\n",
    "    topo = Topos(lat, long)\n",
    "    loc = e['earth'] + topo\n",
    "    print(topo)\n",
    "    print(loc)\n",
    "    t0 = ts.utc(t0)\n",
    "    t1 = ts.utc(t1)\n",
    "    print(t0, t1)\n",
    "    \n",
    "    f = almanac.oppositions_conjunctions(e, e['moon'])\n",
    "    t, y = almanac.find_discrete(t0, t1, f)\n",
    "    for ti, yi in zip(t, y):\n",
    "        if(yi == 1):\n",
    "            t_konj.append(ti.utc)\n",
    "            \n",
    "#             t0 = ts.utc(t_konj[0], t_konj[1], t_konj[2], t_konj[3], t_konj[4], t_konj[5])\n",
    "#             t1 = ts.utc(t_konj[0], t_konj[1], t_konj[2]+1, t_konj[3], t_konj[4], t_konj[5])\n",
    "        else:\n",
    "            pass\n",
    "    print(t_konj)\n"
   ]
  },
  {
   "cell_type": "code",
   "execution_count": 59,
   "metadata": {},
   "outputs": [],
   "source": [
    "lat = widgets.Text(\n",
    "    value='7.83305556 S',\n",
    "    placeholder='Type something',\n",
    "    description='Latitude:',\n",
    "    disabled=False\n",
    ")\n",
    "long = widgets.Text(\n",
    "    value='110.38305556 E',\n",
    "    placeholder='Type something',\n",
    "    description='Longitude:',\n",
    "    disabled=False\n",
    ")"
   ]
  },
  {
   "cell_type": "code",
   "execution_count": 60,
   "metadata": {},
   "outputs": [],
   "source": [
    "hari_ini = datetime.now().date()\n",
    "days_in_month = calendar.monthrange(hari_ini.year, hari_ini.month)[1]\n",
    "besok = hari_ini + timedelta(days_in_month)\n",
    "\n",
    "t0 = widgets.DatePicker(value=hari_ini,\n",
    "    description='Dari:',\n",
    "    disabled=False\n",
    ")\n",
    "t1 = widgets.DatePicker(value=besok,\n",
    "    description='Sampai:',\n",
    "    disabled=False\n",
    ")\n",
    "\n"
   ]
  },
  {
   "cell_type": "code",
   "execution_count": 61,
   "metadata": {},
   "outputs": [
    {
     "data": {
      "application/vnd.jupyter.widget-view+json": {
       "model_id": "5af417fce71745d79cd6f559ef373297",
       "version_major": 2,
       "version_minor": 0
      },
      "text/plain": [
       "interactive(children=(Text(value='7.83305556 S', description='Latitude:', placeholder='Type something'), Text(…"
      ]
     },
     "metadata": {},
     "output_type": "display_data"
    },
    {
     "data": {
      "text/plain": [
       "<function __main__.find(lat, long, t0, t1)>"
      ]
     },
     "execution_count": 61,
     "metadata": {},
     "output_type": "execute_result"
    }
   ],
   "source": [
    "interact(find, lat=lat, long=long, t0=t0, t1=t1)"
   ]
  },
  {
   "cell_type": "code",
   "execution_count": null,
   "metadata": {},
   "outputs": [],
   "source": []
  }
 ],
 "metadata": {
  "kernelspec": {
   "display_name": "Python 3",
   "language": "python",
   "name": "python3"
  },
  "language_info": {
   "codemirror_mode": {
    "name": "ipython",
    "version": 3
   },
   "file_extension": ".py",
   "mimetype": "text/x-python",
   "name": "python",
   "nbconvert_exporter": "python",
   "pygments_lexer": "ipython3",
   "version": "3.7.6"
  },
  "widgets": {
   "application/vnd.jupyter.widget-state+json": {
    "state": {
     "015cb3e6f7b146f494431c42a37cfe72": {
      "model_module": "@jupyter-widgets/base",
      "model_module_version": "1.2.0",
      "model_name": "LayoutModel",
      "state": {}
     },
     "017558d50473499e876f24b64168e598": {
      "model_module": "@jupyter-widgets/controls",
      "model_module_version": "1.5.0",
      "model_name": "DatePickerModel",
      "state": {
       "description": "Dari:",
       "disabled": false,
       "layout": "IPY_MODEL_54b8ae4259914ef2bf824e546f16453d",
       "style": "IPY_MODEL_58b3ab61ad8e455ebf6b80ca6aabf7ef",
       "value": {
        "date": 2,
        "month": 1,
        "year": 2020
       }
      }
     },
     "0357e94ed44f4de0a2ca9181b4584d0a": {
      "model_module": "@jupyter-widgets/base",
      "model_module_version": "1.2.0",
      "model_name": "LayoutModel",
      "state": {}
     },
     "055cbb43338f4d159390b7417e873f0b": {
      "model_module": "@jupyter-widgets/controls",
      "model_module_version": "1.5.0",
      "model_name": "DescriptionStyleModel",
      "state": {
       "description_width": ""
      }
     },
     "055ce84d12fc485881c537500ad35f6d": {
      "model_module": "@jupyter-widgets/controls",
      "model_module_version": "1.5.0",
      "model_name": "DescriptionStyleModel",
      "state": {
       "description_width": ""
      }
     },
     "06f4f60f60a444d3afd27fdb14ace521": {
      "model_module": "@jupyter-widgets/base",
      "model_module_version": "1.2.0",
      "model_name": "LayoutModel",
      "state": {}
     },
     "098abebb866c4b01b59c7e9d71f1a72d": {
      "model_module": "@jupyter-widgets/base",
      "model_module_version": "1.2.0",
      "model_name": "LayoutModel",
      "state": {}
     },
     "0ba97d170f3049209cbaa232e2702785": {
      "model_module": "@jupyter-widgets/controls",
      "model_module_version": "1.5.0",
      "model_name": "DescriptionStyleModel",
      "state": {
       "description_width": ""
      }
     },
     "0bbb74eb133444b0aad35eac68306ea0": {
      "model_module": "@jupyter-widgets/base",
      "model_module_version": "1.2.0",
      "model_name": "LayoutModel",
      "state": {}
     },
     "0cb2bf616b9b47e6bdc5fe7ebcb281b7": {
      "model_module": "@jupyter-widgets/base",
      "model_module_version": "1.2.0",
      "model_name": "LayoutModel",
      "state": {}
     },
     "0d48f939b72142b7b14031ebf5207654": {
      "model_module": "@jupyter-widgets/output",
      "model_module_version": "1.0.0",
      "model_name": "OutputModel",
      "state": {
       "layout": "IPY_MODEL_65d425501e8543e0b595635b3b3f8db1",
       "outputs": [
        {
         "ename": "NameError",
         "evalue": "name 'Latitude' is not defined",
         "output_type": "error",
         "traceback": [
          "\u001b[1;31m---------------------------------------------------------------------------\u001b[0m",
          "\u001b[1;31mNameError\u001b[0m                                 Traceback (most recent call last)",
          "\u001b[1;32mc:\\users\\khair\\appdata\\local\\programs\\python\\python37\\lib\\site-packages\\ipywidgets\\widgets\\interaction.py\u001b[0m in \u001b[0;36mupdate\u001b[1;34m(self, *args)\u001b[0m\n\u001b[0;32m    254\u001b[0m                     \u001b[0mvalue\u001b[0m \u001b[1;33m=\u001b[0m \u001b[0mwidget\u001b[0m\u001b[1;33m.\u001b[0m\u001b[0mget_interact_value\u001b[0m\u001b[1;33m(\u001b[0m\u001b[1;33m)\u001b[0m\u001b[1;33m\u001b[0m\u001b[1;33m\u001b[0m\u001b[0m\n\u001b[0;32m    255\u001b[0m                     \u001b[0mself\u001b[0m\u001b[1;33m.\u001b[0m\u001b[0mkwargs\u001b[0m\u001b[1;33m[\u001b[0m\u001b[0mwidget\u001b[0m\u001b[1;33m.\u001b[0m\u001b[0m_kwarg\u001b[0m\u001b[1;33m]\u001b[0m \u001b[1;33m=\u001b[0m \u001b[0mvalue\u001b[0m\u001b[1;33m\u001b[0m\u001b[1;33m\u001b[0m\u001b[0m\n\u001b[1;32m--> 256\u001b[1;33m                 \u001b[0mself\u001b[0m\u001b[1;33m.\u001b[0m\u001b[0mresult\u001b[0m \u001b[1;33m=\u001b[0m \u001b[0mself\u001b[0m\u001b[1;33m.\u001b[0m\u001b[0mf\u001b[0m\u001b[1;33m(\u001b[0m\u001b[1;33m**\u001b[0m\u001b[0mself\u001b[0m\u001b[1;33m.\u001b[0m\u001b[0mkwargs\u001b[0m\u001b[1;33m)\u001b[0m\u001b[1;33m\u001b[0m\u001b[1;33m\u001b[0m\u001b[0m\n\u001b[0m\u001b[0;32m    257\u001b[0m                 \u001b[0mshow_inline_matplotlib_plots\u001b[0m\u001b[1;33m(\u001b[0m\u001b[1;33m)\u001b[0m\u001b[1;33m\u001b[0m\u001b[1;33m\u001b[0m\u001b[0m\n\u001b[0;32m    258\u001b[0m                 \u001b[1;32mif\u001b[0m \u001b[0mself\u001b[0m\u001b[1;33m.\u001b[0m\u001b[0mauto_display\u001b[0m \u001b[1;32mand\u001b[0m \u001b[0mself\u001b[0m\u001b[1;33m.\u001b[0m\u001b[0mresult\u001b[0m \u001b[1;32mis\u001b[0m \u001b[1;32mnot\u001b[0m \u001b[1;32mNone\u001b[0m\u001b[1;33m:\u001b[0m\u001b[1;33m\u001b[0m\u001b[1;33m\u001b[0m\u001b[0m\n",
          "\u001b[1;32m<ipython-input-25-952821c63fbf>\u001b[0m in \u001b[0;36mfind\u001b[1;34m(lat, long, t0, t1)\u001b[0m\n\u001b[0;32m      1\u001b[0m \u001b[1;32mdef\u001b[0m \u001b[0mfind\u001b[0m\u001b[1;33m(\u001b[0m\u001b[0mlat\u001b[0m\u001b[1;33m,\u001b[0m \u001b[0mlong\u001b[0m\u001b[1;33m,\u001b[0m \u001b[0mt0\u001b[0m\u001b[1;33m,\u001b[0m \u001b[0mt1\u001b[0m\u001b[1;33m)\u001b[0m\u001b[1;33m:\u001b[0m\u001b[1;33m\u001b[0m\u001b[1;33m\u001b[0m\u001b[0m\n\u001b[1;32m----> 2\u001b[1;33m     \u001b[0mtopo\u001b[0m \u001b[1;33m=\u001b[0m \u001b[0mTopos\u001b[0m\u001b[1;33m(\u001b[0m\u001b[0mLatitude\u001b[0m\u001b[1;33m,\u001b[0m \u001b[0mLongitude\u001b[0m\u001b[1;33m)\u001b[0m\u001b[1;33m\u001b[0m\u001b[1;33m\u001b[0m\u001b[0m\n\u001b[0m\u001b[0;32m      3\u001b[0m     \u001b[0mloc\u001b[0m \u001b[1;33m=\u001b[0m \u001b[0me\u001b[0m\u001b[1;33m[\u001b[0m\u001b[1;34m'earth'\u001b[0m\u001b[1;33m]\u001b[0m \u001b[1;33m+\u001b[0m \u001b[0mtopo\u001b[0m\u001b[1;33m\u001b[0m\u001b[1;33m\u001b[0m\u001b[0m\n\u001b[0;32m      4\u001b[0m     \u001b[0mt0\u001b[0m \u001b[1;33m=\u001b[0m \u001b[0mts\u001b[0m\u001b[1;33m.\u001b[0m\u001b[0mutc\u001b[0m\u001b[1;33m(\u001b[0m\u001b[0mt0\u001b[0m\u001b[1;33m)\u001b[0m\u001b[1;33m\u001b[0m\u001b[1;33m\u001b[0m\u001b[0m\n\u001b[0;32m      5\u001b[0m     \u001b[0mt1\u001b[0m \u001b[1;33m=\u001b[0m \u001b[0mts\u001b[0m\u001b[1;33m.\u001b[0m\u001b[0mutc\u001b[0m\u001b[1;33m(\u001b[0m\u001b[0mt1\u001b[0m\u001b[1;33m)\u001b[0m\u001b[1;33m\u001b[0m\u001b[1;33m\u001b[0m\u001b[0m\n",
          "\u001b[1;31mNameError\u001b[0m: name 'Latitude' is not defined"
         ]
        }
       ]
      }
     },
     "0dc60bb007904a4c9c710d98fda1fe39": {
      "model_module": "@jupyter-widgets/controls",
      "model_module_version": "1.5.0",
      "model_name": "TextModel",
      "state": {
       "description": "Latitude:",
       "layout": "IPY_MODEL_d4f9dd061b4f49da826119fc245b8774",
       "placeholder": "Type something",
       "style": "IPY_MODEL_1a11163ed0c54aaf9f2a165063c8136c",
       "value": "7.83305556 S"
      }
     },
     "0e850f6d751e4e279dfd555fe467c4fc": {
      "model_module": "@jupyter-widgets/controls",
      "model_module_version": "1.5.0",
      "model_name": "DatePickerModel",
      "state": {
       "description": "Dari:",
       "disabled": false,
       "layout": "IPY_MODEL_17ef45bb15084982868a186436dd4334",
       "style": "IPY_MODEL_2870a1946b8346a49bb0d9a8e464667c",
       "value": {
        "date": 26,
        "month": 4,
        "year": 2020
       }
      }
     },
     "0f537813f6994fc38de9f0d474385bb8": {
      "model_module": "@jupyter-widgets/base",
      "model_module_version": "1.2.0",
      "model_name": "LayoutModel",
      "state": {}
     },
     "0fb548d5f3564aa289cd52a6123596c4": {
      "model_module": "@jupyter-widgets/base",
      "model_module_version": "1.2.0",
      "model_name": "LayoutModel",
      "state": {}
     },
     "123e4a809e184fb6a17b74a1f65f470d": {
      "model_module": "@jupyter-widgets/base",
      "model_module_version": "1.2.0",
      "model_name": "LayoutModel",
      "state": {}
     },
     "1347d099b3d84463936b00d7d34e294b": {
      "model_module": "@jupyter-widgets/controls",
      "model_module_version": "1.5.0",
      "model_name": "DescriptionStyleModel",
      "state": {
       "description_width": ""
      }
     },
     "149a00332a8f4511ba2a970b62ffb84c": {
      "model_module": "@jupyter-widgets/controls",
      "model_module_version": "1.5.0",
      "model_name": "DatePickerModel",
      "state": {
       "description": "Sampai:",
       "disabled": false,
       "layout": "IPY_MODEL_57af50f66b4c4530921d65117a4c0c22",
       "style": "IPY_MODEL_1c8a4318830245798b087560d99b2a5d",
       "value": {
        "date": 18,
        "month": 8,
        "year": 2020
       }
      }
     },
     "15e117aefce24bc6a6170279a4998708": {
      "model_module": "@jupyter-widgets/base",
      "model_module_version": "1.2.0",
      "model_name": "LayoutModel",
      "state": {}
     },
     "176fea14a2414bda9f92418badfda510": {
      "model_module": "@jupyter-widgets/base",
      "model_module_version": "1.2.0",
      "model_name": "LayoutModel",
      "state": {}
     },
     "178e584037974e69b9952eb49eab22ea": {
      "model_module": "@jupyter-widgets/controls",
      "model_module_version": "1.5.0",
      "model_name": "DescriptionStyleModel",
      "state": {
       "description_width": ""
      }
     },
     "17ef45bb15084982868a186436dd4334": {
      "model_module": "@jupyter-widgets/base",
      "model_module_version": "1.2.0",
      "model_name": "LayoutModel",
      "state": {}
     },
     "19af6ca7e1a54938a58e2920bf34e344": {
      "model_module": "@jupyter-widgets/controls",
      "model_module_version": "1.5.0",
      "model_name": "TextModel",
      "state": {
       "description": "Latitude",
       "layout": "IPY_MODEL_61c323178bb446d3a1f1e9e4269521a8",
       "style": "IPY_MODEL_7c73e6dc03fd43ad8329bb429c2d5cd6",
       "value": "7.83305556 S"
      }
     },
     "1a11163ed0c54aaf9f2a165063c8136c": {
      "model_module": "@jupyter-widgets/controls",
      "model_module_version": "1.5.0",
      "model_name": "DescriptionStyleModel",
      "state": {
       "description_width": ""
      }
     },
     "1aee48c3ea27460e8b5b07d092abf02f": {
      "model_module": "@jupyter-widgets/controls",
      "model_module_version": "1.5.0",
      "model_name": "VBoxModel",
      "state": {
       "_dom_classes": [
        "widget-interact"
       ],
       "children": [
        "IPY_MODEL_35a4630751cc4b8c99757dfe8a49fc7b",
        "IPY_MODEL_8379b21de9424a68b59e81e53c3ac76d",
        "IPY_MODEL_5d150d1d1c874094919a1e37ad2bf794",
        "IPY_MODEL_b65e4a5851cd49c2adb7652849811c6f",
        "IPY_MODEL_4008b4a0cc3c45aca36fefa4c42d51b9"
       ],
       "layout": "IPY_MODEL_64eba143222c4caa9bcb056713b63797"
      }
     },
     "1b26cc1bf0af4ab9bb3a8d9dbb2d0a50": {
      "model_module": "@jupyter-widgets/base",
      "model_module_version": "1.2.0",
      "model_name": "LayoutModel",
      "state": {}
     },
     "1c6545680d5649ec94e636c0fc43f35e": {
      "model_module": "@jupyter-widgets/base",
      "model_module_version": "1.2.0",
      "model_name": "LayoutModel",
      "state": {}
     },
     "1c8a4318830245798b087560d99b2a5d": {
      "model_module": "@jupyter-widgets/controls",
      "model_module_version": "1.5.0",
      "model_name": "DescriptionStyleModel",
      "state": {
       "description_width": ""
      }
     },
     "1d24109d461e42149d2eb1b00f89745f": {
      "model_module": "@jupyter-widgets/base",
      "model_module_version": "1.2.0",
      "model_name": "LayoutModel",
      "state": {}
     },
     "1e55bf81bb864c51ad3cd49ca6194441": {
      "model_module": "@jupyter-widgets/base",
      "model_module_version": "1.2.0",
      "model_name": "LayoutModel",
      "state": {}
     },
     "1e8d677b8403450883964734b6020527": {
      "model_module": "@jupyter-widgets/controls",
      "model_module_version": "1.5.0",
      "model_name": "VBoxModel",
      "state": {
       "_dom_classes": [
        "widget-interact"
       ],
       "children": [
        "IPY_MODEL_e6673c37b0374699b14f661b0ef56815",
        "IPY_MODEL_509f3eb3070a4e65b1a7753d4d86f98e",
        "IPY_MODEL_7b8f10c5db414162a80c14e53da8c68e"
       ],
       "layout": "IPY_MODEL_d72268a4106648cc8fe0a0708cac0c26"
      }
     },
     "20a9588711974a519fd84802c56dc18b": {
      "model_module": "@jupyter-widgets/controls",
      "model_module_version": "1.5.0",
      "model_name": "DescriptionStyleModel",
      "state": {
       "description_width": ""
      }
     },
     "20fc453692c84d3da925a57b865896af": {
      "model_module": "@jupyter-widgets/output",
      "model_module_version": "1.0.0",
      "model_name": "OutputModel",
      "state": {
       "layout": "IPY_MODEL_f1fee8744676409f8261a5262bb230ba",
       "outputs": [
        {
         "name": "stdout",
         "output_type": "stream",
         "text": "Topos -03deg 49' 59.0\" N 110deg 22' 59.0\" E\nSum of 3 vectors:\n + Segment 'de421.bsp' 0 SOLAR SYSTEM BARYCENTER -> 3 EARTH BARYCENTER\n + Segment 'de421.bsp' 3 EARTH BARYCENTER -> 399 EARTH\n + Topos -03deg 49' 59.0\" N 110deg 22' 59.0\" E\n<Time tt=2458881.500800741> <Time tt=2459026.500800741>\n(2020, 6, 21, 6, 41, 27.481337785720825)\n"
        }
       ]
      }
     },
     "21350a0792f243629b8d3a4373a7ee2d": {
      "model_module": "@jupyter-widgets/controls",
      "model_module_version": "1.5.0",
      "model_name": "DescriptionStyleModel",
      "state": {
       "description_width": ""
      }
     },
     "23006e401d4742cebf914264f4bf6c31": {
      "model_module": "@jupyter-widgets/base",
      "model_module_version": "1.2.0",
      "model_name": "LayoutModel",
      "state": {}
     },
     "23e76eb9b23940048ebc78ce1c22453c": {
      "model_module": "@jupyter-widgets/base",
      "model_module_version": "1.2.0",
      "model_name": "LayoutModel",
      "state": {}
     },
     "2430214a5c7e4f17ab31c6ac2ac3ae06": {
      "model_module": "@jupyter-widgets/controls",
      "model_module_version": "1.5.0",
      "model_name": "TextModel",
      "state": {
       "description": "Latitude:",
       "layout": "IPY_MODEL_015cb3e6f7b146f494431c42a37cfe72",
       "placeholder": "Type something",
       "style": "IPY_MODEL_4c6565ae0ce64f1fb897d3e66f2cd92f",
       "value": "4.83305556 S"
      }
     },
     "24e65d3a0a6e473bafa60f330483f992": {
      "model_module": "@jupyter-widgets/controls",
      "model_module_version": "1.5.0",
      "model_name": "DatePickerModel",
      "state": {
       "description": "Dari:",
       "disabled": false,
       "layout": "IPY_MODEL_aa2421d5dc5049ab91771f0aec65f6ff",
       "style": "IPY_MODEL_e0c97d79600240249a1c6fd151ff70d7",
       "value": {
        "date": 26,
        "month": 4,
        "year": 2020
       }
      }
     },
     "2563ad95d8284004b9646c6fff85a29a": {
      "model_module": "@jupyter-widgets/controls",
      "model_module_version": "1.5.0",
      "model_name": "DescriptionStyleModel",
      "state": {
       "description_width": ""
      }
     },
     "26e06520f0654e379dc45e3ebaff01c2": {
      "model_module": "@jupyter-widgets/controls",
      "model_module_version": "1.5.0",
      "model_name": "VBoxModel",
      "state": {
       "_dom_classes": [
        "widget-interact"
       ],
       "children": [
        "IPY_MODEL_c5d5ce5ac6884bd7b555059833fe17ff",
        "IPY_MODEL_81c3d8e09ae34aea89acb8cfdfd222c9",
        "IPY_MODEL_322903cff07a4d8498bcc7e53d47ebe6"
       ],
       "layout": "IPY_MODEL_9147f811f5e24ae994d6efabad58e123"
      }
     },
     "270128844e634031b9a7e01526a34d83": {
      "model_module": "@jupyter-widgets/base",
      "model_module_version": "1.2.0",
      "model_name": "LayoutModel",
      "state": {}
     },
     "27171edc79b9459b89f2a70e7f4be932": {
      "model_module": "@jupyter-widgets/controls",
      "model_module_version": "1.5.0",
      "model_name": "DescriptionStyleModel",
      "state": {
       "description_width": ""
      }
     },
     "282f67ce9f8b4204b3953012bce3a05b": {
      "model_module": "@jupyter-widgets/controls",
      "model_module_version": "1.5.0",
      "model_name": "VBoxModel",
      "state": {
       "_dom_classes": [
        "widget-interact"
       ],
       "children": [
        "IPY_MODEL_eed48d9644cc49109a1867e0f2000254",
        "IPY_MODEL_cea402e7882c46f2917b2fdd8991da34",
        "IPY_MODEL_a81a78bd7b1c407193f750c81c90d79d"
       ],
       "layout": "IPY_MODEL_bdc5fbcb354849d287c99e06c94048a0"
      }
     },
     "2870a1946b8346a49bb0d9a8e464667c": {
      "model_module": "@jupyter-widgets/controls",
      "model_module_version": "1.5.0",
      "model_name": "DescriptionStyleModel",
      "state": {
       "description_width": ""
      }
     },
     "2a7dad427d2740b19ed4fc455bfe3fcf": {
      "model_module": "@jupyter-widgets/base",
      "model_module_version": "1.2.0",
      "model_name": "LayoutModel",
      "state": {}
     },
     "2a8f31acd73e41d6b458579d32589087": {
      "model_module": "@jupyter-widgets/controls",
      "model_module_version": "1.5.0",
      "model_name": "DatePickerModel",
      "state": {
       "description": "Sampai:",
       "disabled": false,
       "layout": "IPY_MODEL_aea2af6212c047a8bc00225ac10e9d86",
       "style": "IPY_MODEL_7defb2200abb49b0af3c871137bed6de",
       "value": {
        "date": 26,
        "month": 5,
        "year": 2020
       }
      }
     },
     "2abbd5076a704716a1994740c81b9bc9": {
      "model_module": "@jupyter-widgets/controls",
      "model_module_version": "1.5.0",
      "model_name": "DatePickerModel",
      "state": {
       "description": "Sampai:",
       "disabled": false,
       "layout": "IPY_MODEL_f222c5c4eed045ca83dc45c3d096578b",
       "style": "IPY_MODEL_20a9588711974a519fd84802c56dc18b",
       "value": {
        "date": 26,
        "month": 5,
        "year": 2020
       }
      }
     },
     "2c5634c8b68147a0b47bf70b6920f887": {
      "model_module": "@jupyter-widgets/base",
      "model_module_version": "1.2.0",
      "model_name": "LayoutModel",
      "state": {}
     },
     "2e2a604f6cc54f60af99aa1a88d650f6": {
      "model_module": "@jupyter-widgets/controls",
      "model_module_version": "1.5.0",
      "model_name": "DescriptionStyleModel",
      "state": {
       "description_width": ""
      }
     },
     "2f722fe3d4344f0b80e989ee1f0fcc09": {
      "model_module": "@jupyter-widgets/controls",
      "model_module_version": "1.5.0",
      "model_name": "VBoxModel",
      "state": {
       "_dom_classes": [
        "widget-interact"
       ],
       "children": [
        "IPY_MODEL_2430214a5c7e4f17ab31c6ac2ac3ae06",
        "IPY_MODEL_d46d523ffa1d43b7ba5d74609015914d",
        "IPY_MODEL_dfbf7436f3ba4e1a80756e847e7136aa",
        "IPY_MODEL_4a484a6d38924f18ac18af94de17bd22",
        "IPY_MODEL_4dd8c8bae09b4d3ca428a87ffe94b215"
       ],
       "layout": "IPY_MODEL_719884f2ddbf4118823d708783bbc840"
      }
     },
     "322903cff07a4d8498bcc7e53d47ebe6": {
      "model_module": "@jupyter-widgets/output",
      "model_module_version": "1.0.0",
      "model_name": "OutputModel",
      "state": {
       "layout": "IPY_MODEL_8c2ae973441e422c8a3527d5e1163b9b",
       "outputs": [
        {
         "name": "stdout",
         "output_type": "stream",
         "text": "<Time tt=2458979.500800741> <Time tt=2459026.500800741>\n(2020, 6, 21, 6, 41, 27.481337785720825)\n"
        }
       ]
      }
     },
     "33b1f89230ef4abea38172d91a0aa11b": {
      "model_module": "@jupyter-widgets/base",
      "model_module_version": "1.2.0",
      "model_name": "LayoutModel",
      "state": {}
     },
     "3413cefae80b450b9daeb3a94582966b": {
      "model_module": "@jupyter-widgets/base",
      "model_module_version": "1.2.0",
      "model_name": "LayoutModel",
      "state": {}
     },
     "3596f2e28fe7431793046d4c870e5592": {
      "model_module": "@jupyter-widgets/base",
      "model_module_version": "1.2.0",
      "model_name": "LayoutModel",
      "state": {}
     },
     "35a4630751cc4b8c99757dfe8a49fc7b": {
      "model_module": "@jupyter-widgets/controls",
      "model_module_version": "1.5.0",
      "model_name": "TextModel",
      "state": {
       "description": "Latitude:",
       "layout": "IPY_MODEL_3413cefae80b450b9daeb3a94582966b",
       "placeholder": "Type something",
       "style": "IPY_MODEL_2563ad95d8284004b9646c6fff85a29a",
       "value": "1.83305556 S"
      }
     },
     "36a3db7dc3c545278b37cc2a0ccffa0a": {
      "model_module": "@jupyter-widgets/controls",
      "model_module_version": "1.5.0",
      "model_name": "TextModel",
      "state": {
       "description": "Latitude:",
       "layout": "IPY_MODEL_9e0e57d7537247c99bc6d51dc635f666",
       "placeholder": "Type something",
       "style": "IPY_MODEL_b8c4711fe2e94b4c8b03fa383a239105",
       "value": "3.83305556 S"
      }
     },
     "36eae40e2dfa47e99a9496ebc13ef28b": {
      "model_module": "@jupyter-widgets/base",
      "model_module_version": "1.2.0",
      "model_name": "LayoutModel",
      "state": {}
     },
     "39e0103f0e454026bb2b939df06aef6e": {
      "model_module": "@jupyter-widgets/controls",
      "model_module_version": "1.5.0",
      "model_name": "DescriptionStyleModel",
      "state": {
       "description_width": ""
      }
     },
     "3c1b05667a3b4b28a13e9ac4d344e3bd": {
      "model_module": "@jupyter-widgets/controls",
      "model_module_version": "1.5.0",
      "model_name": "DescriptionStyleModel",
      "state": {
       "description_width": ""
      }
     },
     "3c47bd52ad6c468dad1c6f42a36ef37e": {
      "model_module": "@jupyter-widgets/base",
      "model_module_version": "1.2.0",
      "model_name": "LayoutModel",
      "state": {}
     },
     "3d91ee742bcd4e44b69f545f5f7f9b3c": {
      "model_module": "@jupyter-widgets/controls",
      "model_module_version": "1.5.0",
      "model_name": "TextModel",
      "state": {
       "description": "Latitude",
       "layout": "IPY_MODEL_fe9597a09819452dbe9292519b9f10c3",
       "style": "IPY_MODEL_ad450b79ac144585acb4945d39d44be6",
       "value": "3.83305556 S"
      }
     },
     "3ea6645e1efd42d1adc0f3c785b7ab14": {
      "model_module": "@jupyter-widgets/controls",
      "model_module_version": "1.5.0",
      "model_name": "TextModel",
      "state": {
       "description": "Latitude:",
       "layout": "IPY_MODEL_61f31295fc89446a9dea1b16f1047e69",
       "placeholder": "Type something",
       "style": "IPY_MODEL_39e0103f0e454026bb2b939df06aef6e",
       "value": "Hello World"
      }
     },
     "4008b4a0cc3c45aca36fefa4c42d51b9": {
      "model_module": "@jupyter-widgets/output",
      "model_module_version": "1.0.0",
      "model_name": "OutputModel",
      "state": {
       "layout": "IPY_MODEL_3c47bd52ad6c468dad1c6f42a36ef37e",
       "outputs": [
        {
         "name": "stdout",
         "output_type": "stream",
         "text": "Topos -01deg 49' 59.0\" N 110deg 22' 59.0\" E\nSum of 3 vectors:\n + Segment 'de421.bsp' 0 SOLAR SYSTEM BARYCENTER -> 3 EARTH BARYCENTER\n + Segment 'de421.bsp' 3 EARTH BARYCENTER -> 399 EARTH\n + Topos -01deg 49' 59.0\" N 110deg 22' 59.0\" E\n<Time tt=2458853.500800741> <Time tt=2459139.500800741>\n[(2020, 1, 24, 21, 42, 0.20684927701950073), (2020, 2, 23, 15, 32, 2.1340522170066833), (2020, 3, 24, 9, 28, 14.621345400810242), (2020, 4, 23, 2, 25, 52.40318030118942), (2020, 5, 22, 17, 38, 51.91160559654236), (2020, 6, 21, 6, 41, 27.48137801885605), (2020, 7, 20, 17, 32, 57.81052887439728), (2020, 8, 19, 2, 41, 40.90348720550537), (2020, 9, 17, 11, 0, 14.0993133187294), (2020, 10, 16, 19, 31, 4.0564218163490295)]\n"
        }
       ]
      }
     },
     "401fdbb3acf04ec98525cfde3ca24b79": {
      "model_module": "@jupyter-widgets/controls",
      "model_module_version": "1.5.0",
      "model_name": "VBoxModel",
      "state": {
       "_dom_classes": [
        "widget-interact"
       ],
       "children": [
        "IPY_MODEL_65c2c018453249de84c310b53b694cc6",
        "IPY_MODEL_d931f357affa4a66915850e741fdf357",
        "IPY_MODEL_ead34e4b6aa14308acf6fc08b86fe067",
        "IPY_MODEL_ba15c86b7557401896b63c3c2363d5ff",
        "IPY_MODEL_a15285098dd14cfdbb5727d85ba87d77"
       ],
       "layout": "IPY_MODEL_123e4a809e184fb6a17b74a1f65f470d"
      }
     },
     "41ab14644e9545dc8fac48f5db4074b0": {
      "model_module": "@jupyter-widgets/controls",
      "model_module_version": "1.5.0",
      "model_name": "TextModel",
      "state": {
       "description": "Longitude:",
       "layout": "IPY_MODEL_0f537813f6994fc38de9f0d474385bb8",
       "placeholder": "Type something",
       "style": "IPY_MODEL_502fb86a2f43447aab88828d772e232a",
       "value": "110.38305556 E"
      }
     },
     "42065bd7384947168052399e5be7f127": {
      "model_module": "@jupyter-widgets/base",
      "model_module_version": "1.2.0",
      "model_name": "LayoutModel",
      "state": {}
     },
     "426dc53ee629482eb436e32d3d8fe8ee": {
      "model_module": "@jupyter-widgets/controls",
      "model_module_version": "1.5.0",
      "model_name": "DescriptionStyleModel",
      "state": {
       "description_width": ""
      }
     },
     "452844fa2a0d44ffb0e527252fada7b2": {
      "model_module": "@jupyter-widgets/controls",
      "model_module_version": "1.5.0",
      "model_name": "VBoxModel",
      "state": {
       "_dom_classes": [
        "widget-interact"
       ],
       "children": [
        "IPY_MODEL_af97462bb7b84e7cad0a46c47693de0f",
        "IPY_MODEL_8467a06e6215490684f0c8831331f593",
        "IPY_MODEL_c6995d4382b4498dbdd79625538c1074",
        "IPY_MODEL_d0d1f7ee2ba246aba1ee00588baeaea6",
        "IPY_MODEL_0d48f939b72142b7b14031ebf5207654"
       ],
       "layout": "IPY_MODEL_946f845fa7aa4ae58585e48559e42204"
      }
     },
     "46f17adde3824513822e6747418a21a6": {
      "model_module": "@jupyter-widgets/base",
      "model_module_version": "1.2.0",
      "model_name": "LayoutModel",
      "state": {}
     },
     "4814c1c3cba04cc6aa80144a3bf17500": {
      "model_module": "@jupyter-widgets/base",
      "model_module_version": "1.2.0",
      "model_name": "LayoutModel",
      "state": {}
     },
     "48518a16fd06428081be9be4be37507f": {
      "model_module": "@jupyter-widgets/controls",
      "model_module_version": "1.5.0",
      "model_name": "DescriptionStyleModel",
      "state": {
       "description_width": ""
      }
     },
     "4a484a6d38924f18ac18af94de17bd22": {
      "model_module": "@jupyter-widgets/controls",
      "model_module_version": "1.5.0",
      "model_name": "DatePickerModel",
      "state": {
       "description": "Sampai:",
       "disabled": false,
       "layout": "IPY_MODEL_fae5886a125342b7a8e2b0e15635b0d4",
       "style": "IPY_MODEL_64dd36441efd4ac88b435b8ddaab4355",
       "value": {
        "date": 26,
        "month": 5,
        "year": 2020
       }
      }
     },
     "4b15ddfde1454b4485f42e0dec1a46df": {
      "model_module": "@jupyter-widgets/controls",
      "model_module_version": "1.5.0",
      "model_name": "DescriptionStyleModel",
      "state": {
       "description_width": ""
      }
     },
     "4c6565ae0ce64f1fb897d3e66f2cd92f": {
      "model_module": "@jupyter-widgets/controls",
      "model_module_version": "1.5.0",
      "model_name": "DescriptionStyleModel",
      "state": {
       "description_width": ""
      }
     },
     "4d86a4668a334ee29c9b9b3b553f981f": {
      "model_module": "@jupyter-widgets/controls",
      "model_module_version": "1.5.0",
      "model_name": "DescriptionStyleModel",
      "state": {
       "description_width": ""
      }
     },
     "4dd8c8bae09b4d3ca428a87ffe94b215": {
      "model_module": "@jupyter-widgets/output",
      "model_module_version": "1.0.0",
      "model_name": "OutputModel",
      "state": {
       "layout": "IPY_MODEL_270128844e634031b9a7e01526a34d83",
       "outputs": [
        {
         "name": "stdout",
         "output_type": "stream",
         "text": "<Time tt=2458995.500800741> <Time tt=2459026.500800741>\n(2020, 6, 21, 6, 41, 27.48125731945038)\n"
        }
       ]
      }
     },
     "502fb86a2f43447aab88828d772e232a": {
      "model_module": "@jupyter-widgets/controls",
      "model_module_version": "1.5.0",
      "model_name": "DescriptionStyleModel",
      "state": {
       "description_width": ""
      }
     },
     "509f3eb3070a4e65b1a7753d4d86f98e": {
      "model_module": "@jupyter-widgets/controls",
      "model_module_version": "1.5.0",
      "model_name": "DatePickerModel",
      "state": {
       "description": "Sampai:",
       "disabled": false,
       "layout": "IPY_MODEL_5cb4655c0128446f90d5ca388d8104fc",
       "style": "IPY_MODEL_b6e5f7c4aab240a196cb451208e20303",
       "value": {
        "date": 26,
        "month": 5,
        "year": 2020
       }
      }
     },
     "514ad344132d493d86c06283f765dd29": {
      "model_module": "@jupyter-widgets/output",
      "model_module_version": "1.0.0",
      "model_name": "OutputModel",
      "state": {
       "layout": "IPY_MODEL_cda3fbf14bfc415aa95f54273d7b4730",
       "outputs": [
        {
         "name": "stdout",
         "output_type": "stream",
         "text": "Topos -01deg 49' 59.0\" N 110deg 22' 59.0\" E\nSum of 3 vectors:\n + Segment 'de421.bsp' 0 SOLAR SYSTEM BARYCENTER -> 3 EARTH BARYCENTER\n + Segment 'de421.bsp' 3 EARTH BARYCENTER -> 399 EARTH\n + Topos -01deg 49' 59.0\" N 110deg 22' 59.0\" E\n<Time tt=2458881.500800741> <Time tt=2458955.500800741>\n[(2020, 2, 23, 15, 32, 2.1341729164123535), (2020, 3, 24, 9, 28, 14.621305167675018)]\n"
        }
       ]
      }
     },
     "536f7ca9200e4b20b366bd81f1e54676": {
      "model_module": "@jupyter-widgets/base",
      "model_module_version": "1.2.0",
      "model_name": "LayoutModel",
      "state": {}
     },
     "547ca2efee3542979bc0f33d4c5fc0ff": {
      "model_module": "@jupyter-widgets/base",
      "model_module_version": "1.2.0",
      "model_name": "LayoutModel",
      "state": {}
     },
     "54b8ae4259914ef2bf824e546f16453d": {
      "model_module": "@jupyter-widgets/base",
      "model_module_version": "1.2.0",
      "model_name": "LayoutModel",
      "state": {}
     },
     "55f9aa56da5e4522817d9c74aa4cbda6": {
      "model_module": "@jupyter-widgets/controls",
      "model_module_version": "1.5.0",
      "model_name": "TextModel",
      "state": {
       "description": "Latitude:",
       "layout": "IPY_MODEL_5748c3b72b8b470e9e02586080e3778c",
       "placeholder": "Type something",
       "style": "IPY_MODEL_c5f1566b98d742d4a1e4c273e509227f",
       "value": "7.83305556 S"
      }
     },
     "56f5e8d18e014af5bbd42baa2dd1ff19": {
      "model_module": "@jupyter-widgets/base",
      "model_module_version": "1.2.0",
      "model_name": "LayoutModel",
      "state": {}
     },
     "5748c3b72b8b470e9e02586080e3778c": {
      "model_module": "@jupyter-widgets/base",
      "model_module_version": "1.2.0",
      "model_name": "LayoutModel",
      "state": {}
     },
     "57af50f66b4c4530921d65117a4c0c22": {
      "model_module": "@jupyter-widgets/base",
      "model_module_version": "1.2.0",
      "model_name": "LayoutModel",
      "state": {}
     },
     "58b3ab61ad8e455ebf6b80ca6aabf7ef": {
      "model_module": "@jupyter-widgets/controls",
      "model_module_version": "1.5.0",
      "model_name": "DescriptionStyleModel",
      "state": {
       "description_width": ""
      }
     },
     "5af417fce71745d79cd6f559ef373297": {
      "model_module": "@jupyter-widgets/controls",
      "model_module_version": "1.5.0",
      "model_name": "VBoxModel",
      "state": {
       "_dom_classes": [
        "widget-interact"
       ],
       "children": [
        "IPY_MODEL_d0f87097703d456cae612edbb06a0caf",
        "IPY_MODEL_7f199867fe804e2f9ef2dde1d73cfb1f",
        "IPY_MODEL_0e850f6d751e4e279dfd555fe467c4fc",
        "IPY_MODEL_ee7044807af7441f8402f33d31ce22b0",
        "IPY_MODEL_ddb514af9ba64c208ea87610b2ac72ce"
       ],
       "layout": "IPY_MODEL_8afe5809b77f415097ce2ce598d8f388"
      }
     },
     "5b7d2d6d79a54cd3a8e572a3bcf88080": {
      "model_module": "@jupyter-widgets/controls",
      "model_module_version": "1.5.0",
      "model_name": "VBoxModel",
      "state": {
       "_dom_classes": [
        "widget-interact"
       ],
       "children": [
        "IPY_MODEL_36a3db7dc3c545278b37cc2a0ccffa0a",
        "IPY_MODEL_8a0fa12ca002451189921ccd8c119d5d",
        "IPY_MODEL_017558d50473499e876f24b64168e598",
        "IPY_MODEL_a743307b4f9646119efb2ea9730dd346",
        "IPY_MODEL_20fc453692c84d3da925a57b865896af"
       ],
       "layout": "IPY_MODEL_adf205452f1341238a36a8362c6e4cd1"
      }
     },
     "5cb4655c0128446f90d5ca388d8104fc": {
      "model_module": "@jupyter-widgets/base",
      "model_module_version": "1.2.0",
      "model_name": "LayoutModel",
      "state": {}
     },
     "5d150d1d1c874094919a1e37ad2bf794": {
      "model_module": "@jupyter-widgets/controls",
      "model_module_version": "1.5.0",
      "model_name": "DatePickerModel",
      "state": {
       "description": "Dari:",
       "disabled": false,
       "layout": "IPY_MODEL_d4aa4d7983c14ac2aa811366ef38f4a3",
       "style": "IPY_MODEL_21350a0792f243629b8d3a4373a7ee2d",
       "value": {
        "date": 5,
        "month": 0,
        "year": 2020
       }
      }
     },
     "5d92d46ccbd94b0db96d8d7577ad55a5": {
      "model_module": "@jupyter-widgets/controls",
      "model_module_version": "1.5.0",
      "model_name": "DescriptionStyleModel",
      "state": {
       "description_width": ""
      }
     },
     "5f12ecac3a2f4ce0aef219cf0eaffad4": {
      "model_module": "@jupyter-widgets/base",
      "model_module_version": "1.2.0",
      "model_name": "LayoutModel",
      "state": {}
     },
     "5fc9796d985b48218a371bcfcd8f4240": {
      "model_module": "@jupyter-widgets/controls",
      "model_module_version": "1.5.0",
      "model_name": "DescriptionStyleModel",
      "state": {
       "description_width": ""
      }
     },
     "60bf779f9a784d5c8ad71b96d6627cf3": {
      "model_module": "@jupyter-widgets/controls",
      "model_module_version": "1.5.0",
      "model_name": "DatePickerModel",
      "state": {
       "description": "Dari:",
       "disabled": false,
       "layout": "IPY_MODEL_46f17adde3824513822e6747418a21a6",
       "style": "IPY_MODEL_5fc9796d985b48218a371bcfcd8f4240",
       "value": {
        "date": 26,
        "month": 4,
        "year": 2020
       }
      }
     },
     "61c323178bb446d3a1f1e9e4269521a8": {
      "model_module": "@jupyter-widgets/base",
      "model_module_version": "1.2.0",
      "model_name": "LayoutModel",
      "state": {}
     },
     "61e7359c5f13477b86e535fe72afa43c": {
      "model_module": "@jupyter-widgets/controls",
      "model_module_version": "1.5.0",
      "model_name": "DescriptionStyleModel",
      "state": {
       "description_width": ""
      }
     },
     "61f31295fc89446a9dea1b16f1047e69": {
      "model_module": "@jupyter-widgets/base",
      "model_module_version": "1.2.0",
      "model_name": "LayoutModel",
      "state": {}
     },
     "63d8d61eae9343959e49874d419b89db": {
      "model_module": "@jupyter-widgets/controls",
      "model_module_version": "1.5.0",
      "model_name": "DatePickerModel",
      "state": {
       "description": "Sampai:",
       "disabled": false,
       "layout": "IPY_MODEL_ff7e73a372f84b56bd68d6d04e937dbb",
       "style": "IPY_MODEL_4b15ddfde1454b4485f42e0dec1a46df",
       "value": {
        "date": 26,
        "month": 5,
        "year": 2020
       }
      }
     },
     "64cf4061f6ca4951beb172ce704eb515": {
      "model_module": "@jupyter-widgets/base",
      "model_module_version": "1.2.0",
      "model_name": "LayoutModel",
      "state": {}
     },
     "64dd36441efd4ac88b435b8ddaab4355": {
      "model_module": "@jupyter-widgets/controls",
      "model_module_version": "1.5.0",
      "model_name": "DescriptionStyleModel",
      "state": {
       "description_width": ""
      }
     },
     "64eba143222c4caa9bcb056713b63797": {
      "model_module": "@jupyter-widgets/base",
      "model_module_version": "1.2.0",
      "model_name": "LayoutModel",
      "state": {}
     },
     "65806fdb12d94271aa0bfb8bd727d70d": {
      "model_module": "@jupyter-widgets/controls",
      "model_module_version": "1.5.0",
      "model_name": "TextModel",
      "state": {
       "description": "Latitude:",
       "layout": "IPY_MODEL_671f2cf1a31b4c53b49b596b1faa6dae",
       "placeholder": "Type something",
       "style": "IPY_MODEL_9a7c9b3d681d43f39ba8116079e09bb1",
       "value": "0.83305556 S"
      }
     },
     "65c2c018453249de84c310b53b694cc6": {
      "model_module": "@jupyter-widgets/controls",
      "model_module_version": "1.5.0",
      "model_name": "TextModel",
      "state": {
       "description": "Latitude:",
       "layout": "IPY_MODEL_23e76eb9b23940048ebc78ce1c22453c",
       "placeholder": "Type something",
       "style": "IPY_MODEL_055ce84d12fc485881c537500ad35f6d",
       "value": "7.83305556 S"
      }
     },
     "65d425501e8543e0b595635b3b3f8db1": {
      "model_module": "@jupyter-widgets/base",
      "model_module_version": "1.2.0",
      "model_name": "LayoutModel",
      "state": {}
     },
     "664ec251f79847a49b437438ad5c1044": {
      "model_module": "@jupyter-widgets/controls",
      "model_module_version": "1.5.0",
      "model_name": "DescriptionStyleModel",
      "state": {
       "description_width": ""
      }
     },
     "671f2cf1a31b4c53b49b596b1faa6dae": {
      "model_module": "@jupyter-widgets/base",
      "model_module_version": "1.2.0",
      "model_name": "LayoutModel",
      "state": {}
     },
     "6900af7b966742e8aaf81ae9b6b09e17": {
      "model_module": "@jupyter-widgets/base",
      "model_module_version": "1.2.0",
      "model_name": "LayoutModel",
      "state": {}
     },
     "6a40ef63402948a39f241ce35308ff41": {
      "model_module": "@jupyter-widgets/output",
      "model_module_version": "1.0.0",
      "model_name": "OutputModel",
      "state": {
       "layout": "IPY_MODEL_cfe2c3e401514b2d8cb245e0ada6388d",
       "outputs": [
        {
         "name": "stdout",
         "output_type": "stream",
         "text": "<Time tt=2458995.500800741> <Time tt=2459026.500800741>\n(2020, 6, 21, 6, 41, 27.48125731945038)\n"
        }
       ]
      }
     },
     "6c0d2e03717d4c1ca2c46818ab8ad233": {
      "model_module": "@jupyter-widgets/base",
      "model_module_version": "1.2.0",
      "model_name": "LayoutModel",
      "state": {}
     },
     "6ce04fc77f294e158a4ac28d71905db9": {
      "model_module": "@jupyter-widgets/base",
      "model_module_version": "1.2.0",
      "model_name": "LayoutModel",
      "state": {}
     },
     "6d6665affedc482fb57fdf1ff46196c3": {
      "model_module": "@jupyter-widgets/controls",
      "model_module_version": "1.5.0",
      "model_name": "DatePickerModel",
      "state": {
       "description": "Sampai:",
       "disabled": false,
       "layout": "IPY_MODEL_ec853826feca463dac99fc7b2a2f6b14",
       "style": "IPY_MODEL_4d86a4668a334ee29c9b9b3b553f981f",
       "value": {
        "date": 26,
        "month": 5,
        "year": 2020
       }
      }
     },
     "6fa74af1124f4d0285e73b26c4b83f23": {
      "model_module": "@jupyter-widgets/output",
      "model_module_version": "1.0.0",
      "model_name": "OutputModel",
      "state": {
       "layout": "IPY_MODEL_6900af7b966742e8aaf81ae9b6b09e17"
      }
     },
     "70a9327ba78e49c4934d885606f1c359": {
      "model_module": "@jupyter-widgets/controls",
      "model_module_version": "1.5.0",
      "model_name": "TextModel",
      "state": {
       "description": "Longitude:",
       "layout": "IPY_MODEL_2c5634c8b68147a0b47bf70b6920f887",
       "placeholder": "Type something",
       "style": "IPY_MODEL_0ba97d170f3049209cbaa232e2702785",
       "value": "110.38305556 E"
      }
     },
     "719884f2ddbf4118823d708783bbc840": {
      "model_module": "@jupyter-widgets/base",
      "model_module_version": "1.2.0",
      "model_name": "LayoutModel",
      "state": {}
     },
     "72da6a4f07954878be9bc320d2e172e9": {
      "model_module": "@jupyter-widgets/controls",
      "model_module_version": "1.5.0",
      "model_name": "VBoxModel",
      "state": {
       "_dom_classes": [
        "widget-interact"
       ],
       "children": [
        "IPY_MODEL_2430214a5c7e4f17ab31c6ac2ac3ae06",
        "IPY_MODEL_d46d523ffa1d43b7ba5d74609015914d",
        "IPY_MODEL_78ac5c4e5a484ac3b25d7007113b832c",
        "IPY_MODEL_6d6665affedc482fb57fdf1ff46196c3",
        "IPY_MODEL_6a40ef63402948a39f241ce35308ff41"
       ],
       "layout": "IPY_MODEL_eb6f2c4567e74d249a9b46130e00b6fc"
      }
     },
     "736269b190aa4bddbddea149ba9e5eea": {
      "model_module": "@jupyter-widgets/base",
      "model_module_version": "1.2.0",
      "model_name": "LayoutModel",
      "state": {}
     },
     "73bc731d75db4748b8551103dcad23da": {
      "model_module": "@jupyter-widgets/base",
      "model_module_version": "1.2.0",
      "model_name": "LayoutModel",
      "state": {}
     },
     "7599e72190854526884f17041b1553bf": {
      "model_module": "@jupyter-widgets/controls",
      "model_module_version": "1.5.0",
      "model_name": "DescriptionStyleModel",
      "state": {
       "description_width": ""
      }
     },
     "766806c9d96746c3bbc9f5b0ba88a7d8": {
      "model_module": "@jupyter-widgets/controls",
      "model_module_version": "1.5.0",
      "model_name": "VBoxModel",
      "state": {
       "_dom_classes": [
        "widget-interact"
       ],
       "children": [
        "IPY_MODEL_c38faff50c384dfa832be2e835213b85",
        "IPY_MODEL_70a9327ba78e49c4934d885606f1c359",
        "IPY_MODEL_8b289face75e448eaec4b635d2d403a1",
        "IPY_MODEL_f7f36c747a5c4e3980f9db6b4224868b",
        "IPY_MODEL_514ad344132d493d86c06283f765dd29"
       ],
       "layout": "IPY_MODEL_6ce04fc77f294e158a4ac28d71905db9"
      }
     },
     "78ac5c4e5a484ac3b25d7007113b832c": {
      "model_module": "@jupyter-widgets/controls",
      "model_module_version": "1.5.0",
      "model_name": "DatePickerModel",
      "state": {
       "description": "Dari:",
       "disabled": false,
       "layout": "IPY_MODEL_9e37198f3d354cea8b27cc428b9014d1",
       "style": "IPY_MODEL_055cbb43338f4d159390b7417e873f0b",
       "value": {
        "date": 26,
        "month": 4,
        "year": 2020
       }
      }
     },
     "78d43d4afc0a4082b07ebfbfbc5e72c0": {
      "model_module": "@jupyter-widgets/base",
      "model_module_version": "1.2.0",
      "model_name": "LayoutModel",
      "state": {}
     },
     "7b2cb0efefb446348d316721c9b532f2": {
      "model_module": "@jupyter-widgets/base",
      "model_module_version": "1.2.0",
      "model_name": "LayoutModel",
      "state": {}
     },
     "7b6039697d2c4751bc19f4a80a73f8cd": {
      "model_module": "@jupyter-widgets/controls",
      "model_module_version": "1.5.0",
      "model_name": "VBoxModel",
      "state": {
       "_dom_classes": [
        "widget-interact"
       ],
       "layout": "IPY_MODEL_64cf4061f6ca4951beb172ce704eb515"
      }
     },
     "7b8f10c5db414162a80c14e53da8c68e": {
      "model_module": "@jupyter-widgets/output",
      "model_module_version": "1.0.0",
      "model_name": "OutputModel",
      "state": {
       "layout": "IPY_MODEL_1c6545680d5649ec94e636c0fc43f35e",
       "outputs": [
        {
         "name": "stdout",
         "output_type": "stream",
         "text": "<Time tt=2458995.500800741> <Time tt=2459026.500800741>\n(2020, 6, 21, 6, 41, 27.48125731945038)\n"
        }
       ]
      }
     },
     "7c73e6dc03fd43ad8329bb429c2d5cd6": {
      "model_module": "@jupyter-widgets/controls",
      "model_module_version": "1.5.0",
      "model_name": "DescriptionStyleModel",
      "state": {
       "description_width": ""
      }
     },
     "7defb2200abb49b0af3c871137bed6de": {
      "model_module": "@jupyter-widgets/controls",
      "model_module_version": "1.5.0",
      "model_name": "DescriptionStyleModel",
      "state": {
       "description_width": ""
      }
     },
     "7f199867fe804e2f9ef2dde1d73cfb1f": {
      "model_module": "@jupyter-widgets/controls",
      "model_module_version": "1.5.0",
      "model_name": "TextModel",
      "state": {
       "description": "Longitude:",
       "layout": "IPY_MODEL_0357e94ed44f4de0a2ca9181b4584d0a",
       "placeholder": "Type something",
       "style": "IPY_MODEL_61e7359c5f13477b86e535fe72afa43c",
       "value": "110.38305556 E"
      }
     },
     "81c3d8e09ae34aea89acb8cfdfd222c9": {
      "model_module": "@jupyter-widgets/controls",
      "model_module_version": "1.5.0",
      "model_name": "DatePickerModel",
      "state": {
       "description": "Sampai:",
       "disabled": false,
       "layout": "IPY_MODEL_99101171bcd84d04b348468cd9fc55af",
       "style": "IPY_MODEL_3c1b05667a3b4b28a13e9ac4d344e3bd",
       "value": {
        "date": 26,
        "month": 5,
        "year": 2020
       }
      }
     },
     "81cb6028e42548fd8435c7b16a5eb227": {
      "model_module": "@jupyter-widgets/output",
      "model_module_version": "1.0.0",
      "model_name": "OutputModel",
      "state": {
       "layout": "IPY_MODEL_e1ca52a01d5649cf9ae56d74f6aa24c1",
       "outputs": [
        {
         "name": "stdout",
         "output_type": "stream",
         "text": "Topos -00deg 49' 59.0\" N 110deg 22' 59.0\" E\nSum of 3 vectors:\n + Segment 'de421.bsp' 0 SOLAR SYSTEM BARYCENTER -> 3 EARTH BARYCENTER\n + Segment 'de421.bsp' 3 EARTH BARYCENTER -> 399 EARTH\n + Topos -00deg 49' 59.0\" N 110deg 22' 59.0\" E\n<Time tt=2458853.500800741> <Time tt=2459110.500800741>\n[(2020, 9, 17, 11, 0, 14.099474251270294)]\n"
        }
       ]
      }
     },
     "8214fdd735b04312849978bedfc31d27": {
      "model_module": "@jupyter-widgets/base",
      "model_module_version": "1.2.0",
      "model_name": "LayoutModel",
      "state": {}
     },
     "8379b21de9424a68b59e81e53c3ac76d": {
      "model_module": "@jupyter-widgets/controls",
      "model_module_version": "1.5.0",
      "model_name": "TextModel",
      "state": {
       "description": "Longitude:",
       "layout": "IPY_MODEL_536f7ca9200e4b20b366bd81f1e54676",
       "placeholder": "Type something",
       "style": "IPY_MODEL_90d13e01004a47da9c213bb6c17d1fbc",
       "value": "110.38305556 E"
      }
     },
     "8467a06e6215490684f0c8831331f593": {
      "model_module": "@jupyter-widgets/controls",
      "model_module_version": "1.5.0",
      "model_name": "TextModel",
      "state": {
       "description": "Longitude:",
       "layout": "IPY_MODEL_6c0d2e03717d4c1ca2c46818ab8ad233",
       "placeholder": "Type something",
       "style": "IPY_MODEL_27171edc79b9459b89f2a70e7f4be932",
       "value": "110.38305556 E"
      }
     },
     "86035e26918141afbb4f4fedae041a3f": {
      "model_module": "@jupyter-widgets/controls",
      "model_module_version": "1.5.0",
      "model_name": "DescriptionStyleModel",
      "state": {
       "description_width": ""
      }
     },
     "896558a574a7422e8d21450e05ba1e15": {
      "model_module": "@jupyter-widgets/base",
      "model_module_version": "1.2.0",
      "model_name": "LayoutModel",
      "state": {}
     },
     "8a0fa12ca002451189921ccd8c119d5d": {
      "model_module": "@jupyter-widgets/controls",
      "model_module_version": "1.5.0",
      "model_name": "TextModel",
      "state": {
       "description": "Longitude:",
       "layout": "IPY_MODEL_56f5e8d18e014af5bbd42baa2dd1ff19",
       "placeholder": "Type something",
       "style": "IPY_MODEL_1347d099b3d84463936b00d7d34e294b",
       "value": "110.38305556 E"
      }
     },
     "8acbca9a136f4048a1f336300f9f1dbf": {
      "model_module": "@jupyter-widgets/controls",
      "model_module_version": "1.5.0",
      "model_name": "DescriptionStyleModel",
      "state": {
       "description_width": ""
      }
     },
     "8afe5809b77f415097ce2ce598d8f388": {
      "model_module": "@jupyter-widgets/base",
      "model_module_version": "1.2.0",
      "model_name": "LayoutModel",
      "state": {}
     },
     "8b289face75e448eaec4b635d2d403a1": {
      "model_module": "@jupyter-widgets/controls",
      "model_module_version": "1.5.0",
      "model_name": "DatePickerModel",
      "state": {
       "description": "Dari:",
       "disabled": false,
       "layout": "IPY_MODEL_8214fdd735b04312849978bedfc31d27",
       "style": "IPY_MODEL_e435d191dde7467fae0948a5dcce855c",
       "value": {
        "date": 2,
        "month": 1,
        "year": 2020
       }
      }
     },
     "8b72b0a935cc4f74ab338dcf9ae70d88": {
      "model_module": "@jupyter-widgets/controls",
      "model_module_version": "1.5.0",
      "model_name": "VBoxModel",
      "state": {
       "_dom_classes": [
        "widget-interact"
       ],
       "children": [
        "IPY_MODEL_19af6ca7e1a54938a58e2920bf34e344",
        "IPY_MODEL_e7464ba82fa74024b9813bbbf8d8430d",
        "IPY_MODEL_6fa74af1124f4d0285e73b26c4b83f23"
       ],
       "layout": "IPY_MODEL_7b2cb0efefb446348d316721c9b532f2"
      }
     },
     "8c2ae973441e422c8a3527d5e1163b9b": {
      "model_module": "@jupyter-widgets/base",
      "model_module_version": "1.2.0",
      "model_name": "LayoutModel",
      "state": {}
     },
     "8fad832d463f44cfad56e41050b56594": {
      "model_module": "@jupyter-widgets/controls",
      "model_module_version": "1.5.0",
      "model_name": "TextModel",
      "state": {
       "description": "Longitude:",
       "layout": "IPY_MODEL_1d24109d461e42149d2eb1b00f89745f",
       "placeholder": "Type something",
       "style": "IPY_MODEL_e4e86a81424f4eaab4ef47db4bb0c0d6",
       "value": "110.38305556 E"
      }
     },
     "90d13e01004a47da9c213bb6c17d1fbc": {
      "model_module": "@jupyter-widgets/controls",
      "model_module_version": "1.5.0",
      "model_name": "DescriptionStyleModel",
      "state": {
       "description_width": ""
      }
     },
     "9147f811f5e24ae994d6efabad58e123": {
      "model_module": "@jupyter-widgets/base",
      "model_module_version": "1.2.0",
      "model_name": "LayoutModel",
      "state": {}
     },
     "946f845fa7aa4ae58585e48559e42204": {
      "model_module": "@jupyter-widgets/base",
      "model_module_version": "1.2.0",
      "model_name": "LayoutModel",
      "state": {}
     },
     "978eafa98d66497cb6eed7a898513456": {
      "model_module": "@jupyter-widgets/controls",
      "model_module_version": "1.5.0",
      "model_name": "DatePickerModel",
      "state": {
       "description": "Sampai:",
       "disabled": false,
       "layout": "IPY_MODEL_ae377d00042b44c5b5622a9f49e5b693",
       "style": "IPY_MODEL_e74b8101b5564ff2a4e04302c058644b",
       "value": {
        "date": 26,
        "month": 5,
        "year": 2020
       }
      }
     },
     "978f6844e40e404db36e30563613494b": {
      "model_module": "@jupyter-widgets/output",
      "model_module_version": "1.0.0",
      "model_name": "OutputModel",
      "state": {
       "layout": "IPY_MODEL_42065bd7384947168052399e5be7f127"
      }
     },
     "99101171bcd84d04b348468cd9fc55af": {
      "model_module": "@jupyter-widgets/base",
      "model_module_version": "1.2.0",
      "model_name": "LayoutModel",
      "state": {}
     },
     "9a7c9b3d681d43f39ba8116079e09bb1": {
      "model_module": "@jupyter-widgets/controls",
      "model_module_version": "1.5.0",
      "model_name": "DescriptionStyleModel",
      "state": {
       "description_width": ""
      }
     },
     "9b0e5167a5c9419f9d4e1d56ad6b3d66": {
      "model_module": "@jupyter-widgets/base",
      "model_module_version": "1.2.0",
      "model_name": "LayoutModel",
      "state": {}
     },
     "9e0e57d7537247c99bc6d51dc635f666": {
      "model_module": "@jupyter-widgets/base",
      "model_module_version": "1.2.0",
      "model_name": "LayoutModel",
      "state": {}
     },
     "9e37198f3d354cea8b27cc428b9014d1": {
      "model_module": "@jupyter-widgets/base",
      "model_module_version": "1.2.0",
      "model_name": "LayoutModel",
      "state": {}
     },
     "9e4d2cb66f5b48748946d295a328fdce": {
      "model_module": "@jupyter-widgets/controls",
      "model_module_version": "1.5.0",
      "model_name": "DescriptionStyleModel",
      "state": {
       "description_width": ""
      }
     },
     "9f411032780d49b688c3992ed0e8b2d9": {
      "model_module": "@jupyter-widgets/output",
      "model_module_version": "1.0.0",
      "model_name": "OutputModel",
      "state": {
       "layout": "IPY_MODEL_5f12ecac3a2f4ce0aef219cf0eaffad4",
       "outputs": [
        {
         "name": "stdout",
         "output_type": "stream",
         "text": "<Time tt=2458995.500800741> <Time tt=2459026.500800741>\n(2020, 6, 21, 6, 41, 27.48125731945038)\n"
        }
       ]
      }
     },
     "a15285098dd14cfdbb5727d85ba87d77": {
      "model_module": "@jupyter-widgets/output",
      "model_module_version": "1.0.0",
      "model_name": "OutputModel",
      "state": {
       "layout": "IPY_MODEL_df556d09e5b647c684dbbef0fd17b2f7",
       "outputs": [
        {
         "name": "stdout",
         "output_type": "stream",
         "text": "Topos -07deg 49' 59.0\" N 110deg 22' 59.0\" E\nSum of 3 vectors:\n + Segment 'de421.bsp' 0 SOLAR SYSTEM BARYCENTER -> 3 EARTH BARYCENTER\n + Segment 'de421.bsp' 3 EARTH BARYCENTER -> 399 EARTH\n + Topos -07deg 49' 59.0\" N 110deg 22' 59.0\" E\n<Time tt=2458995.500800741> <Time tt=2459026.500800741>\n"
        },
        {
         "ename": "NameError",
         "evalue": "name 't_konj' is not defined",
         "output_type": "error",
         "traceback": [
          "\u001b[1;31m---------------------------------------------------------------------------\u001b[0m",
          "\u001b[1;31mNameError\u001b[0m                                 Traceback (most recent call last)",
          "\u001b[1;32mc:\\users\\khair\\appdata\\local\\programs\\python\\python37\\lib\\site-packages\\ipywidgets\\widgets\\interaction.py\u001b[0m in \u001b[0;36mupdate\u001b[1;34m(self, *args)\u001b[0m\n\u001b[0;32m    254\u001b[0m                     \u001b[0mvalue\u001b[0m \u001b[1;33m=\u001b[0m \u001b[0mwidget\u001b[0m\u001b[1;33m.\u001b[0m\u001b[0mget_interact_value\u001b[0m\u001b[1;33m(\u001b[0m\u001b[1;33m)\u001b[0m\u001b[1;33m\u001b[0m\u001b[1;33m\u001b[0m\u001b[0m\n\u001b[0;32m    255\u001b[0m                     \u001b[0mself\u001b[0m\u001b[1;33m.\u001b[0m\u001b[0mkwargs\u001b[0m\u001b[1;33m[\u001b[0m\u001b[0mwidget\u001b[0m\u001b[1;33m.\u001b[0m\u001b[0m_kwarg\u001b[0m\u001b[1;33m]\u001b[0m \u001b[1;33m=\u001b[0m \u001b[0mvalue\u001b[0m\u001b[1;33m\u001b[0m\u001b[1;33m\u001b[0m\u001b[0m\n\u001b[1;32m--> 256\u001b[1;33m                 \u001b[0mself\u001b[0m\u001b[1;33m.\u001b[0m\u001b[0mresult\u001b[0m \u001b[1;33m=\u001b[0m \u001b[0mself\u001b[0m\u001b[1;33m.\u001b[0m\u001b[0mf\u001b[0m\u001b[1;33m(\u001b[0m\u001b[1;33m**\u001b[0m\u001b[0mself\u001b[0m\u001b[1;33m.\u001b[0m\u001b[0mkwargs\u001b[0m\u001b[1;33m)\u001b[0m\u001b[1;33m\u001b[0m\u001b[1;33m\u001b[0m\u001b[0m\n\u001b[0m\u001b[0;32m    257\u001b[0m                 \u001b[0mshow_inline_matplotlib_plots\u001b[0m\u001b[1;33m(\u001b[0m\u001b[1;33m)\u001b[0m\u001b[1;33m\u001b[0m\u001b[1;33m\u001b[0m\u001b[0m\n\u001b[0;32m    258\u001b[0m                 \u001b[1;32mif\u001b[0m \u001b[0mself\u001b[0m\u001b[1;33m.\u001b[0m\u001b[0mauto_display\u001b[0m \u001b[1;32mand\u001b[0m \u001b[0mself\u001b[0m\u001b[1;33m.\u001b[0m\u001b[0mresult\u001b[0m \u001b[1;32mis\u001b[0m \u001b[1;32mnot\u001b[0m \u001b[1;32mNone\u001b[0m\u001b[1;33m:\u001b[0m\u001b[1;33m\u001b[0m\u001b[1;33m\u001b[0m\u001b[0m\n",
          "\u001b[1;32m<ipython-input-42-d5c42467f496>\u001b[0m in \u001b[0;36mfind\u001b[1;34m(lat, long, t0, t1)\u001b[0m\n\u001b[0;32m     14\u001b[0m     \u001b[1;32mfor\u001b[0m \u001b[0mti\u001b[0m\u001b[1;33m,\u001b[0m \u001b[0myi\u001b[0m \u001b[1;32min\u001b[0m \u001b[0mzip\u001b[0m\u001b[1;33m(\u001b[0m\u001b[0mt\u001b[0m\u001b[1;33m,\u001b[0m \u001b[0my\u001b[0m\u001b[1;33m)\u001b[0m\u001b[1;33m:\u001b[0m\u001b[1;33m\u001b[0m\u001b[1;33m\u001b[0m\u001b[0m\n\u001b[0;32m     15\u001b[0m         \u001b[1;32mif\u001b[0m\u001b[1;33m(\u001b[0m\u001b[0myi\u001b[0m \u001b[1;33m==\u001b[0m \u001b[1;36m1\u001b[0m\u001b[1;33m)\u001b[0m\u001b[1;33m:\u001b[0m\u001b[1;33m\u001b[0m\u001b[1;33m\u001b[0m\u001b[0m\n\u001b[1;32m---> 16\u001b[1;33m             \u001b[0mt_konj\u001b[0m\u001b[1;33m.\u001b[0m\u001b[0mappend\u001b[0m\u001b[1;33m(\u001b[0m\u001b[0mti\u001b[0m\u001b[1;33m.\u001b[0m\u001b[0mutc\u001b[0m\u001b[1;33m)\u001b[0m\u001b[1;33m\u001b[0m\u001b[1;33m\u001b[0m\u001b[0m\n\u001b[0m\u001b[0;32m     17\u001b[0m \u001b[1;33m\u001b[0m\u001b[0m\n\u001b[0;32m     18\u001b[0m \u001b[1;31m#             t0 = ts.utc(t_konj[0], t_konj[1], t_konj[2], t_konj[3], t_konj[4], t_konj[5])\u001b[0m\u001b[1;33m\u001b[0m\u001b[1;33m\u001b[0m\u001b[1;33m\u001b[0m\u001b[0m\n",
          "\u001b[1;31mNameError\u001b[0m: name 't_konj' is not defined"
         ]
        }
       ]
      }
     },
     "a3b183669cc84b14b5e46c175849f276": {
      "model_module": "@jupyter-widgets/controls",
      "model_module_version": "1.5.0",
      "model_name": "DatePickerModel",
      "state": {
       "description": "Dari:",
       "disabled": false,
       "layout": "IPY_MODEL_0fb548d5f3564aa289cd52a6123596c4",
       "style": "IPY_MODEL_86035e26918141afbb4f4fedae041a3f",
       "value": {
        "date": 26,
        "month": 4,
        "year": 2020
       }
      }
     },
     "a4bd8bbe5c784b3c8345ab96da622c82": {
      "model_module": "@jupyter-widgets/base",
      "model_module_version": "1.2.0",
      "model_name": "LayoutModel",
      "state": {}
     },
     "a5262db92bd34d3d8deaa93820cc58aa": {
      "model_module": "@jupyter-widgets/controls",
      "model_module_version": "1.5.0",
      "model_name": "TextModel",
      "state": {
       "description": "Longitude",
       "layout": "IPY_MODEL_0bbb74eb133444b0aad35eac68306ea0",
       "style": "IPY_MODEL_48518a16fd06428081be9be4be37507f",
       "value": "110.38305556 E"
      }
     },
     "a743307b4f9646119efb2ea9730dd346": {
      "model_module": "@jupyter-widgets/controls",
      "model_module_version": "1.5.0",
      "model_name": "DatePickerModel",
      "state": {
       "description": "Sampai:",
       "disabled": false,
       "layout": "IPY_MODEL_2a7dad427d2740b19ed4fc455bfe3fcf",
       "style": "IPY_MODEL_b030dbd8a71645bfa3fe23c34ba43bc2",
       "value": {
        "date": 26,
        "month": 5,
        "year": 2020
       }
      }
     },
     "a81a78bd7b1c407193f750c81c90d79d": {
      "model_module": "@jupyter-widgets/output",
      "model_module_version": "1.0.0",
      "model_name": "OutputModel",
      "state": {
       "layout": "IPY_MODEL_ad73fa635b424028b9db478837ec9bff"
      }
     },
     "aa2421d5dc5049ab91771f0aec65f6ff": {
      "model_module": "@jupyter-widgets/base",
      "model_module_version": "1.2.0",
      "model_name": "LayoutModel",
      "state": {}
     },
     "acc35c14657142d0bc61f9d137a0f289": {
      "model_module": "@jupyter-widgets/controls",
      "model_module_version": "1.5.0",
      "model_name": "DescriptionStyleModel",
      "state": {
       "description_width": ""
      }
     },
     "ad450b79ac144585acb4945d39d44be6": {
      "model_module": "@jupyter-widgets/controls",
      "model_module_version": "1.5.0",
      "model_name": "DescriptionStyleModel",
      "state": {
       "description_width": ""
      }
     },
     "ad73fa635b424028b9db478837ec9bff": {
      "model_module": "@jupyter-widgets/base",
      "model_module_version": "1.2.0",
      "model_name": "LayoutModel",
      "state": {}
     },
     "adf205452f1341238a36a8362c6e4cd1": {
      "model_module": "@jupyter-widgets/base",
      "model_module_version": "1.2.0",
      "model_name": "LayoutModel",
      "state": {}
     },
     "ae377d00042b44c5b5622a9f49e5b693": {
      "model_module": "@jupyter-widgets/base",
      "model_module_version": "1.2.0",
      "model_name": "LayoutModel",
      "state": {}
     },
     "aea2af6212c047a8bc00225ac10e9d86": {
      "model_module": "@jupyter-widgets/base",
      "model_module_version": "1.2.0",
      "model_name": "LayoutModel",
      "state": {}
     },
     "af97462bb7b84e7cad0a46c47693de0f": {
      "model_module": "@jupyter-widgets/controls",
      "model_module_version": "1.5.0",
      "model_name": "TextModel",
      "state": {
       "description": "Latitude:",
       "layout": "IPY_MODEL_23006e401d4742cebf914264f4bf6c31",
       "placeholder": "Type something",
       "style": "IPY_MODEL_acc35c14657142d0bc61f9d137a0f289",
       "value": "7.83305556 S"
      }
     },
     "b030dbd8a71645bfa3fe23c34ba43bc2": {
      "model_module": "@jupyter-widgets/controls",
      "model_module_version": "1.5.0",
      "model_name": "DescriptionStyleModel",
      "state": {
       "description_width": ""
      }
     },
     "b049e3e9fdd74415bfc78123d48a2412": {
      "model_module": "@jupyter-widgets/base",
      "model_module_version": "1.2.0",
      "model_name": "LayoutModel",
      "state": {}
     },
     "b3f13313f877470a87befe340df1666a": {
      "model_module": "@jupyter-widgets/controls",
      "model_module_version": "1.5.0",
      "model_name": "VBoxModel",
      "state": {
       "_dom_classes": [
        "widget-interact"
       ],
       "children": [
        "IPY_MODEL_3d91ee742bcd4e44b69f545f5f7f9b3c",
        "IPY_MODEL_a5262db92bd34d3d8deaa93820cc58aa",
        "IPY_MODEL_978f6844e40e404db36e30563613494b"
       ],
       "layout": "IPY_MODEL_e573d06ae4ad4a3db9733da61b57a44b"
      }
     },
     "b469aa75cd164be4a44a105a081166c8": {
      "model_module": "@jupyter-widgets/base",
      "model_module_version": "1.2.0",
      "model_name": "LayoutModel",
      "state": {}
     },
     "b5364d9c26ac4244b5f440caac85d3ab": {
      "model_module": "@jupyter-widgets/base",
      "model_module_version": "1.2.0",
      "model_name": "LayoutModel",
      "state": {}
     },
     "b5fec04328ec4ea3b02dbe28964af395": {
      "model_module": "@jupyter-widgets/controls",
      "model_module_version": "1.5.0",
      "model_name": "DatePickerModel",
      "state": {
       "description": "Dari:",
       "disabled": false,
       "layout": "IPY_MODEL_a4bd8bbe5c784b3c8345ab96da622c82",
       "style": "IPY_MODEL_8acbca9a136f4048a1f336300f9f1dbf",
       "value": {
        "date": 26,
        "month": 4,
        "year": 2020
       }
      }
     },
     "b65e4a5851cd49c2adb7652849811c6f": {
      "model_module": "@jupyter-widgets/controls",
      "model_module_version": "1.5.0",
      "model_name": "DatePickerModel",
      "state": {
       "description": "Sampai:",
       "disabled": false,
       "layout": "IPY_MODEL_896558a574a7422e8d21450e05ba1e15",
       "style": "IPY_MODEL_d60aa98c4f834da8830965bbc32641ed",
       "value": {
        "date": 17,
        "month": 9,
        "year": 2020
       }
      }
     },
     "b6e5f7c4aab240a196cb451208e20303": {
      "model_module": "@jupyter-widgets/controls",
      "model_module_version": "1.5.0",
      "model_name": "DescriptionStyleModel",
      "state": {
       "description_width": ""
      }
     },
     "b79caf4742884c9baf47d5c5cbc07942": {
      "model_module": "@jupyter-widgets/controls",
      "model_module_version": "1.5.0",
      "model_name": "DescriptionStyleModel",
      "state": {
       "description_width": ""
      }
     },
     "b8c4711fe2e94b4c8b03fa383a239105": {
      "model_module": "@jupyter-widgets/controls",
      "model_module_version": "1.5.0",
      "model_name": "DescriptionStyleModel",
      "state": {
       "description_width": ""
      }
     },
     "ba15c86b7557401896b63c3c2363d5ff": {
      "model_module": "@jupyter-widgets/controls",
      "model_module_version": "1.5.0",
      "model_name": "DatePickerModel",
      "state": {
       "description": "Sampai:",
       "disabled": false,
       "layout": "IPY_MODEL_36eae40e2dfa47e99a9496ebc13ef28b",
       "style": "IPY_MODEL_d28529ce511a4ddd902ef372e7d4097d",
       "value": {
        "date": 26,
        "month": 5,
        "year": 2020
       }
      }
     },
     "bb0fcc23a713474ca43a0a1664645983": {
      "model_module": "@jupyter-widgets/controls",
      "model_module_version": "1.5.0",
      "model_name": "DatePickerModel",
      "state": {
       "description": "Dari:",
       "disabled": false,
       "layout": "IPY_MODEL_33b1f89230ef4abea38172d91a0aa11b",
       "style": "IPY_MODEL_f2a9bce10f7b4bf1857d5e774c701fff",
       "value": {
        "date": 5,
        "month": 0,
        "year": 2020
       }
      }
     },
     "bc3a891e262a474eb9977a2dbd819e00": {
      "model_module": "@jupyter-widgets/base",
      "model_module_version": "1.2.0",
      "model_name": "LayoutModel",
      "state": {}
     },
     "bd4cb5f7c5ac4cd68989370feb50b5c7": {
      "model_module": "@jupyter-widgets/controls",
      "model_module_version": "1.5.0",
      "model_name": "TextModel",
      "state": {
       "description": "Longitude:",
       "layout": "IPY_MODEL_1e55bf81bb864c51ad3cd49ca6194441",
       "placeholder": "Type something",
       "style": "IPY_MODEL_b79caf4742884c9baf47d5c5cbc07942",
       "value": "110.38305556 E"
      }
     },
     "bdc5fbcb354849d287c99e06c94048a0": {
      "model_module": "@jupyter-widgets/base",
      "model_module_version": "1.2.0",
      "model_name": "LayoutModel",
      "state": {}
     },
     "bf884c6021eb4b59b79229ec78bd6dce": {
      "model_module": "@jupyter-widgets/output",
      "model_module_version": "1.0.0",
      "model_name": "OutputModel",
      "state": {
       "layout": "IPY_MODEL_098abebb866c4b01b59c7e9d71f1a72d",
       "outputs": [
        {
         "name": "stdout",
         "output_type": "stream",
         "text": "<Time tt=2458995.500800741> <Time tt=2459026.500800741>\n(2020, 6, 21, 6, 41, 27.48125731945038)\n"
        }
       ]
      }
     },
     "c252eeec63a44d1fa7b9bc9e6743765d": {
      "model_module": "@jupyter-widgets/controls",
      "model_module_version": "1.5.0",
      "model_name": "VBoxModel",
      "state": {
       "_dom_classes": [
        "widget-interact"
       ],
       "children": [
        "IPY_MODEL_65806fdb12d94271aa0bfb8bd727d70d",
        "IPY_MODEL_bd4cb5f7c5ac4cd68989370feb50b5c7",
        "IPY_MODEL_bb0fcc23a713474ca43a0a1664645983",
        "IPY_MODEL_149a00332a8f4511ba2a970b62ffb84c",
        "IPY_MODEL_81cb6028e42548fd8435c7b16a5eb227"
       ],
       "layout": "IPY_MODEL_3596f2e28fe7431793046d4c870e5592"
      }
     },
     "c38faff50c384dfa832be2e835213b85": {
      "model_module": "@jupyter-widgets/controls",
      "model_module_version": "1.5.0",
      "model_name": "TextModel",
      "state": {
       "description": "Latitude:",
       "layout": "IPY_MODEL_06f4f60f60a444d3afd27fdb14ace521",
       "placeholder": "Type something",
       "style": "IPY_MODEL_ee2d59c1061b43de9178214170bccf20",
       "value": "1.83305556 S"
      }
     },
     "c5d5ce5ac6884bd7b555059833fe17ff": {
      "model_module": "@jupyter-widgets/controls",
      "model_module_version": "1.5.0",
      "model_name": "DatePickerModel",
      "state": {
       "description": "Dari:",
       "disabled": false,
       "layout": "IPY_MODEL_b5364d9c26ac4244b5f440caac85d3ab",
       "style": "IPY_MODEL_664ec251f79847a49b437438ad5c1044",
       "value": {
        "date": 10,
        "month": 4,
        "year": 2020
       }
      }
     },
     "c5f1566b98d742d4a1e4c273e509227f": {
      "model_module": "@jupyter-widgets/controls",
      "model_module_version": "1.5.0",
      "model_name": "DescriptionStyleModel",
      "state": {
       "description_width": ""
      }
     },
     "c6995d4382b4498dbdd79625538c1074": {
      "model_module": "@jupyter-widgets/controls",
      "model_module_version": "1.5.0",
      "model_name": "DatePickerModel",
      "state": {
       "description": "Dari:",
       "disabled": false,
       "layout": "IPY_MODEL_cd3155bdc3be43a0b0c70088002a7d48",
       "style": "IPY_MODEL_e16afb7fbb6b48ce96d341d448de6e7a",
       "value": {
        "date": 26,
        "month": 4,
        "year": 2020
       }
      }
     },
     "c8d6841ed66c4cd58eef0237e04c45b3": {
      "model_module": "@jupyter-widgets/controls",
      "model_module_version": "1.5.0",
      "model_name": "VBoxModel",
      "state": {
       "_dom_classes": [
        "widget-interact"
       ],
       "children": [
        "IPY_MODEL_a3b183669cc84b14b5e46c175849f276",
        "IPY_MODEL_2a8f31acd73e41d6b458579d32589087",
        "IPY_MODEL_bf884c6021eb4b59b79229ec78bd6dce"
       ],
       "layout": "IPY_MODEL_f6bcb1a30db34226ba80beff620a211d"
      }
     },
     "ca8bceb45d2a4baca60eb28a9cd7a1b5": {
      "model_module": "@jupyter-widgets/base",
      "model_module_version": "1.2.0",
      "model_name": "LayoutModel",
      "state": {}
     },
     "cb844d34170f4ecd888bc002b572c849": {
      "model_module": "@jupyter-widgets/controls",
      "model_module_version": "1.5.0",
      "model_name": "DescriptionStyleModel",
      "state": {
       "description_width": ""
      }
     },
     "cd3155bdc3be43a0b0c70088002a7d48": {
      "model_module": "@jupyter-widgets/base",
      "model_module_version": "1.2.0",
      "model_name": "LayoutModel",
      "state": {}
     },
     "cda3fbf14bfc415aa95f54273d7b4730": {
      "model_module": "@jupyter-widgets/base",
      "model_module_version": "1.2.0",
      "model_name": "LayoutModel",
      "state": {}
     },
     "cdb1ccea35f442fc96f4cd5d3671ad14": {
      "model_module": "@jupyter-widgets/controls",
      "model_module_version": "1.5.0",
      "model_name": "DatePickerModel",
      "state": {
       "description": "Dari:",
       "disabled": false,
       "layout": "IPY_MODEL_b049e3e9fdd74415bfc78123d48a2412",
       "style": "IPY_MODEL_cb844d34170f4ecd888bc002b572c849",
       "value": {
        "date": 26,
        "month": 4,
        "year": 2020
       }
      }
     },
     "cea402e7882c46f2917b2fdd8991da34": {
      "model_module": "@jupyter-widgets/controls",
      "model_module_version": "1.5.0",
      "model_name": "TextModel",
      "state": {
       "description": "Longitude",
       "layout": "IPY_MODEL_547ca2efee3542979bc0f33d4c5fc0ff",
       "style": "IPY_MODEL_eb1ca5b0a7464c32b6bd11f05364ca28",
       "value": "110.38305556 E"
      }
     },
     "cfdab455efb84002936b8a0c22fc2911": {
      "model_module": "@jupyter-widgets/controls",
      "model_module_version": "1.5.0",
      "model_name": "VBoxModel",
      "state": {
       "_dom_classes": [
        "widget-interact"
       ],
       "children": [
        "IPY_MODEL_24e65d3a0a6e473bafa60f330483f992",
        "IPY_MODEL_978eafa98d66497cb6eed7a898513456",
        "IPY_MODEL_9f411032780d49b688c3992ed0e8b2d9"
       ],
       "layout": "IPY_MODEL_1b26cc1bf0af4ab9bb3a8d9dbb2d0a50"
      }
     },
     "cfe2c3e401514b2d8cb245e0ada6388d": {
      "model_module": "@jupyter-widgets/base",
      "model_module_version": "1.2.0",
      "model_name": "LayoutModel",
      "state": {}
     },
     "d07f6fa7388e40da95dbe2363667ce3d": {
      "model_module": "@jupyter-widgets/controls",
      "model_module_version": "1.5.0",
      "model_name": "DescriptionStyleModel",
      "state": {
       "description_width": ""
      }
     },
     "d0c6258512e344af9dc36c904af6b9be": {
      "model_module": "@jupyter-widgets/base",
      "model_module_version": "1.2.0",
      "model_name": "LayoutModel",
      "state": {}
     },
     "d0d1f7ee2ba246aba1ee00588baeaea6": {
      "model_module": "@jupyter-widgets/controls",
      "model_module_version": "1.5.0",
      "model_name": "DatePickerModel",
      "state": {
       "description": "Sampai:",
       "disabled": false,
       "layout": "IPY_MODEL_fd03a6833f9a47c88915efab48fde3fe",
       "style": "IPY_MODEL_7599e72190854526884f17041b1553bf",
       "value": {
        "date": 26,
        "month": 5,
        "year": 2020
       }
      }
     },
     "d0f87097703d456cae612edbb06a0caf": {
      "model_module": "@jupyter-widgets/controls",
      "model_module_version": "1.5.0",
      "model_name": "TextModel",
      "state": {
       "description": "Latitude:",
       "layout": "IPY_MODEL_736269b190aa4bddbddea149ba9e5eea",
       "placeholder": "Type something",
       "style": "IPY_MODEL_5d92d46ccbd94b0db96d8d7577ad55a5",
       "value": "7.83305556 S"
      }
     },
     "d28529ce511a4ddd902ef372e7d4097d": {
      "model_module": "@jupyter-widgets/controls",
      "model_module_version": "1.5.0",
      "model_name": "DescriptionStyleModel",
      "state": {
       "description_width": ""
      }
     },
     "d3ff2abd9eaf44c4b8e3b7cd7119a764": {
      "model_module": "@jupyter-widgets/controls",
      "model_module_version": "1.5.0",
      "model_name": "DescriptionStyleModel",
      "state": {
       "description_width": ""
      }
     },
     "d46d523ffa1d43b7ba5d74609015914d": {
      "model_module": "@jupyter-widgets/controls",
      "model_module_version": "1.5.0",
      "model_name": "TextModel",
      "state": {
       "description": "Longitude:",
       "layout": "IPY_MODEL_73bc731d75db4748b8551103dcad23da",
       "placeholder": "Type something",
       "style": "IPY_MODEL_2e2a604f6cc54f60af99aa1a88d650f6",
       "value": "110.38305556 E"
      }
     },
     "d4aa4d7983c14ac2aa811366ef38f4a3": {
      "model_module": "@jupyter-widgets/base",
      "model_module_version": "1.2.0",
      "model_name": "LayoutModel",
      "state": {}
     },
     "d4f9dd061b4f49da826119fc245b8774": {
      "model_module": "@jupyter-widgets/base",
      "model_module_version": "1.2.0",
      "model_name": "LayoutModel",
      "state": {}
     },
     "d60aa98c4f834da8830965bbc32641ed": {
      "model_module": "@jupyter-widgets/controls",
      "model_module_version": "1.5.0",
      "model_name": "DescriptionStyleModel",
      "state": {
       "description_width": ""
      }
     },
     "d72268a4106648cc8fe0a0708cac0c26": {
      "model_module": "@jupyter-widgets/base",
      "model_module_version": "1.2.0",
      "model_name": "LayoutModel",
      "state": {}
     },
     "d931f357affa4a66915850e741fdf357": {
      "model_module": "@jupyter-widgets/controls",
      "model_module_version": "1.5.0",
      "model_name": "TextModel",
      "state": {
       "description": "Longitude:",
       "layout": "IPY_MODEL_15e117aefce24bc6a6170279a4998708",
       "placeholder": "Type something",
       "style": "IPY_MODEL_d3ff2abd9eaf44c4b8e3b7cd7119a764",
       "value": "110.38305556 E"
      }
     },
     "ddb514af9ba64c208ea87610b2ac72ce": {
      "model_module": "@jupyter-widgets/output",
      "model_module_version": "1.0.0",
      "model_name": "OutputModel",
      "state": {
       "layout": "IPY_MODEL_0cb2bf616b9b47e6bdc5fe7ebcb281b7",
       "outputs": [
        {
         "name": "stdout",
         "output_type": "stream",
         "text": "Topos -07deg 49' 59.0\" N 110deg 22' 59.0\" E\nSum of 3 vectors:\n + Segment 'de421.bsp' 0 SOLAR SYSTEM BARYCENTER -> 3 EARTH BARYCENTER\n + Segment 'de421.bsp' 3 EARTH BARYCENTER -> 399 EARTH\n + Topos -07deg 49' 59.0\" N 110deg 22' 59.0\" E\n<Time tt=2458995.500800741> <Time tt=2459026.500800741>\n[(2020, 6, 21, 6, 41, 27.48125731945038)]\n"
        }
       ]
      }
     },
     "ddd73ad7f05647e087d125211e95d64e": {
      "model_module": "@jupyter-widgets/controls",
      "model_module_version": "1.5.0",
      "model_name": "DescriptionStyleModel",
      "state": {
       "description_width": ""
      }
     },
     "df556d09e5b647c684dbbef0fd17b2f7": {
      "model_module": "@jupyter-widgets/base",
      "model_module_version": "1.2.0",
      "model_name": "LayoutModel",
      "state": {}
     },
     "dfbf7436f3ba4e1a80756e847e7136aa": {
      "model_module": "@jupyter-widgets/controls",
      "model_module_version": "1.5.0",
      "model_name": "DatePickerModel",
      "state": {
       "description": "Dari:",
       "disabled": false,
       "layout": "IPY_MODEL_4814c1c3cba04cc6aa80144a3bf17500",
       "style": "IPY_MODEL_ebebc96650c24d86b149c7f9fbb63bf0",
       "value": {
        "date": 26,
        "month": 4,
        "year": 2020
       }
      }
     },
     "e0c97d79600240249a1c6fd151ff70d7": {
      "model_module": "@jupyter-widgets/controls",
      "model_module_version": "1.5.0",
      "model_name": "DescriptionStyleModel",
      "state": {
       "description_width": ""
      }
     },
     "e16afb7fbb6b48ce96d341d448de6e7a": {
      "model_module": "@jupyter-widgets/controls",
      "model_module_version": "1.5.0",
      "model_name": "DescriptionStyleModel",
      "state": {
       "description_width": ""
      }
     },
     "e1ca52a01d5649cf9ae56d74f6aa24c1": {
      "model_module": "@jupyter-widgets/base",
      "model_module_version": "1.2.0",
      "model_name": "LayoutModel",
      "state": {}
     },
     "e435d191dde7467fae0948a5dcce855c": {
      "model_module": "@jupyter-widgets/controls",
      "model_module_version": "1.5.0",
      "model_name": "DescriptionStyleModel",
      "state": {
       "description_width": ""
      }
     },
     "e4e86a81424f4eaab4ef47db4bb0c0d6": {
      "model_module": "@jupyter-widgets/controls",
      "model_module_version": "1.5.0",
      "model_name": "DescriptionStyleModel",
      "state": {
       "description_width": ""
      }
     },
     "e573d06ae4ad4a3db9733da61b57a44b": {
      "model_module": "@jupyter-widgets/base",
      "model_module_version": "1.2.0",
      "model_name": "LayoutModel",
      "state": {}
     },
     "e6673c37b0374699b14f661b0ef56815": {
      "model_module": "@jupyter-widgets/controls",
      "model_module_version": "1.5.0",
      "model_name": "DatePickerModel",
      "state": {
       "description": "Dari:",
       "disabled": false,
       "layout": "IPY_MODEL_ca8bceb45d2a4baca60eb28a9cd7a1b5",
       "style": "IPY_MODEL_ddd73ad7f05647e087d125211e95d64e",
       "value": {
        "date": 26,
        "month": 4,
        "year": 2020
       }
      }
     },
     "e7464ba82fa74024b9813bbbf8d8430d": {
      "model_module": "@jupyter-widgets/controls",
      "model_module_version": "1.5.0",
      "model_name": "TextModel",
      "state": {
       "description": "Longitude",
       "layout": "IPY_MODEL_9b0e5167a5c9419f9d4e1d56ad6b3d66",
       "style": "IPY_MODEL_426dc53ee629482eb436e32d3d8fe8ee",
       "value": "110.38305556 E"
      }
     },
     "e74b8101b5564ff2a4e04302c058644b": {
      "model_module": "@jupyter-widgets/controls",
      "model_module_version": "1.5.0",
      "model_name": "DescriptionStyleModel",
      "state": {
       "description_width": ""
      }
     },
     "e9008f42168b4849a13efe2a68c919af": {
      "model_module": "@jupyter-widgets/controls",
      "model_module_version": "1.5.0",
      "model_name": "DatePickerModel",
      "state": {
       "description": "Sampai:",
       "disabled": false,
       "layout": "IPY_MODEL_bc3a891e262a474eb9977a2dbd819e00",
       "style": "IPY_MODEL_d07f6fa7388e40da95dbe2363667ce3d",
       "value": {
        "date": 26,
        "month": 5,
        "year": 2020
       }
      }
     },
     "ead34e4b6aa14308acf6fc08b86fe067": {
      "model_module": "@jupyter-widgets/controls",
      "model_module_version": "1.5.0",
      "model_name": "DatePickerModel",
      "state": {
       "description": "Dari:",
       "disabled": false,
       "layout": "IPY_MODEL_d0c6258512e344af9dc36c904af6b9be",
       "style": "IPY_MODEL_178e584037974e69b9952eb49eab22ea",
       "value": {
        "date": 26,
        "month": 4,
        "year": 2020
       }
      }
     },
     "eb1ca5b0a7464c32b6bd11f05364ca28": {
      "model_module": "@jupyter-widgets/controls",
      "model_module_version": "1.5.0",
      "model_name": "DescriptionStyleModel",
      "state": {
       "description_width": ""
      }
     },
     "eb6f2c4567e74d249a9b46130e00b6fc": {
      "model_module": "@jupyter-widgets/base",
      "model_module_version": "1.2.0",
      "model_name": "LayoutModel",
      "state": {}
     },
     "ebebc96650c24d86b149c7f9fbb63bf0": {
      "model_module": "@jupyter-widgets/controls",
      "model_module_version": "1.5.0",
      "model_name": "DescriptionStyleModel",
      "state": {
       "description_width": ""
      }
     },
     "ec853826feca463dac99fc7b2a2f6b14": {
      "model_module": "@jupyter-widgets/base",
      "model_module_version": "1.2.0",
      "model_name": "LayoutModel",
      "state": {}
     },
     "ee2d59c1061b43de9178214170bccf20": {
      "model_module": "@jupyter-widgets/controls",
      "model_module_version": "1.5.0",
      "model_name": "DescriptionStyleModel",
      "state": {
       "description_width": ""
      }
     },
     "ee7044807af7441f8402f33d31ce22b0": {
      "model_module": "@jupyter-widgets/controls",
      "model_module_version": "1.5.0",
      "model_name": "DatePickerModel",
      "state": {
       "description": "Sampai:",
       "disabled": false,
       "layout": "IPY_MODEL_78d43d4afc0a4082b07ebfbfbc5e72c0",
       "style": "IPY_MODEL_fa848cc281a84b1eafac635d86e5e5af",
       "value": {
        "date": 26,
        "month": 5,
        "year": 2020
       }
      }
     },
     "eed48d9644cc49109a1867e0f2000254": {
      "model_module": "@jupyter-widgets/controls",
      "model_module_version": "1.5.0",
      "model_name": "TextModel",
      "state": {
       "description": "Latitude",
       "layout": "IPY_MODEL_176fea14a2414bda9f92418badfda510",
       "style": "IPY_MODEL_f7ff9a4bc2f446c98e64aedd05115e6e",
       "value": "7.83305556 S"
      }
     },
     "f1fee8744676409f8261a5262bb230ba": {
      "model_module": "@jupyter-widgets/base",
      "model_module_version": "1.2.0",
      "model_name": "LayoutModel",
      "state": {}
     },
     "f222c5c4eed045ca83dc45c3d096578b": {
      "model_module": "@jupyter-widgets/base",
      "model_module_version": "1.2.0",
      "model_name": "LayoutModel",
      "state": {}
     },
     "f2a9bce10f7b4bf1857d5e774c701fff": {
      "model_module": "@jupyter-widgets/controls",
      "model_module_version": "1.5.0",
      "model_name": "DescriptionStyleModel",
      "state": {
       "description_width": ""
      }
     },
     "f6bcb1a30db34226ba80beff620a211d": {
      "model_module": "@jupyter-widgets/base",
      "model_module_version": "1.2.0",
      "model_name": "LayoutModel",
      "state": {}
     },
     "f7f36c747a5c4e3980f9db6b4224868b": {
      "model_module": "@jupyter-widgets/controls",
      "model_module_version": "1.5.0",
      "model_name": "DatePickerModel",
      "state": {
       "description": "Sampai:",
       "disabled": false,
       "layout": "IPY_MODEL_b469aa75cd164be4a44a105a081166c8",
       "style": "IPY_MODEL_9e4d2cb66f5b48748946d295a328fdce",
       "value": {
        "date": 16,
        "month": 3,
        "year": 2020
       }
      }
     },
     "f7ff9a4bc2f446c98e64aedd05115e6e": {
      "model_module": "@jupyter-widgets/controls",
      "model_module_version": "1.5.0",
      "model_name": "DescriptionStyleModel",
      "state": {
       "description_width": ""
      }
     },
     "fa848cc281a84b1eafac635d86e5e5af": {
      "model_module": "@jupyter-widgets/controls",
      "model_module_version": "1.5.0",
      "model_name": "DescriptionStyleModel",
      "state": {
       "description_width": ""
      }
     },
     "fae5886a125342b7a8e2b0e15635b0d4": {
      "model_module": "@jupyter-widgets/base",
      "model_module_version": "1.2.0",
      "model_name": "LayoutModel",
      "state": {}
     },
     "fd03a6833f9a47c88915efab48fde3fe": {
      "model_module": "@jupyter-widgets/base",
      "model_module_version": "1.2.0",
      "model_name": "LayoutModel",
      "state": {}
     },
     "fe9597a09819452dbe9292519b9f10c3": {
      "model_module": "@jupyter-widgets/base",
      "model_module_version": "1.2.0",
      "model_name": "LayoutModel",
      "state": {}
     },
     "ff7e73a372f84b56bd68d6d04e937dbb": {
      "model_module": "@jupyter-widgets/base",
      "model_module_version": "1.2.0",
      "model_name": "LayoutModel",
      "state": {}
     }
    },
    "version_major": 2,
    "version_minor": 0
   }
  }
 },
 "nbformat": 4,
 "nbformat_minor": 4
}
