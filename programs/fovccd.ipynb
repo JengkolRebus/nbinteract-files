{
 "cells": [
  {
   "cell_type": "markdown",
   "metadata": {},
   "source": [
    "# Menghitung Field of View CCD Teleskop"
   ]
  },
  {
   "cell_type": "code",
   "execution_count": 1,
   "metadata": {},
   "outputs": [],
   "source": [
    "# nbi:hide_in\n",
    "# _jengkolrebus\n",
    "# Curup, Bengkulu\n",
    "# Juni 2020"
   ]
  },
  {
   "cell_type": "markdown",
   "metadata": {},
   "source": [
    "### Rumus yang digunakan\n",
    "\n",
    "<img src=\"rumus.png\">\n",
    "<em>sumber: <a href=\"http://www.astrosurf.com/luxorion/report-formulae.htm\">Astrosurf.com</a></em>\n",
    "<p>Ukuran sensor dan panjang fokus dalam milimeter (mm).</p>"
   ]
  },
  {
   "cell_type": "code",
   "execution_count": 2,
   "metadata": {},
   "outputs": [],
   "source": [
    "# nbi:hide_in\n",
    "from ipywidgets import widgets, interactive"
   ]
  },
  {
   "cell_type": "code",
   "execution_count": 3,
   "metadata": {},
   "outputs": [],
   "source": [
    "# nbi:hide_in\n",
    "xsensor = widgets.FloatText(value='8.6', description='Sensor X: ')\n",
    "ysensor = widgets.FloatText(value='6.80', description='Sensor Y: ')\n",
    "fTele = widgets.IntText(value='900', description='F Teleskop: ')\n",
    "\n",
    "def fov(x, y, f):\n",
    "    xfov = (x/f)*3438\n",
    "    yfov = (y/f)*3438\n",
    "#     print('FoV CCD:')\n",
    "#     print(xfov, 'x', yfov, 'arcminutes')\n",
    "    \n",
    "    xfov = xfov/60\n",
    "    yfov = yfov/60\n",
    "#     print(xfov, 'x', yfov, 'derajat')\n",
    "    \n",
    "    xdeg = int(xfov)\n",
    "    xm = (xfov-xdeg)*60\n",
    "    xs = (xm-int(xm))*60\n",
    "    ydeg = int(yfov)\n",
    "    ym = (yfov-ydeg)*60\n",
    "    ys = (ym-int(ym))*60\n",
    "    \n",
    "    print('FoV CCD: '+str(xdeg)+u\"\\N{DEGREE SIGN}\"+str(int(xm))+\"\\'\"+\"{:.2f}\".format(xs)+\"\\\"\", end=' x ')\n",
    "    print(str(ydeg)+u\"\\N{DEGREE SIGN}\"+str(int(ym))+\"\\'\"+\"{:.2f}\".format(ys)+\"\\\"\")\n",
    "\n"
   ]
  },
  {
   "cell_type": "code",
   "execution_count": 4,
   "metadata": {},
   "outputs": [
    {
     "data": {
      "application/vnd.jupyter.widget-view+json": {
       "model_id": "5a531c3d314e4cb9be5bd992c51159c5",
       "version_major": 2,
       "version_minor": 0
      },
      "text/plain": [
       "interactive(children=(FloatText(value=8.6, description='Sensor X: '), FloatText(value=6.8, description='Sensor…"
      ]
     },
     "metadata": {},
     "output_type": "display_data"
    }
   ],
   "source": [
    "# nbi:hide_in\n",
    "interactive(fov, x=xsensor, y=ysensor, f=fTele)"
   ]
  }
 ],
 "metadata": {
  "kernelspec": {
   "display_name": "Python 3",
   "language": "python",
   "name": "python3"
  },
  "language_info": {
   "codemirror_mode": {
    "name": "ipython",
    "version": 3
   },
   "file_extension": ".py",
   "mimetype": "text/x-python",
   "name": "python",
   "nbconvert_exporter": "python",
   "pygments_lexer": "ipython3",
   "version": "3.7.6"
  },
  "widgets": {
   "application/vnd.jupyter.widget-state+json": {
    "state": {},
    "version_major": 2,
    "version_minor": 0
   }
  }
 },
 "nbformat": 4,
 "nbformat_minor": 4
}
