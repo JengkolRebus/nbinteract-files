{
 "cells": [
  {
   "cell_type": "markdown",
   "metadata": {},
   "source": [
    "# Menghitung Field of View CCD Teleskop"
   ]
  },
  {
   "cell_type": "code",
   "execution_count": null,
   "metadata": {},
   "outputs": [],
   "source": [
    "# _jengkolrebus\n",
    "# Curup, Bengkulu\n",
    "# Juni 2020"
   ]
  },
  {
   "cell_type": "markdown",
   "metadata": {},
   "source": [
    "### Rumus yang digunakan\n",
    "\n",
    "<img src=\"rumus.png\">\n",
    "<em>sumber: <a href=\"http://www.astrosurf.com/luxorion/report-formulae.htm\">Astrosurf.com</a></em>"
   ]
  },
  {
   "cell_type": "code",
   "execution_count": 4,
   "metadata": {},
   "outputs": [],
   "source": [
    "from ipywidgets import widgets, interactive"
   ]
  },
  {
   "cell_type": "markdown",
   "metadata": {},
   "source": [
    "Ukuran sensor dan panjang fokus dalam milimeter (mm)."
   ]
  },
  {
   "cell_type": "code",
   "execution_count": 5,
   "metadata": {},
   "outputs": [
    {
     "data": {
      "application/vnd.jupyter.widget-view+json": {
       "model_id": "d5030c20f1b04d969d451e325ece3a00",
       "version_major": 2,
       "version_minor": 0
      },
      "text/plain": [
       "interactive(children=(FloatText(value=8.6, description='Sensor X: '), FloatText(value=6.8, description='Sensor…"
      ]
     },
     "metadata": {},
     "output_type": "display_data"
    }
   ],
   "source": [
    "xsensor = widgets.FloatText(value='8.6', description='Sensor X: ')\n",
    "ysensor = widgets.FloatText(value='6.80', description='Sensor Y: ')\n",
    "fTele = widgets.IntText(value='900', description='F Teleskop: ')\n",
    "\n",
    "def fov(x, y, f):\n",
    "    xfov = (x/f)*3438\n",
    "    yfov = (y/f)*3438\n",
    "#     print('FoV CCD:')\n",
    "#     print(xfov, 'x', yfov, 'arcminutes')\n",
    "    \n",
    "    xfov = xfov/60\n",
    "    yfov = yfov/60\n",
    "#     print(xfov, 'x', yfov, 'derajat')\n",
    "    \n",
    "    xdeg = int(xfov)\n",
    "    xm = (xfov-xdeg)*60\n",
    "    xs = (xm-int(xm))*60\n",
    "    ydeg = int(yfov)\n",
    "    ym = (yfov-ydeg)*60\n",
    "    ys = (ym-int(ym))*60\n",
    "    \n",
    "    print('FoV CCD: '+str(xdeg)+u\"\\N{DEGREE SIGN}\"+str(int(xm))+\"\\'\"+\"{:.2f}\".format(xs)+\"\\\"\", end=' x ')\n",
    "    print(str(ydeg)+u\"\\N{DEGREE SIGN}\"+str(int(ym))+\"\\'\"+\"{:.2f}\".format(ys)+\"\\\"\")\n",
    "\n",
    "interactive(fov, x=xsensor, y=ysensor, f=fTele)"
   ]
  },
  {
   "cell_type": "code",
   "execution_count": null,
   "metadata": {},
   "outputs": [],
   "source": []
  }
 ],
 "metadata": {
  "kernelspec": {
   "display_name": "Python 3",
   "language": "python",
   "name": "python3"
  },
  "language_info": {
   "codemirror_mode": {
    "name": "ipython",
    "version": 3
   },
   "file_extension": ".py",
   "mimetype": "text/x-python",
   "name": "python",
   "nbconvert_exporter": "python",
   "pygments_lexer": "ipython3",
   "version": "3.7.6"
  },
  "widgets": {
   "application/vnd.jupyter.widget-state+json": {
    "state": {
     "132987191d974be780cc473c73d7b1bd": {
      "model_module": "@jupyter-widgets/base",
      "model_module_version": "1.2.0",
      "model_name": "LayoutModel",
      "state": {}
     },
     "1a197d928bc9435a868f2ac4d5f1de27": {
      "model_module": "@jupyter-widgets/controls",
      "model_module_version": "1.5.0",
      "model_name": "DescriptionStyleModel",
      "state": {
       "description_width": ""
      }
     },
     "23696f6fab8d46a6852b4a082d1d4138": {
      "model_module": "@jupyter-widgets/controls",
      "model_module_version": "1.5.0",
      "model_name": "FloatTextModel",
      "state": {
       "description": "Sensor X: ",
       "layout": "IPY_MODEL_2d0e400380c6494b860799b5adf746f2",
       "step": null,
       "style": "IPY_MODEL_8f3d2c722c6245759aa91be26062d7e9",
       "value": 8.6
      }
     },
     "2d0e400380c6494b860799b5adf746f2": {
      "model_module": "@jupyter-widgets/base",
      "model_module_version": "1.2.0",
      "model_name": "LayoutModel",
      "state": {}
     },
     "43a69e8f1eaa4d9196f69b52bde6b643": {
      "model_module": "@jupyter-widgets/base",
      "model_module_version": "1.2.0",
      "model_name": "LayoutModel",
      "state": {}
     },
     "4855540873e04f8da25fa8294646c799": {
      "model_module": "@jupyter-widgets/controls",
      "model_module_version": "1.5.0",
      "model_name": "FloatTextModel",
      "state": {
       "description": "Sensor X: ",
       "layout": "IPY_MODEL_6802d32749434593a0425e8041805f65",
       "step": null,
       "style": "IPY_MODEL_855d933c068c4d919c79703b0a17c824",
       "value": 8.6
      }
     },
     "49bfde19ced64cf981e7725f788f9460": {
      "model_module": "@jupyter-widgets/controls",
      "model_module_version": "1.5.0",
      "model_name": "VBoxModel",
      "state": {
       "_dom_classes": [
        "widget-interact"
       ],
       "children": [
        "IPY_MODEL_23696f6fab8d46a6852b4a082d1d4138",
        "IPY_MODEL_d760cab521394203aef3c391d418e408",
        "IPY_MODEL_678c0f62ed3c4242991a428903190085",
        "IPY_MODEL_e4ddaa4dd1954e5680195578ef02b4b3"
       ],
       "layout": "IPY_MODEL_132987191d974be780cc473c73d7b1bd"
      }
     },
     "678c0f62ed3c4242991a428903190085": {
      "model_module": "@jupyter-widgets/controls",
      "model_module_version": "1.5.0",
      "model_name": "IntTextModel",
      "state": {
       "description": "F Teleskop: ",
       "layout": "IPY_MODEL_86fb6ff6aa624b1b96b19df167ea62eb",
       "step": 1,
       "style": "IPY_MODEL_1a197d928bc9435a868f2ac4d5f1de27",
       "value": 900
      }
     },
     "6802d32749434593a0425e8041805f65": {
      "model_module": "@jupyter-widgets/base",
      "model_module_version": "1.2.0",
      "model_name": "LayoutModel",
      "state": {}
     },
     "6eb58f3c43514ad983de04be57ef19ab": {
      "model_module": "@jupyter-widgets/base",
      "model_module_version": "1.2.0",
      "model_name": "LayoutModel",
      "state": {}
     },
     "6ef5d2f00da847d8a04a3d226beddf57": {
      "model_module": "@jupyter-widgets/controls",
      "model_module_version": "1.5.0",
      "model_name": "FloatTextModel",
      "state": {
       "description": "Sensor Y: ",
       "layout": "IPY_MODEL_d520b070cb314dd3aba2e55831040d87",
       "step": null,
       "style": "IPY_MODEL_e7f1b5ffedcb49ae9f891816d9f611b3",
       "value": 6.8
      }
     },
     "7df70f8bc49445bd96d045c2f0a0d532": {
      "model_module": "@jupyter-widgets/controls",
      "model_module_version": "1.5.0",
      "model_name": "DescriptionStyleModel",
      "state": {
       "description_width": ""
      }
     },
     "855d933c068c4d919c79703b0a17c824": {
      "model_module": "@jupyter-widgets/controls",
      "model_module_version": "1.5.0",
      "model_name": "DescriptionStyleModel",
      "state": {
       "description_width": ""
      }
     },
     "86fb6ff6aa624b1b96b19df167ea62eb": {
      "model_module": "@jupyter-widgets/base",
      "model_module_version": "1.2.0",
      "model_name": "LayoutModel",
      "state": {}
     },
     "89df7f19de274d0398e1315bbb267dda": {
      "model_module": "@jupyter-widgets/controls",
      "model_module_version": "1.5.0",
      "model_name": "IntTextModel",
      "state": {
       "description": "F Teleskop: ",
       "layout": "IPY_MODEL_43a69e8f1eaa4d9196f69b52bde6b643",
       "step": 1,
       "style": "IPY_MODEL_7df70f8bc49445bd96d045c2f0a0d532",
       "value": 900
      }
     },
     "8f3d2c722c6245759aa91be26062d7e9": {
      "model_module": "@jupyter-widgets/controls",
      "model_module_version": "1.5.0",
      "model_name": "DescriptionStyleModel",
      "state": {
       "description_width": ""
      }
     },
     "96c389d4d0af4c4bbef79a983b090225": {
      "model_module": "@jupyter-widgets/base",
      "model_module_version": "1.2.0",
      "model_name": "LayoutModel",
      "state": {}
     },
     "baed07c0fd6c43758394f49f17b6d959": {
      "model_module": "@jupyter-widgets/base",
      "model_module_version": "1.2.0",
      "model_name": "LayoutModel",
      "state": {}
     },
     "c6fb308a34364327ba442448d8696141": {
      "model_module": "@jupyter-widgets/output",
      "model_module_version": "1.0.0",
      "model_name": "OutputModel",
      "state": {
       "layout": "IPY_MODEL_baed07c0fd6c43758394f49f17b6d959",
       "outputs": [
        {
         "name": "stdout",
         "output_type": "stream",
         "text": "FoV CCD: 0°32'51.12\" x 0°25'58.56\"\n"
        }
       ]
      }
     },
     "d5030c20f1b04d969d451e325ece3a00": {
      "model_module": "@jupyter-widgets/controls",
      "model_module_version": "1.5.0",
      "model_name": "VBoxModel",
      "state": {
       "_dom_classes": [
        "widget-interact"
       ],
       "children": [
        "IPY_MODEL_4855540873e04f8da25fa8294646c799",
        "IPY_MODEL_6ef5d2f00da847d8a04a3d226beddf57",
        "IPY_MODEL_89df7f19de274d0398e1315bbb267dda",
        "IPY_MODEL_c6fb308a34364327ba442448d8696141"
       ],
       "layout": "IPY_MODEL_f3aa45ce0aba40139ce3828ca242cc1a"
      }
     },
     "d520b070cb314dd3aba2e55831040d87": {
      "model_module": "@jupyter-widgets/base",
      "model_module_version": "1.2.0",
      "model_name": "LayoutModel",
      "state": {}
     },
     "d760cab521394203aef3c391d418e408": {
      "model_module": "@jupyter-widgets/controls",
      "model_module_version": "1.5.0",
      "model_name": "FloatTextModel",
      "state": {
       "description": "Sensor Y: ",
       "layout": "IPY_MODEL_6eb58f3c43514ad983de04be57ef19ab",
       "step": null,
       "style": "IPY_MODEL_f681bc0e5d6544e6932d396ba86e8753",
       "value": 6.8
      }
     },
     "e4ddaa4dd1954e5680195578ef02b4b3": {
      "model_module": "@jupyter-widgets/output",
      "model_module_version": "1.0.0",
      "model_name": "OutputModel",
      "state": {
       "layout": "IPY_MODEL_96c389d4d0af4c4bbef79a983b090225",
       "outputs": [
        {
         "name": "stdout",
         "output_type": "stream",
         "text": "FoV CCD: 0°32'51.12\" x 0°25'58.56\"\n"
        }
       ]
      }
     },
     "e7f1b5ffedcb49ae9f891816d9f611b3": {
      "model_module": "@jupyter-widgets/controls",
      "model_module_version": "1.5.0",
      "model_name": "DescriptionStyleModel",
      "state": {
       "description_width": ""
      }
     },
     "f3aa45ce0aba40139ce3828ca242cc1a": {
      "model_module": "@jupyter-widgets/base",
      "model_module_version": "1.2.0",
      "model_name": "LayoutModel",
      "state": {}
     },
     "f681bc0e5d6544e6932d396ba86e8753": {
      "model_module": "@jupyter-widgets/controls",
      "model_module_version": "1.5.0",
      "model_name": "DescriptionStyleModel",
      "state": {
       "description_width": ""
      }
     }
    },
    "version_major": 2,
    "version_minor": 0
   }
  }
 },
 "nbformat": 4,
 "nbformat_minor": 4
}
