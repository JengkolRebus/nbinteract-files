{
 "cells": [
  {
   "cell_type": "markdown",
   "metadata": {
    "extensions": {
     "jupyter_dashboards": {
      "version": 1,
      "views": {
       "grid_default": {},
       "report_default": {
        "hidden": false
       }
      }
     }
    }
   },
   "source": [
    "# Menampilkan Waktu & Posisi Hilal dari Suatu Tempat"
   ]
  },
  {
   "cell_type": "code",
   "execution_count": 1,
   "metadata": {
    "extensions": {
     "jupyter_dashboards": {
      "version": 1,
      "views": {
       "grid_default": {},
       "report_default": {
        "hidden": true
       }
      }
     }
    }
   },
   "outputs": [],
   "source": [
    "# @_jengkolrebus\n",
    "# Curup, Bengkulu\n",
    "# Mei 2020"
   ]
  },
  {
   "cell_type": "code",
   "execution_count": 2,
   "metadata": {
    "extensions": {
     "jupyter_dashboards": {
      "version": 1,
      "views": {
       "grid_default": {},
       "report_default": {
        "hidden": true
       }
      }
     }
    }
   },
   "outputs": [],
   "source": [
    "from skyfield.api import load, Topos\n",
    "from skyfield import almanac\n",
    "from datetime import datetime, timedelta\n",
    "from pytz import timezone\n",
    "from ipywidgets import interact\n",
    "from ipywidgets import widgets as wg\n",
    "import calendar\n",
    "import pandas as pd\n",
    "from IPython.display import display, HTML"
   ]
  },
  {
   "cell_type": "code",
   "execution_count": 3,
   "metadata": {
    "extensions": {
     "jupyter_dashboards": {
      "version": 1,
      "views": {
       "grid_default": {},
       "report_default": {
        "hidden": true
       }
      }
     }
    }
   },
   "outputs": [],
   "source": [
    "conj = []\n",
    "sunset = []\n",
    "bulan_alt = []\n",
    "bulan_az = []\n",
    "matahari_alt = []\n",
    "matahari_az = []\n",
    "\n",
    "\n",
    "jkt = timezone('Asia/Jakarta')\n",
    "ts = load.timescale()\n",
    "e = load('de421.bsp')    # ephemeris\n",
    "\n",
    "bulan = e['moon']\n",
    "bumi = e['earth']\n",
    "lat='7.83305556 S'\n",
    "long='110.38305556 E'\n",
    "\n",
    "obsUAD = Topos(lat, long)\n",
    "loc = bumi + obsUAD"
   ]
  },
  {
   "cell_type": "code",
   "execution_count": 4,
   "metadata": {},
   "outputs": [],
   "source": [
    "class var:\n",
    "    bulan = e['moon']\n",
    "    bumi = e['earth']\n",
    "    def __init__ (self, loc):\n",
    "        self.loc = loc\n",
    "        \n",
    "loc = obsUAD + var.bumi"
   ]
  },
  {
   "cell_type": "code",
   "execution_count": 5,
   "metadata": {
    "extensions": {
     "jupyter_dashboards": {
      "version": 1,
      "views": {
       "grid_default": {},
       "report_default": {
        "hidden": true
       }
      }
     }
    }
   },
   "outputs": [],
   "source": [
    "def getTopos(Latitude, Longitude):\n",
    "    global obsUAD\n",
    "    lat=Latitude\n",
    "    long=Longitude\n",
    "    obsUAD = Topos(lat, long)\n",
    "    loc = obsUAD + var.bumi\n",
    "    a = var(loc)\n",
    "    interact(konjungsi, t0=dari, t1=sampai)\n",
    "\n",
    "# fungsi mendapatkan waktu konjungsi\n",
    "\n",
    "def konjungsi(t0, t1):\n",
    "    conj.clear()\n",
    "    sunset.clear()\n",
    "    bulan_alt.clear()\n",
    "    bulan_az.clear()\n",
    "    matahari_alt.clear()\n",
    "    matahari_az.clear()\n",
    "    t0 = ts.utc(t0)\n",
    "    t1 = ts.utc(t1)\n",
    "    f = almanac.oppositions_conjunctions(e, bulan)\n",
    "    t, y = almanac.find_discrete(t0, t1, f)\n",
    "\n",
    "    for ti, yi in zip(t, y):\n",
    "        if (yi==1):\n",
    "            conj.append(ti.astimezone(jkt))\n",
    "            t = ti.utc\n",
    "            t0 = ts.utc(t[0], t[1], t[2], t[3], t[4], t[5])\n",
    "            t1 = ts.utc(t[0], t[1], t[2]+1, t[3], t[4], t[5])\n",
    "            t_rs, y_rs = almanac.find_discrete(t0, t1, almanac.sunrise_sunset(e, obsUAD))\n",
    "            for t_sun, y_sun in zip(t_rs, y_rs):\n",
    "                if (y_sun == False):\n",
    "                    loc = a.loc\n",
    "                    sunset.append(t_sun.astimezone(jkt))\n",
    "                    t = t_sun.utc\n",
    "    \n",
    "                    astrometrik_bulan = loc.at(ts.utc(t[0], t[1], t[2], t[3], t[4], t[5])).observe(var.bulan)\n",
    "                    astrometrik_matahari = loc.at(ts.utc(t[0], t[1], t[2], t[3], t[4], t[5])).observe(e['sun'])\n",
    "\n",
    "                    alt_bulan, az_bulan, jarak_bulan = astrometrik_bulan.apparent().altaz()\n",
    "                    alt_matahari, az_matahari, jarak_matahari = astrometrik_matahari.apparent().altaz()\n",
    "\n",
    "                    bulan_alt.append(alt_bulan)\n",
    "                    bulan_az.append(az_bulan)\n",
    "                    matahari_alt.append(alt_matahari)\n",
    "                    matahari_az.append(az_matahari)\n",
    "                    \n",
    "#                     tabel = list(zip(conj, sunset, bulan_alt, bulan_az, matahari_alt, matahari_az))\n",
    "#                     df = pd.DataFrame(tabel, columns=['Waktu Konjungsi (UTC+07)', 'Waktu Hilal (UTC+07)', 'Altitude Bulan', 'Azimuth Bulan', 'Altitude Matahari', 'Azimuth Matahari'])\n",
    "#                     df\n",
    "                    \n",
    "                else:\n",
    "                    pass\n",
    "            \n",
    "            \n",
    "        else:\n",
    "            pass\n",
    "        \n",
    "    #data(conj, sunset, bulan_alt, bulan_az, matahari_alt, matahari_az)\n",
    "    tabel = list(zip(conj, sunset, bulan_alt, bulan_az, matahari_alt, matahari_az))\n",
    "    df = pd.DataFrame(tabel, columns=['Waktu Konjungsi (UTC+07)', 'Waktu Hilal (UTC+07)', 'Altitude Bulan', 'Azimuth Bulan', 'Altitude Matahari', 'Azimuth Matahari'])\n",
    "    df.index+=1\n",
    "    display(df)"
   ]
  },
  {
   "cell_type": "code",
   "execution_count": 6,
   "metadata": {
    "extensions": {
     "jupyter_dashboards": {
      "version": 1,
      "views": {
       "grid_default": {},
       "report_default": {
        "hidden": false
       }
      }
     }
    }
   },
   "outputs": [
    {
     "data": {
      "application/vnd.jupyter.widget-view+json": {
       "model_id": "40bf4438f5b948a796124c6b47f2defd",
       "version_major": 2,
       "version_minor": 0
      },
      "text/plain": [
       "interactive(children=(Text(value='7.83305556 S', description='Latitude'), Text(value='110.38305556 E', descrip…"
      ]
     },
     "metadata": {},
     "output_type": "display_data"
    },
    {
     "data": {
      "text/plain": [
       "<function __main__.getTopos(Latitude, Longitude)>"
      ]
     },
     "execution_count": 6,
     "metadata": {},
     "output_type": "execute_result"
    }
   ],
   "source": [
    "# wg.interact(getLat, Latitude='7.83305556 S')\n",
    "# wg.interact(getLong, Longitude='110.38305556 E')\n",
    "\n",
    "hari_ini = datetime.now().date()\n",
    "days_in_month = calendar.monthrange(hari_ini.year, hari_ini.month)[1]\n",
    "besok = hari_ini + timedelta(days_in_month)\n",
    "\n",
    "dari = wg.DatePicker(value=hari_ini,\n",
    "    description='Dari:',\n",
    "    disabled=False\n",
    ")\n",
    "sampai = wg.DatePicker(value=besok,\n",
    "    description='Sampai:',\n",
    "    disabled=False\n",
    ")\n",
    "\n",
    "interact(getTopos, Latitude='7.83305556 S', Longitude='110.38305556 E')\n",
    "#interact(konjungsi, t0=dari, t1=sampai)"
   ]
  },
  {
   "cell_type": "code",
   "execution_count": null,
   "metadata": {},
   "outputs": [],
   "source": []
  }
 ],
 "metadata": {
  "extensions": {
   "jupyter_dashboards": {
    "activeView": "grid_default",
    "version": 1,
    "views": {
     "grid_default": {
      "cellMargin": 10,
      "defaultCellHeight": 20,
      "maxColumns": 12,
      "name": "grid",
      "type": "grid"
     },
     "report_default": {
      "name": "report",
      "type": "report"
     }
    }
   }
  },
  "kernelspec": {
   "display_name": "Python 3",
   "language": "python",
   "name": "python3"
  },
  "language_info": {
   "codemirror_mode": {
    "name": "ipython",
    "version": 3
   },
   "file_extension": ".py",
   "mimetype": "text/x-python",
   "name": "python",
   "nbconvert_exporter": "python",
   "pygments_lexer": "ipython3",
   "version": "3.7.6"
  },
  "widgets": {
   "application/vnd.jupyter.widget-state+json": {
    "state": {
     "173e1ca43bd8409081358ebc0bec7f4d": {
      "model_module": "@jupyter-widgets/controls",
      "model_module_version": "1.5.0",
      "model_name": "DatePickerModel",
      "state": {
       "description": "Dari:",
       "disabled": false,
       "layout": "IPY_MODEL_fa6acb058e024fd0b0634cca95e09853",
       "style": "IPY_MODEL_fec3a3bba49b45ad998a1589d0fbcafb",
       "value": {
        "date": 20,
        "month": 4,
        "year": 2020
       }
      }
     },
     "182687336f564ef6b8e3a58b38110ebd": {
      "model_module": "@jupyter-widgets/controls",
      "model_module_version": "1.5.0",
      "model_name": "TextModel",
      "state": {
       "description": "Longitude",
       "layout": "IPY_MODEL_2532df60b695449085eeef43e00dc1a0",
       "style": "IPY_MODEL_5a2c686efeea45db92d8b2a317f91b84",
       "value": "110.38305556 E"
      }
     },
     "232bf6d554d44e81ba54ab62c4ea6998": {
      "model_module": "@jupyter-widgets/controls",
      "model_module_version": "1.5.0",
      "model_name": "VBoxModel",
      "state": {
       "_dom_classes": [
        "widget-interact"
       ],
       "children": [
        "IPY_MODEL_173e1ca43bd8409081358ebc0bec7f4d",
        "IPY_MODEL_76c436a5e8034e9ea6f274f2fc323c53",
        "IPY_MODEL_5c45ebb6d68e48d3bf013b7629f52eeb"
       ],
       "layout": "IPY_MODEL_2f4dd91b8e834addb65a91affa27b244"
      }
     },
     "2532df60b695449085eeef43e00dc1a0": {
      "model_module": "@jupyter-widgets/base",
      "model_module_version": "1.2.0",
      "model_name": "LayoutModel",
      "state": {}
     },
     "2f4dd91b8e834addb65a91affa27b244": {
      "model_module": "@jupyter-widgets/base",
      "model_module_version": "1.2.0",
      "model_name": "LayoutModel",
      "state": {}
     },
     "32563a3462c2431daf50d4fec43743e8": {
      "model_module": "@jupyter-widgets/base",
      "model_module_version": "1.2.0",
      "model_name": "LayoutModel",
      "state": {}
     },
     "37db60f8d7614b0a9f50ce888529a59b": {
      "model_module": "@jupyter-widgets/controls",
      "model_module_version": "1.5.0",
      "model_name": "DescriptionStyleModel",
      "state": {
       "description_width": ""
      }
     },
     "40bf4438f5b948a796124c6b47f2defd": {
      "model_module": "@jupyter-widgets/controls",
      "model_module_version": "1.5.0",
      "model_name": "VBoxModel",
      "state": {
       "_dom_classes": [
        "widget-interact"
       ],
       "children": [
        "IPY_MODEL_72d1cee5f00e46928a6a8e88c90c8be8",
        "IPY_MODEL_182687336f564ef6b8e3a58b38110ebd",
        "IPY_MODEL_8e89b6b1cf074a51944fcef688a1237f"
       ],
       "layout": "IPY_MODEL_32563a3462c2431daf50d4fec43743e8"
      }
     },
     "5a2c686efeea45db92d8b2a317f91b84": {
      "model_module": "@jupyter-widgets/controls",
      "model_module_version": "1.5.0",
      "model_name": "DescriptionStyleModel",
      "state": {
       "description_width": ""
      }
     },
     "5c45ebb6d68e48d3bf013b7629f52eeb": {
      "model_module": "@jupyter-widgets/output",
      "model_module_version": "1.0.0",
      "model_name": "OutputModel",
      "state": {
       "layout": "IPY_MODEL_b0024b818920495fa9169544292cedb1",
       "outputs": [
        {
         "ename": "NameError",
         "evalue": "name 'a' is not defined",
         "output_type": "error",
         "traceback": [
          "\u001b[1;31m---------------------------------------------------------------------------\u001b[0m",
          "\u001b[1;31mNameError\u001b[0m                                 Traceback (most recent call last)",
          "\u001b[1;32mc:\\users\\khair\\appdata\\local\\programs\\python\\python37\\lib\\site-packages\\ipywidgets\\widgets\\interaction.py\u001b[0m in \u001b[0;36mupdate\u001b[1;34m(self, *args)\u001b[0m\n\u001b[0;32m    254\u001b[0m                     \u001b[0mvalue\u001b[0m \u001b[1;33m=\u001b[0m \u001b[0mwidget\u001b[0m\u001b[1;33m.\u001b[0m\u001b[0mget_interact_value\u001b[0m\u001b[1;33m(\u001b[0m\u001b[1;33m)\u001b[0m\u001b[1;33m\u001b[0m\u001b[1;33m\u001b[0m\u001b[0m\n\u001b[0;32m    255\u001b[0m                     \u001b[0mself\u001b[0m\u001b[1;33m.\u001b[0m\u001b[0mkwargs\u001b[0m\u001b[1;33m[\u001b[0m\u001b[0mwidget\u001b[0m\u001b[1;33m.\u001b[0m\u001b[0m_kwarg\u001b[0m\u001b[1;33m]\u001b[0m \u001b[1;33m=\u001b[0m \u001b[0mvalue\u001b[0m\u001b[1;33m\u001b[0m\u001b[1;33m\u001b[0m\u001b[0m\n\u001b[1;32m--> 256\u001b[1;33m                 \u001b[0mself\u001b[0m\u001b[1;33m.\u001b[0m\u001b[0mresult\u001b[0m \u001b[1;33m=\u001b[0m \u001b[0mself\u001b[0m\u001b[1;33m.\u001b[0m\u001b[0mf\u001b[0m\u001b[1;33m(\u001b[0m\u001b[1;33m**\u001b[0m\u001b[0mself\u001b[0m\u001b[1;33m.\u001b[0m\u001b[0mkwargs\u001b[0m\u001b[1;33m)\u001b[0m\u001b[1;33m\u001b[0m\u001b[1;33m\u001b[0m\u001b[0m\n\u001b[0m\u001b[0;32m    257\u001b[0m                 \u001b[0mshow_inline_matplotlib_plots\u001b[0m\u001b[1;33m(\u001b[0m\u001b[1;33m)\u001b[0m\u001b[1;33m\u001b[0m\u001b[1;33m\u001b[0m\u001b[0m\n\u001b[0;32m    258\u001b[0m                 \u001b[1;32mif\u001b[0m \u001b[0mself\u001b[0m\u001b[1;33m.\u001b[0m\u001b[0mauto_display\u001b[0m \u001b[1;32mand\u001b[0m \u001b[0mself\u001b[0m\u001b[1;33m.\u001b[0m\u001b[0mresult\u001b[0m \u001b[1;32mis\u001b[0m \u001b[1;32mnot\u001b[0m \u001b[1;32mNone\u001b[0m\u001b[1;33m:\u001b[0m\u001b[1;33m\u001b[0m\u001b[1;33m\u001b[0m\u001b[0m\n",
          "\u001b[1;32m<ipython-input-5-ceb0a334999c>\u001b[0m in \u001b[0;36mkonjungsi\u001b[1;34m(t0, t1)\u001b[0m\n\u001b[0;32m     31\u001b[0m             \u001b[1;32mfor\u001b[0m \u001b[0mt_sun\u001b[0m\u001b[1;33m,\u001b[0m \u001b[0my_sun\u001b[0m \u001b[1;32min\u001b[0m \u001b[0mzip\u001b[0m\u001b[1;33m(\u001b[0m\u001b[0mt_rs\u001b[0m\u001b[1;33m,\u001b[0m \u001b[0my_rs\u001b[0m\u001b[1;33m)\u001b[0m\u001b[1;33m:\u001b[0m\u001b[1;33m\u001b[0m\u001b[1;33m\u001b[0m\u001b[0m\n\u001b[0;32m     32\u001b[0m                 \u001b[1;32mif\u001b[0m \u001b[1;33m(\u001b[0m\u001b[0my_sun\u001b[0m \u001b[1;33m==\u001b[0m \u001b[1;32mFalse\u001b[0m\u001b[1;33m)\u001b[0m\u001b[1;33m:\u001b[0m\u001b[1;33m\u001b[0m\u001b[1;33m\u001b[0m\u001b[0m\n\u001b[1;32m---> 33\u001b[1;33m                     \u001b[0mloc\u001b[0m \u001b[1;33m=\u001b[0m \u001b[0ma\u001b[0m\u001b[1;33m.\u001b[0m\u001b[0mloc\u001b[0m\u001b[1;33m\u001b[0m\u001b[1;33m\u001b[0m\u001b[0m\n\u001b[0m\u001b[0;32m     34\u001b[0m                     \u001b[0msunset\u001b[0m\u001b[1;33m.\u001b[0m\u001b[0mappend\u001b[0m\u001b[1;33m(\u001b[0m\u001b[0mt_sun\u001b[0m\u001b[1;33m.\u001b[0m\u001b[0mastimezone\u001b[0m\u001b[1;33m(\u001b[0m\u001b[0mjkt\u001b[0m\u001b[1;33m)\u001b[0m\u001b[1;33m)\u001b[0m\u001b[1;33m\u001b[0m\u001b[1;33m\u001b[0m\u001b[0m\n\u001b[0;32m     35\u001b[0m                     \u001b[0mt\u001b[0m \u001b[1;33m=\u001b[0m \u001b[0mt_sun\u001b[0m\u001b[1;33m.\u001b[0m\u001b[0mutc\u001b[0m\u001b[1;33m\u001b[0m\u001b[1;33m\u001b[0m\u001b[0m\n",
          "\u001b[1;31mNameError\u001b[0m: name 'a' is not defined"
         ]
        }
       ]
      }
     },
     "5c7de14c092d4bd2adbe89a382241bbd": {
      "model_module": "@jupyter-widgets/base",
      "model_module_version": "1.2.0",
      "model_name": "LayoutModel",
      "state": {}
     },
     "72d1cee5f00e46928a6a8e88c90c8be8": {
      "model_module": "@jupyter-widgets/controls",
      "model_module_version": "1.5.0",
      "model_name": "TextModel",
      "state": {
       "description": "Latitude",
       "layout": "IPY_MODEL_df417427727f4140abfb02a072a851c7",
       "style": "IPY_MODEL_9acf861c6e564d2b97137a8de079bcf2",
       "value": "7.83305556 S"
      }
     },
     "76c436a5e8034e9ea6f274f2fc323c53": {
      "model_module": "@jupyter-widgets/controls",
      "model_module_version": "1.5.0",
      "model_name": "DatePickerModel",
      "state": {
       "description": "Sampai:",
       "disabled": false,
       "layout": "IPY_MODEL_9364571a46cd46ba88b4280344b274d0",
       "style": "IPY_MODEL_37db60f8d7614b0a9f50ce888529a59b",
       "value": {
        "date": 20,
        "month": 5,
        "year": 2020
       }
      }
     },
     "8e89b6b1cf074a51944fcef688a1237f": {
      "model_module": "@jupyter-widgets/output",
      "model_module_version": "1.0.0",
      "model_name": "OutputModel",
      "state": {
       "layout": "IPY_MODEL_5c7de14c092d4bd2adbe89a382241bbd",
       "outputs": [
        {
         "data": {
          "application/vnd.jupyter.widget-view+json": {
           "model_id": "232bf6d554d44e81ba54ab62c4ea6998",
           "version_major": 2,
           "version_minor": 0
          },
          "text/plain": "interactive(children=(DatePicker(value=datetime.date(2020, 5, 20), description='Dari:'), DatePicker(value=date…"
         },
         "metadata": {},
         "output_type": "display_data"
        }
       ]
      }
     },
     "9364571a46cd46ba88b4280344b274d0": {
      "model_module": "@jupyter-widgets/base",
      "model_module_version": "1.2.0",
      "model_name": "LayoutModel",
      "state": {}
     },
     "9acf861c6e564d2b97137a8de079bcf2": {
      "model_module": "@jupyter-widgets/controls",
      "model_module_version": "1.5.0",
      "model_name": "DescriptionStyleModel",
      "state": {
       "description_width": ""
      }
     },
     "b0024b818920495fa9169544292cedb1": {
      "model_module": "@jupyter-widgets/base",
      "model_module_version": "1.2.0",
      "model_name": "LayoutModel",
      "state": {}
     },
     "df417427727f4140abfb02a072a851c7": {
      "model_module": "@jupyter-widgets/base",
      "model_module_version": "1.2.0",
      "model_name": "LayoutModel",
      "state": {}
     },
     "fa6acb058e024fd0b0634cca95e09853": {
      "model_module": "@jupyter-widgets/base",
      "model_module_version": "1.2.0",
      "model_name": "LayoutModel",
      "state": {}
     },
     "fec3a3bba49b45ad998a1589d0fbcafb": {
      "model_module": "@jupyter-widgets/controls",
      "model_module_version": "1.5.0",
      "model_name": "DescriptionStyleModel",
      "state": {
       "description_width": ""
      }
     }
    },
    "version_major": 2,
    "version_minor": 0
   }
  }
 },
 "nbformat": 4,
 "nbformat_minor": 4
}
