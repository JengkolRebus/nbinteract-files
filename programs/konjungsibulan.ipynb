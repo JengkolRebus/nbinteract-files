{
 "cells": [
  {
   "cell_type": "markdown",
   "metadata": {
    "extensions": {
     "jupyter_dashboards": {
      "version": 1,
      "views": {
       "grid_default": {},
       "report_default": {
        "hidden": false
       }
      }
     }
    }
   },
   "source": [
    "# Menampilkan Waktu & Posisi Hilal dari Suatu Tempat"
   ]
  },
  {
   "cell_type": "code",
   "execution_count": 1,
   "metadata": {
    "extensions": {
     "jupyter_dashboards": {
      "version": 1,
      "views": {
       "grid_default": {},
       "report_default": {
        "hidden": true
       }
      }
     }
    }
   },
   "outputs": [],
   "source": [
    "# @_jengkolrebus\n",
    "# Curup, Bengkulu\n",
    "# Mei 2020"
   ]
  },
  {
   "cell_type": "code",
   "execution_count": 2,
   "metadata": {
    "extensions": {
     "jupyter_dashboards": {
      "version": 1,
      "views": {
       "grid_default": {},
       "report_default": {
        "hidden": true
       }
      }
     }
    }
   },
   "outputs": [],
   "source": [
    "from skyfield.api import load, Topos\n",
    "from skyfield import almanac\n",
    "from datetime import datetime, timedelta\n",
    "from pytz import timezone\n",
    "from ipywidgets import interact\n",
    "from ipywidgets import widgets as wg\n",
    "import calendar\n",
    "import pandas as pd\n",
    "from IPython.display import display, HTML"
   ]
  },
  {
   "cell_type": "code",
   "execution_count": 3,
   "metadata": {
    "extensions": {
     "jupyter_dashboards": {
      "version": 1,
      "views": {
       "grid_default": {},
       "report_default": {
        "hidden": true
       }
      }
     }
    }
   },
   "outputs": [],
   "source": [
    "conj = []\n",
    "sunset = []\n",
    "bulan_alt = []\n",
    "bulan_az = []\n",
    "matahari_alt = []\n",
    "matahari_az = []\n",
    "\n",
    "\n",
    "jkt = timezone('Asia/Jakarta')\n",
    "ts = load.timescale()\n",
    "e = load('de421.bsp')    # ephemeris\n",
    "\n",
    "bulan = e['moon']\n",
    "bumi = e['earth']\n",
    "lat='7.83305556 S'\n",
    "long='110.38305556 E'\n",
    "\n",
    "obsUAD = Topos(lat, long)\n",
    "loc = bumi + obsUAD"
   ]
  },
  {
   "cell_type": "code",
   "execution_count": 8,
   "metadata": {},
   "outputs": [],
   "source": [
    "class var:\n",
    "    bulan = e['moon']\n",
    "    bumi = e['earth']\n",
    "    def __init__ (self, loc):\n",
    "        self.loc = loc\n",
    "        \n",
    "loc = obsUAD + var.bumi"
   ]
  },
  {
   "cell_type": "code",
   "execution_count": 9,
   "metadata": {
    "extensions": {
     "jupyter_dashboards": {
      "version": 1,
      "views": {
       "grid_default": {},
       "report_default": {
        "hidden": true
       }
      }
     }
    }
   },
   "outputs": [],
   "source": [
    "def getTopos(Latitude, Longitude):\n",
    "    global obsUAD\n",
    "    lat=Latitude\n",
    "    long=Longitude\n",
    "    obsUAD = Topos(lat, long)\n",
    "    loc = obsUAD + var.bumi\n",
    "    a = var(loc)\n",
    "    interact(konjungsi, t0=dari, t1=sampai)\n",
    "\n",
    "# fungsi mendapatkan waktu konjungsi\n",
    "\n",
    "def konjungsi(t0, t1):\n",
    "    conj.clear()\n",
    "    sunset.clear()\n",
    "    bulan_alt.clear()\n",
    "    bulan_az.clear()\n",
    "    matahari_alt.clear()\n",
    "    matahari_az.clear()\n",
    "    t0 = ts.utc(t0)\n",
    "    t1 = ts.utc(t1)\n",
    "    f = almanac.oppositions_conjunctions(e, bulan)\n",
    "    t, y = almanac.find_discrete(t0, t1, f)\n",
    "\n",
    "    for ti, yi in zip(t, y):\n",
    "        if (yi==1):\n",
    "            conj.append(ti.astimezone(jkt))\n",
    "            t = ti.utc\n",
    "            t0 = ts.utc(t[0], t[1], t[2], t[3], t[4], t[5])\n",
    "            t1 = ts.utc(t[0], t[1], t[2]+1, t[3], t[4], t[5])\n",
    "            t_rs, y_rs = almanac.find_discrete(t0, t1, almanac.sunrise_sunset(e, obsUAD))\n",
    "            for t_sun, y_sun in zip(t_rs, y_rs):\n",
    "                if (y_sun == False):\n",
    "                    loc = a.loc\n",
    "                    sunset.append(t_sun.astimezone(jkt))\n",
    "                    t = t_sun.utc\n",
    "    \n",
    "                    astrometrik_bulan = loc.at(ts.utc(t[0], t[1], t[2], t[3], t[4], t[5])).observe(var.bulan)\n",
    "                    astrometrik_matahari = loc.at(ts.utc(t[0], t[1], t[2], t[3], t[4], t[5])).observe(e['sun'])\n",
    "\n",
    "                    alt_bulan, az_bulan, jarak_bulan = astrometrik_bulan.apparent().altaz()\n",
    "                    alt_matahari, az_matahari, jarak_matahari = astrometrik_matahari.apparent().altaz()\n",
    "\n",
    "                    bulan_alt.append(alt_bulan)\n",
    "                    bulan_az.append(az_bulan)\n",
    "                    matahari_alt.append(alt_matahari)\n",
    "                    matahari_az.append(az_matahari)\n",
    "                    \n",
    "#                     tabel = list(zip(conj, sunset, bulan_alt, bulan_az, matahari_alt, matahari_az))\n",
    "#                     df = pd.DataFrame(tabel, columns=['Waktu Konjungsi (UTC+07)', 'Waktu Hilal (UTC+07)', 'Altitude Bulan', 'Azimuth Bulan', 'Altitude Matahari', 'Azimuth Matahari'])\n",
    "#                     df\n",
    "                    \n",
    "                else:\n",
    "                    pass\n",
    "            \n",
    "            \n",
    "        else:\n",
    "            pass\n",
    "        \n",
    "    #data(conj, sunset, bulan_alt, bulan_az, matahari_alt, matahari_az)\n",
    "    tabel = list(zip(conj, sunset, bulan_alt, bulan_az, matahari_alt, matahari_az))\n",
    "    df = pd.DataFrame(tabel, columns=['Waktu Konjungsi (UTC+07)', 'Waktu Hilal (UTC+07)', 'Altitude Bulan', 'Azimuth Bulan', 'Altitude Matahari', 'Azimuth Matahari'])\n",
    "    df.index+=1\n",
    "    display(df)"
   ]
  },
  {
   "cell_type": "code",
   "execution_count": 10,
   "metadata": {
    "extensions": {
     "jupyter_dashboards": {
      "version": 1,
      "views": {
       "grid_default": {},
       "report_default": {
        "hidden": false
       }
      }
     }
    }
   },
   "outputs": [
    {
     "data": {
      "application/vnd.jupyter.widget-view+json": {
       "model_id": "241415b910dd4ff0a827f50d7a62c22c",
       "version_major": 2,
       "version_minor": 0
      },
      "text/plain": [
       "interactive(children=(Text(value='7.83305556 S', description='Latitude'), Text(value='110.38305556 E', descrip…"
      ]
     },
     "metadata": {},
     "output_type": "display_data"
    },
    {
     "data": {
      "text/plain": [
       "<function __main__.getTopos(Latitude, Longitude)>"
      ]
     },
     "execution_count": 10,
     "metadata": {},
     "output_type": "execute_result"
    }
   ],
   "source": [
    "# wg.interact(getLat, Latitude='7.83305556 S')\n",
    "# wg.interact(getLong, Longitude='110.38305556 E')\n",
    "\n",
    "hari_ini = datetime.now().date()\n",
    "days_in_month = calendar.monthrange(hari_ini.year, hari_ini.month)[1]\n",
    "besok = hari_ini + timedelta(days_in_month)\n",
    "\n",
    "dari = wg.DatePicker(value=hari_ini,\n",
    "    description='Dari:',\n",
    "    disabled=False\n",
    ")\n",
    "sampai = wg.DatePicker(value=besok,\n",
    "    description='Sampai:',\n",
    "    disabled=False\n",
    ")\n",
    "\n",
    "interact(getTopos, Latitude='7.83305556 S', Longitude='110.38305556 E')\n",
    "#interact(konjungsi, t0=dari, t1=sampai)"
   ]
  },
  {
   "cell_type": "code",
   "execution_count": null,
   "metadata": {},
   "outputs": [],
   "source": []
  }
 ],
 "metadata": {
  "extensions": {
   "jupyter_dashboards": {
    "activeView": "grid_default",
    "version": 1,
    "views": {
     "grid_default": {
      "cellMargin": 10,
      "defaultCellHeight": 20,
      "maxColumns": 12,
      "name": "grid",
      "type": "grid"
     },
     "report_default": {
      "name": "report",
      "type": "report"
     }
    }
   }
  },
  "kernelspec": {
   "display_name": "Python 3",
   "language": "python",
   "name": "python3"
  },
  "language_info": {
   "codemirror_mode": {
    "name": "ipython",
    "version": 3
   },
   "file_extension": ".py",
   "mimetype": "text/x-python",
   "name": "python",
   "nbconvert_exporter": "python",
   "pygments_lexer": "ipython3",
   "version": "3.7.6"
  },
  "widgets": {
   "application/vnd.jupyter.widget-state+json": {
    "state": {},
    "version_major": 2,
    "version_minor": 0
   }
  }
 },
 "nbformat": 4,
 "nbformat_minor": 4
}
